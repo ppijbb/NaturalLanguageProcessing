{
  "cells": [
    {
      "cell_type": "markdown",
      "metadata": {
        "colab_type": "text",
        "id": "view-in-github"
      },
      "source": [
        "<a href=\"https://colab.research.google.com/github/ppijbb/NLP_study/blob/main/basic_of_python_for_text_analysis.ipynb\" target=\"_parent\"><img src=\"https://colab.research.google.com/assets/colab-badge.svg\" alt=\"Open In Colab\"/></a>"
      ]
    },
    {
      "cell_type": "markdown",
      "metadata": {
        "id": "RYLIFb8NyDT8"
      },
      "source": [
        "참고자료: Automate the boring stuff with python"
      ]
    },
    {
      "cell_type": "markdown",
      "metadata": {
        "id": "pm3txRQqyDT9"
      },
      "source": [
        "\n",
        "\n",
        "* 문자열 저장 및 출력\n",
        "\n"
      ]
    },
    {
      "cell_type": "code",
      "execution_count": null,
      "metadata": {
        "colab": {
          "base_uri": "https://localhost:8080/",
          "height": 35
        },
        "id": "_cJvnVeqyDT-",
        "outputId": "ee4cc6c6-3c96-4576-b6a7-94b58889e8f1"
      },
      "outputs": [
        {
          "name": "stdout",
          "output_type": "stream",
          "text": [
            "안녕하세요?\n"
          ]
        }
      ],
      "source": [
        "a = '안녕하세요?'\n",
        "print(a)"
      ]
    },
    {
      "cell_type": "code",
      "execution_count": null,
      "metadata": {
        "colab": {
          "base_uri": "https://localhost:8080/",
          "height": 35
        },
        "id": "Gh4XWqlzyDUB",
        "outputId": "2fa1b23b-d5da-448b-ecd4-e337d318b6b1"
      },
      "outputs": [
        {
          "name": "stdout",
          "output_type": "stream",
          "text": [
            "반갑습니다.\n"
          ]
        }
      ],
      "source": [
        "b = \"반갑습니다.\"\n",
        "print(b)"
      ]
    },
    {
      "cell_type": "code",
      "execution_count": null,
      "metadata": {
        "colab": {
          "base_uri": "https://localhost:8080/",
          "height": 35
        },
        "id": "HLE9_HZoyDUF",
        "outputId": "6e7d3b53-e8cc-4e73-cdae-60191238b949"
      },
      "outputs": [
        {
          "name": "stdout",
          "output_type": "stream",
          "text": [
            "That is Alice's cat\n"
          ]
        }
      ],
      "source": [
        "c = \"That is Alice's cat\"\n",
        "print(c)"
      ]
    },
    {
      "cell_type": "markdown",
      "metadata": {
        "id": "-vrnDYWAyDUI"
      },
      "source": [
        "\n",
        "\n",
        "* Escape character\n",
        "   - \\\\'\n",
        "   - \\\\\"\n",
        "   - \\\\t\n",
        "   - \\\\n\n",
        "   - \\\\\\"
      ]
    },
    {
      "cell_type": "code",
      "execution_count": null,
      "metadata": {
        "colab": {
          "base_uri": "https://localhost:8080/",
          "height": 35
        },
        "id": "5haaKhINyDUI",
        "outputId": "9f57f164-c878-414c-d0c3-e4a290cf58c0",
        "scrolled": true
      },
      "outputs": [
        {
          "name": "stdout",
          "output_type": "stream",
          "text": [
            "That is Alice's cat\n"
          ]
        }
      ],
      "source": [
        "d = 'That is Alice\\'s cat'\n",
        "print(d)"
      ]
    },
    {
      "cell_type": "code",
      "execution_count": null,
      "metadata": {
        "colab": {
          "base_uri": "https://localhost:8080/",
          "height": 71
        },
        "id": "opRgGEqcyDUO",
        "outputId": "1e1172e0-279c-41e4-e52e-a13659645408"
      },
      "outputs": [
        {
          "name": "stdout",
          "output_type": "stream",
          "text": [
            "Hello there!\n",
            "How are you?\n",
            "I'm doing fine.\n"
          ]
        }
      ],
      "source": [
        "print(\"Hello there!\\nHow are you?\\nI\\'m doing fine.\")"
      ]
    },
    {
      "cell_type": "code",
      "execution_count": null,
      "metadata": {
        "colab": {
          "base_uri": "https://localhost:8080/",
          "height": 35
        },
        "id": "GaH_c9UpyDUZ",
        "outputId": "5142115d-0905-4507-e4d4-421541a8994f"
      },
      "outputs": [
        {
          "name": "stdout",
          "output_type": "stream",
          "text": [
            "Hello there!\\nHow are you?\\nI\\'m doing fine.\n"
          ]
        }
      ],
      "source": [
        "print(r\"Hello there!\\nHow are you?\\nI\\'m doing fine.\")"
      ]
    },
    {
      "cell_type": "code",
      "execution_count": null,
      "metadata": {
        "colab": {
          "base_uri": "https://localhost:8080/",
          "height": 125
        },
        "id": "K3g8oaosyDUe",
        "outputId": "b69b959c-0c50-45d6-ee2a-06d5939139f9"
      },
      "outputs": [
        {
          "name": "stdout",
          "output_type": "stream",
          "text": [
            "Dear Alice,\n",
            "\n",
            "Eve's cat has been arrested for catnapping, cat burglary, and extortion.\n",
            "\n",
            "Sincerely,\n",
            "Bob\n"
          ]
        }
      ],
      "source": [
        "print('''Dear Alice,\n",
        "\n",
        "Eve's cat has been arrested for catnapping, cat burglary, and extortion.\n",
        "\n",
        "Sincerely,\n",
        "Bob''')"
      ]
    },
    {
      "cell_type": "code",
      "execution_count": null,
      "metadata": {
        "colab": {
          "base_uri": "https://localhost:8080/",
          "height": 125
        },
        "id": "39kDJmbtyDUh",
        "outputId": "634d0d39-29fb-4721-cd60-d9e921cfef19"
      },
      "outputs": [
        {
          "name": "stdout",
          "output_type": "stream",
          "text": [
            "Dear Alice,\n",
            "\n",
            "Eve's cat has been arrested for catnapping, cat burglary, and extortion.\n",
            "\n",
            "Sincerely,\n",
            "Bob\n"
          ]
        }
      ],
      "source": [
        "print('Dear Alice,\\n\\nEve\\'s cat has been arrested for catnapping, cat burglary, and extortion.\\n\\nSincerely,\\nBob')"
      ]
    },
    {
      "cell_type": "markdown",
      "metadata": {
        "id": "aqAVJ9v0yDUq"
      },
      "source": [
        "\n",
        "* 문자열의 인덱싱과 슬라이싱\n"
      ]
    },
    {
      "cell_type": "code",
      "execution_count": null,
      "metadata": {
        "id": "05B_jzhtyDUs"
      },
      "outputs": [],
      "source": [
        "spam = 'Hello World!'"
      ]
    },
    {
      "cell_type": "code",
      "execution_count": null,
      "metadata": {
        "colab": {
          "base_uri": "https://localhost:8080/",
          "height": 35
        },
        "id": "VAXr3cSByDUv",
        "outputId": "f8ed52ba-9a55-4a24-f3bc-0fad5a37753f"
      },
      "outputs": [
        {
          "data": {
            "text/plain": [
              "'H'"
            ]
          },
          "execution_count": 10,
          "metadata": {
            "tags": []
          },
          "output_type": "execute_result"
        }
      ],
      "source": [
        "spam[0]"
      ]
    },
    {
      "cell_type": "code",
      "execution_count": null,
      "metadata": {
        "colab": {
          "base_uri": "https://localhost:8080/",
          "height": 35
        },
        "id": "R-H-ssozyDU0",
        "outputId": "b46c93ab-b8db-49d6-e0ec-cdb1c63046a8"
      },
      "outputs": [
        {
          "data": {
            "text/plain": [
              "'o'"
            ]
          },
          "execution_count": 11,
          "metadata": {
            "tags": []
          },
          "output_type": "execute_result"
        }
      ],
      "source": [
        "spam[4]"
      ]
    },
    {
      "cell_type": "code",
      "execution_count": null,
      "metadata": {
        "colab": {
          "base_uri": "https://localhost:8080/",
          "height": 35
        },
        "id": "Q7B-fiHCyDU3",
        "outputId": "6161716b-32f9-4658-a95c-cf322f7f55ca"
      },
      "outputs": [
        {
          "data": {
            "text/plain": [
              "'!'"
            ]
          },
          "execution_count": 12,
          "metadata": {
            "tags": []
          },
          "output_type": "execute_result"
        }
      ],
      "source": [
        "spam[-1]"
      ]
    },
    {
      "cell_type": "code",
      "execution_count": null,
      "metadata": {
        "colab": {
          "base_uri": "https://localhost:8080/",
          "height": 35
        },
        "id": "v7yhuORdyDU6",
        "outputId": "2e2c4706-d3df-4438-a096-d19c19171aae"
      },
      "outputs": [
        {
          "data": {
            "text/plain": [
              "'Hello'"
            ]
          },
          "execution_count": 13,
          "metadata": {
            "tags": []
          },
          "output_type": "execute_result"
        }
      ],
      "source": [
        "spam[0:5]"
      ]
    },
    {
      "cell_type": "code",
      "execution_count": null,
      "metadata": {
        "colab": {
          "base_uri": "https://localhost:8080/",
          "height": 35
        },
        "id": "FV4elFowyDU9",
        "outputId": "8de238c9-1891-4f40-d7e5-08869ad89335"
      },
      "outputs": [
        {
          "data": {
            "text/plain": [
              "'Hello'"
            ]
          },
          "execution_count": 14,
          "metadata": {
            "tags": []
          },
          "output_type": "execute_result"
        }
      ],
      "source": [
        "spam[:5]"
      ]
    },
    {
      "cell_type": "code",
      "execution_count": null,
      "metadata": {
        "colab": {
          "base_uri": "https://localhost:8080/",
          "height": 35
        },
        "id": "PRfLGaGjyDU-",
        "outputId": "c05bb5cc-e448-45f8-888c-040e0b06fe05"
      },
      "outputs": [
        {
          "data": {
            "text/plain": [
              "'World!'"
            ]
          },
          "execution_count": 15,
          "metadata": {
            "tags": []
          },
          "output_type": "execute_result"
        }
      ],
      "source": [
        "spam[6:]"
      ]
    },
    {
      "cell_type": "markdown",
      "metadata": {
        "id": "F0wrK8QGyDVA"
      },
      "source": [
        "\n",
        "* Concatenate\n"
      ]
    },
    {
      "cell_type": "code",
      "execution_count": null,
      "metadata": {
        "colab": {
          "base_uri": "https://localhost:8080/",
          "height": 35
        },
        "id": "wT3IWoDNyDVB",
        "outputId": "ff8f1048-6079-45d9-aa3d-de15cdf7d033"
      },
      "outputs": [
        {
          "data": {
            "text/plain": [
              "'helloworld!'"
            ]
          },
          "execution_count": 16,
          "metadata": {
            "tags": []
          },
          "output_type": "execute_result"
        }
      ],
      "source": [
        "'hello' + 'world!'"
      ]
    },
    {
      "cell_type": "markdown",
      "metadata": {
        "id": "RljNkLbyyDVE"
      },
      "source": [
        "\n",
        "* Multiply\n"
      ]
    },
    {
      "cell_type": "code",
      "execution_count": null,
      "metadata": {
        "colab": {
          "base_uri": "https://localhost:8080/",
          "height": 35
        },
        "id": "cseqbLqByDVH",
        "outputId": "6338af50-8493-4b2a-979a-c5917e2dd561"
      },
      "outputs": [
        {
          "data": {
            "text/plain": [
              "'hellohellohellohellohello'"
            ]
          },
          "execution_count": 17,
          "metadata": {
            "tags": []
          },
          "output_type": "execute_result"
        }
      ],
      "source": [
        "'hello' * 5"
      ]
    },
    {
      "cell_type": "markdown",
      "metadata": {
        "id": "_cQs5CtoyDVL"
      },
      "source": [
        "\n",
        "* in 연산자"
      ]
    },
    {
      "cell_type": "code",
      "execution_count": null,
      "metadata": {
        "colab": {
          "base_uri": "https://localhost:8080/",
          "height": 35
        },
        "id": "wNohbzQSyDVN",
        "outputId": "9b562a88-d8d0-4ddf-9f58-26232854bf64"
      },
      "outputs": [
        {
          "data": {
            "text/plain": [
              "True"
            ]
          },
          "execution_count": 18,
          "metadata": {
            "tags": []
          },
          "output_type": "execute_result"
        }
      ],
      "source": [
        "'Hello' in spam"
      ]
    },
    {
      "cell_type": "code",
      "execution_count": null,
      "metadata": {
        "colab": {
          "base_uri": "https://localhost:8080/",
          "height": 35
        },
        "id": "h0CyQ2DFyDVP",
        "outputId": "cfc46892-d6a0-4d49-bf74-089a7b1e9ca9"
      },
      "outputs": [
        {
          "data": {
            "text/plain": [
              "False"
            ]
          },
          "execution_count": 19,
          "metadata": {
            "tags": []
          },
          "output_type": "execute_result"
        }
      ],
      "source": [
        "'HELLO' in spam"
      ]
    },
    {
      "cell_type": "code",
      "execution_count": null,
      "metadata": {
        "colab": {
          "base_uri": "https://localhost:8080/",
          "height": 35
        },
        "id": "zWoqRBUxyDVS",
        "outputId": "4197ec01-4ef9-46c7-9397-d3a15b2c924a"
      },
      "outputs": [
        {
          "data": {
            "text/plain": [
              "True"
            ]
          },
          "execution_count": 20,
          "metadata": {
            "tags": []
          },
          "output_type": "execute_result"
        }
      ],
      "source": [
        "'world' not in spam"
      ]
    },
    {
      "cell_type": "markdown",
      "metadata": {
        "id": "OwP-7_FjyDVU"
      },
      "source": [
        "\n",
        "* string methods\n"
      ]
    },
    {
      "cell_type": "code",
      "execution_count": null,
      "metadata": {
        "colab": {
          "base_uri": "https://localhost:8080/",
          "height": 35
        },
        "id": "SGhsTSJgyDVX",
        "outputId": "55b1c36f-bff3-42ca-9385-f25586a1c92d"
      },
      "outputs": [
        {
          "data": {
            "text/plain": [
              "'HELLO WORLD!'"
            ]
          },
          "execution_count": 21,
          "metadata": {
            "tags": []
          },
          "output_type": "execute_result"
        }
      ],
      "source": [
        "spam.upper()"
      ]
    },
    {
      "cell_type": "code",
      "execution_count": null,
      "metadata": {
        "colab": {
          "base_uri": "https://localhost:8080/",
          "height": 35
        },
        "id": "8i_V_URJyDVa",
        "outputId": "5d04245f-e26c-4295-94c6-4c594f769a55"
      },
      "outputs": [
        {
          "data": {
            "text/plain": [
              "'hello world!'"
            ]
          },
          "execution_count": 22,
          "metadata": {
            "tags": []
          },
          "output_type": "execute_result"
        }
      ],
      "source": [
        "spam.lower()"
      ]
    },
    {
      "cell_type": "code",
      "execution_count": null,
      "metadata": {
        "id": "IFl4g-0LyDVf"
      },
      "outputs": [],
      "source": [
        "print('How are you?')\n",
        "feeling = input()\n",
        "if feeling.lower() == 'great':\n",
        "    print('I feel great too.')\n",
        "else:\n",
        "    print('I hope the rest of your day is good.')"
      ]
    },
    {
      "cell_type": "code",
      "execution_count": null,
      "metadata": {
        "colab": {
          "base_uri": "https://localhost:8080/",
          "height": 35
        },
        "id": "wo5Hxu2gyDVh",
        "outputId": "877a5f22-c0a6-46ed-c83e-2fe0057d06de"
      },
      "outputs": [
        {
          "data": {
            "text/plain": [
              "False"
            ]
          },
          "execution_count": 25,
          "metadata": {
            "tags": []
          },
          "output_type": "execute_result"
        }
      ],
      "source": [
        "spam.islower()"
      ]
    },
    {
      "cell_type": "code",
      "execution_count": null,
      "metadata": {
        "colab": {
          "base_uri": "https://localhost:8080/",
          "height": 35
        },
        "id": "e4WfnOQyyDVn",
        "outputId": "81aa1646-ca43-450c-91fc-020db509e5f6"
      },
      "outputs": [
        {
          "data": {
            "text/plain": [
              "False"
            ]
          },
          "execution_count": 26,
          "metadata": {
            "tags": []
          },
          "output_type": "execute_result"
        }
      ],
      "source": [
        "spam.isupper()"
      ]
    },
    {
      "cell_type": "code",
      "execution_count": null,
      "metadata": {
        "colab": {
          "base_uri": "https://localhost:8080/",
          "height": 35
        },
        "id": "0KF7BH1RyDVr",
        "outputId": "985b3402-187b-40ae-e70d-9d0bc3bb40a8"
      },
      "outputs": [
        {
          "data": {
            "text/plain": [
              "True"
            ]
          },
          "execution_count": 27,
          "metadata": {
            "tags": []
          },
          "output_type": "execute_result"
        }
      ],
      "source": [
        "'HELLO'.isupper()"
      ]
    },
    {
      "cell_type": "code",
      "execution_count": null,
      "metadata": {
        "colab": {
          "base_uri": "https://localhost:8080/",
          "height": 35
        },
        "id": "B5mIUfkiyDVt",
        "outputId": "ed684b19-8d5e-41b1-87c0-254c6aee0c73"
      },
      "outputs": [
        {
          "data": {
            "text/plain": [
              "False"
            ]
          },
          "execution_count": 28,
          "metadata": {
            "tags": []
          },
          "output_type": "execute_result"
        }
      ],
      "source": [
        "'12345'.islower()"
      ]
    },
    {
      "cell_type": "code",
      "execution_count": null,
      "metadata": {
        "colab": {
          "base_uri": "https://localhost:8080/",
          "height": 35
        },
        "id": "ynJyhGWlyDVw",
        "outputId": "cc77146b-b28b-4b89-b95f-5d05286730a0"
      },
      "outputs": [
        {
          "data": {
            "text/plain": [
              "False"
            ]
          },
          "execution_count": 29,
          "metadata": {
            "tags": []
          },
          "output_type": "execute_result"
        }
      ],
      "source": [
        "'12345'.isupper()"
      ]
    },
    {
      "cell_type": "code",
      "execution_count": null,
      "metadata": {
        "colab": {
          "base_uri": "https://localhost:8080/",
          "height": 35
        },
        "id": "Zcnc3lnSyDV0",
        "outputId": "b31de1aa-77d7-43ab-c2ae-7b9ae7f8565d"
      },
      "outputs": [
        {
          "data": {
            "text/plain": [
              "True"
            ]
          },
          "execution_count": 30,
          "metadata": {
            "tags": []
          },
          "output_type": "execute_result"
        }
      ],
      "source": [
        "'abc12345'.islower()"
      ]
    },
    {
      "cell_type": "markdown",
      "metadata": {
        "id": "QGnQnvJ6yDV2"
      },
      "source": [
        "\n",
        "* isX string methods\n"
      ]
    },
    {
      "cell_type": "code",
      "execution_count": null,
      "metadata": {
        "colab": {
          "base_uri": "https://localhost:8080/",
          "height": 35
        },
        "id": "6PrN1XX5yDV2",
        "outputId": "13ae700a-18c4-4f4a-fccc-77e60c2b89d0"
      },
      "outputs": [
        {
          "data": {
            "text/plain": [
              "True"
            ]
          },
          "execution_count": 31,
          "metadata": {
            "tags": []
          },
          "output_type": "execute_result"
        }
      ],
      "source": [
        "'hello'.isalpha()"
      ]
    },
    {
      "cell_type": "code",
      "execution_count": null,
      "metadata": {
        "colab": {
          "base_uri": "https://localhost:8080/",
          "height": 35
        },
        "id": "NKdTLX5lyDV4",
        "outputId": "63d266e8-33dd-4ef6-8f90-edea1ba72ae1"
      },
      "outputs": [
        {
          "data": {
            "text/plain": [
              "False"
            ]
          },
          "execution_count": 32,
          "metadata": {
            "tags": []
          },
          "output_type": "execute_result"
        }
      ],
      "source": [
        "'hello123'.isalpha()"
      ]
    },
    {
      "cell_type": "code",
      "execution_count": null,
      "metadata": {
        "colab": {
          "base_uri": "https://localhost:8080/",
          "height": 35
        },
        "id": "hzUCXj2YyDV6",
        "outputId": "b373f765-45b4-44da-bfa4-7466ed02bba0"
      },
      "outputs": [
        {
          "data": {
            "text/plain": [
              "True"
            ]
          },
          "execution_count": 33,
          "metadata": {
            "tags": []
          },
          "output_type": "execute_result"
        }
      ],
      "source": [
        "'hello123'.isalnum()"
      ]
    },
    {
      "cell_type": "code",
      "execution_count": null,
      "metadata": {
        "colab": {
          "base_uri": "https://localhost:8080/",
          "height": 35
        },
        "id": "ODC8G_HFyDV-",
        "outputId": "9741f372-f61e-4266-fd92-dae15b88fd49"
      },
      "outputs": [
        {
          "data": {
            "text/plain": [
              "True"
            ]
          },
          "execution_count": 34,
          "metadata": {
            "tags": []
          },
          "output_type": "execute_result"
        }
      ],
      "source": [
        "'123'.isdecimal()"
      ]
    },
    {
      "cell_type": "code",
      "execution_count": null,
      "metadata": {
        "colab": {
          "base_uri": "https://localhost:8080/",
          "height": 35
        },
        "id": "iqTAM4K2yDWB",
        "outputId": "f11d46a8-9d10-49a6-aadb-e9f614e99b78"
      },
      "outputs": [
        {
          "data": {
            "text/plain": [
              "False"
            ]
          },
          "execution_count": 35,
          "metadata": {
            "tags": []
          },
          "output_type": "execute_result"
        }
      ],
      "source": [
        "'123.456'.isdecimal()"
      ]
    },
    {
      "cell_type": "code",
      "execution_count": null,
      "metadata": {
        "colab": {
          "base_uri": "https://localhost:8080/",
          "height": 35
        },
        "id": "-g6n1NfOyDWE",
        "outputId": "816ed899-f616-48a4-b9d3-d1473be8ed8b"
      },
      "outputs": [
        {
          "data": {
            "text/plain": [
              "True"
            ]
          },
          "execution_count": 36,
          "metadata": {
            "tags": []
          },
          "output_type": "execute_result"
        }
      ],
      "source": [
        "'   '.isspace()"
      ]
    },
    {
      "cell_type": "code",
      "execution_count": null,
      "metadata": {
        "colab": {
          "base_uri": "https://localhost:8080/",
          "height": 35
        },
        "id": "agZ_QNJPyDWH",
        "outputId": "d1274906-4dd0-40c1-d665-ff8ade31798b"
      },
      "outputs": [
        {
          "data": {
            "text/plain": [
              "True"
            ]
          },
          "execution_count": 37,
          "metadata": {
            "tags": []
          },
          "output_type": "execute_result"
        }
      ],
      "source": [
        "'This Is Title Case'.istitle()"
      ]
    },
    {
      "cell_type": "code",
      "execution_count": null,
      "metadata": {
        "id": "6GnKpH6ByDWK"
      },
      "outputs": [],
      "source": [
        "while True:\n",
        "    print('Enter your age:')\n",
        "    age = input()\n",
        "    if age.isdecimal():\n",
        "        break\n",
        "    print('Please enter a number for your age.')"
      ]
    },
    {
      "cell_type": "code",
      "execution_count": null,
      "metadata": {
        "id": "m0M6Z6y3yDWL"
      },
      "outputs": [],
      "source": [
        "while True:\n",
        "    print('Select a new password (letters and numbers only):')\n",
        "    password = input()\n",
        "    if password.isalnum():\n",
        "        break\n",
        "    print('Passwords can only have letters and numbers.')"
      ]
    },
    {
      "cell_type": "markdown",
      "metadata": {
        "id": "Jo9r0pieyDWO"
      },
      "source": [
        "\n",
        "* startswith() and endswith()\n"
      ]
    },
    {
      "cell_type": "code",
      "execution_count": null,
      "metadata": {
        "colab": {
          "base_uri": "https://localhost:8080/",
          "height": 35
        },
        "id": "i8sJQ_QqyDWP",
        "outputId": "f726f748-688e-43b5-9f34-8f317966acf2"
      },
      "outputs": [
        {
          "data": {
            "text/plain": [
              "True"
            ]
          },
          "execution_count": 39,
          "metadata": {
            "tags": []
          },
          "output_type": "execute_result"
        }
      ],
      "source": [
        "'Hello world!'.startswith('H')"
      ]
    },
    {
      "cell_type": "code",
      "execution_count": null,
      "metadata": {
        "colab": {
          "base_uri": "https://localhost:8080/",
          "height": 35
        },
        "id": "tirewIaUyDWR",
        "outputId": "62f1cc70-ff84-451f-9bf8-109b3c96c03b"
      },
      "outputs": [
        {
          "data": {
            "text/plain": [
              "True"
            ]
          },
          "execution_count": 40,
          "metadata": {
            "tags": []
          },
          "output_type": "execute_result"
        }
      ],
      "source": [
        "'Hello world!'.endswith('world!')"
      ]
    },
    {
      "cell_type": "markdown",
      "metadata": {
        "id": "7WKUa6tHyDWU"
      },
      "source": [
        "\n",
        "* join() and split()\n"
      ]
    },
    {
      "cell_type": "code",
      "execution_count": null,
      "metadata": {
        "colab": {
          "base_uri": "https://localhost:8080/",
          "height": 35
        },
        "id": "Xh2c_XPuyDWV",
        "outputId": "0557d4ef-730a-4f6e-dc13-a750cd19e7a8"
      },
      "outputs": [
        {
          "data": {
            "text/plain": [
              "'cats, rats, bats'"
            ]
          },
          "execution_count": 41,
          "metadata": {
            "tags": []
          },
          "output_type": "execute_result"
        }
      ],
      "source": [
        "', '.join(['cats', 'rats', 'bats'])"
      ]
    },
    {
      "cell_type": "code",
      "execution_count": null,
      "metadata": {
        "colab": {
          "base_uri": "https://localhost:8080/",
          "height": 35
        },
        "id": "9yS1NSxoyDWY",
        "outputId": "73eb4dc0-c094-4013-8546-ec1925b485cd"
      },
      "outputs": [
        {
          "data": {
            "text/plain": [
              "'My name is Simon'"
            ]
          },
          "execution_count": 42,
          "metadata": {
            "tags": []
          },
          "output_type": "execute_result"
        }
      ],
      "source": [
        "' '.join(['My', 'name', 'is', 'Simon'])"
      ]
    },
    {
      "cell_type": "code",
      "execution_count": null,
      "metadata": {
        "colab": {
          "base_uri": "https://localhost:8080/",
          "height": 35
        },
        "id": "muFb_z0vyDWb",
        "outputId": "8656c642-f40d-472d-ee08-2466f7b03d29"
      },
      "outputs": [
        {
          "data": {
            "text/plain": [
              "'MyABCnameABCisABCSimon'"
            ]
          },
          "execution_count": 43,
          "metadata": {
            "tags": []
          },
          "output_type": "execute_result"
        }
      ],
      "source": [
        "'ABC'.join(['My', 'name', 'is', 'Simon'])"
      ]
    },
    {
      "cell_type": "code",
      "execution_count": null,
      "metadata": {
        "colab": {
          "base_uri": "https://localhost:8080/",
          "height": 35
        },
        "id": "C6uM88SKyDWd",
        "outputId": "9c1585cc-e794-4452-ec10-c369746479d0"
      },
      "outputs": [
        {
          "data": {
            "text/plain": [
              "['My', 'name', 'is', 'Simon']"
            ]
          },
          "execution_count": 44,
          "metadata": {
            "tags": []
          },
          "output_type": "execute_result"
        }
      ],
      "source": [
        "'My name is Simon'.split()"
      ]
    },
    {
      "cell_type": "code",
      "execution_count": null,
      "metadata": {
        "colab": {
          "base_uri": "https://localhost:8080/",
          "height": 35
        },
        "id": "kpctj80PyDWf",
        "outputId": "5332a520-bc66-4759-a68e-e01b25b6f676"
      },
      "outputs": [
        {
          "data": {
            "text/plain": [
              "['My', 'name', 'is', 'Simon']"
            ]
          },
          "execution_count": 45,
          "metadata": {
            "tags": []
          },
          "output_type": "execute_result"
        }
      ],
      "source": [
        "'MyABCnameABCisABCSimon'.split('ABC')"
      ]
    },
    {
      "cell_type": "code",
      "execution_count": null,
      "metadata": {
        "colab": {
          "base_uri": "https://localhost:8080/",
          "height": 35
        },
        "id": "ZdCtk8gYyDWh",
        "outputId": "2880ea87-02f0-4abb-f93d-22e7d502242c"
      },
      "outputs": [
        {
          "data": {
            "text/plain": [
              "['My na', 'e is Si', 'on']"
            ]
          },
          "execution_count": 46,
          "metadata": {
            "tags": []
          },
          "output_type": "execute_result"
        }
      ],
      "source": [
        "'My name is Simon'.split('m')"
      ]
    },
    {
      "cell_type": "code",
      "execution_count": null,
      "metadata": {
        "colab": {
          "base_uri": "https://localhost:8080/",
          "height": 161
        },
        "id": "3CjxyJTlyDWi",
        "outputId": "fd6a195c-9bb5-496d-eb11-e6cfaa7853ba"
      },
      "outputs": [
        {
          "data": {
            "text/plain": [
              "['Dear Alice,',\n",
              " 'How have you been? I am fine.',\n",
              " 'There is a container in the fridge',\n",
              " 'that is labeled \"Milk Experiment\".',\n",
              " '',\n",
              " 'Please do not drink it.',\n",
              " 'Sincerely,',\n",
              " 'Bob']"
            ]
          },
          "execution_count": 47,
          "metadata": {
            "tags": []
          },
          "output_type": "execute_result"
        }
      ],
      "source": [
        "spam = '''Dear Alice,\n",
        "How have you been? I am fine.\n",
        "There is a container in the fridge\n",
        "that is labeled \"Milk Experiment\".\n",
        "\n",
        "Please do not drink it.\n",
        "Sincerely,\n",
        "Bob'''\n",
        "\n",
        "spam.split('\\n')"
      ]
    },
    {
      "cell_type": "markdown",
      "metadata": {
        "id": "WupKywYNyDWl"
      },
      "source": [
        "\n",
        "* rjust(), ljust() and center()\n"
      ]
    },
    {
      "cell_type": "code",
      "execution_count": null,
      "metadata": {
        "colab": {
          "base_uri": "https://localhost:8080/",
          "height": 35
        },
        "id": "3hKapJbFyDWl",
        "outputId": "ee7f9f9b-ccc5-414b-f854-3bae90389cac"
      },
      "outputs": [
        {
          "data": {
            "text/plain": [
              "'     Hello'"
            ]
          },
          "execution_count": 48,
          "metadata": {
            "tags": []
          },
          "output_type": "execute_result"
        }
      ],
      "source": [
        "'Hello'.rjust(10)"
      ]
    },
    {
      "cell_type": "code",
      "execution_count": null,
      "metadata": {
        "colab": {
          "base_uri": "https://localhost:8080/",
          "height": 35
        },
        "id": "MlrORXKByDWn",
        "outputId": "915d6363-9d95-40f2-940e-58f151de1c20"
      },
      "outputs": [
        {
          "data": {
            "text/plain": [
              "'               Hello'"
            ]
          },
          "execution_count": 49,
          "metadata": {
            "tags": []
          },
          "output_type": "execute_result"
        }
      ],
      "source": [
        "'Hello'.rjust(20)"
      ]
    },
    {
      "cell_type": "code",
      "execution_count": null,
      "metadata": {
        "colab": {
          "base_uri": "https://localhost:8080/",
          "height": 35
        },
        "id": "mljjfX9LyDWo",
        "outputId": "84b1557b-2536-4742-9c64-b8e939513d07"
      },
      "outputs": [
        {
          "data": {
            "text/plain": [
              "'         Hello World'"
            ]
          },
          "execution_count": 50,
          "metadata": {
            "tags": []
          },
          "output_type": "execute_result"
        }
      ],
      "source": [
        "'Hello World'.rjust(20)"
      ]
    },
    {
      "cell_type": "code",
      "execution_count": null,
      "metadata": {
        "colab": {
          "base_uri": "https://localhost:8080/",
          "height": 35
        },
        "id": "x8rR89ZqyDWq",
        "outputId": "1cac8622-3fcb-4266-e933-55f7eb96a7ee"
      },
      "outputs": [
        {
          "data": {
            "text/plain": [
              "'Hello     '"
            ]
          },
          "execution_count": 51,
          "metadata": {
            "tags": []
          },
          "output_type": "execute_result"
        }
      ],
      "source": [
        "'Hello'.ljust(10)"
      ]
    },
    {
      "cell_type": "code",
      "execution_count": null,
      "metadata": {
        "colab": {
          "base_uri": "https://localhost:8080/",
          "height": 35
        },
        "id": "gd17MVXWyDWt",
        "outputId": "0f83fe10-58d0-4c4e-96bb-adefa6e55add"
      },
      "outputs": [
        {
          "data": {
            "text/plain": [
              "'***************Hello'"
            ]
          },
          "execution_count": 52,
          "metadata": {
            "tags": []
          },
          "output_type": "execute_result"
        }
      ],
      "source": [
        "'Hello'.rjust(20, '*')"
      ]
    },
    {
      "cell_type": "code",
      "execution_count": null,
      "metadata": {
        "id": "4pbyFbkwyDWv"
      },
      "outputs": [],
      "source": [
        "def printPicnic(itemsDict, leftWidth, rightWidth):\n",
        "    print('PICNIC ITEMS'.center(leftWidth + rightWidth, '-'))\n",
        "    for k, v in itemsDict.items():\n",
        "        print(k.ljust(leftWidth, '.') + str(v).rjust(rightWidth))\n",
        "picnicItems = {'sandwiches': 4, 'apples': 12, 'cups': 4, 'cookies': 8000}"
      ]
    },
    {
      "cell_type": "code",
      "execution_count": null,
      "metadata": {
        "colab": {
          "base_uri": "https://localhost:8080/",
          "height": 107
        },
        "id": "WhoWwYimyDWw",
        "outputId": "37976d7e-3d64-409b-88f7-8eee1aeceda6"
      },
      "outputs": [
        {
          "name": "stdout",
          "output_type": "stream",
          "text": [
            "---PICNIC ITEMS--\n",
            "sandwiches..    4\n",
            "apples......   12\n",
            "cups........    4\n",
            "cookies..... 8000\n"
          ]
        }
      ],
      "source": [
        "printPicnic(picnicItems, 12, 5)"
      ]
    },
    {
      "cell_type": "code",
      "execution_count": null,
      "metadata": {
        "colab": {
          "base_uri": "https://localhost:8080/",
          "height": 107
        },
        "id": "-0EdFyU4yDWy",
        "outputId": "c43a1bdc-2e44-4f3c-ff79-00221a3b17cf"
      },
      "outputs": [
        {
          "name": "stdout",
          "output_type": "stream",
          "text": [
            "-------PICNIC ITEMS-------\n",
            "sandwiches..........     4\n",
            "apples..............    12\n",
            "cups................     4\n",
            "cookies.............  8000\n"
          ]
        }
      ],
      "source": [
        "printPicnic(picnicItems, 20, 6)"
      ]
    },
    {
      "cell_type": "markdown",
      "metadata": {
        "id": "eaPGSkm8yDWz"
      },
      "source": [
        "\n",
        "* removing whitespace\n",
        "* strip()\n"
      ]
    },
    {
      "cell_type": "code",
      "execution_count": null,
      "metadata": {
        "colab": {
          "base_uri": "https://localhost:8080/",
          "height": 35
        },
        "id": "UwC6TD-RyDWz",
        "outputId": "af885cd7-1f89-41af-e89c-a4c736c78b1f"
      },
      "outputs": [
        {
          "data": {
            "text/plain": [
              "'Hello World'"
            ]
          },
          "execution_count": 56,
          "metadata": {
            "tags": []
          },
          "output_type": "execute_result"
        }
      ],
      "source": [
        "spam = '    Hello World     '\n",
        "spam.strip()"
      ]
    },
    {
      "cell_type": "code",
      "execution_count": null,
      "metadata": {
        "colab": {
          "base_uri": "https://localhost:8080/",
          "height": 35
        },
        "id": "cER_QGJsyDW0",
        "outputId": "55f47328-f79c-4c07-dfa6-2bf1843de6a5"
      },
      "outputs": [
        {
          "data": {
            "text/plain": [
              "'Hello World     '"
            ]
          },
          "execution_count": 57,
          "metadata": {
            "tags": []
          },
          "output_type": "execute_result"
        }
      ],
      "source": [
        "spam.lstrip()"
      ]
    },
    {
      "cell_type": "code",
      "execution_count": null,
      "metadata": {
        "colab": {
          "base_uri": "https://localhost:8080/",
          "height": 35
        },
        "id": "9XPt862vyDW2",
        "outputId": "4ad7639e-a0fb-4bb8-8109-faf829caa278"
      },
      "outputs": [
        {
          "data": {
            "text/plain": [
              "'    Hello World'"
            ]
          },
          "execution_count": 58,
          "metadata": {
            "tags": []
          },
          "output_type": "execute_result"
        }
      ],
      "source": [
        "spam.rstrip()"
      ]
    },
    {
      "cell_type": "code",
      "execution_count": null,
      "metadata": {
        "colab": {
          "base_uri": "https://localhost:8080/",
          "height": 35
        },
        "id": "Sm2TwlW5yDW5",
        "outputId": "82c6f70a-92ef-4b2e-bd7d-c073fb6b4b3f"
      },
      "outputs": [
        {
          "data": {
            "text/plain": [
              "'BaconSpamEggs'"
            ]
          },
          "execution_count": 59,
          "metadata": {
            "tags": []
          },
          "output_type": "execute_result"
        }
      ],
      "source": [
        "spam = 'SpamSpamBaconSpamEggsSpamSpam'\n",
        "spam.strip('ampS')"
      ]
    },
    {
      "cell_type": "markdown",
      "metadata": {
        "id": "YHFBCm3tyDW9"
      },
      "source": [
        "\n",
        "* find() and replace()\n"
      ]
    },
    {
      "cell_type": "code",
      "execution_count": null,
      "metadata": {
        "colab": {
          "base_uri": "https://localhost:8080/",
          "height": 35
        },
        "id": "x3BoOXq7yDW9",
        "outputId": "8a1e1855-56c7-4c47-f0b9-58efd8d7e11d"
      },
      "outputs": [
        {
          "data": {
            "text/plain": [
              "17"
            ]
          },
          "execution_count": 60,
          "metadata": {
            "tags": []
          },
          "output_type": "execute_result"
        }
      ],
      "source": [
        "spam.find('Egg')"
      ]
    },
    {
      "cell_type": "code",
      "execution_count": null,
      "metadata": {
        "colab": {
          "base_uri": "https://localhost:8080/",
          "height": 35
        },
        "id": "I9Sa-G-pyDW-",
        "outputId": "bd419410-afd6-45ef-8488-5a35dfe5f901"
      },
      "outputs": [
        {
          "data": {
            "text/plain": [
              "'BaconBaconBaconBaconEggsBaconBacon'"
            ]
          },
          "execution_count": 61,
          "metadata": {
            "tags": []
          },
          "output_type": "execute_result"
        }
      ],
      "source": [
        "spam.replace('Spam','Bacon')"
      ]
    },
    {
      "cell_type": "markdown",
      "metadata": {
        "id": "8Fu19L9ryDXA"
      },
      "source": [
        "\n",
        "* len()\n"
      ]
    },
    {
      "cell_type": "code",
      "execution_count": null,
      "metadata": {
        "colab": {
          "base_uri": "https://localhost:8080/",
          "height": 35
        },
        "id": "WbWxi5omyDXA",
        "outputId": "13d8a4f3-e723-41cf-a3b0-3c69dacfa6d6"
      },
      "outputs": [
        {
          "data": {
            "text/plain": [
              "29"
            ]
          },
          "execution_count": 62,
          "metadata": {
            "tags": []
          },
          "output_type": "execute_result"
        }
      ],
      "source": [
        "len(spam)"
      ]
    }
  ],
  "metadata": {
    "accelerator": "GPU",
    "colab": {
      "include_colab_link": true,
      "name": "basic of python for text analysis.ipynb",
      "provenance": []
    },
    "kernelspec": {
      "display_name": "Python 3",
      "name": "python3"
    },
    "language_info": {
      "codemirror_mode": {
        "name": "ipython",
        "version": 3
      },
      "file_extension": ".py",
      "mimetype": "text/x-python",
      "name": "python",
      "nbconvert_exporter": "python",
      "pygments_lexer": "ipython3",
      "version": "3.6.8"
    }
  },
  "nbformat": 4,
  "nbformat_minor": 0
}
