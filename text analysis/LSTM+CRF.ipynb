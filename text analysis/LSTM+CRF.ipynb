{
  "cells": [
    {
      "cell_type": "markdown",
      "metadata": {
        "colab_type": "text",
        "id": "view-in-github"
      },
      "source": [
        "<a href=\"https://colab.research.google.com/github/ppijbb/NLP_study/blob/main/LSTM%2BCRF.ipynb\" target=\"_parent\"><img src=\"https://colab.research.google.com/assets/colab-badge.svg\" alt=\"Open In Colab\"/></a>"
      ]
    },
    {
      "cell_type": "code",
      "execution_count": null,
      "metadata": {
        "colab": {
          "base_uri": "https://localhost:8080/",
          "height": 1000
        },
        "id": "S3TotFaH8-mK",
        "outputId": "cad56071-ce79-43a2-f8f4-80511a8650c1"
      },
      "outputs": [
        {
          "name": "stdout",
          "output_type": "stream",
          "text": [
            "Traceback (most recent call last):\n",
            "  File \"/usr/local/bin/kaggle\", line 5, in <module>\n",
            "    from kaggle.cli import main\n",
            "  File \"/usr/local/lib/python2.7/dist-packages/kaggle/__init__.py\", line 23, in <module>\n",
            "    api.authenticate()\n",
            "  File \"/usr/local/lib/python2.7/dist-packages/kaggle/api/kaggle_api_extended.py\", line 146, in authenticate\n",
            "    self.config_file, self.config_dir))\n",
            "IOError: Could not find kaggle.json. Make sure it's located in /root/.kaggle. Or use the environment method.\n",
            "Traceback (most recent call last):\n",
            "  File \"/usr/local/bin/kaggle\", line 5, in <module>\n",
            "    from kaggle.cli import main\n",
            "  File \"/usr/local/lib/python2.7/dist-packages/kaggle/__init__.py\", line 23, in <module>\n",
            "    api.authenticate()\n",
            "  File \"/usr/local/lib/python2.7/dist-packages/kaggle/api/kaggle_api_extended.py\", line 146, in authenticate\n",
            "    self.config_file, self.config_dir))\n",
            "IOError: Could not find kaggle.json. Make sure it's located in /root/.kaggle. Or use the environment method.\n",
            "Get:1 http://security.ubuntu.com/ubuntu bionic-security InRelease [88.7 kB]\n",
            "Hit:2 http://archive.ubuntu.com/ubuntu bionic InRelease\n",
            "Get:3 http://archive.ubuntu.com/ubuntu bionic-updates InRelease [88.7 kB]\n",
            "Get:4 https://cloud.r-project.org/bin/linux/ubuntu bionic-cran35/ InRelease [3,626 B]\n",
            "Ign:5 https://developer.download.nvidia.com/compute/cuda/repos/ubuntu1804/x86_64  InRelease\n",
            "Hit:6 http://ppa.launchpad.net/graphics-drivers/ppa/ubuntu bionic InRelease\n",
            "Get:7 http://archive.ubuntu.com/ubuntu bionic-backports InRelease [74.6 kB]\n",
            "Ign:8 https://developer.download.nvidia.com/compute/machine-learning/repos/ubuntu1804/x86_64  InRelease\n",
            "Hit:9 https://developer.download.nvidia.com/compute/cuda/repos/ubuntu1804/x86_64  Release\n",
            "Hit:10 https://developer.download.nvidia.com/compute/machine-learning/repos/ubuntu1804/x86_64  Release\n",
            "Get:11 http://ppa.launchpad.net/marutter/c2d4u3.5/ubuntu bionic InRelease [15.4 kB]\n",
            "Get:12 http://security.ubuntu.com/ubuntu bionic-security/universe amd64 Packages [832 kB]\n",
            "Get:13 http://security.ubuntu.com/ubuntu bionic-security/main amd64 Packages [857 kB]\n",
            "Get:14 http://archive.ubuntu.com/ubuntu bionic-updates/universe amd64 Packages [1,362 kB]\n",
            "Get:15 http://archive.ubuntu.com/ubuntu bionic-updates/restricted amd64 Packages [48.7 kB]\n",
            "Get:16 http://archive.ubuntu.com/ubuntu bionic-updates/main amd64 Packages [1,154 kB]\n",
            "Get:19 http://ppa.launchpad.net/marutter/c2d4u3.5/ubuntu bionic/main Sources [1,784 kB]\n",
            "Get:20 http://ppa.launchpad.net/marutter/c2d4u3.5/ubuntu bionic/main amd64 Packages [861 kB]\n",
            "Fetched 7,170 kB in 4s (1,991 kB/s)\n",
            "Reading package lists... Done\n",
            "Reading package lists... Done\n",
            "Building dependency tree       \n",
            "Reading state information... Done\n",
            "g++ is already the newest version (4:7.4.0-1ubuntu2.3).\n",
            "g++ set to manually installed.\n",
            "The following additional packages will be installed:\n",
            "  fonts-dejavu-core fonts-dejavu-extra libatk-wrapper-java\n",
            "  libatk-wrapper-java-jni libxxf86dga1 openjdk-8-jre x11-utils\n",
            "Suggested packages:\n",
            "  openjdk-8-demo openjdk-8-source visualvm icedtea-8-plugin mesa-utils\n",
            "The following NEW packages will be installed:\n",
            "  fonts-dejavu-core fonts-dejavu-extra libatk-wrapper-java\n",
            "  libatk-wrapper-java-jni libxxf86dga1 openjdk-8-jdk openjdk-8-jre x11-utils\n",
            "0 upgraded, 8 newly installed, 0 to remove and 32 not upgraded.\n",
            "Need to get 4,942 kB of archives.\n",
            "After this operation, 13.3 MB of additional disk space will be used.\n",
            "Get:1 http://archive.ubuntu.com/ubuntu bionic/main amd64 libxxf86dga1 amd64 2:1.1.4-1 [13.7 kB]\n",
            "Get:2 http://archive.ubuntu.com/ubuntu bionic/main amd64 fonts-dejavu-core all 2.37-1 [1,041 kB]\n",
            "Get:3 http://archive.ubuntu.com/ubuntu bionic/main amd64 fonts-dejavu-extra all 2.37-1 [1,953 kB]\n",
            "Get:4 http://archive.ubuntu.com/ubuntu bionic/main amd64 x11-utils amd64 7.7+3build1 [196 kB]\n",
            "Get:5 http://archive.ubuntu.com/ubuntu bionic/main amd64 libatk-wrapper-java all 0.33.3-20ubuntu0.1 [34.7 kB]\n",
            "Get:6 http://archive.ubuntu.com/ubuntu bionic/main amd64 libatk-wrapper-java-jni amd64 0.33.3-20ubuntu0.1 [28.3 kB]\n",
            "Get:7 http://archive.ubuntu.com/ubuntu bionic-updates/universe amd64 openjdk-8-jre amd64 8u242-b08-0ubuntu3~18.04 [69.7 kB]\n",
            "Get:8 http://archive.ubuntu.com/ubuntu bionic-updates/universe amd64 openjdk-8-jdk amd64 8u242-b08-0ubuntu3~18.04 [1,606 kB]\n",
            "Fetched 4,942 kB in 0s (17.6 MB/s)\n",
            "Selecting previously unselected package libxxf86dga1:amd64.\n",
            "(Reading database ... 133872 files and directories currently installed.)\n",
            "Preparing to unpack .../0-libxxf86dga1_2%3a1.1.4-1_amd64.deb ...\n",
            "Unpacking libxxf86dga1:amd64 (2:1.1.4-1) ...\n",
            "Selecting previously unselected package fonts-dejavu-core.\n",
            "Preparing to unpack .../1-fonts-dejavu-core_2.37-1_all.deb ...\n",
            "Unpacking fonts-dejavu-core (2.37-1) ...\n",
            "Selecting previously unselected package fonts-dejavu-extra.\n",
            "Preparing to unpack .../2-fonts-dejavu-extra_2.37-1_all.deb ...\n",
            "Unpacking fonts-dejavu-extra (2.37-1) ...\n",
            "Selecting previously unselected package x11-utils.\n",
            "Preparing to unpack .../3-x11-utils_7.7+3build1_amd64.deb ...\n",
            "Unpacking x11-utils (7.7+3build1) ...\n",
            "Selecting previously unselected package libatk-wrapper-java.\n",
            "Preparing to unpack .../4-libatk-wrapper-java_0.33.3-20ubuntu0.1_all.deb ...\n",
            "Unpacking libatk-wrapper-java (0.33.3-20ubuntu0.1) ...\n",
            "Selecting previously unselected package libatk-wrapper-java-jni:amd64.\n",
            "Preparing to unpack .../5-libatk-wrapper-java-jni_0.33.3-20ubuntu0.1_amd64.deb ...\n",
            "Unpacking libatk-wrapper-java-jni:amd64 (0.33.3-20ubuntu0.1) ...\n",
            "Selecting previously unselected package openjdk-8-jre:amd64.\n",
            "Preparing to unpack .../6-openjdk-8-jre_8u242-b08-0ubuntu3~18.04_amd64.deb ...\n",
            "Unpacking openjdk-8-jre:amd64 (8u242-b08-0ubuntu3~18.04) ...\n",
            "Selecting previously unselected package openjdk-8-jdk:amd64.\n",
            "Preparing to unpack .../7-openjdk-8-jdk_8u242-b08-0ubuntu3~18.04_amd64.deb ...\n",
            "Unpacking openjdk-8-jdk:amd64 (8u242-b08-0ubuntu3~18.04) ...\n",
            "Setting up fonts-dejavu-core (2.37-1) ...\n",
            "Setting up libxxf86dga1:amd64 (2:1.1.4-1) ...\n",
            "Setting up fonts-dejavu-extra (2.37-1) ...\n",
            "Setting up x11-utils (7.7+3build1) ...\n",
            "Setting up libatk-wrapper-java (0.33.3-20ubuntu0.1) ...\n",
            "Setting up libatk-wrapper-java-jni:amd64 (0.33.3-20ubuntu0.1) ...\n",
            "Setting up openjdk-8-jre:amd64 (8u242-b08-0ubuntu3~18.04) ...\n",
            "update-alternatives: using /usr/lib/jvm/java-8-openjdk-amd64/jre/bin/policytool to provide /usr/bin/policytool (policytool) in auto mode\n",
            "Setting up openjdk-8-jdk:amd64 (8u242-b08-0ubuntu3~18.04) ...\n",
            "update-alternatives: using /usr/lib/jvm/java-8-openjdk-amd64/bin/appletviewer to provide /usr/bin/appletviewer (appletviewer) in auto mode\n",
            "update-alternatives: using /usr/lib/jvm/java-8-openjdk-amd64/bin/jconsole to provide /usr/bin/jconsole (jconsole) in auto mode\n",
            "Processing triggers for man-db (2.8.3-2ubuntu0.1) ...\n",
            "Processing triggers for hicolor-icon-theme (0.17-2) ...\n",
            "Processing triggers for fontconfig (2.12.6-0ubuntu2) ...\n",
            "Processing triggers for mime-support (3.60ubuntu1) ...\n",
            "Processing triggers for libc-bin (2.27-3ubuntu1) ...\n",
            "/sbin/ldconfig.real: /usr/local/lib/python3.6/dist-packages/ideep4py/lib/libmkldnn.so.0 is not a symbolic link\n",
            "\n",
            "Collecting konlpy\n",
            "\u001b[?25l  Downloading https://files.pythonhosted.org/packages/85/0e/f385566fec837c0b83f216b2da65db9997b35dd675e107752005b7d392b1/konlpy-0.5.2-py2.py3-none-any.whl (19.4MB)\n",
            "\u001b[K     |████████████████████████████████| 19.4MB 225kB/s \n",
            "\u001b[?25hCollecting JPype1>=0.7.0\n",
            "\u001b[?25l  Downloading https://files.pythonhosted.org/packages/d7/3c/1dbe5d6943b5c68e8df17c8b3a05db4725eadb5c7b7de437506aa3030701/JPype1-0.7.2-cp36-cp36m-manylinux1_x86_64.whl (2.4MB)\n",
            "\u001b[K     |████████████████████████████████| 2.4MB 47.5MB/s \n",
            "\u001b[?25hRequirement already satisfied: numpy>=1.6 in /usr/local/lib/python3.6/dist-packages (from konlpy) (1.18.2)\n",
            "Collecting colorama\n",
            "  Downloading https://files.pythonhosted.org/packages/c9/dc/45cdef1b4d119eb96316b3117e6d5708a08029992b2fee2c143c7a0a5cc5/colorama-0.4.3-py2.py3-none-any.whl\n",
            "Collecting tweepy>=3.7.0\n",
            "  Downloading https://files.pythonhosted.org/packages/36/1b/2bd38043d22ade352fc3d3902cf30ce0e2f4bf285be3b304a2782a767aec/tweepy-3.8.0-py2.py3-none-any.whl\n",
            "Collecting beautifulsoup4==4.6.0\n",
            "\u001b[?25l  Downloading https://files.pythonhosted.org/packages/9e/d4/10f46e5cfac773e22707237bfcd51bbffeaf0a576b0a847ec7ab15bd7ace/beautifulsoup4-4.6.0-py3-none-any.whl (86kB)\n",
            "\u001b[K     |████████████████████████████████| 92kB 11.7MB/s \n",
            "\u001b[?25hRequirement already satisfied: lxml>=4.1.0 in /usr/local/lib/python3.6/dist-packages (from konlpy) (4.2.6)\n",
            "Requirement already satisfied: requests>=2.11.1 in /usr/local/lib/python3.6/dist-packages (from tweepy>=3.7.0->konlpy) (2.21.0)\n",
            "Requirement already satisfied: requests-oauthlib>=0.7.0 in /usr/local/lib/python3.6/dist-packages (from tweepy>=3.7.0->konlpy) (1.3.0)\n",
            "Requirement already satisfied: six>=1.10.0 in /usr/local/lib/python3.6/dist-packages (from tweepy>=3.7.0->konlpy) (1.12.0)\n",
            "Requirement already satisfied: PySocks>=1.5.7 in /usr/local/lib/python3.6/dist-packages (from tweepy>=3.7.0->konlpy) (1.7.1)\n",
            "Requirement already satisfied: chardet<3.1.0,>=3.0.2 in /usr/local/lib/python3.6/dist-packages (from requests>=2.11.1->tweepy>=3.7.0->konlpy) (3.0.4)\n",
            "Requirement already satisfied: certifi>=2017.4.17 in /usr/local/lib/python3.6/dist-packages (from requests>=2.11.1->tweepy>=3.7.0->konlpy) (2019.11.28)\n",
            "Requirement already satisfied: urllib3<1.25,>=1.21.1 in /usr/local/lib/python3.6/dist-packages (from requests>=2.11.1->tweepy>=3.7.0->konlpy) (1.24.3)\n",
            "Requirement already satisfied: idna<2.9,>=2.5 in /usr/local/lib/python3.6/dist-packages (from requests>=2.11.1->tweepy>=3.7.0->konlpy) (2.8)\n",
            "Requirement already satisfied: oauthlib>=3.0.0 in /usr/local/lib/python3.6/dist-packages (from requests-oauthlib>=0.7.0->tweepy>=3.7.0->konlpy) (3.1.0)\n",
            "Installing collected packages: JPype1, colorama, tweepy, beautifulsoup4, konlpy\n",
            "  Found existing installation: tweepy 3.6.0\n",
            "    Uninstalling tweepy-3.6.0:\n",
            "      Successfully uninstalled tweepy-3.6.0\n",
            "  Found existing installation: beautifulsoup4 4.6.3\n",
            "    Uninstalling beautifulsoup4-4.6.3:\n",
            "      Successfully uninstalled beautifulsoup4-4.6.3\n",
            "Successfully installed JPype1-0.7.2 beautifulsoup4-4.6.0 colorama-0.4.3 konlpy-0.5.2 tweepy-3.8.0\n",
            "Requirement already satisfied: nltk in /usr/local/lib/python3.6/dist-packages (3.2.5)\n",
            "Requirement already satisfied: six in /usr/local/lib/python3.6/dist-packages (from nltk) (1.12.0)\n",
            "Reading package lists... Done\n",
            "Building dependency tree       \n",
            "Reading state information... Done\n",
            "Note, selecting 'fonts-nanum-eco' for glob 'fonts-nanum*'\n",
            "Note, selecting 'fonts-nanum' for glob 'fonts-nanum*'\n",
            "Note, selecting 'fonts-nanum-gothic-light' for glob 'fonts-nanum*'\n",
            "Note, selecting 'fonts-nanum-coding' for glob 'fonts-nanum*'\n",
            "Note, selecting 'fonts-nanum-extra' for glob 'fonts-nanum*'\n",
            "The following NEW packages will be installed:\n",
            "  fonts-nanum fonts-nanum-coding fonts-nanum-eco fonts-nanum-extra\n",
            "0 upgraded, 4 newly installed, 0 to remove and 32 not upgraded.\n",
            "Need to get 37.0 MB of archives.\n",
            "After this operation, 145 MB of additional disk space will be used.\n",
            "Get:1 http://archive.ubuntu.com/ubuntu bionic/universe amd64 fonts-nanum all 20170925-1 [9,604 kB]\n",
            "Get:2 http://archive.ubuntu.com/ubuntu bionic/universe amd64 fonts-nanum-eco all 1.000-6 [14.0 MB]\n",
            "Get:3 http://archive.ubuntu.com/ubuntu bionic/universe amd64 fonts-nanum-extra all 20170925-1 [12.2 MB]\n",
            "Get:4 http://archive.ubuntu.com/ubuntu bionic/universe amd64 fonts-nanum-coding all 2.5-1 [1,083 kB]\n",
            "Fetched 37.0 MB in 1s (50.4 MB/s)\n",
            "Selecting previously unselected package fonts-nanum.\n",
            "(Reading database ... 134038 files and directories currently installed.)\n",
            "Preparing to unpack .../fonts-nanum_20170925-1_all.deb ...\n",
            "Unpacking fonts-nanum (20170925-1) ...\n",
            "Selecting previously unselected package fonts-nanum-eco.\n",
            "Preparing to unpack .../fonts-nanum-eco_1.000-6_all.deb ...\n",
            "Unpacking fonts-nanum-eco (1.000-6) ...\n",
            "Selecting previously unselected package fonts-nanum-extra.\n",
            "Preparing to unpack .../fonts-nanum-extra_20170925-1_all.deb ...\n",
            "Unpacking fonts-nanum-extra (20170925-1) ...\n",
            "Selecting previously unselected package fonts-nanum-coding.\n",
            "Preparing to unpack .../fonts-nanum-coding_2.5-1_all.deb ...\n",
            "Unpacking fonts-nanum-coding (2.5-1) ...\n",
            "Setting up fonts-nanum-extra (20170925-1) ...\n",
            "Setting up fonts-nanum (20170925-1) ...\n",
            "Setting up fonts-nanum-coding (2.5-1) ...\n",
            "Setting up fonts-nanum-eco (1.000-6) ...\n",
            "Processing triggers for fontconfig (2.12.6-0ubuntu2) ...\n",
            "Reading package lists... Done\n",
            "Building dependency tree       \n",
            "Reading state information... Done\n",
            "fontconfig is already the newest version (2.12.6-0ubuntu2).\n",
            "fontconfig set to manually installed.\n",
            "0 upgraded, 0 newly installed, 0 to remove and 32 not upgraded.\n",
            "/usr/share/fonts: caching, new cache contents: 0 fonts, 1 dirs\n",
            "/usr/share/fonts/truetype: caching, new cache contents: 0 fonts, 4 dirs\n",
            "/usr/share/fonts/truetype/dejavu: caching, new cache contents: 22 fonts, 0 dirs\n",
            "/usr/share/fonts/truetype/humor-sans: caching, new cache contents: 1 fonts, 0 dirs\n",
            "/usr/share/fonts/truetype/liberation: caching, new cache contents: 16 fonts, 0 dirs\n",
            "/usr/share/fonts/truetype/nanum: caching, new cache contents: 31 fonts, 0 dirs\n",
            "/usr/local/share/fonts: caching, new cache contents: 0 fonts, 0 dirs\n",
            "/root/.local/share/fonts: skipping, no such directory\n",
            "/root/.fonts: skipping, no such directory\n",
            "/var/cache/fontconfig: cleaning cache directory\n",
            "/root/.cache/fontconfig: not cleaning non-existent cache directory\n",
            "/root/.fontconfig: not cleaning non-existent cache directory\n",
            "fc-cache: succeeded\n",
            "\u001b[33mWARNING: Skipping keras-contrib as it is not installed.\u001b[0m\n",
            "\u001b[K     |████████████████████████████████| 747kB 4.2MB/s \n",
            "\u001b[?25h  Building wheel for keras-contrib (setup.py) ... \u001b[?25l\u001b[?25hdone\n",
            "Collecting seqeval\n",
            "  Downloading https://files.pythonhosted.org/packages/34/91/068aca8d60ce56dd9ba4506850e876aba5e66a6f2f29aa223224b50df0de/seqeval-0.0.12.tar.gz\n",
            "Requirement already satisfied: numpy>=1.14.0 in /usr/local/lib/python3.6/dist-packages (from seqeval) (1.18.2)\n",
            "Requirement already satisfied: Keras>=2.2.4 in /usr/local/lib/python3.6/dist-packages (from seqeval) (2.2.5)\n",
            "Requirement already satisfied: pyyaml in /usr/local/lib/python3.6/dist-packages (from Keras>=2.2.4->seqeval) (3.13)\n",
            "Requirement already satisfied: h5py in /usr/local/lib/python3.6/dist-packages (from Keras>=2.2.4->seqeval) (2.8.0)\n",
            "Requirement already satisfied: keras-applications>=1.0.8 in /usr/local/lib/python3.6/dist-packages (from Keras>=2.2.4->seqeval) (1.0.8)\n",
            "Requirement already satisfied: keras-preprocessing>=1.1.0 in /usr/local/lib/python3.6/dist-packages (from Keras>=2.2.4->seqeval) (1.1.0)\n",
            "Requirement already satisfied: six>=1.9.0 in /usr/local/lib/python3.6/dist-packages (from Keras>=2.2.4->seqeval) (1.12.0)\n",
            "Requirement already satisfied: scipy>=0.14 in /usr/local/lib/python3.6/dist-packages (from Keras>=2.2.4->seqeval) (1.4.1)\n",
            "Building wheels for collected packages: seqeval\n",
            "  Building wheel for seqeval (setup.py) ... \u001b[?25l\u001b[?25hdone\n",
            "  Created wheel for seqeval: filename=seqeval-0.0.12-cp36-none-any.whl size=7424 sha256=453c9685219739e3ac4e01c10bce9ad6488fd950d37c910c4e390dd2a3a5606d\n",
            "  Stored in directory: /root/.cache/pip/wheels/4f/32/0a/df3b340a82583566975377d65e724895b3fad101a3fb729f68\n",
            "Successfully built seqeval\n",
            "Installing collected packages: seqeval\n",
            "Successfully installed seqeval-0.0.12\n"
          ]
        }
      ],
      "source": [
        "!kaggle competitions list\n",
        "!kaggle competitions download -c elo-merchant-category-recommendation\n",
        "!apt-get update\n",
        "!apt-get install g++ openjdk-8-jdk\n",
        "!pip install konlpy\n",
        "!pip install nltk\n",
        "!apt-get install fonts-nanum*\n",
        "!apt-get install fontconfig\n",
        "!fc-cache -fv\n",
        "!cp /usr/share/fonts/truetype/nanum/Nanum* /usr/local/lib/python3.6/dist-packages/matplotlib/mpl-data/fonts/ttf/\n",
        "!rm -rf /content/.cache/matplotlib/*\n",
        "\n",
        "!pip uninstall keras_contrib\n",
        "!pip -q install git+https://www.github.com/keras-team/keras-contrib.git sklearn-crfsuite\n",
        "!sudo pip install seqeval"
      ]
    },
    {
      "cell_type": "code",
      "execution_count": null,
      "metadata": {
        "colab": {
          "base_uri": "https://localhost:8080/",
          "height": 433
        },
        "id": "8gjH5kdp_kio",
        "outputId": "b73df5c6-3dcf-436e-ee40-d140158f1474"
      },
      "outputs": [
        {
          "name": "stdout",
          "output_type": "stream",
          "text": [
            "Uninstalling Keras-2.2.5:\n",
            "  Would remove:\n",
            "    /usr/local/lib/python3.6/dist-packages/Keras-2.2.5.dist-info/*\n",
            "    /usr/local/lib/python3.6/dist-packages/docs/*\n",
            "    /usr/local/lib/python3.6/dist-packages/keras/*\n",
            "  Would not remove (might be manually added):\n",
            "    /usr/local/lib/python3.6/dist-packages/docs/md_autogen.py\n",
            "    /usr/local/lib/python3.6/dist-packages/docs/update_docs.py\n",
            "Proceed (y/n)? y\n",
            "  Successfully uninstalled Keras-2.2.5\n",
            "Collecting keras==2.3.1\n",
            "\u001b[?25l  Downloading https://files.pythonhosted.org/packages/ad/fd/6bfe87920d7f4fd475acd28500a42482b6b84479832bdc0fe9e589a60ceb/Keras-2.3.1-py2.py3-none-any.whl (377kB)\n",
            "\u001b[K     |████████████████████████████████| 378kB 2.8MB/s \n",
            "\u001b[?25hRequirement already satisfied: scipy>=0.14 in /usr/local/lib/python3.6/dist-packages (from keras==2.3.1) (1.4.1)\n",
            "Requirement already satisfied: keras-preprocessing>=1.0.5 in /usr/local/lib/python3.6/dist-packages (from keras==2.3.1) (1.1.0)\n",
            "Requirement already satisfied: keras-applications>=1.0.6 in /usr/local/lib/python3.6/dist-packages (from keras==2.3.1) (1.0.8)\n",
            "Requirement already satisfied: h5py in /usr/local/lib/python3.6/dist-packages (from keras==2.3.1) (2.8.0)\n",
            "Requirement already satisfied: numpy>=1.9.1 in /usr/local/lib/python3.6/dist-packages (from keras==2.3.1) (1.18.2)\n",
            "Requirement already satisfied: six>=1.9.0 in /usr/local/lib/python3.6/dist-packages (from keras==2.3.1) (1.12.0)\n",
            "Requirement already satisfied: pyyaml in /usr/local/lib/python3.6/dist-packages (from keras==2.3.1) (3.13)\n",
            "Installing collected packages: keras\n",
            "Successfully installed keras-2.3.1\n"
          ]
        }
      ],
      "source": [
        "!sudo pip uninstall keras\n",
        "!sudo pip install keras==2.3.1"
      ]
    },
    {
      "cell_type": "code",
      "execution_count": null,
      "metadata": {
        "colab": {
          "base_uri": "https://localhost:8080/",
          "height": 99
        },
        "id": "yZ0Y-6Sf9B7a",
        "outputId": "91323aa7-af8f-4db8-a8c9-bb69d8ee5838"
      },
      "outputs": [
        {
          "data": {
            "text/html": [
              "<p style=\"color: red;\">\n",
              "The default version of TensorFlow in Colab will soon switch to TensorFlow 2.x.<br>\n",
              "We recommend you <a href=\"https://www.tensorflow.org/guide/migrate\" target=\"_blank\">upgrade</a> now \n",
              "or ensure your notebook will continue to use TensorFlow 1.x via the <code>%tensorflow_version 1.x</code> magic:\n",
              "<a href=\"https://colab.research.google.com/notebooks/tensorflow_version.ipynb\" target=\"_blank\">more info</a>.</p>\n"
            ],
            "text/plain": [
              "<IPython.core.display.HTML object>"
            ]
          },
          "metadata": {
            "tags": []
          },
          "output_type": "display_data"
        },
        {
          "name": "stderr",
          "output_type": "stream",
          "text": [
            "Using TensorFlow backend.\n"
          ]
        }
      ],
      "source": [
        "from __future__ import unicode_literals\n",
        "from __future__ import print_function\n",
        "\n",
        "import numpy as np\n",
        "import tensorflow as tf\n",
        "import pandas as pd\n",
        "import matplotlib.pyplot as plt\n",
        "import seaborn as sns\n",
        "import json\n",
        "import keras\n",
        "import re\n",
        "\n",
        "from keras.datasets import mnist\n",
        "from keras import backend as K\n",
        "from keras.callbacks import TensorBoard\n",
        "from collections import namedtuple\n",
        "\n",
        "from tensorflow.keras.preprocessing.text import Tokenizer\n",
        "from tensorflow.keras.preprocessing.sequence import pad_sequences\n",
        "from tensorflow.keras.utils import to_categorical\n",
        "from sklearn.model_selection import train_test_split\n",
        "\n",
        "from keras.models import Sequential, Model\n",
        "from keras.layers import Dense, Embedding, LSTM, Bidirectional, TimeDistributed, Dropout, Bidirectional, Conv2D, MaxPooling2D, Flatten\n",
        "from keras.optimizers import Adam\n",
        "\n",
        "%matplotlib inline\n",
        "%config InlineBackend.figure_format='retina'"
      ]
    },
    {
      "cell_type": "code",
      "execution_count": null,
      "metadata": {
        "colab": {
          "base_uri": "https://localhost:8080/",
          "height": 73
        },
        "id": "oMjuMLwf9CoE",
        "outputId": "cc991e57-344b-40b2-e08d-af0bd52d6395"
      },
      "outputs": [
        {
          "name": "stdout",
          "output_type": "stream",
          "text": [
            "변환 셈플 수 :  3555\n",
            "[['한편', 'NNG'], [',', 'SP'], ['AFC', 'SL'], ['챔피언스', 'NNG'], ['리그', 'NNG'], ['E', 'SL'], ['조', 'NNG'], ['에', 'JKB'], ['속하', 'VV'], ['ㄴ', 'ETM'], ['포항', 'NNP'], ['역시', 'MAJ'], ['대회', 'NNG'], ['8강', 'NNG'], ['진출', 'NNG'], ['이', 'JKS'], ['불투명', 'NNG'], ['하', 'VV'], ['다', 'EC'], ['.', 'SF']]\n"
          ]
        }
      ],
      "source": [
        "Candidate = namedtuple('Candidate', ['lemma', 'tag', 'is_ps'])\n",
        "\n",
        "devjson = json.load(open('./NEtaggedCorpus_train.json'))\n",
        "sentence = devjson.get('sentence')\n",
        "len(sentence[0].get('morp'))\n",
        "\n",
        "trancedata = []\n",
        "temptrance = []\n",
        "for morp in sentence:\n",
        "  for lentyp in morp.get('morp'):\n",
        "    temptrance.append([lentyp.get('lemma'),lentyp.get('type')])\n",
        "  trancedata.append(temptrance)\n",
        "  temptrance=[]\n",
        "\n",
        "print(\"변환 셈플 수 : \", len(trancedata))\n",
        "print(trancedata[0])\n",
        "\n",
        "samplemorp, sampletags = [], [] \n",
        "for trancedataT in trancedata: # 14,041개의 문장 샘플을 1개씩 불러온다.\n",
        "    samplemorpT, sampletagsT = zip(*trancedataT) # 각 샘플에서 단어들은 sentence에 개체명 태깅 정보들은 tag_info에 저장.\n",
        "    samplemorp.append(list(samplemorpT)) # 각 샘플에서 단어 정보만 저장한다.\n",
        "    sampletags.append(list(sampletagsT)) # 각 샘플에서 개체명 태깅 정보만 저장한다."
      ]
    },
    {
      "cell_type": "code",
      "execution_count": null,
      "metadata": {
        "colab": {
          "base_uri": "https://localhost:8080/",
          "height": 314
        },
        "id": "-7gtfjcW9yeT",
        "outputId": "8f1f8303-93f3-400d-9895-f4256a075066"
      },
      "outputs": [
        {
          "name": "stdout",
          "output_type": "stream",
          "text": [
            "샘플의 최대 길이 : 168\n",
            "샘플의 평균 길이 : 34.038819\n"
          ]
        },
        {
          "data": {
            "image/png": "[encoded data removed]",
            "text/plain": [
              "<Figure size 432x288 with 1 Axes>"
            ]
          },
          "metadata": {
            "image/png": {
              "height": 261,
              "width": 396
            },
            "tags": []
          },
          "output_type": "display_data"
        }
      ],
      "source": [
        "print('샘플의 최대 길이 : %d' % max(len(l) for l in samplemorp))\n",
        "print('샘플의 평균 길이 : %f' % (sum(map(len, samplemorp))/len(samplemorp)))\n",
        "plt.hist([len(s) for s in samplemorp], bins=50)\n",
        "plt.xlabel('length of samples')\n",
        "plt.ylabel('number of samples')\n",
        "plt.show()"
      ]
    },
    {
      "cell_type": "code",
      "execution_count": null,
      "metadata": {
        "colab": {
          "base_uri": "https://localhost:8080/",
          "height": 53
        },
        "id": "bbGIhm0N91jG",
        "outputId": "d9c59d1c-79de-47bf-f8c4-21197cb17285"
      },
      "outputs": [
        {
          "name": "stdout",
          "output_type": "stream",
          "text": [
            "단어 집합의 크기 : 100000\n",
            "개체명 태깅 정보 집합의 크기 : 46\n"
          ]
        }
      ],
      "source": [
        "max_words = 100000\n",
        "src_tokenizer = Tokenizer(num_words=max_words, oov_token='OOV')\n",
        "src_tokenizer.fit_on_texts(samplemorp)\n",
        "tar_tokenizer = Tokenizer()\n",
        "tar_tokenizer.fit_on_texts(sampletags)\n",
        "\n",
        "vocab_size = max_words\n",
        "tag_size = len(tar_tokenizer.word_index) + 1\n",
        "print('단어 집합의 크기 : {}'.format(vocab_size))\n",
        "print('개체명 태깅 정보 집합의 크기 : {}'.format(tag_size))"
      ]
    },
    {
      "cell_type": "code",
      "execution_count": null,
      "metadata": {
        "colab": {
          "base_uri": "https://localhost:8080/",
          "height": 53
        },
        "id": "AB_479Pg94rI",
        "outputId": "d5d88787-f4b6-4b4f-b436-a288e46a655f"
      },
      "outputs": [
        {
          "name": "stdout",
          "output_type": "stream",
          "text": [
            "[183, 11, 4276, 884, 162, 931, 402, 10, 2608, 7, 1516, 608, 145, 1361, 414, 4, 6347, 2, 8, 3]\n",
            "[1, 16, 19, 1, 1, 19, 1, 6, 3, 7, 4, 33, 1, 1, 1, 15, 1, 3, 2, 11]\n"
          ]
        }
      ],
      "source": [
        "X_train = src_tokenizer.texts_to_sequences(samplemorp)\n",
        "y_train = tar_tokenizer.texts_to_sequences(sampletags)\n",
        "print(X_train[0])\n",
        "print(y_train[0])"
      ]
    },
    {
      "cell_type": "code",
      "execution_count": null,
      "metadata": {
        "colab": {
          "base_uri": "https://localhost:8080/",
          "height": 73
        },
        "id": "Oqvfa_e-99Rz",
        "outputId": "45b85234-5395-4fc5-e70e-586e809cff11"
      },
      "outputs": [
        {
          "name": "stdout",
          "output_type": "stream",
          "text": [
            "기존 문장 : ['한편', ',', 'AFC', '챔피언스', '리그', 'E', '조', '에', '속하', 'ㄴ', '포항', '역시', '대회', '8강', '진출', '이', '불투명', '하', '다', '.']\n",
            "빈도수가 낮은 단어가 OOV 처리된 문장 : ['한편', ',', 'afc', '챔피언스', '리그', 'e', '조', '에', '속하', 'ㄴ', '포항', '역시', '대회', '8강', '진출', '이', '불투명', '하', '다', '.']\n"
          ]
        }
      ],
      "source": [
        "index_to_word = src_tokenizer.index_word\n",
        "index_to_ner = tar_tokenizer.index_word\n",
        "\n",
        "decoded = []\n",
        "for index in X_train[0] : # 첫번째 샘플 안의 인덱스들에 대해서\n",
        "    decoded.append(index_to_word[index]) # 다시 단어로 변환\n",
        "\n",
        "print('기존 문장 : {}'.format(samplemorp[0]))\n",
        "print('빈도수가 낮은 단어가 OOV 처리된 문장 : {}'.format(decoded))"
      ]
    },
    {
      "cell_type": "code",
      "execution_count": null,
      "metadata": {
        "colab": {
          "base_uri": "https://localhost:8080/",
          "height": 89
        },
        "id": "DDTRh-WO99wK",
        "outputId": "ef8615c4-65e0-4c76-9c35-21a3ba1136ef"
      },
      "outputs": [
        {
          "name": "stdout",
          "output_type": "stream",
          "text": [
            "훈련 샘플 문장의 크기 : (2844, 130)\n",
            "훈련 샘플 레이블의 크기 : (2844, 130, 46)\n",
            "테스트 샘플 문장의 크기 : (711, 130)\n",
            "테스트 샘플 레이블의 크기 : (711, 130, 46)\n"
          ]
        }
      ],
      "source": [
        "max_len = 130\n",
        "X_train = pad_sequences(X_train, padding='post', maxlen=max_len)\n",
        "# X_train의 모든 샘플들의 길이를 맞출 때 뒤의 공간에 숫자 0으로 채움.\n",
        "y_train = pad_sequences(y_train, padding='post', maxlen=max_len)\n",
        "# y_train의 모든 샘플들의 길이를 맞출 때 뒤의 공간에 숫자0으로 채움.\n",
        "X_train, X_test, y_train, y_test = train_test_split(X_train, y_train, test_size=.2, random_state=777)\n",
        "\n",
        "y_train = to_categorical(y_train, num_classes=tag_size)\n",
        "y_test = to_categorical(y_test, num_classes=tag_size)\n",
        "\n",
        "print('훈련 샘플 문장의 크기 : {}'.format(X_train.shape))\n",
        "print('훈련 샘플 레이블의 크기 : {}'.format(y_train.shape))\n",
        "print('테스트 샘플 문장의 크기 : {}'.format(X_test.shape))\n",
        "print('테스트 샘플 레이블의 크기 : {}'.format(y_test.shape))"
      ]
    },
    {
      "cell_type": "code",
      "execution_count": null,
      "metadata": {
        "id": "vsi6T3SyTNaz"
      },
      "outputs": [],
      "source": [
        "from keras_contrib.layers import *\n",
        "#from keras_contrib.losses import crf_loss\n",
        "#from keras_contrib.metrics import crf_viterbi_accuracy\n",
        "from seqeval.metrics import precision_score, recall_score, f1_score, classification_report"
      ]
    },
    {
      "cell_type": "code",
      "execution_count": null,
      "metadata": {
        "id": "-PlVO8e6-JsX"
      },
      "outputs": [],
      "source": [
        "model = Sequential()\n",
        "model.add(Embedding(input_dim=vocab_size, output_dim=20, input_length=max_len)) #mask_zero=True를 제거해야 실행이 됨\n",
        "model.add(Bidirectional(LSTM(units=50, return_sequences=True, recurrent_dropout=0.3)))\n",
        "model.add(TimeDistributed(Dense(50, activation=\"relu\")))\n",
        "crf = CRF(tag_size)\n",
        "model.add(crf)"
      ]
    },
    {
      "cell_type": "code",
      "execution_count": null,
      "metadata": {
        "colab": {
          "base_uri": "https://localhost:8080/",
          "height": 1000
        },
        "id": "AOk-5iGd-K-F",
        "outputId": "0d23c24e-c6e3-4535-9672-838a162d81fa"
      },
      "outputs": [
        {
          "name": "stderr",
          "output_type": "stream",
          "text": [
            "/usr/local/lib/python3.6/dist-packages/keras_contrib/layers/crf.py:346: UserWarning: CRF.loss_function is deprecated and it might be removed in the future. Please use losses.crf_loss instead.\n",
            "  warnings.warn('CRF.loss_function is deprecated '\n",
            "/usr/local/lib/python3.6/dist-packages/keras_contrib/layers/crf.py:353: UserWarning: CRF.accuracy is deprecated and it might be removed in the future. Please use metrics.crf_accuracy\n",
            "  warnings.warn('CRF.accuracy is deprecated and it '\n"
          ]
        },
        {
          "name": "stdout",
          "output_type": "stream",
          "text": [
            "Train on 2275 samples, validate on 569 samples\n",
            "Epoch 1/30\n",
            "2275/2275 [==============================] - 23s 10ms/step - loss: 1.2349 - crf_viterbi_accuracy: 0.7336 - val_loss: 0.7699 - val_crf_viterbi_accuracy: 0.8144\n",
            "Epoch 2/30\n",
            "2275/2275 [==============================] - 22s 10ms/step - loss: 0.7290 - crf_viterbi_accuracy: 0.8160 - val_loss: 0.6754 - val_crf_viterbi_accuracy: 0.8188\n",
            "Epoch 3/30\n",
            "2275/2275 [==============================] - 22s 10ms/step - loss: 0.6415 - crf_viterbi_accuracy: 0.8199 - val_loss: 0.5668 - val_crf_viterbi_accuracy: 0.8341\n",
            "Epoch 4/30\n",
            "2275/2275 [==============================] - 22s 10ms/step - loss: 0.5031 - crf_viterbi_accuracy: 0.8485 - val_loss: 0.4280 - val_crf_viterbi_accuracy: 0.8726\n",
            "Epoch 5/30\n",
            "2275/2275 [==============================] - 22s 10ms/step - loss: 0.3979 - crf_viterbi_accuracy: 0.8781 - val_loss: 0.3446 - val_crf_viterbi_accuracy: 0.8929\n",
            "Epoch 6/30\n",
            "2275/2275 [==============================] - 22s 10ms/step - loss: 0.3199 - crf_viterbi_accuracy: 0.9083 - val_loss: 0.2766 - val_crf_viterbi_accuracy: 0.9239\n",
            "Epoch 7/30\n",
            "2275/2275 [==============================] - 22s 10ms/step - loss: 0.2463 - crf_viterbi_accuracy: 0.9316 - val_loss: 0.2163 - val_crf_viterbi_accuracy: 0.9416\n",
            "Epoch 8/30\n",
            "2275/2275 [==============================] - 22s 10ms/step - loss: 0.1829 - crf_viterbi_accuracy: 0.9511 - val_loss: 0.1659 - val_crf_viterbi_accuracy: 0.9550\n",
            "Epoch 9/30\n",
            "2275/2275 [==============================] - 23s 10ms/step - loss: 0.1363 - crf_viterbi_accuracy: 0.9642 - val_loss: 0.1349 - val_crf_viterbi_accuracy: 0.9621\n",
            "Epoch 10/30\n",
            "2275/2275 [==============================] - 22s 10ms/step - loss: 0.1077 - crf_viterbi_accuracy: 0.9707 - val_loss: 0.1149 - val_crf_viterbi_accuracy: 0.9673\n",
            "Epoch 11/30\n",
            "2275/2275 [==============================] - 22s 10ms/step - loss: 0.0886 - crf_viterbi_accuracy: 0.9752 - val_loss: 0.1081 - val_crf_viterbi_accuracy: 0.9673\n",
            "Epoch 12/30\n",
            "2275/2275 [==============================] - 23s 10ms/step - loss: 0.0748 - crf_viterbi_accuracy: 0.9786 - val_loss: 0.0990 - val_crf_viterbi_accuracy: 0.9703\n",
            "Epoch 13/30\n",
            "2275/2275 [==============================] - 23s 10ms/step - loss: 0.0641 - crf_viterbi_accuracy: 0.9814 - val_loss: 0.0931 - val_crf_viterbi_accuracy: 0.9726\n",
            "Epoch 14/30\n",
            "2275/2275 [==============================] - 23s 10ms/step - loss: 0.0554 - crf_viterbi_accuracy: 0.9836 - val_loss: 0.0855 - val_crf_viterbi_accuracy: 0.9739\n",
            "Epoch 15/30\n",
            "2275/2275 [==============================] - 23s 10ms/step - loss: 0.0487 - crf_viterbi_accuracy: 0.9855 - val_loss: 0.0811 - val_crf_viterbi_accuracy: 0.9758\n",
            "Epoch 16/30\n",
            "2275/2275 [==============================] - 23s 10ms/step - loss: 0.0429 - crf_viterbi_accuracy: 0.9866 - val_loss: 0.0800 - val_crf_viterbi_accuracy: 0.9747\n",
            "Epoch 17/30\n",
            "2275/2275 [==============================] - 22s 10ms/step - loss: 0.0382 - crf_viterbi_accuracy: 0.9875 - val_loss: 0.0749 - val_crf_viterbi_accuracy: 0.9779\n",
            "Epoch 18/30\n",
            "2275/2275 [==============================] - 22s 10ms/step - loss: 0.0340 - crf_viterbi_accuracy: 0.9883 - val_loss: 0.0725 - val_crf_viterbi_accuracy: 0.9760\n",
            "Epoch 19/30\n",
            "2275/2275 [==============================] - 22s 10ms/step - loss: 0.0305 - crf_viterbi_accuracy: 0.9886 - val_loss: 0.0756 - val_crf_viterbi_accuracy: 0.9780\n",
            "Epoch 20/30\n",
            "2275/2275 [==============================] - 22s 10ms/step - loss: 0.0275 - crf_viterbi_accuracy: 0.9892 - val_loss: 0.0708 - val_crf_viterbi_accuracy: 0.9783\n",
            "Epoch 21/30\n",
            "2275/2275 [==============================] - 23s 10ms/step - loss: 0.0247 - crf_viterbi_accuracy: 0.9898 - val_loss: 0.0688 - val_crf_viterbi_accuracy: 0.9780\n",
            "Epoch 22/30\n",
            "2275/2275 [==============================] - 22s 10ms/step - loss: 0.0224 - crf_viterbi_accuracy: 0.9902 - val_loss: 0.0707 - val_crf_viterbi_accuracy: 0.9783\n",
            "Epoch 23/30\n",
            "2275/2275 [==============================] - 23s 10ms/step - loss: 0.0204 - crf_viterbi_accuracy: 0.9903 - val_loss: 0.0676 - val_crf_viterbi_accuracy: 0.9789\n",
            "Epoch 24/30\n",
            "2275/2275 [==============================] - 24s 11ms/step - loss: 0.0185 - crf_viterbi_accuracy: 0.9906 - val_loss: 0.0788 - val_crf_viterbi_accuracy: 0.9792\n",
            "Epoch 25/30\n",
            "2275/2275 [==============================] - 24s 11ms/step - loss: 0.0165 - crf_viterbi_accuracy: 0.9911 - val_loss: 0.0734 - val_crf_viterbi_accuracy: 0.9796\n",
            "Epoch 26/30\n",
            "2275/2275 [==============================] - 24s 11ms/step - loss: 0.0150 - crf_viterbi_accuracy: 0.9914 - val_loss: 0.0745 - val_crf_viterbi_accuracy: 0.9797\n",
            "Epoch 27/30\n",
            "2275/2275 [==============================] - 24s 11ms/step - loss: 0.0133 - crf_viterbi_accuracy: 0.9916 - val_loss: 0.0649 - val_crf_viterbi_accuracy: 0.9796\n",
            "Epoch 28/30\n",
            "2275/2275 [==============================] - 24s 11ms/step - loss: 0.0118 - crf_viterbi_accuracy: 0.9918 - val_loss: 0.0666 - val_crf_viterbi_accuracy: 0.9798\n",
            "Epoch 29/30\n",
            "2275/2275 [==============================] - 24s 11ms/step - loss: 0.0104 - crf_viterbi_accuracy: 0.9922 - val_loss: 0.0693 - val_crf_viterbi_accuracy: 0.9796\n",
            "Epoch 30/30\n",
            "2275/2275 [==============================] - 24s 11ms/step - loss: 0.0090 - crf_viterbi_accuracy: 0.9924 - val_loss: 0.0705 - val_crf_viterbi_accuracy: 0.9800\n"
          ]
        }
      ],
      "source": [
        "model.compile(optimizer=\"rmsprop\", loss=crf.loss_function, metrics=[crf.accuracy])\n",
        "history = model.fit(X_train, y_train, batch_size=36, epochs=30, validation_split=0.2, verbose=1) #30번째에서 98%가까이 수준유지"
      ]
    },
    {
      "cell_type": "code",
      "execution_count": null,
      "metadata": {
        "colab": {
          "base_uri": "https://localhost:8080/",
          "height": 71
        },
        "id": "Q04XlGDg-Vnj",
        "outputId": "8ac98031-de57-4f2e-f0e5-5371b45b3e83"
      },
      "outputs": [
        {
          "name": "stdout",
          "output_type": "stream",
          "text": [
            "711/711 [==============================] - 3s 4ms/step\n",
            "\n",
            " 테스트 정확도: 0.9791\n"
          ]
        }
      ],
      "source": [
        "print(\"\\n 테스트 정확도: %.4f\" % (model.evaluate(X_test, y_test))[1])"
      ]
    },
    {
      "cell_type": "code",
      "execution_count": null,
      "metadata": {
        "id": "aNscNrNO1GJz"
      },
      "outputs": [],
      "source": [
        "def sequences_to_tag(sequences): # 예측값을 index_to_tag를 사용하여 태깅 정보로 변경하는 함수.\n",
        "    result = []\n",
        "    for sequence in sequences: # 전체 시퀀스로부터 시퀀스를 하나씩 꺼낸다.\n",
        "        temp = []\n",
        "        for pred in sequence: # 시퀀스로부터 예측값을 하나씩 꺼낸다.\n",
        "            pred_index = np.argmax(pred) # 예를 들어 [0, 0, 1, 0 ,0]라면 1의 인덱스인 2를 리턴한다.\n",
        "            temp.append(index_to_ner[pred_index + 1]) # 'PAD'는 'O'로 변경\n",
        "        result.append(temp)\n",
        "    return result"
      ]
    },
    {
      "cell_type": "code",
      "execution_count": null,
      "metadata": {
        "colab": {
          "base_uri": "https://localhost:8080/",
          "height": 899
        },
        "id": "E4ZPAcCJuW7F",
        "outputId": "83ae6736-1b84-408e-f0ef-501c5a17372e"
      },
      "outputs": [
        {
          "name": "stdout",
          "output_type": "stream",
          "text": [
            "           precision    recall  f1-score   support\n",
            "\n",
            "      nnp       0.92      0.92      0.92      1300\n",
            "       jx       0.89      0.96      0.93       758\n",
            "       ec       0.82      0.87      0.84      4859\n",
            "      jkb       1.00      0.91      0.95      1197\n",
            "      vcp       0.91      0.94      0.93       304\n",
            "       sf       0.97      0.98      0.97       792\n",
            "      nng       1.00      1.00      1.00       710\n",
            "       sp       0.94      0.99      0.96       483\n",
            "       sn       0.76      0.56      0.65      1168\n",
            "       vv       0.98      0.86      0.91      1385\n",
            "      etm       0.98      0.95      0.97      1089\n",
            "       jc       0.77      0.89      0.82       115\n",
            "      nnb       0.98      0.98      0.98      1118\n",
            "      xsv       1.00      1.00      1.00       732\n",
            "       ep       0.94      0.96      0.95       708\n",
            "       ss       0.99      1.00      1.00       851\n",
            "       nr       0.59      0.86      0.70        77\n",
            "      etn       1.00      0.95      0.97        92\n",
            "      jks       1.00      1.00      1.00       515\n",
            "      xsn       0.94      0.66      0.78       261\n",
            "       ef       0.99      1.00      0.99       388\n",
            "       sl       0.66      0.96      0.78       358\n",
            "      jko       0.92      0.94      0.93      1031\n",
            "       vx       0.90      0.81      0.85       267\n",
            "       mm       0.90      0.73      0.81       127\n",
            "       xr       0.66      0.90      0.76       105\n",
            "      jkg       0.99      1.00      1.00       394\n",
            "       np       0.95      0.93      0.94        97\n",
            "       so       0.97      0.97      0.97        67\n",
            "       va       0.96      0.80      0.87       251\n",
            "      maj       0.91      0.80      0.85        66\n",
            "       sw       0.95      0.86      0.90       193\n",
            "      jkq       0.00      0.00      0.00        12\n",
            "      mag       0.94      0.96      0.95       282\n",
            "      xsa       0.93      0.68      0.79       104\n",
            "      xpn       0.81      0.65      0.72       110\n",
            "       na       0.14      0.08      0.10        13\n",
            "      jkc       0.57      0.73      0.64        11\n",
            "      vcn       1.00      1.00      1.00        19\n",
            "      jkv       1.00      0.38      0.55         8\n",
            "       sh       1.00      1.00      1.00        18\n",
            "       se       0.00      0.00      0.00         1\n",
            "\n",
            "micro avg       0.91      0.90      0.90     22436\n",
            "macro avg       0.91      0.90      0.90     22436\n",
            "\n",
            "F1-score: 90.4%\n"
          ]
        }
      ],
      "source": [
        "y_predicted = model.predict(X_test)\n",
        "pred_tags = sequences_to_tag(y_predicted)\n",
        "test_tags = sequences_to_tag(y_test)\n",
        "\n",
        "print(classification_report(test_tags, pred_tags))\n",
        "print(\"F1-score: {:.1%}\".format(f1_score(test_tags, pred_tags)))"
      ]
    },
    {
      "cell_type": "code",
      "execution_count": null,
      "metadata": {
        "colab": {
          "base_uri": "https://localhost:8080/",
          "height": 294
        },
        "id": "5vjhXJuc-YUv",
        "outputId": "2b7082ca-a6d9-48fd-ab8b-9fdd23ff8746"
      },
      "outputs": [
        {
          "data": {
            "image/png": "[encoded data removed]",
            "text/plain": [
              "<Figure size 432x288 with 1 Axes>"
            ]
          },
          "metadata": {
            "image/png": {
              "height": 277,
              "width": 385
            },
            "tags": []
          },
          "output_type": "display_data"
        }
      ],
      "source": [
        "epochs = range(1, len(history.history['val_loss']) + 1)\n",
        "plt.plot(epochs, history.history['loss'])\n",
        "plt.plot(epochs, history.history['val_loss'])\n",
        "plt.title('model loss')\n",
        "plt.ylabel('loss')\n",
        "plt.xlabel('epoch')\n",
        "plt.legend(['train', 'val'], loc='upper left')\n",
        "plt.show()"
      ]
    },
    {
      "cell_type": "code",
      "execution_count": null,
      "metadata": {
        "colab": {
          "base_uri": "https://localhost:8080/",
          "height": 55
        },
        "id": "4IiVAJZ_-ZB2",
        "outputId": "e8e079c8-e23e-426c-8666-e0950ceb03a8"
      },
      "outputs": [
        {
          "name": "stdout",
          "output_type": "stream",
          "text": [
            "['황', '대표는', '이날', '열린', '당', '4·15', '총선', '중앙선거대책위원회', '첫', '회의에서', '\"최근', '우리', '당과', '미래한국당에서', '몇', '가지', '씁쓸한', '뉴스를', '접했을', '것\"라며', '이렇게', '말했다.']\n"
          ]
        }
      ],
      "source": [
        "word_to_index = src_tokenizer.word_index # 실험 문장 1\n",
        "new_sentence='황 대표는 이날 열린 당 4·15 총선 중앙선거대책위원회 첫 회의에서 \"최근 우리 당과 미래한국당에서 몇 가지 씁쓸한 뉴스를 접했을 것\"라며 이렇게 말했다.'.split()\n",
        "print(new_sentence)"
      ]
    },
    {
      "cell_type": "code",
      "execution_count": null,
      "metadata": {
        "colab": {
          "base_uri": "https://localhost:8080/",
          "height": 55
        },
        "id": "x1ZTIUupXGQZ",
        "outputId": "c2850c7a-dbf3-4271-d41c-c2a675732650"
      },
      "outputs": [
        {
          "name": "stdout",
          "output_type": "stream",
          "text": [
            "['이런', '가운데', '오늘은', '한발', '더', '나아가', '도쿄올림픽이', '1년', '될거라는', 'IOC', '위원의', '인터뷰도', '나왔네요.']\n"
          ]
        }
      ],
      "source": [
        "word_to_index = src_tokenizer.word_index # 실험 문장 2\n",
        "new_sentence='이런 가운데 오늘은 한발 더 나아가 도쿄올림픽이 1년 될거라는 IOC 위원의 인터뷰도 나왔네요.'.split()\n",
        "print(new_sentence)"
      ]
    },
    {
      "cell_type": "code",
      "execution_count": null,
      "metadata": {
        "id": "D7g3s9EC-ojE"
      },
      "outputs": [],
      "source": [
        "new_X=[]\n",
        "for w in new_sentence:\n",
        "    try:\n",
        "      new_X.append(word_to_index.get(w,1))\n",
        "    except KeyError:\n",
        "      new_X.append(word_to_index['OOV'])\n",
        "      # 모델이 모르는 단어에 대해서는 'OOV'의 인덱스인 1로 인코딩\n",
        "      \n",
        "pad_new = pad_sequences([new_X], padding=\"post\", value=0, maxlen=max_len)"
      ]
    },
    {
      "cell_type": "code",
      "execution_count": null,
      "metadata": {
        "colab": {
          "base_uri": "https://localhost:8080/",
          "height": 287
        },
        "id": "q3dKTNXa-pe_",
        "outputId": "88ea643b-b541-456a-9be3-d7e40e09cd73"
      },
      "outputs": [
        {
          "name": "stdout",
          "output_type": "stream",
          "text": [
            "단어                       ||예측값\n",
            "==================================================\n",
            "이런                       : MM \n",
            "가운데                      : NNG\n",
            "오늘은                      : NNG\n",
            "한발                       : MAG\n",
            "더                        : MAG\n",
            "나아가                      : NNG\n",
            "도쿄올림픽이                   : NNG\n",
            "1년                       : NNG\n",
            "될거라는                     : NNG\n",
            "IOC                      : NNG\n",
            "위원의                      : NNG\n",
            "인터뷰도                     : NNG\n",
            "나왔네요.                    : NNG\n"
          ]
        }
      ],
      "source": [
        "p = model.predict(np.array([pad_new[0]]))\n",
        "p = np.argmax(p, axis=-1)\n",
        "print(\"{:25}||{}\".format(\"단어\", \"예측값\"))\n",
        "print(50 * \"=\")\n",
        "for w, pred in zip(new_sentence, p[0]):\n",
        "    print(\"{:25}: {:3}\".format(w, index_to_ner[pred].upper()))"
      ]
    },
    {
      "cell_type": "markdown",
      "metadata": {
        "id": "LVUOQq0jJIBM"
      },
      "source": [
        "학습데이터\n",
        "\n",
        "https://ithub.korean.go.kr/user/total/referenceView.do;jsessionid=D7517E6D274D8CBA2B07A97EE258BE00\n",
        "\n",
        "참고 \n",
        "  \n",
        "  https://wikidocs.net/34156\n",
        "  \n",
        "  https://keep-steady.tistory.com/20\n"
      ]
    },
    {
      "cell_type": "code",
      "execution_count": null,
      "metadata": {
        "id": "tHxWvcupge0I"
      },
      "outputs": [],
      "source": []
    }
  ],
  "metadata": {
    "colab": {
      "authorship_tag": "ABX9TyOCihp0nKHMgCSAlw5pgXWl",
      "collapsed_sections": [],
      "include_colab_link": true,
      "name": "LSTM+CRF.ipynb",
      "provenance": []
    },
    "kernelspec": {
      "display_name": "Python 3.8.8 ('base')",
      "language": "python",
      "name": "python3"
    },
    "language_info": {
      "name": "python",
      "version": "3.8.8"
    },
    "vscode": {
      "interpreter": {
        "hash": "ad2bdc8ecc057115af97d19610ffacc2b4e99fae6737bb82f5d7fb13d2f2c186"
      }
    }
  },
  "nbformat": 4,
  "nbformat_minor": 0
}
