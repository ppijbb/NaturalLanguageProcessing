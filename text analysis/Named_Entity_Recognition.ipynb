{
  "cells": [
    {
      "cell_type": "markdown",
      "metadata": {
        "colab_type": "text",
        "id": "view-in-github"
      },
      "source": [
        "<a href=\"https://colab.research.google.com/github/ppijbb/NLP_study/blob/main/Named_Entity_Recognition.ipynb\" target=\"_parent\"><img src=\"https://colab.research.google.com/assets/colab-badge.svg\" alt=\"Open In Colab\"/></a>"
      ]
    },
    {
      "cell_type": "markdown",
      "metadata": {
        "id": "TNTVCXQ3x5DH"
      },
      "source": [
        "## 가천대학교 컴퓨터공학과\n",
        "### GBridge\n",
        "\n",
        "### 2019년 11월 8일 실습\n",
        "\n"
      ]
    },
    {
      "cell_type": "markdown",
      "metadata": {
        "id": "xurSCCILx5DJ"
      },
      "source": [
        "\n",
        "\n",
        "### NER tagging using NLTK"
      ]
    },
    {
      "cell_type": "code",
      "execution_count": null,
      "metadata": {
        "colab": {
          "base_uri": "https://localhost:8080/",
          "height": 197
        },
        "id": "aKYEFHvax5DK",
        "outputId": "1fd865f1-6818-4652-9d9d-3c702bef6b9d"
      },
      "outputs": [
        {
          "name": "stdout",
          "output_type": "stream",
          "text": [
            "[nltk_data] Downloading package punkt to /root/nltk_data...\n",
            "[nltk_data]   Unzipping tokenizers/punkt.zip.\n",
            "[nltk_data] Downloading package averaged_perceptron_tagger to\n",
            "[nltk_data]     /root/nltk_data...\n",
            "[nltk_data]   Unzipping taggers/averaged_perceptron_tagger.zip.\n",
            "[nltk_data] Downloading package maxent_ne_chunker to\n",
            "[nltk_data]     /root/nltk_data...\n",
            "[nltk_data]   Unzipping chunkers/maxent_ne_chunker.zip.\n",
            "[nltk_data] Downloading package words to /root/nltk_data...\n",
            "[nltk_data]   Unzipping corpora/words.zip.\n"
          ]
        }
      ],
      "source": [
        "# nltk for NER-tagging\n",
        "from nltk.chunk import tree2conlltags\n",
        "from nltk import pos_tag\n",
        "from nltk import word_tokenize\n",
        "from nltk.chunk import ne_chunk\n",
        "from nltk import download\n",
        "\n",
        "# Model & corpus download \n",
        "download('punkt')\n",
        "download('averaged_perceptron_tagger')\n",
        "download('maxent_ne_chunker')\n",
        "download('words')\n",
        "\n",
        "#sentence = \"Clement Simon Diamod and Mathieu are working at Apple.\"\n",
        "sentence = \"Team Cook, president of Apple is eating an apple\"\n",
        "ne_tree = ne_chunk(pos_tag(word_tokenize(sentence)))"
      ]
    },
    {
      "cell_type": "code",
      "execution_count": null,
      "metadata": {
        "colab": {
          "base_uri": "https://localhost:8080/",
          "height": 55
        },
        "id": "kyBGzd5mx5DO",
        "outputId": "6703d577-2e61-406f-ad52-10af2e121af1"
      },
      "outputs": [
        {
          "name": "stdout",
          "output_type": "stream",
          "text": [
            "[('Team', 'NN', 'B-PERSON'), ('Cook', 'NNP', 'I-PERSON'), (',', ',', 'O'), ('president', 'NN', 'O'), ('of', 'IN', 'O'), ('Apple', 'NNP', 'B-GPE'), ('is', 'VBZ', 'O'), ('eating', 'VBG', 'O'), ('an', 'DT', 'O'), ('apple', 'NN', 'O')]\n"
          ]
        }
      ],
      "source": [
        "iob_tagged = tree2conlltags(ne_tree)\n",
        "print(iob_tagged)"
      ]
    },
    {
      "cell_type": "code",
      "execution_count": null,
      "metadata": {
        "colab": {
          "base_uri": "https://localhost:8080/",
          "height": 197
        },
        "id": "Q-_Q-Z2rx5DQ",
        "outputId": "6fc31755-43f7-4e6a-ec89-46beecb4db63"
      },
      "outputs": [
        {
          "name": "stdout",
          "output_type": "stream",
          "text": [
            "(S\n",
            "  (PERSON Team/NN Cook/NNP)\n",
            "  ,/,\n",
            "  president/NN\n",
            "  of/IN\n",
            "  (GPE Apple/NNP)\n",
            "  is/VBZ\n",
            "  eating/VBG\n",
            "  an/DT\n",
            "  apple/NN)\n"
          ]
        }
      ],
      "source": [
        "print(ne_tree)"
      ]
    },
    {
      "cell_type": "markdown",
      "metadata": {
        "id": "kkKpN_LZx5DT"
      },
      "source": [
        "### NER tagging using Stanford tagger\n",
        "Stanford NER tagger download\n",
        "https://nlp.stanford.edu/software/CRF-NER.shtml#Download"
      ]
    },
    {
      "cell_type": "code",
      "execution_count": null,
      "metadata": {
        "colab": {
          "base_uri": "https://localhost:8080/",
          "height": 269
        },
        "id": "0PJk9cNbx5DU",
        "outputId": "976d8f45-9b51-42dd-9ab4-a21c5338020e"
      },
      "outputs": [
        {
          "name": "stderr",
          "output_type": "stream",
          "text": [
            "/usr/local/lib/python3.6/dist-packages/nltk/tag/stanford.py:183: DeprecationWarning: \n",
            "The StanfordTokenizer will be deprecated in version 3.2.5.\n",
            "Please use \u001b[91mnltk.tag.corenlp.CoreNLPPOSTagger\u001b[0m or \u001b[91mnltk.tag.corenlp.CoreNLPNERTagger\u001b[0m instead.\n",
            "  super(StanfordNERTagger, self).__init__(*args, **kwargs)\n"
          ]
        },
        {
          "data": {
            "text/plain": [
              "[('Baptiste', 'PERSON'),\n",
              " ('Capdeville', 'PERSON'),\n",
              " ('is', 'O'),\n",
              " ('studying', 'O'),\n",
              " ('at', 'O'),\n",
              " ('Columbia', 'ORGANIZATION'),\n",
              " ('University', 'ORGANIZATION'),\n",
              " ('in', 'O'),\n",
              " ('New', 'LOCATION'),\n",
              " ('York', 'LOCATION')]"
            ]
          },
          "execution_count": 7,
          "metadata": {
            "tags": []
          },
          "output_type": "execute_result"
        }
      ],
      "source": [
        "from nltk.tag import StanfordNERTagger\n",
        "st = StanfordNERTagger('./english.all.3class.distsim.crf.ser.gz', './stanford-ner.jar', encoding='utf-8')#stanford-ner-2018-10-16/classifiers/\n",
        "\n",
        "st.tag('Baptiste Capdeville is studying at Columbia University in New York'.split())\n"
      ]
    },
    {
      "cell_type": "code",
      "execution_count": null,
      "metadata": {
        "colab": {
          "base_uri": "https://localhost:8080/",
          "height": 557
        },
        "id": "NyBWcOvtx5DX",
        "outputId": "f78ec743-7f6b-4993-c18d-5fd1ac6745b8"
      },
      "outputs": [
        {
          "data": {
            "text/plain": [
              "[('Great', 'O'),\n",
              " ('player', 'O'),\n",
              " ('Sonny.', 'O'),\n",
              " ('Although', 'O'),\n",
              " ('Kane', 'PERSON'),\n",
              " ('is', 'O'),\n",
              " ('good', 'O'),\n",
              " ('too,', 'O'),\n",
              " ('I', 'O'),\n",
              " ('feel', 'O'),\n",
              " (\"Sonny's\", 'O'),\n",
              " ('overall', 'O'),\n",
              " ('contribution', 'O'),\n",
              " ('is', 'O'),\n",
              " ('much', 'O'),\n",
              " ('more.', 'O'),\n",
              " ('The', 'O'),\n",
              " ('man', 'O'),\n",
              " ('of', 'O'),\n",
              " ('Tottenham', 'ORGANIZATION'),\n",
              " ('Hotspurs', 'ORGANIZATION'),\n",
              " ('has', 'O'),\n",
              " ('so', 'O'),\n",
              " ('much', 'O'),\n",
              " ('energy', 'O'),\n",
              " ('with', 'O'),\n",
              " ('an', 'O'),\n",
              " ('unstoppable', 'O'),\n",
              " ('work', 'O'),\n",
              " ('rate!', 'O')]"
            ]
          },
          "execution_count": 8,
          "metadata": {
            "tags": []
          },
          "output_type": "execute_result"
        }
      ],
      "source": [
        "st.tag(\"Great player Sonny. Although Kane is good too, I feel Sonny's overall contribution is much more. The man of Tottenham Hotspurs has so much energy with an unstoppable work rate!\".split())"
      ]
    },
    {
      "cell_type": "markdown",
      "metadata": {
        "id": "nzWGcXI-x5Da"
      },
      "source": [
        "### NER tagging using spaCy"
      ]
    },
    {
      "cell_type": "code",
      "execution_count": null,
      "metadata": {
        "id": "JIGZQKDjx5Db"
      },
      "outputs": [],
      "source": [
        "import spacy\n",
        "nlp=spacy.load('en')"
      ]
    },
    {
      "cell_type": "code",
      "execution_count": null,
      "metadata": {
        "id": "oR3kBbNcx5Df"
      },
      "outputs": [],
      "source": [
        "sent_0 = nlp(u'Donald Trump visited at the government headquarters in France today.')\n",
        "\n",
        "sent_1 = nlp(u'Emmanuel Jean-Michel Frédéric Macron is a French politician serving as President of France and ex officio Co-Prince of Andorra since 14 May 2017.')\n",
        "\n",
        "sent_2 = nlp(u'He studied philosophy at Paris Nanterre University, completed a Master\\'s of Public Affairs at Sciences Po, and graduated from the École Nationale d\\'Administration (ÉNA) in 2004.')\n",
        "\n",
        "sent_3 = nlp(u'He worked at the Inspectorate General of Finances, and later became an investment banker at Rothschild & Cie Banque.')\n"
      ]
    },
    {
      "cell_type": "code",
      "execution_count": null,
      "metadata": {
        "colab": {
          "base_uri": "https://localhost:8080/",
          "height": 395
        },
        "id": "wPD9oTqMx5Di",
        "outputId": "bad61a5a-aca0-455a-8e1c-14b44ba004df"
      },
      "outputs": [
        {
          "name": "stdout",
          "output_type": "stream",
          "text": [
            "He \n",
            "worked \n",
            "at \n",
            "the FAC\n",
            "Inspectorate FAC\n",
            "General FAC\n",
            "of FAC\n",
            "Finances FAC\n",
            ", \n",
            "and \n",
            "later \n",
            "became \n",
            "an \n",
            "investment \n",
            "banker \n",
            "at \n",
            "Rothschild ORG\n",
            "& ORG\n",
            "Cie ORG\n",
            "Banque ORG\n",
            ". \n"
          ]
        }
      ],
      "source": [
        "for token in sent_3:\n",
        "    print(token.text, token.ent_type_)"
      ]
    },
    {
      "cell_type": "code",
      "execution_count": null,
      "metadata": {
        "colab": {
          "base_uri": "https://localhost:8080/",
          "height": 53
        },
        "id": "-Vi9yh3gx5Dk",
        "outputId": "b387e4f3-f5c2-4c79-dfad-703621e0ca94"
      },
      "outputs": [
        {
          "name": "stdout",
          "output_type": "stream",
          "text": [
            "the Inspectorate General of Finances FAC\n",
            "Rothschild & Cie Banque ORG\n"
          ]
        }
      ],
      "source": [
        "for ent in sent_3.ents:\n",
        "    print(ent.text, ent.label_)"
      ]
    },
    {
      "cell_type": "markdown",
      "metadata": {
        "id": "gNg90h0nx5Dn"
      },
      "source": [
        "visualizing the entity recognizer"
      ]
    },
    {
      "cell_type": "code",
      "execution_count": null,
      "metadata": {
        "colab": {
          "base_uri": "https://localhost:8080/",
          "height": 55
        },
        "id": "TF6spHdAx5Do",
        "outputId": "062eaba7-36cb-41bd-de62-fd79d44448ac"
      },
      "outputs": [
        {
          "data": {
            "text/plain": [
              "'<div class=\"entities\" style=\"line-height: 2.5; direction: ltr\">\\n<mark class=\"entity\" style=\"background: #aa9cfc; padding: 0.45em 0.6em; margin: 0 0.25em; line-height: 1; border-radius: 0.35em;\">\\n    Donald Trump\\n    <span style=\"font-size: 0.8em; font-weight: bold; line-height: 1; border-radius: 0.35em; text-transform: uppercase; vertical-align: middle; margin-left: 0.5rem\">PERSON</span>\\n</mark>\\n visited at the government headquarters in \\n<mark class=\"entity\" style=\"background: #feca74; padding: 0.45em 0.6em; margin: 0 0.25em; line-height: 1; border-radius: 0.35em;\">\\n    France\\n    <span style=\"font-size: 0.8em; font-weight: bold; line-height: 1; border-radius: 0.35em; text-transform: uppercase; vertical-align: middle; margin-left: 0.5rem\">GPE</span>\\n</mark>\\n \\n<mark class=\"entity\" style=\"background: #bfe1d9; padding: 0.45em 0.6em; margin: 0 0.25em; line-height: 1; border-radius: 0.35em;\">\\n    today\\n    <span style=\"font-size: 0.8em; font-weight: bold; line-height: 1; border-radius: 0.35em; text-transform: uppercase; vertical-align: middle; margin-left: 0.5rem\">DATE</span>\\n</mark>\\n.</div>'"
            ]
          },
          "execution_count": 14,
          "metadata": {
            "tags": []
          },
          "output_type": "execute_result"
        }
      ],
      "source": [
        "from spacy import displacy\n",
        "\n",
        "#displacy.serve(sent_0, style=\"ent\")\n",
        "displacy.render(sent_0, style=\"ent\")\n"
      ]
    },
    {
      "cell_type": "code",
      "execution_count": null,
      "metadata": {
        "colab": {
          "base_uri": "https://localhost:8080/",
          "height": 109
        },
        "id": "mcZcVESpx5Dr",
        "outputId": "721a2c29-a448-4cdf-ff00-9474cff032b9"
      },
      "outputs": [
        {
          "name": "stdout",
          "output_type": "stream",
          "text": [
            "Kane PERSON\n",
            "Sonny PERSON\n",
            "Tottenham Hotspurs PERSON\n"
          ]
        },
        {
          "data": {
            "text/plain": [
              "'<div class=\"entities\" style=\"line-height: 2.5; direction: ltr\">Great player Sonny. Although \\n<mark class=\"entity\" style=\"background: #aa9cfc; padding: 0.45em 0.6em; margin: 0 0.25em; line-height: 1; border-radius: 0.35em;\">\\n    Kane\\n    <span style=\"font-size: 0.8em; font-weight: bold; line-height: 1; border-radius: 0.35em; text-transform: uppercase; vertical-align: middle; margin-left: 0.5rem\">PERSON</span>\\n</mark>\\n is good too, I feel \\n<mark class=\"entity\" style=\"background: #aa9cfc; padding: 0.45em 0.6em; margin: 0 0.25em; line-height: 1; border-radius: 0.35em;\">\\n    Sonny\\n    <span style=\"font-size: 0.8em; font-weight: bold; line-height: 1; border-radius: 0.35em; text-transform: uppercase; vertical-align: middle; margin-left: 0.5rem\">PERSON</span>\\n</mark>\\n\\'s overall contribution is much more. The man of \\n<mark class=\"entity\" style=\"background: #aa9cfc; padding: 0.45em 0.6em; margin: 0 0.25em; line-height: 1; border-radius: 0.35em;\">\\n    Tottenham Hotspurs\\n    <span style=\"font-size: 0.8em; font-weight: bold; line-height: 1; border-radius: 0.35em; text-transform: uppercase; vertical-align: middle; margin-left: 0.5rem\">PERSON</span>\\n</mark>\\n has so much energy with an unstoppable work rate!</div>'"
            ]
          },
          "execution_count": 15,
          "metadata": {
            "tags": []
          },
          "output_type": "execute_result"
        }
      ],
      "source": [
        "sent_4 = nlp(u\"Great player Sonny. Although Kane is good too, I feel Sonny's overall contribution is much more. The man of Tottenham Hotspurs has so much energy with an unstoppable work rate!\")\n",
        "\n",
        "for ent in sent_4.ents:\n",
        "    print(ent.text, ent.label_)\n",
        "    \n",
        "displacy.render(sent_4, style=\"ent\")"
      ]
    },
    {
      "cell_type": "code",
      "execution_count": null,
      "metadata": {
        "colab": {
          "base_uri": "https://localhost:8080/",
          "height": 811
        },
        "id": "Hz39ydcFx5Du",
        "outputId": "3d42ecd9-72cf-466d-b9fa-0a5dddeb378e"
      },
      "outputs": [
        {
          "name": "stdout",
          "output_type": "stream",
          "text": [
            "Last night TIME\n",
            "The Hollywood Reporter ORG\n",
            "David Benioff PERSON\n",
            "D.B. Weiss PERSON\n",
            "A year and half ago DATE\n",
            "Star Wars PRODUCT\n",
            "late 2022 DATE\n",
            "Netflix GPE\n",
            "$250 million MONEY\n",
            "George Lucas PERSON\n",
            "Star Wars WORK_OF_ART\n",
            "Star Wars WORK_OF_ART\n",
            "only so many hours TIME\n",
            "Star Wars PERSON\n",
            "Netflix PERSON\n",
            "three CARDINAL\n",
            "recent days DATE\n",
            "Game of Thrones WORK_OF_ART\n",
            "months DATE\n",
            "Comic-Con International ORG\n",
            "Benioff ORG\n",
            "Weiss PERSON\n",
            "the Night King FAC\n",
            "Star Wars WORK_OF_ART\n",
            "the final season DATE\n",
            "Arya PERSON\n",
            "Rey PERSON\n",
            "Benioff and Weiss ORG\n",
            "Star Wars WORK_OF_ART\n",
            "Colin Trevorrow PERSON\n",
            "Phil Lord PERSON\n",
            "Chris Miller PERSON\n",
            "Josh Trank PERSON\n",
            "December DATE\n",
            "Star Wars: WORK_OF_ART\n",
            "Netflix ORG\n",
            "one CARDINAL\n",
            "Lucasfilm GPE\n",
            "Netflix ORG\n",
            "the past couple days DATE\n",
            "Netflix GPE\n",
            "Netflix GPE\n"
          ]
        },
        {
          "data": {
            "text/plain": [
              "'<div class=\"entities\" style=\"line-height: 2.5; direction: ltr\">The headline shouted that it was a “shocker.” \\n<mark class=\"entity\" style=\"background: #bfe1d9; padding: 0.45em 0.6em; margin: 0 0.25em; line-height: 1; border-radius: 0.35em;\">\\n    Last night\\n    <span style=\"font-size: 0.8em; font-weight: bold; line-height: 1; border-radius: 0.35em; text-transform: uppercase; vertical-align: middle; margin-left: 0.5rem\">TIME</span>\\n</mark>\\n, \\n<mark class=\"entity\" style=\"background: #7aecec; padding: 0.45em 0.6em; margin: 0 0.25em; line-height: 1; border-radius: 0.35em;\">\\n    The Hollywood Reporter\\n    <span style=\"font-size: 0.8em; font-weight: bold; line-height: 1; border-radius: 0.35em; text-transform: uppercase; vertical-align: middle; margin-left: 0.5rem\">ORG</span>\\n</mark>\\n posted a story revealing that \\n<mark class=\"entity\" style=\"background: #aa9cfc; padding: 0.45em 0.6em; margin: 0 0.25em; line-height: 1; border-radius: 0.35em;\">\\n    David Benioff\\n    <span style=\"font-size: 0.8em; font-weight: bold; line-height: 1; border-radius: 0.35em; text-transform: uppercase; vertical-align: middle; margin-left: 0.5rem\">PERSON</span>\\n</mark>\\n and \\n<mark class=\"entity\" style=\"background: #aa9cfc; padding: 0.45em 0.6em; margin: 0 0.25em; line-height: 1; border-radius: 0.35em;\">\\n    D.B. Weiss\\n    <span style=\"font-size: 0.8em; font-weight: bold; line-height: 1; border-radius: 0.35em; text-transform: uppercase; vertical-align: middle; margin-left: 0.5rem\">PERSON</span>\\n</mark>\\n, the creators behind the Game of Thrones television adaptation, were ending their creative partnership with Lucasfilm—effective immediately. \\n<mark class=\"entity\" style=\"background: #bfe1d9; padding: 0.45em 0.6em; margin: 0 0.25em; line-height: 1; border-radius: 0.35em;\">\\n    A year and half ago\\n    <span style=\"font-size: 0.8em; font-weight: bold; line-height: 1; border-radius: 0.35em; text-transform: uppercase; vertical-align: middle; margin-left: 0.5rem\">DATE</span>\\n</mark>\\n, the studio announced it had asked the pair to create a trilogy of \\n<mark class=\"entity\" style=\"background: #bfeeb7; padding: 0.45em 0.6em; margin: 0 0.25em; line-height: 1; border-radius: 0.35em;\">\\n    Star Wars\\n    <span style=\"font-size: 0.8em; font-weight: bold; line-height: 1; border-radius: 0.35em; text-transform: uppercase; vertical-align: middle; margin-left: 0.5rem\">PRODUCT</span>\\n</mark>\\n films, set to start rolling out in \\n<mark class=\"entity\" style=\"background: #bfe1d9; padding: 0.45em 0.6em; margin: 0 0.25em; line-height: 1; border-radius: 0.35em;\">\\n    late 2022\\n    <span style=\"font-size: 0.8em; font-weight: bold; line-height: 1; border-radius: 0.35em; text-transform: uppercase; vertical-align: middle; margin-left: 0.5rem\">DATE</span>\\n</mark>\\n. That\\'s no longer happening. It\\'s over. </br></br>Benioff and Weiss, it seemed, couldn’t balance the demands of the trilogy with their responsibilities at \\n<mark class=\"entity\" style=\"background: #feca74; padding: 0.45em 0.6em; margin: 0 0.25em; line-height: 1; border-radius: 0.35em;\">\\n    Netflix\\n    <span style=\"font-size: 0.8em; font-weight: bold; line-height: 1; border-radius: 0.35em; text-transform: uppercase; vertical-align: middle; margin-left: 0.5rem\">GPE</span>\\n</mark>\\n, which had recently signed them to a multiyear, \\n<mark class=\"entity\" style=\"background: #e4e7d2; padding: 0.45em 0.6em; margin: 0 0.25em; line-height: 1; border-radius: 0.35em;\">\\n    $250 million\\n    <span style=\"font-size: 0.8em; font-weight: bold; line-height: 1; border-radius: 0.35em; text-transform: uppercase; vertical-align: middle; margin-left: 0.5rem\">MONEY</span>\\n</mark>\\n film and TV deal. &quot;We love Star Wars. When \\n<mark class=\"entity\" style=\"background: #aa9cfc; padding: 0.45em 0.6em; margin: 0 0.25em; line-height: 1; border-radius: 0.35em;\">\\n    George Lucas\\n    <span style=\"font-size: 0.8em; font-weight: bold; line-height: 1; border-radius: 0.35em; text-transform: uppercase; vertical-align: middle; margin-left: 0.5rem\">PERSON</span>\\n</mark>\\n built it, he built us too,&quot; the duo said in a statement. </br></br>&quot;Getting to talk about \\n<mark class=\"entity\" style=\"background: #f0d0ff; padding: 0.45em 0.6em; margin: 0 0.25em; line-height: 1; border-radius: 0.35em;\">\\n    Star Wars\\n    <span style=\"font-size: 0.8em; font-weight: bold; line-height: 1; border-radius: 0.35em; text-transform: uppercase; vertical-align: middle; margin-left: 0.5rem\">WORK_OF_ART</span>\\n</mark>\\n with him and the current \\n<mark class=\"entity\" style=\"background: #f0d0ff; padding: 0.45em 0.6em; margin: 0 0.25em; line-height: 1; border-radius: 0.35em;\">\\n    Star Wars\\n    <span style=\"font-size: 0.8em; font-weight: bold; line-height: 1; border-radius: 0.35em; text-transform: uppercase; vertical-align: middle; margin-left: 0.5rem\">WORK_OF_ART</span>\\n</mark>\\n team was the thrill of a lifetime, and we will always be indebted to the saga that changed everything. But there are \\n<mark class=\"entity\" style=\"background: #bfe1d9; padding: 0.45em 0.6em; margin: 0 0.25em; line-height: 1; border-radius: 0.35em;\">\\n    only so many hours\\n    <span style=\"font-size: 0.8em; font-weight: bold; line-height: 1; border-radius: 0.35em; text-transform: uppercase; vertical-align: middle; margin-left: 0.5rem\">TIME</span>\\n</mark>\\n in the day, and we felt we could not do justice to both \\n<mark class=\"entity\" style=\"background: #aa9cfc; padding: 0.45em 0.6em; margin: 0 0.25em; line-height: 1; border-radius: 0.35em;\">\\n    Star Wars\\n    <span style=\"font-size: 0.8em; font-weight: bold; line-height: 1; border-radius: 0.35em; text-transform: uppercase; vertical-align: middle; margin-left: 0.5rem\">PERSON</span>\\n</mark>\\n and our \\n<mark class=\"entity\" style=\"background: #aa9cfc; padding: 0.45em 0.6em; margin: 0 0.25em; line-height: 1; border-radius: 0.35em;\">\\n    Netflix\\n    <span style=\"font-size: 0.8em; font-weight: bold; line-height: 1; border-radius: 0.35em; text-transform: uppercase; vertical-align: middle; margin-left: 0.5rem\">PERSON</span>\\n</mark>\\n projects. So we are regretfully stepping away.&quot;</br></br>It’s that “regretfully” that hangs in the air. Surely they will regret not getting to make \\n<mark class=\"entity\" style=\"background: #e4e7d2; padding: 0.45em 0.6em; margin: 0 0.25em; line-height: 1; border-radius: 0.35em;\">\\n    three\\n    <span style=\"font-size: 0.8em; font-weight: bold; line-height: 1; border-radius: 0.35em; text-transform: uppercase; vertical-align: middle; margin-left: 0.5rem\">CARDINAL</span>\\n</mark>\\n movies for the franchise. But it’s also possible there’s another adjective at play: &quot;begrudgingly.&quot; The duo has come under fire in \\n<mark class=\"entity\" style=\"background: #bfe1d9; padding: 0.45em 0.6em; margin: 0 0.25em; line-height: 1; border-radius: 0.35em;\">\\n    recent days\\n    <span style=\"font-size: 0.8em; font-weight: bold; line-height: 1; border-radius: 0.35em; text-transform: uppercase; vertical-align: middle; margin-left: 0.5rem\">DATE</span>\\n</mark>\\n after appearing on a fan panel and basically admitting they had no clue what they were doing when making \\n<mark class=\"entity\" style=\"background: #f0d0ff; padding: 0.45em 0.6em; margin: 0 0.25em; line-height: 1; border-radius: 0.35em;\">\\n    Game of Thrones\\n    <span style=\"font-size: 0.8em; font-weight: bold; line-height: 1; border-radius: 0.35em; text-transform: uppercase; vertical-align: middle; margin-left: 0.5rem\">WORK_OF_ART</span>\\n</mark>\\n. This came after \\n<mark class=\"entity\" style=\"background: #bfe1d9; padding: 0.45em 0.6em; margin: 0 0.25em; line-height: 1; border-radius: 0.35em;\">\\n    months\\n    <span style=\"font-size: 0.8em; font-weight: bold; line-height: 1; border-radius: 0.35em; text-transform: uppercase; vertical-align: middle; margin-left: 0.5rem\">DATE</span>\\n</mark>\\n of fan outcry over, well, how badly the show ended. And who could forget \\n<mark class=\"entity\" style=\"background: #7aecec; padding: 0.45em 0.6em; margin: 0 0.25em; line-height: 1; border-radius: 0.35em;\">\\n    Comic-Con International\\n    <span style=\"font-size: 0.8em; font-weight: bold; line-height: 1; border-radius: 0.35em; text-transform: uppercase; vertical-align: middle; margin-left: 0.5rem\">ORG</span>\\n</mark>\\n, when \\n<mark class=\"entity\" style=\"background: #7aecec; padding: 0.45em 0.6em; margin: 0 0.25em; line-height: 1; border-radius: 0.35em;\">\\n    Benioff\\n    <span style=\"font-size: 0.8em; font-weight: bold; line-height: 1; border-radius: 0.35em; text-transform: uppercase; vertical-align: middle; margin-left: 0.5rem\">ORG</span>\\n</mark>\\n and \\n<mark class=\"entity\" style=\"background: #aa9cfc; padding: 0.45em 0.6em; margin: 0 0.25em; line-height: 1; border-radius: 0.35em;\">\\n    Weiss\\n    <span style=\"font-size: 0.8em; font-weight: bold; line-height: 1; border-radius: 0.35em; text-transform: uppercase; vertical-align: middle; margin-left: 0.5rem\">PERSON</span>\\n</mark>\\n canceled their appearance on a GoT panel only to have the cast endure, essentially, an apology tour. (Highlight: There was a person in the audience, dressed as \\n<mark class=\"entity\" style=\"background: #ddd; padding: 0.45em 0.6em; margin: 0 0.25em; line-height: 1; border-radius: 0.35em;\">\\n    the Night King\\n    <span style=\"font-size: 0.8em; font-weight: bold; line-height: 1; border-radius: 0.35em; text-transform: uppercase; vertical-align: middle; margin-left: 0.5rem\">FAC</span>\\n</mark>\\n, with a dagger marked “\\n<mark class=\"entity\" style=\"background: #f0d0ff; padding: 0.45em 0.6em; margin: 0 0.25em; line-height: 1; border-radius: 0.35em;\">\\n    Star Wars\\n    <span style=\"font-size: 0.8em; font-weight: bold; line-height: 1; border-radius: 0.35em; text-transform: uppercase; vertical-align: middle; margin-left: 0.5rem\">WORK_OF_ART</span>\\n</mark>\\n” in their gut—a nod to either Lucasfilm obligations taking energy away from \\n<mark class=\"entity\" style=\"background: #bfe1d9; padding: 0.45em 0.6em; margin: 0 0.25em; line-height: 1; border-radius: 0.35em;\">\\n    the final season\\n    <span style=\"font-size: 0.8em; font-weight: bold; line-height: 1; border-radius: 0.35em; text-transform: uppercase; vertical-align: middle; margin-left: 0.5rem\">DATE</span>\\n</mark>\\n, or \\n<mark class=\"entity\" style=\"background: #aa9cfc; padding: 0.45em 0.6em; margin: 0 0.25em; line-height: 1; border-radius: 0.35em;\">\\n    Arya\\n    <span style=\"font-size: 0.8em; font-weight: bold; line-height: 1; border-radius: 0.35em; text-transform: uppercase; vertical-align: middle; margin-left: 0.5rem\">PERSON</span>\\n</mark>\\n stealing one of \\n<mark class=\"entity\" style=\"background: #aa9cfc; padding: 0.45em 0.6em; margin: 0 0.25em; line-height: 1; border-radius: 0.35em;\">\\n    Rey\\n    <span style=\"font-size: 0.8em; font-weight: bold; line-height: 1; border-radius: 0.35em; text-transform: uppercase; vertical-align: middle; margin-left: 0.5rem\">PERSON</span>\\n</mark>\\n’s sword moves, hard to tell.) Some fans have been worried about what \\n<mark class=\"entity\" style=\"background: #7aecec; padding: 0.45em 0.6em; margin: 0 0.25em; line-height: 1; border-radius: 0.35em;\">\\n    Benioff and Weiss\\n    <span style=\"font-size: 0.8em; font-weight: bold; line-height: 1; border-radius: 0.35em; text-transform: uppercase; vertical-align: middle; margin-left: 0.5rem\">ORG</span>\\n</mark>\\n would do with the keys to their beloved \\n<mark class=\"entity\" style=\"background: #f0d0ff; padding: 0.45em 0.6em; margin: 0 0.25em; line-height: 1; border-radius: 0.35em;\">\\n    Star Wars\\n    <span style=\"font-size: 0.8em; font-weight: bold; line-height: 1; border-radius: 0.35em; text-transform: uppercase; vertical-align: middle; margin-left: 0.5rem\">WORK_OF_ART</span>\\n</mark>\\n kingdom for a while; perhaps the pair walking away is the best for all involved.</br></br>Of course, holding on to a job as a Star Wars director is notoriously difficult under any circumstances. Just ask \\n<mark class=\"entity\" style=\"background: #aa9cfc; padding: 0.45em 0.6em; margin: 0 0.25em; line-height: 1; border-radius: 0.35em;\">\\n    Colin Trevorrow\\n    <span style=\"font-size: 0.8em; font-weight: bold; line-height: 1; border-radius: 0.35em; text-transform: uppercase; vertical-align: middle; margin-left: 0.5rem\">PERSON</span>\\n</mark>\\n. And \\n<mark class=\"entity\" style=\"background: #aa9cfc; padding: 0.45em 0.6em; margin: 0 0.25em; line-height: 1; border-radius: 0.35em;\">\\n    Phil Lord\\n    <span style=\"font-size: 0.8em; font-weight: bold; line-height: 1; border-radius: 0.35em; text-transform: uppercase; vertical-align: middle; margin-left: 0.5rem\">PERSON</span>\\n</mark>\\n, \\n<mark class=\"entity\" style=\"background: #aa9cfc; padding: 0.45em 0.6em; margin: 0 0.25em; line-height: 1; border-radius: 0.35em;\">\\n    Chris Miller\\n    <span style=\"font-size: 0.8em; font-weight: bold; line-height: 1; border-radius: 0.35em; text-transform: uppercase; vertical-align: middle; margin-left: 0.5rem\">PERSON</span>\\n</mark>\\n, or \\n<mark class=\"entity\" style=\"background: #aa9cfc; padding: 0.45em 0.6em; margin: 0 0.25em; line-height: 1; border-radius: 0.35em;\">\\n    Josh Trank\\n    <span style=\"font-size: 0.8em; font-weight: bold; line-height: 1; border-radius: 0.35em; text-transform: uppercase; vertical-align: middle; margin-left: 0.5rem\">PERSON</span>\\n</mark>\\n. But considering the Benioff and Weiss contribution was slated to come next after this \\n<mark class=\"entity\" style=\"background: #bfe1d9; padding: 0.45em 0.6em; margin: 0 0.25em; line-height: 1; border-radius: 0.35em;\">\\n    December\\n    <span style=\"font-size: 0.8em; font-weight: bold; line-height: 1; border-radius: 0.35em; text-transform: uppercase; vertical-align: middle; margin-left: 0.5rem\">DATE</span>\\n</mark>\\n’s \\n<mark class=\"entity\" style=\"background: #f0d0ff; padding: 0.45em 0.6em; margin: 0 0.25em; line-height: 1; border-radius: 0.35em;\">\\n    Star Wars:\\n    <span style=\"font-size: 0.8em; font-weight: bold; line-height: 1; border-radius: 0.35em; text-transform: uppercase; vertical-align: middle; margin-left: 0.5rem\">WORK_OF_ART</span>\\n</mark>\\n The Rise of Skywalker the timing does seem abrupt, especially when paired with the news about the panel and the fact that the duo made their deal with \\n<mark class=\"entity\" style=\"background: #7aecec; padding: 0.45em 0.6em; margin: 0 0.25em; line-height: 1; border-radius: 0.35em;\">\\n    Netflix\\n    <span style=\"font-size: 0.8em; font-weight: bold; line-height: 1; border-radius: 0.35em; text-transform: uppercase; vertical-align: middle; margin-left: 0.5rem\">ORG</span>\\n</mark>\\n after they made \\n<mark class=\"entity\" style=\"background: #e4e7d2; padding: 0.45em 0.6em; margin: 0 0.25em; line-height: 1; border-radius: 0.35em;\">\\n    one\\n    <span style=\"font-size: 0.8em; font-weight: bold; line-height: 1; border-radius: 0.35em; text-transform: uppercase; vertical-align: middle; margin-left: 0.5rem\">CARDINAL</span>\\n</mark>\\n with \\n<mark class=\"entity\" style=\"background: #feca74; padding: 0.45em 0.6em; margin: 0 0.25em; line-height: 1; border-radius: 0.35em;\">\\n    Lucasfilm\\n    <span style=\"font-size: 0.8em; font-weight: bold; line-height: 1; border-radius: 0.35em; text-transform: uppercase; vertical-align: middle; margin-left: 0.5rem\">GPE</span>\\n</mark>\\n. If they were feeling overclocked, why not drop the \\n<mark class=\"entity\" style=\"background: #7aecec; padding: 0.45em 0.6em; margin: 0 0.25em; line-height: 1; border-radius: 0.35em;\">\\n    Netflix\\n    <span style=\"font-size: 0.8em; font-weight: bold; line-height: 1; border-radius: 0.35em; text-transform: uppercase; vertical-align: middle; margin-left: 0.5rem\">ORG</span>\\n</mark>\\n deal instead of the Lucasfilm one? (And yes, the answer here could be “truckloads of money.&quot;)</br></br>Regardless, this might be the smartest move Benioff and Weiss could have made. If their comments over \\n<mark class=\"entity\" style=\"background: #bfe1d9; padding: 0.45em 0.6em; margin: 0 0.25em; line-height: 1; border-radius: 0.35em;\">\\n    the past couple days\\n    <span style=\"font-size: 0.8em; font-weight: bold; line-height: 1; border-radius: 0.35em; text-transform: uppercase; vertical-align: middle; margin-left: 0.5rem\">DATE</span>\\n</mark>\\n proved anything, it’s that they can get in over their heads, and their sensitivity to fan reactions and source-material fealty can be rather lacking. This would not have boded well for a Star Wars trilogy. And maybe working at \\n<mark class=\"entity\" style=\"background: #feca74; padding: 0.45em 0.6em; margin: 0 0.25em; line-height: 1; border-radius: 0.35em;\">\\n    Netflix\\n    <span style=\"font-size: 0.8em; font-weight: bold; line-height: 1; border-radius: 0.35em; text-transform: uppercase; vertical-align: middle; margin-left: 0.5rem\">GPE</span>\\n</mark>\\n, where they can develop original IP instead of existing properties, will relieve some pressure. Moreover, if completing the final season of Game of Thrones while also working on other projects contributed to that final season\\'s failings, then there’s no way the pair could have balanced Lucasfilm and \\n<mark class=\"entity\" style=\"background: #feca74; padding: 0.45em 0.6em; margin: 0 0.25em; line-height: 1; border-radius: 0.35em;\">\\n    Netflix\\n    <span style=\"font-size: 0.8em; font-weight: bold; line-height: 1; border-radius: 0.35em; text-transform: uppercase; vertical-align: middle; margin-left: 0.5rem\">GPE</span>\\n</mark>\\n with much success.</div>'"
            ]
          },
          "execution_count": 16,
          "metadata": {
            "tags": []
          },
          "output_type": "execute_result"
        }
      ],
      "source": [
        "sent_5 = nlp(\"\"\"The headline shouted that it was a “shocker.” Last night, The Hollywood Reporter posted a story revealing that David Benioff and D.B. Weiss, the creators behind the Game of Thrones television adaptation, were ending their creative partnership with Lucasfilm—effective immediately. A year and half ago, the studio announced it had asked the pair to create a trilogy of Star Wars films, set to start rolling out in late 2022. That's no longer happening. It's over. \n",
        "\n",
        "Benioff and Weiss, it seemed, couldn’t balance the demands of the trilogy with their responsibilities at Netflix, which had recently signed them to a multiyear, $250 million film and TV deal. \"We love Star Wars. When George Lucas built it, he built us too,\" the duo said in a statement. \n",
        "\n",
        "\"Getting to talk about Star Wars with him and the current Star Wars team was the thrill of a lifetime, and we will always be indebted to the saga that changed everything. But there are only so many hours in the day, and we felt we could not do justice to both Star Wars and our Netflix projects. So we are regretfully stepping away.\"\n",
        "\n",
        "It’s that “regretfully” that hangs in the air. Surely they will regret not getting to make three movies for the franchise. But it’s also possible there’s another adjective at play: \"begrudgingly.\" The duo has come under fire in recent days after appearing on a fan panel and basically admitting they had no clue what they were doing when making Game of Thrones. This came after months of fan outcry over, well, how badly the show ended. And who could forget Comic-Con International, when Benioff and Weiss canceled their appearance on a GoT panel only to have the cast endure, essentially, an apology tour. (Highlight: There was a person in the audience, dressed as the Night King, with a dagger marked “Star Wars” in their gut—a nod to either Lucasfilm obligations taking energy away from the final season, or Arya stealing one of Rey’s sword moves, hard to tell.) Some fans have been worried about what Benioff and Weiss would do with the keys to their beloved Star Wars kingdom for a while; perhaps the pair walking away is the best for all involved.\n",
        "\n",
        "Of course, holding on to a job as a Star Wars director is notoriously difficult under any circumstances. Just ask Colin Trevorrow. And Phil Lord, Chris Miller, or Josh Trank. But considering the Benioff and Weiss contribution was slated to come next after this December’s Star Wars: The Rise of Skywalker the timing does seem abrupt, especially when paired with the news about the panel and the fact that the duo made their deal with Netflix after they made one with Lucasfilm. If they were feeling overclocked, why not drop the Netflix deal instead of the Lucasfilm one? (And yes, the answer here could be “truckloads of money.\")\n",
        "\n",
        "Regardless, this might be the smartest move Benioff and Weiss could have made. If their comments over the past couple days proved anything, it’s that they can get in over their heads, and their sensitivity to fan reactions and source-material fealty can be rather lacking. This would not have boded well for a Star Wars trilogy. And maybe working at Netflix, where they can develop original IP instead of existing properties, will relieve some pressure. Moreover, if completing the final season of Game of Thrones while also working on other projects contributed to that final season's failings, then there’s no way the pair could have balanced Lucasfilm and Netflix with much success.\"\"\")\n",
        "\n",
        "for ent in sent_5.ents:\n",
        "    print(ent.text, ent.label_)\n",
        "    \n",
        "displacy.render(sent_5, style=\"ent\")"
      ]
    },
    {
      "cell_type": "markdown",
      "metadata": {
        "id": "HOIQL7f-x5Dx"
      },
      "source": [
        "### Training the NER\n",
        "\n",
        "(1) 기존 spacy 모델에 패턴 추가\n"
      ]
    },
    {
      "cell_type": "code",
      "execution_count": null,
      "metadata": {
        "colab": {
          "base_uri": "https://localhost:8080/",
          "height": 35
        },
        "id": "xtDlyRRwx5Dz",
        "outputId": "c1a50cc3-7896-473a-bf66-3b07a5c101f0"
      },
      "outputs": [
        {
          "name": "stdout",
          "output_type": "stream",
          "text": [
            "[('Apple', 'ORG'), ('first', 'ORDINAL'), ('San Francisco', 'GPE')]\n"
          ]
        }
      ],
      "source": [
        "from spacy.pipeline import EntityRuler\n",
        "\n",
        "nlp = spacy.load(\"en_core_web_sm\")\n",
        "ruler = EntityRuler(nlp)\n",
        "patterns = [{\"label\": \"ORG\", \"pattern\": \"Apple\"},\n",
        "            {\"label\": \"GPE\", \"pattern\": [{\"LOWER\": \"san\"}, {\"LOWER\": \"francisco\"}]}]\n",
        "ruler.add_patterns(patterns)\n",
        "nlp.add_pipe(ruler)\n",
        "\n",
        "doc = nlp(\"Apple is opening its first big office in San Francisco.\")\n",
        "print([(ent.text, ent.label_) for ent in doc.ents])"
      ]
    },
    {
      "cell_type": "markdown",
      "metadata": {
        "id": "-SfywLGqx5D2"
      },
      "source": [
        "(2) expand named entities"
      ]
    },
    {
      "cell_type": "code",
      "execution_count": null,
      "metadata": {
        "colab": {
          "base_uri": "https://localhost:8080/",
          "height": 35
        },
        "id": "sTuheZAxx5D2",
        "outputId": "effb656e-1fed-4bae-fcb3-8bee83ba3f4e"
      },
      "outputs": [
        {
          "name": "stdout",
          "output_type": "stream",
          "text": [
            "[('Dr Alex Smith', 'PERSON'), ('Acme Corp Inc.', 'ORG')]\n"
          ]
        }
      ],
      "source": [
        "import spacy\n",
        "from spacy.tokens import Span\n",
        "\n",
        "nlp = spacy.load(\"en_core_web_sm\")\n",
        "\n",
        "def expand_person_entities(doc):\n",
        "    new_ents = []\n",
        "    for ent in doc.ents:\n",
        "        if ent.label_ == \"PERSON\" and ent.start != 0:\n",
        "            prev_token = doc[ent.start - 1]\n",
        "            if prev_token.text in (\"Dr\", \"Dr.\", \"Mr\", \"Mr.\", \"Ms\", \"Ms.\"):\n",
        "                new_ent = Span(doc, ent.start - 1, ent.end, label=ent.label)\n",
        "                new_ents.append(new_ent)\n",
        "        else:\n",
        "            new_ents.append(ent)\n",
        "    doc.ents = new_ents\n",
        "    return doc\n",
        "\n",
        "# Add the component after the named entity recognizer\n",
        "nlp.add_pipe(expand_person_entities, after='ner')\n",
        "\n",
        "doc = nlp(\"Dr Alex Smith chaired first board meeting of Acme Corp Inc.\")\n",
        "print([(ent.text, ent.label_) for ent in doc.ents])"
      ]
    },
    {
      "cell_type": "markdown",
      "metadata": {
        "id": "wkwVQiJ7x5D5"
      },
      "source": [
        "(3) 기존 인식기에 추가 학습"
      ]
    },
    {
      "cell_type": "code",
      "execution_count": null,
      "metadata": {
        "colab": {
          "base_uri": "https://localhost:8080/",
          "height": 1000
        },
        "id": "LS0aYpL4x5D6",
        "outputId": "3522690e-4fb9-4e99-c518-af7ae82a1e52"
      },
      "outputs": [
        {
          "name": "stdout",
          "output_type": "stream",
          "text": [
            "{'ner': 6.210150019304198}\n",
            "{'ner': 4.850487710935909}\n",
            "{'ner': 5.009188608604415}\n",
            "{'ner': 6.174629298425465}\n",
            "{'ner': 3.0059310746545163}\n",
            "{'ner': 2.995423349671131}\n",
            "{'ner': 5.169792274657043}\n",
            "{'ner': 3.0083625819794086}\n",
            "{'ner': 3.1161903056572076}\n",
            "{'ner': 3.186210295030383}\n",
            "{'ner': 4.029454879440642}\n",
            "{'ner': 3.308855783462222}\n",
            "{'ner': 0.03642063082737068}\n",
            "{'ner': 0.41819318360473473}\n",
            "{'ner': 0.8274911153399278}\n",
            "{'ner': 1.1703071990309606}\n",
            "{'ner': 1.9529164935833763}\n",
            "{'ner': 0.15961534342235215}\n",
            "{'ner': 1.667982979222173}\n",
            "{'ner': 1.9233957946752664}\n",
            "{'ner': 0.0018046652391386364}\n",
            "{'ner': 0.0005173498671959542}\n",
            "{'ner': 0.0003820437711794522}\n",
            "{'ner': 2.71118986877681e-07}\n",
            "{'ner': 0.00047338867914748964}\n",
            "{'ner': 0.04399696938457097}\n",
            "{'ner': 0.040805306389999796}\n",
            "{'ner': 0.0009800626092834888}\n",
            "{'ner': 2.8425022656205186e-05}\n",
            "{'ner': 4.678657758457661e-05}\n",
            "{'ner': 4.618235056953816e-05}\n",
            "{'ner': 0.0028995699893699586}\n",
            "{'ner': 4.849336320178931e-06}\n",
            "{'ner': 9.605851113784262e-05}\n",
            "{'ner': 0.0010146223841128186}\n",
            "{'ner': 0.4423855795412633}\n",
            "{'ner': 1.3229674133098137e-08}\n",
            "{'ner': 3.916700337231107e-05}\n",
            "{'ner': 2.514055059272984e-07}\n",
            "{'ner': 1.525000950248594e-08}\n",
            "{'ner': 0.04439535250949534}\n",
            "{'ner': 7.427943472386353e-07}\n",
            "{'ner': 2.0439801742430815e-05}\n",
            "{'ner': 0.001177923340004718}\n",
            "{'ner': 3.4367211411149166e-07}\n",
            "{'ner': 1.517272369691601e-06}\n",
            "{'ner': 9.101310750933545e-09}\n",
            "{'ner': 0.0003767980710837134}\n",
            "{'ner': 4.0314659974055853e-07}\n",
            "{'ner': 0.00040413476488389825}\n",
            "{'ner': 3.054192637999176e-08}\n",
            "{'ner': 1.5929038539791137e-08}\n",
            "{'ner': 2.2079812385973454e-07}\n",
            "{'ner': 3.926081441842709e-07}\n",
            "{'ner': 9.47170933234949e-06}\n",
            "{'ner': 3.565888026156711e-05}\n",
            "{'ner': 1.9016466935964878e-05}\n",
            "{'ner': 3.525085262100678e-08}\n",
            "{'ner': 9.987149890476268e-09}\n",
            "{'ner': 2.159717689593769e-05}\n",
            "{'ner': 2.0442666330554996e-07}\n",
            "{'ner': 1.7643559356647013e-09}\n",
            "{'ner': 7.129060380476433e-05}\n",
            "{'ner': 0.0040729545528218865}\n",
            "{'ner': 0.00010814070424075401}\n",
            "{'ner': 0.01359145816978773}\n",
            "{'ner': 0.008454897687629257}\n",
            "{'ner': 1.9498154947295188e-08}\n",
            "{'ner': 1.101239799056039e-05}\n",
            "{'ner': 3.9137810822430784e-08}\n",
            "{'ner': 0.0010182812063503634}\n",
            "{'ner': 9.008644691092854e-08}\n",
            "{'ner': 3.3998021898660495e-09}\n",
            "{'ner': 1.3993952175885884e-06}\n",
            "{'ner': 9.31045478015617e-08}\n",
            "{'ner': 5.879271412231567e-06}\n",
            "{'ner': 2.0525382425728597e-10}\n",
            "{'ner': 0.0007819326404066375}\n",
            "{'ner': 8.217951716727481e-12}\n",
            "{'ner': 3.54821308419676e-10}\n",
            "{'ner': 3.2470461619475464e-09}\n",
            "{'ner': 9.323375083095571e-10}\n",
            "{'ner': 2.9479309651323223e-09}\n",
            "{'ner': 2.955839666541623e-11}\n",
            "{'ner': 2.740677414011941e-09}\n",
            "{'ner': 1.40602115564057e-08}\n",
            "{'ner': 2.506263933671017e-07}\n",
            "{'ner': 3.850872571191109e-06}\n",
            "{'ner': 2.753132121677464e-08}\n",
            "{'ner': 1.5149834840280492e-05}\n",
            "{'ner': 9.166122947126085e-10}\n",
            "{'ner': 6.62701437890683e-07}\n",
            "{'ner': 6.293538972235267e-08}\n",
            "{'ner': 1.5608974166957297e-06}\n",
            "{'ner': 5.337188469565432e-11}\n",
            "{'ner': 1.7075619615207158e-08}\n",
            "{'ner': 1.7842820829458045e-09}\n",
            "{'ner': 0.10296911055788986}\n",
            "{'ner': 5.644791264375888e-08}\n",
            "{'ner': 1.46807408462676e-08}\n",
            "Entities [('Shaka Khan', 'PERSON')]\n",
            "Tokens [('Who', '', 2), ('is', '', 2), ('Shaka', 'PERSON', 3), ('Khan', 'PERSON', 1), ('?', '', 2)]\n",
            "Entities [('London', 'LOC'), ('Berlin', 'LOC')]\n",
            "Tokens [('I', '', 2), ('like', '', 2), ('London', 'LOC', 3), ('and', '', 2), ('Berlin', 'LOC', 3), ('.', '', 2)]\n"
          ]
        }
      ],
      "source": [
        "import random\n",
        "from pathlib import Path\n",
        "\n",
        "# training data\n",
        "TRAIN_DATA = [\n",
        "    ('Who is Shaka Khan?', {\n",
        "        'entities': [(7, 17, 'PERSON')]\n",
        "    }),\n",
        "    ('I like London and Berlin.', {\n",
        "        'entities': [(7, 13, 'LOC'), (18, 24, 'LOC')]\n",
        "    })\n",
        "]\n",
        "\n",
        "\n",
        "nlp = spacy.load('en')  \n",
        "\n",
        "# create the built-in pipeline components and add them to the pipeline\n",
        "# nlp.create_pipe works for built-ins that are registered with spaCy\n",
        "if 'ner' not in nlp.pipe_names:\n",
        "    ner = nlp.create_pipe('ner')\n",
        "    nlp.add_pipe(ner, last=True)\n",
        "# otherwise, get it so we can add labels\n",
        "else:\n",
        "    ner = nlp.get_pipe('ner')\n",
        "    \n",
        "# add labels\n",
        "for _, annotations in TRAIN_DATA:\n",
        "    for ent in annotations.get('entities'):\n",
        "        ner.add_label(ent[2])\n",
        "        \n",
        "# get names of other pipes to disable them during training\n",
        "other_pipes = [pipe for pipe in nlp.pipe_names if pipe != 'ner']\n",
        "with nlp.disable_pipes(*other_pipes):  # only train NER\n",
        "    optimizer = nlp.begin_training()\n",
        "    n_iter=100\n",
        "    for itn in range(n_iter):\n",
        "        random.shuffle(TRAIN_DATA)\n",
        "        losses = {}\n",
        "        for text, annotations in TRAIN_DATA:\n",
        "            nlp.update(\n",
        "                [text],  # batch of texts\n",
        "                [annotations],  # batch of annotations\n",
        "                drop=0.5,  # dropout - make it harder to memorise data\n",
        "                sgd=optimizer,  # callable to update weights\n",
        "                losses=losses)\n",
        "        print(losses)\n",
        "\n",
        "        \n",
        "# test the trained model\n",
        "for text, _ in TRAIN_DATA:\n",
        "    doc = nlp(text)\n",
        "    print('Entities', [(ent.text, ent.label_) for ent in doc.ents])\n",
        "    print('Tokens', [(t.text, t.ent_type_, t.ent_iob) for t in doc])\n",
        "    displacy.render(doc, style=\"ent\")"
      ]
    },
    {
      "cell_type": "markdown",
      "metadata": {
        "id": "MaGwt4l-x5D8"
      },
      "source": [
        "(4) 새로운 클래스 추가"
      ]
    },
    {
      "cell_type": "code",
      "execution_count": null,
      "metadata": {
        "colab": {
          "base_uri": "https://localhost:8080/",
          "height": 433
        },
        "id": "2cPapcumx5D9",
        "outputId": "fff8b68e-6be7-4d4d-83f1-f24d6a8da39c"
      },
      "outputs": [
        {
          "name": "stdout",
          "output_type": "stream",
          "text": [
            "{'ner': 34.06758803129196}\n",
            "{'ner': 17.932321183383465}\n",
            "{'ner': 8.821770744551031}\n",
            "{'ner': 8.47784704719379}\n",
            "{'ner': 6.543694684369257}\n",
            "{'ner': 4.3456425630283775}\n",
            "{'ner': 2.84482912352496}\n",
            "{'ner': 1.649779978635613}\n",
            "{'ner': 1.7697365992087197}\n",
            "{'ner': 0.1253457124881774}\n",
            "{'ner': 0.004918362663863965}\n",
            "{'ner': 0.018202266425388084}\n",
            "{'ner': 7.472267381481844e-05}\n",
            "{'ner': 0.001682292842354709}\n",
            "{'ner': 0.00012776769256449407}\n",
            "{'ner': 1.6824756740793738e-06}\n",
            "{'ner': 2.288520355395521e-06}\n",
            "{'ner': 1.8836218978294126e-05}\n",
            "{'ner': 6.151969344300055e-07}\n",
            "{'ner': 0.0004810053671555329}\n",
            "Entities in 'Do you like horses?'\n"
          ]
        },
        {
          "data": {
            "text/plain": [
              "'<div class=\"entities\" style=\"line-height: 2.5; direction: ltr\">Do you like \\n<mark class=\"entity\" style=\"background: #ddd; padding: 0.45em 0.6em; margin: 0 0.25em; line-height: 1; border-radius: 0.35em;\">\\n    horses\\n    <span style=\"font-size: 0.8em; font-weight: bold; line-height: 1; border-radius: 0.35em; text-transform: uppercase; vertical-align: middle; margin-left: 0.5rem\">ANIMAL</span>\\n</mark>\\n?</div>'"
            ]
          },
          "execution_count": 20,
          "metadata": {
            "tags": []
          },
          "output_type": "execute_result"
        }
      ],
      "source": [
        "# new entity label\n",
        "LABEL = 'ANIMAL'\n",
        "\n",
        "# training data\n",
        "# Note: If you're using an existing model, make sure to mix in examples of\n",
        "# other entity types that spaCy correctly recognized before. Otherwise, your\n",
        "# model might learn the new type, but \"forget\" what it previously knew.\n",
        "# https://explosion.ai/blog/pseudo-rehearsal-catastrophic-forgetting\n",
        "TRAIN_DATA = [\n",
        "    (\"Horses are too tall and they pretend to care about your feelings\", {\n",
        "        'entities': [(0, 6, 'ANIMAL')]\n",
        "    }),\n",
        "\n",
        "    (\"Do they bite?\", {\n",
        "        'entities': []\n",
        "    }),\n",
        "\n",
        "    (\"horses are too tall and they pretend to care about your feelings\", {\n",
        "        'entities': [(0, 6, 'ANIMAL')]\n",
        "    }),\n",
        "\n",
        "    (\"horses pretend to care about your feelings\", {\n",
        "        'entities': [(0, 6, 'ANIMAL')]\n",
        "    }),\n",
        "\n",
        "    (\"they pretend to care about your feelings, those horses\", {\n",
        "        'entities': [(48, 54, 'ANIMAL')]\n",
        "    }),\n",
        "\n",
        "    (\"horses?\", {\n",
        "        'entities': [(0, 6, 'ANIMAL')]\n",
        "    })\n",
        "]\n",
        "\n",
        "\n",
        "nlp = spacy.blank('en')  # create blank Language class\n",
        "\n",
        "ner = nlp.create_pipe('ner')\n",
        "nlp.add_pipe(ner)\n",
        "\n",
        "ner.add_label(LABEL)   # add new entity label to entity recognizer\n",
        "\n",
        "optimizer = nlp.begin_training()\n",
        "n_iter=20\n",
        "for itn in range(n_iter):\n",
        "    random.shuffle(TRAIN_DATA)\n",
        "    losses = {}\n",
        "    for text, annotations in TRAIN_DATA:\n",
        "        nlp.update([text], [annotations], sgd=optimizer, drop=0.35,\n",
        "                   losses=losses)\n",
        "    print(losses)\n",
        "    \n",
        "test_text = 'Do you like horses?'\n",
        "doc = nlp(test_text)\n",
        "print(\"Entities in '%s'\" % test_text)\n",
        "\n",
        "displacy.render(doc, style=\"ent\")"
      ]
    },
    {
      "cell_type": "markdown",
      "metadata": {
        "id": "_B5vzYCBx5EA"
      },
      "source": [
        "Model 저장하기"
      ]
    },
    {
      "cell_type": "code",
      "execution_count": null,
      "metadata": {
        "colab": {
          "base_uri": "https://localhost:8080/",
          "height": 289
        },
        "id": "m5fafmg5x5EB",
        "outputId": "cf335775-bd26-4631-f1ad-90043b4dc727"
      },
      "outputs": [
        {
          "name": "stdout",
          "output_type": "stream",
          "text": [
            "Saved model to ner_trained_model\n",
            "Loading from ner_trained_model\n",
            "Entities [('horses', 'ANIMAL')]\n",
            "Tokens [('they', '', 2), ('pretend', '', 2), ('to', '', 2), ('care', '', 2), ('about', '', 2), ('your', '', 2), ('feelings', '', 2), (',', '', 2), ('those', '', 2), ('horses', 'ANIMAL', 3)]\n",
            "Entities [('Horses', 'ANIMAL')]\n",
            "Tokens [('Horses', 'ANIMAL', 3), ('are', '', 2), ('too', '', 2), ('tall', '', 2), ('and', '', 2), ('they', '', 2), ('pretend', '', 2), ('to', '', 2), ('care', '', 2), ('about', '', 2), ('your', '', 2), ('feelings', '', 2)]\n",
            "Entities [('horses', 'ANIMAL')]\n",
            "Tokens [('horses', 'ANIMAL', 3), ('pretend', '', 2), ('to', '', 2), ('care', '', 2), ('about', '', 2), ('your', '', 2), ('feelings', '', 2)]\n",
            "Entities []\n",
            "Tokens [('Do', '', 2), ('they', '', 2), ('bite', '', 2), ('?', '', 2)]\n",
            "Entities [('horses', 'ANIMAL')]\n",
            "Tokens [('horses', 'ANIMAL', 3), ('are', '', 2), ('too', '', 2), ('tall', '', 2), ('and', '', 2), ('they', '', 2), ('pretend', '', 2), ('to', '', 2), ('care', '', 2), ('about', '', 2), ('your', '', 2), ('feelings', '', 2)]\n",
            "Entities [('horses', 'ANIMAL')]\n",
            "Tokens [('horses', 'ANIMAL', 3), ('?', '', 2)]\n"
          ]
        }
      ],
      "source": [
        "# save model to output directory\n",
        "output_dir = \"ner_trained_model/\"\n",
        "\n",
        "if output_dir is not None:\n",
        "    output_dir = Path(output_dir)\n",
        "    if not output_dir.exists():\n",
        "        output_dir.mkdir()\n",
        "    nlp.to_disk(output_dir)\n",
        "    print(\"Saved model to\", output_dir)\n",
        "\n",
        "    # test the saved model\n",
        "    print(\"Loading from\", output_dir)\n",
        "    nlp2 = spacy.load(output_dir)\n",
        "    for text, _ in TRAIN_DATA:\n",
        "        doc = nlp2(text)\n",
        "        print('Entities', [(ent.text, ent.label_) for ent in doc.ents])\n",
        "        print('Tokens', [(t.text, t.ent_type_, t.ent_iob) for t in doc])"
      ]
    }
  ],
  "metadata": {
    "colab": {
      "collapsed_sections": [],
      "include_colab_link": true,
      "name": "Named Entity Recognition.ipynb",
      "provenance": []
    },
    "kernelspec": {
      "display_name": "Python 3.8.8 ('base')",
      "language": "python",
      "name": "python3"
    },
    "language_info": {
      "codemirror_mode": {
        "name": "ipython",
        "version": 3
      },
      "file_extension": ".py",
      "mimetype": "text/x-python",
      "name": "python",
      "nbconvert_exporter": "python",
      "pygments_lexer": "ipython3",
      "version": "3.8.8"
    },
    "vscode": {
      "interpreter": {
        "hash": "ad2bdc8ecc057115af97d19610ffacc2b4e99fae6737bb82f5d7fb13d2f2c186"
      }
    }
  },
  "nbformat": 4,
  "nbformat_minor": 0
}
