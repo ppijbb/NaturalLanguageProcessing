{
  "cells": [
    {
      "cell_type": "markdown",
      "metadata": {
        "colab_type": "text",
        "id": "view-in-github"
      },
      "source": [
        "<a href=\"https://colab.research.google.com/github/ppijbb/NLP_study/blob/main/pos.ipynb\" target=\"_parent\"><img src=\"https://colab.research.google.com/assets/colab-badge.svg\" alt=\"Open In Colab\"/></a>"
      ]
    },
    {
      "cell_type": "markdown",
      "metadata": {
        "id": "_x5V5YCshkdJ"
      },
      "source": [
        "\n",
        "### nltk\n"
      ]
    },
    {
      "cell_type": "code",
      "execution_count": null,
      "metadata": {
        "id": "jC0dZJmikDsg"
      },
      "outputs": [],
      "source": [
        "import nltk"
      ]
    },
    {
      "cell_type": "code",
      "execution_count": null,
      "metadata": {
        "colab": {
          "base_uri": "https://localhost:8080/",
          "height": 197
        },
        "id": "V_XBYG6BclLZ",
        "outputId": "12191232-afdd-4395-97e3-51cd0d25b363"
      },
      "outputs": [
        {
          "name": "stderr",
          "output_type": "stream",
          "text": [
            "[nltk_data] Downloading package averaged_perceptron_tagger to\n",
            "[nltk_data]     C:\\Users\\LENOVO\\AppData\\Roaming\\nltk_data...\n",
            "[nltk_data]   Unzipping taggers\\averaged_perceptron_tagger.zip.\n",
            "[nltk_data] Downloading package punkt to\n",
            "[nltk_data]     C:\\Users\\LENOVO\\AppData\\Roaming\\nltk_data...\n",
            "[nltk_data]   Unzipping tokenizers\\punkt.zip.\n"
          ]
        },
        {
          "data": {
            "text/plain": [
              "[('And', 'CC'),\n",
              " ('now', 'RB'),\n",
              " ('for', 'IN'),\n",
              " ('something', 'NN'),\n",
              " ('completely', 'RB'),\n",
              " ('different', 'JJ')]"
            ]
          },
          "execution_count": 2,
          "metadata": {
            "tags": []
          },
          "output_type": "execute_result"
        }
      ],
      "source": [
        "nltk.download('averaged_perceptron_tagger')\n",
        "nltk.download('punkt')\n",
        "text = nltk.word_tokenize(\"And now for something completely different\")\n",
        "nltk.pos_tag(text)"
      ]
    },
    {
      "cell_type": "code",
      "execution_count": null,
      "metadata": {
        "colab": {
          "base_uri": "https://localhost:8080/",
          "height": 683
        },
        "id": "WbbDY7fTj1Xo",
        "outputId": "88a71672-1cb7-4150-df5e-90f1873347dc"
      },
      "outputs": [
        {
          "name": "stderr",
          "output_type": "stream",
          "text": [
            "[nltk_data] Downloading package brown to\n",
            "[nltk_data]     C:\\Users\\LENOVO\\AppData\\Roaming\\nltk_data...\n",
            "[nltk_data]   Unzipping corpora\\brown.zip.\n"
          ]
        },
        {
          "data": {
            "text/plain": [
              "[('The', 'AT'),\n",
              " ('September-October', 'NP'),\n",
              " ('term', 'NN'),\n",
              " ('jury', 'NN'),\n",
              " ('had', 'HVD'),\n",
              " ('been', 'BEN'),\n",
              " ('charged', 'VBN'),\n",
              " ('by', 'IN'),\n",
              " ('Fulton', 'NP-TL'),\n",
              " ('Superior', 'JJ-TL'),\n",
              " ('Court', 'NN-TL'),\n",
              " ('Judge', 'NN-TL'),\n",
              " ('Durwood', 'NP'),\n",
              " ('Pye', 'NP'),\n",
              " ('to', 'TO'),\n",
              " ('investigate', 'VB'),\n",
              " ('reports', 'NNS'),\n",
              " ('of', 'IN'),\n",
              " ('possible', 'JJ'),\n",
              " ('``', '``'),\n",
              " ('irregularities', 'NNS'),\n",
              " (\"''\", \"''\"),\n",
              " ('in', 'IN'),\n",
              " ('the', 'AT'),\n",
              " ('hard-fought', 'JJ'),\n",
              " ('primary', 'NN'),\n",
              " ('which', 'WDT'),\n",
              " ('was', 'BEDZ'),\n",
              " ('won', 'VBN'),\n",
              " ('by', 'IN'),\n",
              " ('Mayor-nominate', 'NN-TL'),\n",
              " ('Ivan', 'NP'),\n",
              " ('Allen', 'NP'),\n",
              " ('Jr.', 'NP'),\n",
              " ('.', '.')]"
            ]
          },
          "execution_count": 3,
          "metadata": {
            "tags": []
          },
          "output_type": "execute_result"
        }
      ],
      "source": [
        "from nltk.corpus import brown\n",
        "nltk.download('brown')\n",
        "train_text = brown.tagged_sents(categories='news')[:500]\n",
        "bigram_tagger = nltk.BigramTagger(train_text)\n",
        "text = brown.sents()[2]\n",
        "bigram_tagger.tag(text)"
      ]
    },
    {
      "cell_type": "markdown",
      "metadata": {
        "id": "WppHMPiGh78p"
      },
      "source": [
        "### textblob"
      ]
    },
    {
      "cell_type": "code",
      "execution_count": null,
      "metadata": {
        "colab": {
          "base_uri": "https://localhost:8080/",
          "height": 125
        },
        "id": "AUo8kd5JgIjf",
        "outputId": "aa0dd224-62a9-40e8-fd1b-1a2b54bf8919"
      },
      "outputs": [
        {
          "data": {
            "text/plain": [
              "[('My', 'PRP$'),\n",
              " ('dog', 'NN'),\n",
              " ('also', 'RB'),\n",
              " ('likes', 'VBZ'),\n",
              " ('eating', 'JJ'),\n",
              " ('sausage', 'NN')]"
            ]
          },
          "execution_count": 5,
          "metadata": {
            "tags": []
          },
          "output_type": "execute_result"
        }
      ],
      "source": [
        "from textblob import TextBlob\n",
        "blob = TextBlob(\"My dog also likes eating sausage.\")\n",
        "blob.parse()\n",
        "blob.tags"
      ]
    },
    {
      "cell_type": "markdown",
      "metadata": {
        "id": "1SY7gDNCi8bK"
      },
      "source": [
        "### spaCy"
      ]
    },
    {
      "cell_type": "code",
      "execution_count": null,
      "metadata": {
        "colab": {
          "base_uri": "https://localhost:8080/",
          "height": 917
        },
        "id": "f-LVZN7Yi_4r",
        "outputId": "9920d256-80b8-457e-c9b0-f478f7deb5ef"
      },
      "outputs": [
        {
          "name": "stdout",
          "output_type": "stream",
          "text": [
            "Mathieu PROPN NNP\n",
            "and CCONJ CC\n",
            "I PRON PRP\n",
            "went VERB VBD\n",
            "to ADP IN\n",
            "the DET DT\n",
            "park NOUN NN\n",
            ". PUNCT .\n",
            "\n",
            "If SCONJ IN\n",
            "Clement PROPN NNP\n",
            "was AUX VBD\n",
            "asked VERB VBN\n",
            "to PART TO\n",
            "take VERB VB\n",
            "out ADP RP\n",
            "the DET DT\n",
            "garbage NOUN NN\n",
            ", PUNCT ,\n",
            "he PRON PRP\n",
            "would AUX MD\n",
            "refuse VERB VB\n",
            ". PUNCT .\n",
            "\n",
            "Baptiste PROPN NNP\n",
            "was AUX VBD\n",
            "in ADP IN\n",
            "charge NOUN NN\n",
            "of ADP IN\n",
            "the DET DT\n",
            "refuse PROPN NNP\n",
            "treatment NOUN NN\n",
            "center NOUN NN\n",
            ". PUNCT .\n",
            "\n",
            "Marie PROPN NNP\n",
            "took VERB VBD\n",
            "out ADP RP\n",
            "her PRON PRP$\n",
            "rather ADV RB\n",
            "suspicious ADJ JJ\n",
            "and CCONJ CC\n",
            "fishy ADJ JJ\n",
            "cat NOUN NN\n",
            "to PART TO\n",
            "fish VERB VB\n",
            "for ADP IN\n",
            "fish NOUN NN\n",
            ". PUNCT .\n",
            "\n"
          ]
        }
      ],
      "source": [
        "import spacy\n",
        "nlp = spacy.load('en')\n",
        "\n",
        "sent_0 = nlp(u'Mathieu and I went to the park.')\n",
        "sent_1 = nlp(u'If Clement was asked to take out the garbage, he would refuse.')\n",
        "sent_2 = nlp(u'Baptiste was in charge of the refuse treatment center.')\n",
        "sent_3 = nlp(u'Marie took out her rather suspicious and fishy cat to fish for fish.')\n",
        "\n",
        "for token in sent_0:\n",
        "    print(token.text, token.pos_, token.tag_)\n",
        "print()\n",
        "\n",
        "for token in sent_1:\n",
        "    print(token.text, token.pos_, token.tag_)\n",
        "print()\n",
        "\n",
        "for token in sent_2:\n",
        "    print(token.text, token.pos_, token.tag_)\n",
        "print()\n",
        "\n",
        "for token in sent_3:\n",
        "    print(token.text, token.pos_, token.tag_)\n",
        "print()"
      ]
    },
    {
      "cell_type": "markdown",
      "metadata": {
        "id": "hbhxT8Skr11R"
      },
      "source": [
        "### 구글드라이브 마운트 "
      ]
    },
    {
      "cell_type": "code",
      "execution_count": null,
      "metadata": {
        "colab": {
          "base_uri": "https://localhost:8080/",
          "height": 35
        },
        "id": "vzeWBrDuro7f",
        "outputId": "da038adc-0b89-4f10-b5bd-6fa9939e9444"
      },
      "outputs": [
        {
          "ename": "ModuleNotFoundError",
          "evalue": "No module named 'google.colab'",
          "output_type": "error",
          "traceback": [
            "\u001b[1;31m---------------------------------------------------------------------------\u001b[0m",
            "\u001b[1;31mModuleNotFoundError\u001b[0m                       Traceback (most recent call last)",
            "\u001b[1;32m<ipython-input-15-d5df0069828e>\u001b[0m in \u001b[0;36m<module>\u001b[1;34m\u001b[0m\n\u001b[1;32m----> 1\u001b[1;33m \u001b[1;32mfrom\u001b[0m \u001b[0mgoogle\u001b[0m\u001b[1;33m.\u001b[0m\u001b[0mcolab\u001b[0m \u001b[1;32mimport\u001b[0m \u001b[0mdrive\u001b[0m\u001b[1;33m\u001b[0m\u001b[1;33m\u001b[0m\u001b[0m\n\u001b[0m\u001b[0;32m      2\u001b[0m \u001b[0mdrive\u001b[0m\u001b[1;33m.\u001b[0m\u001b[0mmount\u001b[0m\u001b[1;33m(\u001b[0m\u001b[1;34m'/content/drive'\u001b[0m\u001b[1;33m)\u001b[0m\u001b[1;33m\u001b[0m\u001b[1;33m\u001b[0m\u001b[0m\n",
            "\u001b[1;31mModuleNotFoundError\u001b[0m: No module named 'google.colab'"
          ]
        }
      ],
      "source": [
        "from google.colab import drive\n",
        "drive.mount('/content/drive')"
      ]
    },
    {
      "cell_type": "markdown",
      "metadata": {
        "id": "WnD5EP2W2Kw8"
      },
      "source": [
        "### 품사태거 학습 \n",
        "https://github.com/explosion/spaCy"
      ]
    },
    {
      "cell_type": "code",
      "execution_count": null,
      "metadata": {
        "id": "hmpZsC53xZQG"
      },
      "outputs": [],
      "source": [
        "from pathlib import Path\n",
        "import random\n",
        "import spacy\n",
        "from spacy.util import minibatch, compounding"
      ]
    },
    {
      "cell_type": "code",
      "execution_count": null,
      "metadata": {
        "colab": {
          "base_uri": "https://localhost:8080/",
          "height": 539
        },
        "id": "3Ru1yNRorUhL",
        "outputId": "f5b80e2d-c69b-4e4c-8f01-7f9ca3decf74"
      },
      "outputs": [
        {
          "ename": "IndexError",
          "evalue": "list index out of range",
          "output_type": "error",
          "traceback": [
            "\u001b[1;31m---------------------------------------------------------------------------\u001b[0m",
            "\u001b[1;31mIndexError\u001b[0m                                Traceback (most recent call last)",
            "\u001b[1;32m<ipython-input-16-80f5a678f117>\u001b[0m in \u001b[0;36m<module>\u001b[1;34m\u001b[0m\n\u001b[0;32m     17\u001b[0m \u001b[0mnlp\u001b[0m\u001b[1;33m.\u001b[0m\u001b[0madd_pipe\u001b[0m\u001b[1;33m(\u001b[0m\u001b[0mtagger\u001b[0m\u001b[1;33m)\u001b[0m\u001b[1;33m\u001b[0m\u001b[1;33m\u001b[0m\u001b[0m\n\u001b[0;32m     18\u001b[0m \u001b[1;33m\u001b[0m\u001b[0m\n\u001b[1;32m---> 19\u001b[1;33m \u001b[0moptimizer\u001b[0m \u001b[1;33m=\u001b[0m \u001b[0mnlp\u001b[0m\u001b[1;33m.\u001b[0m\u001b[0mbegin_training\u001b[0m\u001b[1;33m(\u001b[0m\u001b[1;33m)\u001b[0m\u001b[1;33m\u001b[0m\u001b[1;33m\u001b[0m\u001b[0m\n\u001b[0m\u001b[0;32m     20\u001b[0m \u001b[1;33m\u001b[0m\u001b[0m\n\u001b[0;32m     21\u001b[0m \u001b[1;32mfor\u001b[0m \u001b[0mi\u001b[0m \u001b[1;32min\u001b[0m \u001b[0mrange\u001b[0m\u001b[1;33m(\u001b[0m\u001b[0mn_iter\u001b[0m\u001b[1;33m)\u001b[0m\u001b[1;33m:\u001b[0m\u001b[1;33m\u001b[0m\u001b[1;33m\u001b[0m\u001b[0m\n",
            "\u001b[1;32mE:\\Anaconda\\lib\\site-packages\\spacy\\language.py\u001b[0m in \u001b[0;36mbegin_training\u001b[1;34m(self, get_gold_tuples, sgd, component_cfg, **cfg)\u001b[0m\n\u001b[0;32m    622\u001b[0m                     \u001b[0mpipeline\u001b[0m\u001b[1;33m=\u001b[0m\u001b[0mself\u001b[0m\u001b[1;33m.\u001b[0m\u001b[0mpipeline\u001b[0m\u001b[1;33m,\u001b[0m\u001b[1;33m\u001b[0m\u001b[1;33m\u001b[0m\u001b[0m\n\u001b[0;32m    623\u001b[0m                     \u001b[0msgd\u001b[0m\u001b[1;33m=\u001b[0m\u001b[0mself\u001b[0m\u001b[1;33m.\u001b[0m\u001b[0m_optimizer\u001b[0m\u001b[1;33m,\u001b[0m\u001b[1;33m\u001b[0m\u001b[1;33m\u001b[0m\u001b[0m\n\u001b[1;32m--> 624\u001b[1;33m                     \u001b[1;33m**\u001b[0m\u001b[0mkwargs\u001b[0m\u001b[1;33m\u001b[0m\u001b[1;33m\u001b[0m\u001b[0m\n\u001b[0m\u001b[0;32m    625\u001b[0m                 )\n\u001b[0;32m    626\u001b[0m         \u001b[1;32mreturn\u001b[0m \u001b[0mself\u001b[0m\u001b[1;33m.\u001b[0m\u001b[0m_optimizer\u001b[0m\u001b[1;33m\u001b[0m\u001b[1;33m\u001b[0m\u001b[0m\n",
            "\u001b[1;32mpipes.pyx\u001b[0m in \u001b[0;36mspacy.pipeline.pipes.Tagger.begin_training\u001b[1;34m()\u001b[0m\n",
            "\u001b[1;32mE:\\Anaconda\\lib\\site-packages\\spacy\\errors.py\u001b[0m in \u001b[0;36muser_warning\u001b[1;34m(message)\u001b[0m\n\u001b[0;32m    597\u001b[0m \u001b[1;33m\u001b[0m\u001b[0m\n\u001b[0;32m    598\u001b[0m \u001b[1;32mdef\u001b[0m \u001b[0muser_warning\u001b[0m\u001b[1;33m(\u001b[0m\u001b[0mmessage\u001b[0m\u001b[1;33m)\u001b[0m\u001b[1;33m:\u001b[0m\u001b[1;33m\u001b[0m\u001b[1;33m\u001b[0m\u001b[0m\n\u001b[1;32m--> 599\u001b[1;33m     \u001b[0m_warn\u001b[0m\u001b[1;33m(\u001b[0m\u001b[0mmessage\u001b[0m\u001b[1;33m,\u001b[0m \u001b[1;34m\"user\"\u001b[0m\u001b[1;33m)\u001b[0m\u001b[1;33m\u001b[0m\u001b[1;33m\u001b[0m\u001b[0m\n\u001b[0m\u001b[0;32m    600\u001b[0m \u001b[1;33m\u001b[0m\u001b[0m\n\u001b[0;32m    601\u001b[0m \u001b[1;33m\u001b[0m\u001b[0m\n",
            "\u001b[1;32mE:\\Anaconda\\lib\\site-packages\\spacy\\errors.py\u001b[0m in \u001b[0;36m_warn\u001b[1;34m(message, warn_type)\u001b[0m\n\u001b[0;32m    620\u001b[0m     \u001b[1;32mif\u001b[0m \u001b[0mwarn_type\u001b[0m \u001b[1;32min\u001b[0m \u001b[0mSPACY_WARNING_TYPES\u001b[0m \u001b[1;32mand\u001b[0m \u001b[1;32mnot\u001b[0m \u001b[0mignore_warning\u001b[0m\u001b[1;33m:\u001b[0m\u001b[1;33m\u001b[0m\u001b[1;33m\u001b[0m\u001b[0m\n\u001b[0;32m    621\u001b[0m         \u001b[0mcategory\u001b[0m \u001b[1;33m=\u001b[0m \u001b[0mWARNINGS\u001b[0m\u001b[1;33m[\u001b[0m\u001b[0mwarn_type\u001b[0m\u001b[1;33m]\u001b[0m\u001b[1;33m\u001b[0m\u001b[1;33m\u001b[0m\u001b[0m\n\u001b[1;32m--> 622\u001b[1;33m         \u001b[0mstack\u001b[0m \u001b[1;33m=\u001b[0m \u001b[0minspect\u001b[0m\u001b[1;33m.\u001b[0m\u001b[0mstack\u001b[0m\u001b[1;33m(\u001b[0m\u001b[1;33m)\u001b[0m\u001b[1;33m[\u001b[0m\u001b[1;33m-\u001b[0m\u001b[1;36m1\u001b[0m\u001b[1;33m]\u001b[0m\u001b[1;33m\u001b[0m\u001b[1;33m\u001b[0m\u001b[0m\n\u001b[0m\u001b[0;32m    623\u001b[0m         \u001b[1;32mwith\u001b[0m \u001b[0mwarnings\u001b[0m\u001b[1;33m.\u001b[0m\u001b[0mcatch_warnings\u001b[0m\u001b[1;33m(\u001b[0m\u001b[1;33m)\u001b[0m\u001b[1;33m:\u001b[0m\u001b[1;33m\u001b[0m\u001b[1;33m\u001b[0m\u001b[0m\n\u001b[0;32m    624\u001b[0m             \u001b[1;32mif\u001b[0m \u001b[0mSPACY_WARNING_FILTER\u001b[0m\u001b[1;33m:\u001b[0m\u001b[1;33m\u001b[0m\u001b[1;33m\u001b[0m\u001b[0m\n",
            "\u001b[1;32mE:\\Anaconda\\lib\\inspect.py\u001b[0m in \u001b[0;36mstack\u001b[1;34m(context)\u001b[0m\n\u001b[0;32m   1511\u001b[0m \u001b[1;32mdef\u001b[0m \u001b[0mstack\u001b[0m\u001b[1;33m(\u001b[0m\u001b[0mcontext\u001b[0m\u001b[1;33m=\u001b[0m\u001b[1;36m1\u001b[0m\u001b[1;33m)\u001b[0m\u001b[1;33m:\u001b[0m\u001b[1;33m\u001b[0m\u001b[1;33m\u001b[0m\u001b[0m\n\u001b[0;32m   1512\u001b[0m     \u001b[1;34m\"\"\"Return a list of records for the stack above the caller's frame.\"\"\"\u001b[0m\u001b[1;33m\u001b[0m\u001b[1;33m\u001b[0m\u001b[0m\n\u001b[1;32m-> 1513\u001b[1;33m     \u001b[1;32mreturn\u001b[0m \u001b[0mgetouterframes\u001b[0m\u001b[1;33m(\u001b[0m\u001b[0msys\u001b[0m\u001b[1;33m.\u001b[0m\u001b[0m_getframe\u001b[0m\u001b[1;33m(\u001b[0m\u001b[1;36m1\u001b[0m\u001b[1;33m)\u001b[0m\u001b[1;33m,\u001b[0m \u001b[0mcontext\u001b[0m\u001b[1;33m)\u001b[0m\u001b[1;33m\u001b[0m\u001b[1;33m\u001b[0m\u001b[0m\n\u001b[0m\u001b[0;32m   1514\u001b[0m \u001b[1;33m\u001b[0m\u001b[0m\n\u001b[0;32m   1515\u001b[0m \u001b[1;32mdef\u001b[0m \u001b[0mtrace\u001b[0m\u001b[1;33m(\u001b[0m\u001b[0mcontext\u001b[0m\u001b[1;33m=\u001b[0m\u001b[1;36m1\u001b[0m\u001b[1;33m)\u001b[0m\u001b[1;33m:\u001b[0m\u001b[1;33m\u001b[0m\u001b[1;33m\u001b[0m\u001b[0m\n",
            "\u001b[1;32mE:\\Anaconda\\lib\\inspect.py\u001b[0m in \u001b[0;36mgetouterframes\u001b[1;34m(frame, context)\u001b[0m\n\u001b[0;32m   1488\u001b[0m     \u001b[0mframelist\u001b[0m \u001b[1;33m=\u001b[0m \u001b[1;33m[\u001b[0m\u001b[1;33m]\u001b[0m\u001b[1;33m\u001b[0m\u001b[1;33m\u001b[0m\u001b[0m\n\u001b[0;32m   1489\u001b[0m     \u001b[1;32mwhile\u001b[0m \u001b[0mframe\u001b[0m\u001b[1;33m:\u001b[0m\u001b[1;33m\u001b[0m\u001b[1;33m\u001b[0m\u001b[0m\n\u001b[1;32m-> 1490\u001b[1;33m         \u001b[0mframeinfo\u001b[0m \u001b[1;33m=\u001b[0m \u001b[1;33m(\u001b[0m\u001b[0mframe\u001b[0m\u001b[1;33m,\u001b[0m\u001b[1;33m)\u001b[0m \u001b[1;33m+\u001b[0m \u001b[0mgetframeinfo\u001b[0m\u001b[1;33m(\u001b[0m\u001b[0mframe\u001b[0m\u001b[1;33m,\u001b[0m \u001b[0mcontext\u001b[0m\u001b[1;33m)\u001b[0m\u001b[1;33m\u001b[0m\u001b[1;33m\u001b[0m\u001b[0m\n\u001b[0m\u001b[0;32m   1491\u001b[0m         \u001b[0mframelist\u001b[0m\u001b[1;33m.\u001b[0m\u001b[0mappend\u001b[0m\u001b[1;33m(\u001b[0m\u001b[0mFrameInfo\u001b[0m\u001b[1;33m(\u001b[0m\u001b[1;33m*\u001b[0m\u001b[0mframeinfo\u001b[0m\u001b[1;33m)\u001b[0m\u001b[1;33m)\u001b[0m\u001b[1;33m\u001b[0m\u001b[1;33m\u001b[0m\u001b[0m\n\u001b[0;32m   1492\u001b[0m         \u001b[0mframe\u001b[0m \u001b[1;33m=\u001b[0m \u001b[0mframe\u001b[0m\u001b[1;33m.\u001b[0m\u001b[0mf_back\u001b[0m\u001b[1;33m\u001b[0m\u001b[1;33m\u001b[0m\u001b[0m\n",
            "\u001b[1;32mE:\\Anaconda\\lib\\inspect.py\u001b[0m in \u001b[0;36mgetframeinfo\u001b[1;34m(frame, context)\u001b[0m\n\u001b[0;32m   1462\u001b[0m         \u001b[0mstart\u001b[0m \u001b[1;33m=\u001b[0m \u001b[0mlineno\u001b[0m \u001b[1;33m-\u001b[0m \u001b[1;36m1\u001b[0m \u001b[1;33m-\u001b[0m \u001b[0mcontext\u001b[0m\u001b[1;33m//\u001b[0m\u001b[1;36m2\u001b[0m\u001b[1;33m\u001b[0m\u001b[1;33m\u001b[0m\u001b[0m\n\u001b[0;32m   1463\u001b[0m         \u001b[1;32mtry\u001b[0m\u001b[1;33m:\u001b[0m\u001b[1;33m\u001b[0m\u001b[1;33m\u001b[0m\u001b[0m\n\u001b[1;32m-> 1464\u001b[1;33m             \u001b[0mlines\u001b[0m\u001b[1;33m,\u001b[0m \u001b[0mlnum\u001b[0m \u001b[1;33m=\u001b[0m \u001b[0mfindsource\u001b[0m\u001b[1;33m(\u001b[0m\u001b[0mframe\u001b[0m\u001b[1;33m)\u001b[0m\u001b[1;33m\u001b[0m\u001b[1;33m\u001b[0m\u001b[0m\n\u001b[0m\u001b[0;32m   1465\u001b[0m         \u001b[1;32mexcept\u001b[0m \u001b[0mOSError\u001b[0m\u001b[1;33m:\u001b[0m\u001b[1;33m\u001b[0m\u001b[1;33m\u001b[0m\u001b[0m\n\u001b[0;32m   1466\u001b[0m             \u001b[0mlines\u001b[0m \u001b[1;33m=\u001b[0m \u001b[0mindex\u001b[0m \u001b[1;33m=\u001b[0m \u001b[1;32mNone\u001b[0m\u001b[1;33m\u001b[0m\u001b[1;33m\u001b[0m\u001b[0m\n",
            "\u001b[1;32mE:\\Anaconda\\lib\\inspect.py\u001b[0m in \u001b[0;36mfindsource\u001b[1;34m(object)\u001b[0m\n\u001b[0;32m    826\u001b[0m         \u001b[0mpat\u001b[0m \u001b[1;33m=\u001b[0m \u001b[0mre\u001b[0m\u001b[1;33m.\u001b[0m\u001b[0mcompile\u001b[0m\u001b[1;33m(\u001b[0m\u001b[1;34mr'^(\\s*def\\s)|(\\s*async\\s+def\\s)|(.*(?<!\\w)lambda(:|\\s))|^(\\s*@)'\u001b[0m\u001b[1;33m)\u001b[0m\u001b[1;33m\u001b[0m\u001b[1;33m\u001b[0m\u001b[0m\n\u001b[0;32m    827\u001b[0m         \u001b[1;32mwhile\u001b[0m \u001b[0mlnum\u001b[0m \u001b[1;33m>\u001b[0m \u001b[1;36m0\u001b[0m\u001b[1;33m:\u001b[0m\u001b[1;33m\u001b[0m\u001b[1;33m\u001b[0m\u001b[0m\n\u001b[1;32m--> 828\u001b[1;33m             \u001b[1;32mif\u001b[0m \u001b[0mpat\u001b[0m\u001b[1;33m.\u001b[0m\u001b[0mmatch\u001b[0m\u001b[1;33m(\u001b[0m\u001b[0mlines\u001b[0m\u001b[1;33m[\u001b[0m\u001b[0mlnum\u001b[0m\u001b[1;33m]\u001b[0m\u001b[1;33m)\u001b[0m\u001b[1;33m:\u001b[0m \u001b[1;32mbreak\u001b[0m\u001b[1;33m\u001b[0m\u001b[1;33m\u001b[0m\u001b[0m\n\u001b[0m\u001b[0;32m    829\u001b[0m             \u001b[0mlnum\u001b[0m \u001b[1;33m=\u001b[0m \u001b[0mlnum\u001b[0m \u001b[1;33m-\u001b[0m \u001b[1;36m1\u001b[0m\u001b[1;33m\u001b[0m\u001b[1;33m\u001b[0m\u001b[0m\n\u001b[0;32m    830\u001b[0m         \u001b[1;32mreturn\u001b[0m \u001b[0mlines\u001b[0m\u001b[1;33m,\u001b[0m \u001b[0mlnum\u001b[0m\u001b[1;33m\u001b[0m\u001b[1;33m\u001b[0m\u001b[0m\n",
            "\u001b[1;31mIndexError\u001b[0m: list index out of range"
          ]
        }
      ],
      "source": [
        "TAG_MAP = {\"N\": {\"pos\": \"NOUN\"}, \"V\": {\"pos\": \"VERB\"}, \"J\": {\"pos\": \"ADJ\"}}\n",
        "\n",
        "TRAIN_DATA = [\n",
        "    (\"I like green eggs\", {\"tags\": [\"N\", \"V\", \"J\", \"N\"]}),\n",
        "    (\"Eat blue ham\", {\"tags\": [\"V\", \"J\", \"N\"]}),\n",
        "]\n",
        "\n",
        "lang=\"en\"\n",
        "output_dir='/content/drive/My Drive/model'\n",
        "n_iter=25\n",
        "\n",
        "nlp = spacy.blank(lang)\n",
        "tagger = nlp.create_pipe(\"tagger\")\n",
        "\n",
        "for tag, values in TAG_MAP.items():\n",
        "    tagger.add_label(tag, values)\n",
        "nlp.add_pipe(tagger)\n",
        "\n",
        "optimizer = nlp.begin_training()\n",
        "\n",
        "for i in range(n_iter):\n",
        "    random.shuffle(TRAIN_DATA)\n",
        "    losses = {}\n",
        "    # batch up the examples using spaCy's minibatch\n",
        "    batches = minibatch(TRAIN_DATA, size=compounding(4.0, 32.0, 1.001))\n",
        "    for batch in batches:\n",
        "        texts, annotations = zip(*batch)\n",
        "        nlp.update(texts, annotations, sgd=optimizer, losses=losses)\n",
        "    print(\"Losses\", losses)\n",
        "\n",
        "# test the trained model\n",
        "test_text = \"I like blue eggs\"\n",
        "doc = nlp(test_text)\n",
        "print(\"Tags\", [(t.text, t.tag_, t.pos_) for t in doc])\n"
      ]
    },
    {
      "cell_type": "markdown",
      "metadata": {
        "id": "sVkZFE232TjH"
      },
      "source": [
        "### 품사 태깅 응용 #1 "
      ]
    },
    {
      "cell_type": "code",
      "execution_count": null,
      "metadata": {
        "id": "2bRbYqmv2X3A"
      },
      "outputs": [],
      "source": [
        "def make_verb_upper(text, pos):\n",
        "  return text.upper() if pos == \"VERB\" else text"
      ]
    },
    {
      "cell_type": "code",
      "execution_count": null,
      "metadata": {
        "colab": {
          "base_uri": "https://localhost:8080/",
          "height": 35
        },
        "id": "UNo6kXMP2TAr",
        "outputId": "8eca51c7-d470-46b8-ed84-219fb6356eaf"
      },
      "outputs": [
        {
          "name": "stdout",
          "output_type": "stream",
          "text": [
            "Tom RAN swftly and WALKED slowly\n"
          ]
        }
      ],
      "source": [
        "nlp = spacy.load('en')\n",
        "doc = nlp(u'Tom ran swftly and walked slowly')\n",
        "text = ''.join(make_verb_upper(w.text_with_ws, w.pos_) for w in doc)\n",
        "print(text)"
      ]
    },
    {
      "cell_type": "markdown",
      "metadata": {
        "id": "7PweVnGW3sKt"
      },
      "source": [
        "### 품사 태깅 응용 #2"
      ]
    },
    {
      "cell_type": "markdown",
      "metadata": {
        "id": "tV-t9cZh6gSh"
      },
      "source": [
        "#### Harry Potter"
      ]
    },
    {
      "cell_type": "code",
      "execution_count": null,
      "metadata": {
        "id": "ggTHdCve6Woa"
      },
      "outputs": [],
      "source": [
        "\n",
        "harry_potter = \"\"\"\n",
        "Mr. and Mrs. Dursley, of number four, Privet Drive, were proud to say that they were perfectly normal, thank you very much. They were the last people you'd expect to be involved in anything strange or mysterious, because they just didn't hold with such nonsense. \n",
        "\n",
        "Mr. Dursley was the director of a firm called Grunnings, which made drills. He was a big, beefy man with hardly any neck, although he did have a very large mustache. Mrs. Dursley was thin and blonde and had nearly twice the usual amount of neck, which came in very useful as she spent so much of her time craning over garden fences, spying on the neighbors. The Dursleys had a small son called Dudley and in their opinion there was no finer boy anywhere. \n",
        "\n",
        "The Dursleys had everything they wanted, but they also had a secret, and their greatest fear was that somebody would discover it. They didn't think they could bear it if anyone found out about the Potters. Mrs. Potter was Mrs. Dursley's sister, but they hadn't met for several years; in fact, Mrs. Dursley pretended she didn't have a sister, because her sister and her good-for-nothing husband were as unDursleyish as it was possible to be. The Dursleys shuddered to think what the neighbors would say if the Potters arrived in the street. The Dursleys knew that the Potters had a small son, too, but they had never even seen him. This boy was another good reason for keeping the Potters away; they didn't want Dudley mixing with a child like that. \n",
        "\n",
        "When Mr. and Mrs. Dursley woke up on the dull, gray Tuesday our story starts, there was nothing about the cloudy sky outside to suggest that strange and mysterious things would soon be happening all over the country. Mr. Dursley hummed as he picked out his most boring tie for work, and Mrs. Dursley gossiped away happily as she wrestled a screaming Dudley into his high chair. \n",
        "\n",
        "None of them noticed a large, tawny owl flutter past the window. \n",
        "\n",
        "At half past eight, Mr. Dursley picked up his briefcase, pecked Mrs. Dursley on the cheek, and tried to kiss Dudley good-bye but missed, because Dudley was now having a tantrum and throwing his cereal at the walls. \"Little tyke,\" chortled Mr. Dursley as he left the house. He got into his car and backed out of number four's drive. \n",
        "\n",
        "It was on the corner of the street that he noticed the first sign of something peculiar -- a cat reading a map. For a second, Mr. Dursley didn't realize what he had seen -- then he jerked his head around to look again. There was a tabby cat standing on the corner of Privet Drive, but there wasn't a map in sight. What could he have been thinking of? It must have been a trick of the light. Mr. Dursley blinked and stared at the cat. It stared back. As Mr. Dursley drove around the corner and up the road, he watched the cat in his mirror. It was now reading the sign that said Privet Drive -- no, looking at the sign; cats couldn't read maps or signs. Mr. Dursley gave himself a little shake and put the cat out of his mind. As he drove toward town he thought of nothing except a large order of drills he was hoping to get that day. \n",
        "\n",
        "But on the edge of town, drills were driven out of his mind by something else. As he sat in the usual morning traffic jam, he couldn't help noticing that there seemed to be a lot of strangely dressed people about. People in cloaks. Mr. Dursley couldn't bear people who dressed in funny clothes -- the getups you saw on young people! He supposed this was some stupid new fashion. He drummed his fingers on the steering wheel and his eyes fell on a huddle of these weirdos standing quite close by. They were whispering excitedly together. Mr. Dursley was enraged to see that a couple of them weren't young at all; why, that man had to be older than he was, and wearing an emerald-green cloak! The nerve of him! But then it struck Mr. Dursley that this was probably some silly stunt -- these people were obviously collecting for something... \n",
        "\n",
        "yes, that would be it. The traffic moved on and a few minutes later, Mr. Dursley arrived in the Grunnings parking lot, his mind back on drills. \n",
        "\n",
        "Mr. Dursley always sat with his back to the window in his office on the ninth floor. If he hadn't, he might have found it harder to concentrate on drills that morning. He didn't see the owls swoop ing past in broad daylight, though people down in the street did; they pointed and gazed open- mouthed as owl after owl sped overhead. Most of them had never seen an owl even at nighttime. Mr. Dursley, however, had a perfectly normal, owl-free morning. He yelled at five different people. He made several important telephone calls and shouted a bit more. He was in a very good mood until lunchtime, when he thought he'd stretch his legs and walk across the road to buy himself a bun from the bakery. \n",
        "\n",
        "He'd forgotten all about the people in cloaks until he passed a group of them next to the baker's. He eyed them angrily as he passed. He didn't know why, but they made him uneasy. This bunch were whispering excitedly, too, and he couldn't see a single collecting tin. It was on his way back past them, clutching a large doughnut in a bag, that he caught a few words of what they were saying. \n",
        "\n",
        "\"The Potters, that's right, that's what I heard yes, their son, Harry\" \n",
        "\n",
        "Mr. Dursley stopped dead. Fear flooded him. He looked back at the whisperers as if he wanted to say something to them, but thought better of it. \n",
        "\n",
        "He dashed back across the road, hurried up to his office, snapped at his secretary not to disturb him, seized his telephone, and had almost finished dialing his home number when he changed his mind. He put the receiver back down and stroked his mustache, thinking... no, he was being stupid. Potter wasn't such an unusual name. He was sure there were lots of people called Potter who had a son called Harry. Come to think of it, he wasn't even sure his nephew was called Harry. He'd never even seen the boy. It might have been Harvey. Or Harold. There was no point in worrying Mrs. Dursley; she always got so upset at any mention of her sister. He didn't blame her -- if he'd had a sister like that... but all the same, those people in cloaks... \n",
        "\n",
        "He found it a lot harder to concentrate on drills that afternoon and when he left the building at five o'clock, he was still so worried that he walked straight into someone just outside the door. \n",
        "\n",
        "\"Sorry,\" he grunted, as the tiny old man stumbled and almost fell. It was a few seconds before Mr. Dursley realized that the man was wearing a violet cloak. He didn't seem at all upset at being almost knocked to the ground. On the contrary, his face split into a wide smile and he said in a squeaky voice that made passersby stare, \"Don't be sorry, my dear sir, for nothing could upset me today! Rejoice, for You-Know-Who has gone at last! Even Muggles like yourself should be celebrating, this happy, happy day!\" \n",
        "\n",
        "And the old man hugged Mr. Dursley around the middle and walked off. \n",
        "\n",
        "Mr. Dursley stood rooted to the spot. He had been hugged by a complete stranger. He also thought he had been called a Muggle, whatever that was. He was rattled. He hurried to his car and set off for home, hoping he was imagining things, which he had never hoped before, because he didn't approve of imagination. \n",
        "\n",
        "As he pulled into the driveway of number four, the first thing he saw -- and it didn't improve his mood -- was the tabby cat he'd spotted that morning. It was now sitting on his garden wall. He was sure it was the same one; it had the same markings around its eyes. \n",
        "\n",
        "\"Shoo!\" said Mr. Dursley loudly. The cat didn't move. It just gave him a stern look. Was this normal cat behavior? Mr. Dursley wondered. Trying to pull himself together, he let himself into the house. He was still determined not to mention anything to his wife. \n",
        "\n",
        "Mrs. Dursley had had a nice, normal day. She told him over dinner all about Mrs. Next Door's problems with her daughter and how Dudley had learned a new word (\"Won't!\"). Mr. Dursley tried to act normally. When Dudley had been put to bed, he went into the living room in time to catch the last report on the evening news: \"And finally, bird-watchers everywhere have reported that the nation's owls have been behaving very unusually today. Although owls normally hunt at night and are hardly ever seen in daylight, there have been hundreds of sightings of these birds flying in every direction since sunrise. Experts are unable to explain why the owls have suddenly changed their sleeping pattern.\" The newscaster allowed himself a grin. \n",
        "\n",
        "\"Most mysterious. And now, over to Jim McGuffin with the weather. Going to be any more showers of owls tonight, Jim?\" \n",
        "\n",
        "\"Well, Ted,\" said the weatherman, \"I don't know about that, but it's not only the owls that have been acting oddly today. Viewers as far apart as Kent, Yorkshire, and Dundee have been phoning in to tell me that instead of the rain I promised yesterday, they've had a downpour of shooting stars! Perhaps people have been celebrating Bonfire Night early -- it's not until next week, folks! But I can promise a wet night tonight.\" \n",
        "\n",
        "Mr. Dursley sat frozen in his armchair. Shooting stars all over Britain? Owls flying by daylight? Mysterious people in cloaks all over the place? And a whisper, a whisper about the Potters... \n",
        "\n",
        "Mrs. Dursley came into the living room carrying two cups of tea. It was no good. He'd have to say something to her. He cleared his throat nervously. \"Er -- Petunia, dear -- you haven't heard from your sister lately, have you?\" \n",
        "\n",
        "As he had expected, Mrs. Dursley looked shocked and angry. After all, they normally pretended she didn't have a sister. \n",
        "\n",
        "\"No,\" she said sharply. \"Why?\" \n",
        "\n",
        "\"Funny stuff on the news,\" Mr. Dursley mumbled. \"Owls... shooting stars... and there were a lot of funny-looking people in town today...\" \n",
        "\n",
        "\"So?\" snapped Mrs. Dursley. \n",
        "\n",
        "\"Well, I just thought... maybe... it was something to do with... you know... her crowd.\" \n",
        "\n",
        "Mrs. Dursley sipped her tea through pursed lips. Mr. Dursley wondered whether he dared tell her he'd heard the name \"Potter.\" He decided he didn't dare. Instead he said, as casually as he could, \"Their son -- he'd be about Dudley's age now, wouldn't he?\" \n",
        "\n",
        "\"I suppose so,\" said Mrs. Dursley stiffly. \n",
        "\n",
        "\"What's his name again? Howard, isn't it?\" \n",
        "\n",
        "\"Harry. Nasty, common name, if you ask me.\" \n",
        "\n",
        "\"Oh, yes,\" said Mr. Dursley, his heart sinking horribly. \"Yes, I quite agree.\" \n",
        "\n",
        "He didn't say another word on the subject as they went upstairs to bed. \n",
        "\n",
        "While Mrs. Dursley was in the bathroom, Mr. Dursley crept to the bedroom window and peered down into the front garden. The cat was still there. \n",
        "\n",
        "It was staring down Privet Drive as though it were waiting for something. \n",
        "\n",
        "Was he imagining things? Could all this have anything to do with the Potters? If it did... if it got out that they were related to a pair of -- well, he didn't think he could bear it. \n",
        "\n",
        "The Dursleys got into bed. Mrs. Dursley fell asleep quickly but Mr. Dursley lay awake, turning it all over in his mind. His last, comforting thought before he fell asleep was that even if the Potters were involved, there was no reason for them to come near him and Mrs. Dursley. The Potters knew very well what he and Petunia thought about them and their kind.... He couldn't see how he and Petunia could get mixed up in anything that might be going on -- he yawned and turned over -- it couldn't affect them.... \n",
        "\n",
        "How very wrong he was. \n",
        "\n",
        "Mr. Dursley might have been drifting into an uneasy sleep, but the cat on the wall outside was showing no sign of sleepiness. It was sitting as still as a statue, its eyes fixed unblinkingly on the far corner of Privet Drive. It didn't so much as quiver when a car door slammed on the next street, nor when two owls swooped overhead. In fact, it was nearly midnight before the cat moved at all. \n",
        "\n",
        "A man appeared on the corner the cat had been watching, appeared so suddenly and silently you'd have thought he'd just popped out of the ground. The cat's tail twitched and its eyes narrowed. \n",
        "\n",
        "Nothing like this man had ever been seen on Privet Drive. He was tall, thin, and very old, judging by the silver of his hair and beard, which were both long enough to tuck into his belt. He was wearing long robes, a purple cloak that swept the ground, and high-heeled, buckled boots. \n",
        "\n",
        "His blue eyes were light, bright, and sparkling behind half-moon spectacles and his nose was very long and crooked, as though it had been broken at least twice. This man's name was Albus Dumbledore. \n",
        "\n",
        "Albus Dumbledore didn't seem to realize that he had just arrived in a street where everything from his name to his boots was unwelcome. He was busy rummaging in his cloak, looking for something. But he did seem to realize he was being watched, because he looked up suddenly at the cat, which was still staring at him from the other end of the street. For some reason, the sight of the cat seemed to amuse him. He chuckled and muttered, \"I should have known.\" \n",
        "\n",
        "He found what he was looking for in his inside pocket. It seemed to be a silver cigarette lighter. He flicked it open, held it up in the air, and clicked it. The nearest street lamp went out with a little pop. He clicked it again -- the next lamp flickered into darkness. Twelve times he clicked the Put-Outer, until the only lights left on the whole street were two tiny pinpricks in the distance, which were the eyes of the cat watching him. If anyone looked out of their window now, even beady-eyed Mrs. Dursley, they wouldn't be able to see anything that was happening down on the pavement. Dumbledore slipped the Put-Outer back inside his cloak and set off down the street toward number four, where he sat down on the wall next to the cat. He didn't look at it, but after a moment he spoke to it. \n",
        "\n",
        "\"Fancy seeing you here, Professor McGonagall.\" \n",
        "\n",
        "He turned to smile at the tabby, but it had gone. Instead he was smiling at a rather severe-looking woman who was wearing square glasses exactly the shape of the markings the cat had had around its eyes. She, too, was wearing a cloak, an emerald one. Her black hair was drawn into a tight bun. She looked distinctly ruffled. \n",
        "\n",
        "\"How did you know it was me?\" she asked. \n",
        "\n",
        "\"My dear Professor, I 've never seen a cat sit so stiffly.\" \n",
        "\n",
        "\"You'd be stiff if you'd been sitting on a brick wall all day,\" said Professor McGonagall. \n",
        "\n",
        "\"All day? When you could have been celebrating? I must have passed a dozen feasts and parties on my way here.\" \n",
        "\n",
        "Professor McGonagall sniffed angrily. \n",
        "\n",
        "\"Oh yes, everyone's celebrating, all right,\" she said impatiently. \n",
        "\n",
        "\"You'd think they'd be a bit more careful, but no -- even the Muggles have noticed something's going on. It was on their news.\" She jerked her head back at the Dursleys' dark living-room window. \"I heard it. Flocks of owls... shooting stars.... Well, they're not completely stupid. They were bound to notice something. Shooting stars down in Kent -- I'll bet that was Dedalus Diggle. He never had much sense.\" \n",
        "\n",
        "\"You can't blame them,\" said Dumbledore gently. \"We've had precious little to celebrate for eleven years.\" \n",
        "\n",
        "\"I know that,\" said Professor McGonagall irritably. \"But that's no reason to lose our heads. People are being downright careless, out on the streets in broad daylight, not even dressed in Muggle clothes, swapping rumors.\" \n",
        "\n",
        "She threw a sharp, sideways glance at Dumbledore here, as though hoping he was going to tell her something, but he didn't, so she went on. \"A fine thing it would be if, on the very day YouKnow-Who seems to have disappeared at last, the Muggles found out about us all. I suppose he really has gone, Dumbledore?\" \n",
        "\n",
        "\"It certainly seems so,\" said Dumbledore. \"We have much to be thankful for. Would you care for a lemon drop?\" \n",
        "\n",
        "\"A what?\" \n",
        "\n",
        "\"A lemon drop. They're a kind of Muggle sweet I'm rather fond of\" \n",
        "\n",
        "\"No, thank you,\" said Professor McGonagall coldly, as though she didn't think this was the moment for lemon drops. \"As I say, even if You-Know-Who has gone -\" \n",
        "\n",
        "\"My dear Professor, surely a sensible person like yourself can call him by his name? All this 'You- Know-Who' nonsense -- for eleven years I have been trying to persuade people to call him by his proper name: Voldemort.\" Professor McGonagall flinched, but Dumbledore, who was unsticking two lemon drops, seemed not to notice. \"It all gets so confusing if we keep saying 'You-Know-Who.' I have never seen any reason to be frightened of saying Voldemort's name. \n",
        "\n",
        "\"I know you haven 't, said Professor McGonagall, sounding half exasperated, half admiring. \"But you're different. Everyone knows you're the only one You-Know- oh, all right, Voldemort, was frightened of.\" \n",
        "\n",
        "\"You flatter me,\" said Dumbledore calmly. \"Voldemort had powers I will never have.\" \n",
        "\n",
        "\"Only because you're too -- well -- noble to use them.\" \n",
        "\n",
        "\"It's lucky it's dark. I haven't blushed so much since Madam Pomfrey told me she liked my new earmuffs.\" \n",
        "\n",
        "Professor McGonagall shot a sharp look at Dumbledore and said, \"The owls are nothing next to the rumors that are flying around. You know what everyone's saying? About why he's disappeared? About what finally stopped him?\" \n",
        "\n",
        "It seemed that Professor McGonagall had reached the point she was most anxious to discuss, the real reason she had been waiting on a cold, hard wall all day, for neither as a cat nor as a woman had she fixed Dumbledore with such a piercing stare as she did now. It was plain that whatever \"everyone\" was saying, she was not going to believe it until Dumbledore told her it was true. Dumbledore, however, was choosing another lemon drop and did not answer. \n",
        "\n",
        "\"What they're saying,\" she pressed on, \"is that last night Voldemort turned up in Godric's Hollow. He went to find the Potters. The rumor is that Lily and James Potter are -- are -- that they're -- dead. ?\n",
        "\n",
        "Dumbledore bowed his head. Professor McGonagall gasped. \n",
        "\n",
        "\"Lily and James... I can't believe it... I didn't want to believe it... \n",
        "\n",
        "Oh, Albus...\" \n",
        "\n",
        "Dumbledore reached out and patted her on the shoulder. \"I know... I know...\" he said heavily. \n",
        "\n",
        "Professor McGonagall's voice trembled as she went on. \"That's not all. \n",
        "\n",
        "They're saying he tried to kill the Potter's son, Harry. But -- he couldn't. He couldn't kill that little boy. No one knows why, or how, but they're saying that when he couldn't kill Harry Potter, Voldemort's power somehow broke -- and that's why he's gone. \n",
        "\n",
        "Dumbledore nodded glumly. \n",
        "\n",
        "\"It's -- it's true?\" faltered Professor McGonagall. \"After all he's done... all the people he's killed... he couldn't kill a little boy? It's just astounding... of all the things to stop him... but how in the name of heaven did Harry survive?\" \n",
        "\n",
        "\"We can only guess,\" said Dumbledore. \"We may never know.\" \n",
        "\n",
        "Professor McGonagall pulled out a lace handkerchief and dabbed at her eyes beneath her spectacles. Dumbledore gave a great sniff as he took a golden watch from his pocket and examined it. It was a very odd watch. \n",
        "\n",
        "It had twelve hands but no numbers; instead, little planets were moving around the edge. It must have made sense to Dumbledore, though, because he put it back in his pocket and said, \"Hagrid's late. I suppose it was he who told you I'd be here, by the way?\" \n",
        "\n",
        "\"Yes,\" said Professor McGonagall. \"And I don't suppose you're going to tell me why you're here, of all places?\" \n",
        "\n",
        "\"I've come to bring Harry to his aunt and uncle. They're the only family he has left now.\" \n",
        "\n",
        "\"You don't mean -- you can't mean the people who live here?\" cried Professor McGonagall, jumping to her feet and pointing at number four. \n",
        "\n",
        "\"Dumbledore -- you can't. I've been watching them all day. You couldn't find two people who are less like us. And they've got this son -- I saw him kicking his mother all the way up the street, screaming for sweets. \n",
        "\n",
        "Harry Potter come and live here!\" \n",
        "\n",
        "\"It's the best place for him,\" said Dumbledore firmly. \"His aunt and uncle will be able to explain everything to him when he's older. I've written them a letter.\" \n",
        "\n",
        "\"A letter?\" repeated Professor McGonagall faintly, sitting back down on the wall. \"Really, Dumbledore, you think you can explain all this in a letter? These people will never understand him! He'll be famous -- a legend -- I wouldn't be surprised if today was known as Harry Potter day in the future -- there will be books written about Harry -- every child in our world will know his name!\" \n",
        "\n",
        "\"Exactly,\" said Dumbledore, looking very seriously over the top of his half-moon glasses. \"It would be enough to turn any boy's head. Famous before he can walk and talk! Famous for something he won't even remember! CarA you see how much better off he'll be, growing up away from all that until he's ready to take it?\" \n",
        "\n",
        "Professor McGonagall opened her mouth, changed her mind, swallowed, and then said, \"Yes -- yes, you're right, of course. But how is the boy getting here, Dumbledore?\" She eyed his cloak suddenly as though she thought he might be hiding Harry underneath it. \n",
        "\n",
        "\"Hagrid's bringing him.\" \n",
        "\n",
        "\"You think it -- wise -- to trust Hagrid with something as important as this?\" \n",
        "\n",
        "I would trust Hagrid with my life,\" said Dumbledore. \n",
        "\n",
        "\"I'm not saying his heart isn't in the right place,\" said Professor McGonagall grudgingly, \"but you can't pretend he's not careless. He does tend to -- what was that?\" \n",
        "\n",
        "A low rumbling sound had broken the silence around them. It grew steadily louder as they looked up and down the street for some sign of a headlight; it swelled to a roar as they both looked up at the sky -- and a huge motorcycle fell out of the air and landed on the road in front of them. \n",
        "\n",
        "If the motorcycle was huge, it was nothing to the man sitting astride it. He was almost twice as tall as a normal man and at least five times as wide. He looked simply too big to be allowed, and so wild - long tangles of bushy black hair and beard hid most of his face, he had hands the size of trash can lids, and his feet in their leather boots were like baby dolphins. In his vast, muscular arms he was holding a bundle of blankets. \n",
        "\n",
        "\"Hagrid,\" said Dumbledore, sounding relieved. \"At last. And where did you get that motorcycle?\" \n",
        "\n",
        "\"Borrowed it, Professor Dumbledore, sit,\" said the giant, climbing carefully off the motorcycle as he spoke. \"Young Sirius Black lent it to me. I've got him, sir.\" \n",
        "\n",
        "\"No problems, were there?\" \n",
        "\n",
        "\"No, sir -- house was almost destroyed, but I got him out all right before the Muggles started swarmin' around. He fell asleep as we was flyin' over Bristol.\" \n",
        "\n",
        "Dumbledore and Professor McGonagall bent forward over the bundle of blankets. Inside, just visible, was a baby boy, fast asleep. Under a tuft of jet-black hair over his forehead they could see a curiously shaped cut, like a bolt of lightning. \n",
        "\n",
        "\"Is that where -?\" whispered Professor McGonagall. \n",
        "\n",
        "\"Yes,\" said Dumbledore. \"He'll have that scar forever.\" \n",
        "\n",
        "\"Couldn't you do something about it, Dumbledore?\" \n",
        "\n",
        "\"Even if I could, I wouldn't. Scars can come in handy. I have one myself above my left knee that is a perfect map of the London Underground. Well -- give him here, Hagrid -- we'd better get this over with.\" \n",
        "\n",
        "Dumbledore took Harry in his arms and turned toward the Dursleys' house. \n",
        "\n",
        "\"Could I -- could I say good-bye to him, sir?\" asked Hagrid. He bent his great, shaggy head over Harry and gave him what must have been a very scratchy, whiskery kiss. Then, suddenly, Hagrid let out a howl like a wounded dog. \n",
        "\n",
        "\"Shhh!\" hissed Professor McGonagall, \"you'll wake the Muggles!\" \n",
        "\n",
        "\"S-s-sorry,\" sobbed Hagrid, taking out a large, spotted handkerchief and burying his face in it. \"But I c-c-can't stand it -- Lily an' James dead -- an' poor little Harry off ter live with Muggles -\" \n",
        "\n",
        "\"Yes, yes, it's all very sad, but get a grip on yourself, Hagrid, or we'll be found,\" Professor McGonagall whispered, patting Hagrid gingerly on the arm as Dumbledore stepped over the low garden wall and walked to the front door. He laid Harry gently on the doorstep, took a letter out of his cloak, tucked it inside Harry's blankets, and then came back to the other two. For a full minute the three of them stood and looked at the little bundle; Hagrid's shoulders shook, Professor McGonagall blinked furiously, and the twinkling light that usually shone from Dumbledore's eyes seemed to have gone out. \n",
        "\n",
        "\"Well,\" said Dumbledore finally, \"that's that. We've no business staying here. We may as well go and join the celebrations.\" \n",
        "\n",
        "\"Yeah,\" said Hagrid in a very muffled voice, \"I'll be takin' Sirius his bike back. G'night, Professor McGonagall -- Professor Dumbledore, sir.\" \n",
        "\n",
        "Wiping his streaming eyes on his jacket sleeve, Hagrid swung himself onto the motorcycle and kicked the engine into life; with a roar it rose into the air and off into the night. \n",
        "\n",
        "\"I shall see you soon, I expect, Professor McGonagall,\" said Dumbledore, nodding to her. Professor McGonagall blew her nose in reply. \n",
        "\n",
        "Dumbledore turned and walked back down the street. On the corner he stopped and took out the silver Put-Outer. He clicked it once, and twelve balls of light sped back to their street lamps so that Privet Drive glowed suddenly orange and he could make out a tabby cat slinking around the corner at the other end of the street. He could just see the bundle of blankets on the step of number four. \n",
        "\n",
        "\"Good luck, Harry,\" he murmured. He turned on his heel and with a swish of his cloak, he was gone. \n",
        "\n",
        "A breeze ruffled the neat hedges of Privet Drive, which lay silent and tidy under the inky sky, the very last place you would expect astonishing things to happen. Harry Potter rolled over inside his blankets without waking up. One small hand closed on the letter beside him and he slept on, not knowing he was special, not knowing he was famous, not knowing he would be woken in a few hours' time by Mrs. Dursley's scream as she opened the front door to put out the milk bottles, nor that he would spend the next few weeks being prodded and pinched by his cousin Dudley... He couldn't know that at this very moment, people meeting in secret all over the country were holding up their glasses and saying in hushed voices: \"To Harry Potter -- the boy who lived!\" \n",
        "\n",
        "\"\"\""
      ]
    },
    {
      "cell_type": "markdown",
      "metadata": {
        "id": "8HRhQnGK6ruV"
      },
      "source": [
        "### 분석 "
      ]
    },
    {
      "cell_type": "code",
      "execution_count": null,
      "metadata": {
        "colab": {
          "base_uri": "https://localhost:8080/",
          "height": 73
        },
        "id": "mENRxR3E3v7r",
        "outputId": "2b229521-9b6e-4cbc-eebb-a4cc00af0f62"
      },
      "outputs": [
        {
          "name": "stdout",
          "output_type": "stream",
          "text": [
            "[One small hand closed on the letter beside him and he slept on, not knowing he was special, not knowing he was famous, not knowing he would be woken in a few hours' time by Mrs. Dursley's scream as she opened the front door to put out the milk bottles, nor that he would spend the next few weeks being prodded and pinched by his cousin Dudley...]\n",
            "{103: 'SPACE', 96: 'PROPN', 89: 'CCONJ', 97: 'PUNCT', 85: 'ADP', 92: 'NOUN', 93: 'NUM', 87: 'AUX', 84: 'ADJ', 94: 'PART', 100: 'VERB', 98: 'SCONJ', 95: 'PRON', 86: 'ADV', 90: 'DET', 91: 'INTJ'}\n"
          ]
        }
      ],
      "source": [
        "hp = nlp(harry_potter)\n",
        "hpSents = list(hp.sents)\n",
        "hpSentenceLengths = [len(sent) for sent in hpSents]\n",
        "print([sent for sent in hpSents if len(sent) == max(hpSentenceLengths)])\n",
        "\n",
        "tagDict = {w.pos: w.pos_ for w in hp}\n",
        "\n",
        "print(tagDict)"
      ]
    },
    {
      "cell_type": "code",
      "execution_count": null,
      "metadata": {
        "colab": {
          "base_uri": "https://localhost:8080/",
          "height": 311
        },
        "id": "qC5MYRLj7ofR",
        "outputId": "db379106-f590-4389-f38e-3207e89f4d36"
      },
      "outputs": [
        {
          "data": {
            "text/plain": [
              "<matplotlib.axes._subplots.AxesSubplot at 0x1b0206dc148>"
            ]
          },
          "execution_count": 24,
          "metadata": {
            "tags": []
          },
          "output_type": "execute_result"
        }
      ],
      "source": [
        "import pandas as pd\n",
        "import matplotlib.pyplot as plt\n",
        "\n",
        "hpPOS = pd.Series(hp.count_by(spacy.attrs.POS))/len(hp)\n",
        "df = pd.DataFrame([hpPOS], index=['Harry Potter'])\n",
        "df.columns = [tagDict[column] for column in df.columns]\n",
        "df.T.plot(kind='bar')"
      ]
    },
    {
      "cell_type": "code",
      "execution_count": null,
      "metadata": {
        "colab": {
          "base_uri": "https://localhost:8080/",
          "height": 557
        },
        "id": "mnS9Ada18hbQ",
        "outputId": "d66a6584-4d8b-44cd-86c5-ef6ead80ee7c"
      },
      "outputs": [
        {
          "data": {
            "text/plain": [
              "[('said', 32),\n",
              " (\"'d\", 17),\n",
              " ('could', 12),\n",
              " ('know', 12),\n",
              " ('saying', 10),\n",
              " ('see', 9),\n",
              " ('looked', 9),\n",
              " ('think', 8),\n",
              " ('seen', 8),\n",
              " ('thought', 8),\n",
              " ('say', 7),\n",
              " ('got', 7),\n",
              " ('gone', 7),\n",
              " (\"'ll\", 7),\n",
              " ('called', 6),\n",
              " ('found', 6),\n",
              " ('seemed', 6),\n",
              " ('fell', 6),\n",
              " ('went', 6),\n",
              " ('turned', 6),\n",
              " ('made', 5),\n",
              " ('looking', 5),\n",
              " ('put', 5),\n",
              " ('wearing', 5),\n",
              " ('sitting', 5),\n",
              " ('going', 5),\n",
              " ('ca', 5),\n",
              " ('left', 4),\n",
              " ('gave', 4),\n",
              " ('sat', 4)]"
            ]
          },
          "execution_count": 25,
          "metadata": {
            "tags": []
          },
          "output_type": "execute_result"
        }
      ],
      "source": [
        "from collections import Counter\n",
        "\n",
        "hpVerb = [w for w in hp if w.pos_ == 'VERB']\n",
        "Counter([w.string.strip() for w in hpVerb]).most_common(30)"
      ]
    },
    {
      "cell_type": "markdown",
      "metadata": {
        "id": "GOW640omdjjs"
      },
      "source": [
        "Word2Vec 과 Logistic Regression을 이용한 (Semi-supervised) Named Entity Recognition\n",
        "\n",
        "https://lovit.github.io/nlp/2019/02/16/logistic_w2v_ner/"
      ]
    },
    {
      "cell_type": "code",
      "execution_count": null,
      "metadata": {
        "id": "RgXpa102djjs"
      },
      "outputs": [],
      "source": []
    }
  ],
  "metadata": {
    "colab": {
      "collapsed_sections": [],
      "include_colab_link": true,
      "name": "pos.ipynb",
      "provenance": [],
      "toc_visible": true
    },
    "kernelspec": {
      "display_name": "Python 3.8.8 ('base')",
      "language": "python",
      "name": "python3"
    },
    "language_info": {
      "codemirror_mode": {
        "name": "ipython",
        "version": 3
      },
      "file_extension": ".py",
      "mimetype": "text/x-python",
      "name": "python",
      "nbconvert_exporter": "python",
      "pygments_lexer": "ipython3",
      "version": "3.8.8"
    },
    "vscode": {
      "interpreter": {
        "hash": "ad2bdc8ecc057115af97d19610ffacc2b4e99fae6737bb82f5d7fb13d2f2c186"
      }
    }
  },
  "nbformat": 4,
  "nbformat_minor": 0
}
