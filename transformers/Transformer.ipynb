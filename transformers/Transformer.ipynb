{
  "nbformat": 4,
  "nbformat_minor": 0,
  "metadata": {
    "colab": {
      "name": "Transformer.ipynb",
      "provenance": [],
      "collapsed_sections": [],
      "mount_file_id": "1Txq_h2YpCz5b9GVD8v7n-IukGAOsaRab",
      "authorship_tag": "ABX9TyPF8Pv8YDM80m0UnFTLPYiU",
      "include_colab_link": true
    },
    "kernelspec": {
      "name": "python3",
      "display_name": "Python 3"
    },
    "widgets": {
      "application/vnd.jupyter.widget-state+json": {
        "23dcd6527dc741bd8317c15a4a11e7aa": {
          "model_module": "@jupyter-widgets/controls",
          "model_name": "HBoxModel",
          "state": {
            "_view_name": "HBoxView",
            "_dom_classes": [],
            "_model_name": "HBoxModel",
            "_view_module": "@jupyter-widgets/controls",
            "_model_module_version": "1.5.0",
            "_view_count": null,
            "_view_module_version": "1.5.0",
            "box_style": "",
            "layout": "IPY_MODEL_e0e02801ea5d47b8906df2adaa6d81b0",
            "_model_module": "@jupyter-widgets/controls",
            "children": [
              "IPY_MODEL_8352890308f540e4b56c1176dfb77633",
              "IPY_MODEL_9df949f45eed4d608bee73b62980daf7"
            ]
          }
        },
        "e0e02801ea5d47b8906df2adaa6d81b0": {
          "model_module": "@jupyter-widgets/base",
          "model_name": "LayoutModel",
          "state": {
            "_view_name": "LayoutView",
            "grid_template_rows": null,
            "right": null,
            "justify_content": null,
            "_view_module": "@jupyter-widgets/base",
            "overflow": null,
            "_model_module_version": "1.2.0",
            "_view_count": null,
            "flex_flow": null,
            "width": null,
            "min_width": null,
            "border": null,
            "align_items": null,
            "bottom": null,
            "_model_module": "@jupyter-widgets/base",
            "top": null,
            "grid_column": null,
            "overflow_y": null,
            "overflow_x": null,
            "grid_auto_flow": null,
            "grid_area": null,
            "grid_template_columns": null,
            "flex": null,
            "_model_name": "LayoutModel",
            "justify_items": null,
            "grid_row": null,
            "max_height": null,
            "align_content": null,
            "visibility": null,
            "align_self": null,
            "height": null,
            "min_height": null,
            "padding": null,
            "grid_auto_rows": null,
            "grid_gap": null,
            "max_width": null,
            "order": null,
            "_view_module_version": "1.2.0",
            "grid_template_areas": null,
            "object_position": null,
            "object_fit": null,
            "grid_auto_columns": null,
            "margin": null,
            "display": null,
            "left": null
          }
        },
        "8352890308f540e4b56c1176dfb77633": {
          "model_module": "@jupyter-widgets/controls",
          "model_name": "FloatProgressModel",
          "state": {
            "_view_name": "ProgressView",
            "style": "IPY_MODEL_3c64b5825d6246418915be5ae210138c",
            "_dom_classes": [],
            "description": "Train 0: 100%",
            "_model_name": "FloatProgressModel",
            "bar_style": "success",
            "max": 1172,
            "_view_module": "@jupyter-widgets/controls",
            "_model_module_version": "1.5.0",
            "value": 1172,
            "_view_count": null,
            "_view_module_version": "1.5.0",
            "orientation": "horizontal",
            "min": 0,
            "description_tooltip": null,
            "_model_module": "@jupyter-widgets/controls",
            "layout": "IPY_MODEL_1cf8a01d5ff24e66802b0e8d44fcd818"
          }
        },
        "9df949f45eed4d608bee73b62980daf7": {
          "model_module": "@jupyter-widgets/controls",
          "model_name": "HTMLModel",
          "state": {
            "_view_name": "HTMLView",
            "style": "IPY_MODEL_aea7db07d2674aac8c7b9574612a4910",
            "_dom_classes": [],
            "description": "",
            "_model_name": "HTMLModel",
            "placeholder": "​",
            "_view_module": "@jupyter-widgets/controls",
            "_model_module_version": "1.5.0",
            "value": " 1172/1172 [3:16:38&lt;00:00, 10.07s/it, Loss: 0.418 (0.486)]",
            "_view_count": null,
            "_view_module_version": "1.5.0",
            "description_tooltip": null,
            "_model_module": "@jupyter-widgets/controls",
            "layout": "IPY_MODEL_f4617a338a0d460ca50bb219499f4338"
          }
        },
        "3c64b5825d6246418915be5ae210138c": {
          "model_module": "@jupyter-widgets/controls",
          "model_name": "ProgressStyleModel",
          "state": {
            "_view_name": "StyleView",
            "_model_name": "ProgressStyleModel",
            "description_width": "initial",
            "_view_module": "@jupyter-widgets/base",
            "_model_module_version": "1.5.0",
            "_view_count": null,
            "_view_module_version": "1.2.0",
            "bar_color": null,
            "_model_module": "@jupyter-widgets/controls"
          }
        },
        "1cf8a01d5ff24e66802b0e8d44fcd818": {
          "model_module": "@jupyter-widgets/base",
          "model_name": "LayoutModel",
          "state": {
            "_view_name": "LayoutView",
            "grid_template_rows": null,
            "right": null,
            "justify_content": null,
            "_view_module": "@jupyter-widgets/base",
            "overflow": null,
            "_model_module_version": "1.2.0",
            "_view_count": null,
            "flex_flow": null,
            "width": null,
            "min_width": null,
            "border": null,
            "align_items": null,
            "bottom": null,
            "_model_module": "@jupyter-widgets/base",
            "top": null,
            "grid_column": null,
            "overflow_y": null,
            "overflow_x": null,
            "grid_auto_flow": null,
            "grid_area": null,
            "grid_template_columns": null,
            "flex": null,
            "_model_name": "LayoutModel",
            "justify_items": null,
            "grid_row": null,
            "max_height": null,
            "align_content": null,
            "visibility": null,
            "align_self": null,
            "height": null,
            "min_height": null,
            "padding": null,
            "grid_auto_rows": null,
            "grid_gap": null,
            "max_width": null,
            "order": null,
            "_view_module_version": "1.2.0",
            "grid_template_areas": null,
            "object_position": null,
            "object_fit": null,
            "grid_auto_columns": null,
            "margin": null,
            "display": null,
            "left": null
          }
        },
        "aea7db07d2674aac8c7b9574612a4910": {
          "model_module": "@jupyter-widgets/controls",
          "model_name": "DescriptionStyleModel",
          "state": {
            "_view_name": "StyleView",
            "_model_name": "DescriptionStyleModel",
            "description_width": "",
            "_view_module": "@jupyter-widgets/base",
            "_model_module_version": "1.5.0",
            "_view_count": null,
            "_view_module_version": "1.2.0",
            "_model_module": "@jupyter-widgets/controls"
          }
        },
        "f4617a338a0d460ca50bb219499f4338": {
          "model_module": "@jupyter-widgets/base",
          "model_name": "LayoutModel",
          "state": {
            "_view_name": "LayoutView",
            "grid_template_rows": null,
            "right": null,
            "justify_content": null,
            "_view_module": "@jupyter-widgets/base",
            "overflow": null,
            "_model_module_version": "1.2.0",
            "_view_count": null,
            "flex_flow": null,
            "width": null,
            "min_width": null,
            "border": null,
            "align_items": null,
            "bottom": null,
            "_model_module": "@jupyter-widgets/base",
            "top": null,
            "grid_column": null,
            "overflow_y": null,
            "overflow_x": null,
            "grid_auto_flow": null,
            "grid_area": null,
            "grid_template_columns": null,
            "flex": null,
            "_model_name": "LayoutModel",
            "justify_items": null,
            "grid_row": null,
            "max_height": null,
            "align_content": null,
            "visibility": null,
            "align_self": null,
            "height": null,
            "min_height": null,
            "padding": null,
            "grid_auto_rows": null,
            "grid_gap": null,
            "max_width": null,
            "order": null,
            "_view_module_version": "1.2.0",
            "grid_template_areas": null,
            "object_position": null,
            "object_fit": null,
            "grid_auto_columns": null,
            "margin": null,
            "display": null,
            "left": null
          }
        },
        "747d7fdff53a4a79ae3fb53f7c5dd91a": {
          "model_module": "@jupyter-widgets/controls",
          "model_name": "HBoxModel",
          "state": {
            "_view_name": "HBoxView",
            "_dom_classes": [],
            "_model_name": "HBoxModel",
            "_view_module": "@jupyter-widgets/controls",
            "_model_module_version": "1.5.0",
            "_view_count": null,
            "_view_module_version": "1.5.0",
            "box_style": "",
            "layout": "IPY_MODEL_492e39fa42484cd18918b26142cdaf15",
            "_model_module": "@jupyter-widgets/controls",
            "children": [
              "IPY_MODEL_3469d6d4f5c842aca23869aaa9641944",
              "IPY_MODEL_9033189c913c43d9aa2a63a324c65c77"
            ]
          }
        },
        "492e39fa42484cd18918b26142cdaf15": {
          "model_module": "@jupyter-widgets/base",
          "model_name": "LayoutModel",
          "state": {
            "_view_name": "LayoutView",
            "grid_template_rows": null,
            "right": null,
            "justify_content": null,
            "_view_module": "@jupyter-widgets/base",
            "overflow": null,
            "_model_module_version": "1.2.0",
            "_view_count": null,
            "flex_flow": null,
            "width": null,
            "min_width": null,
            "border": null,
            "align_items": null,
            "bottom": null,
            "_model_module": "@jupyter-widgets/base",
            "top": null,
            "grid_column": null,
            "overflow_y": null,
            "overflow_x": null,
            "grid_auto_flow": null,
            "grid_area": null,
            "grid_template_columns": null,
            "flex": null,
            "_model_name": "LayoutModel",
            "justify_items": null,
            "grid_row": null,
            "max_height": null,
            "align_content": null,
            "visibility": null,
            "align_self": null,
            "height": null,
            "min_height": null,
            "padding": null,
            "grid_auto_rows": null,
            "grid_gap": null,
            "max_width": null,
            "order": null,
            "_view_module_version": "1.2.0",
            "grid_template_areas": null,
            "object_position": null,
            "object_fit": null,
            "grid_auto_columns": null,
            "margin": null,
            "display": null,
            "left": null
          }
        },
        "3469d6d4f5c842aca23869aaa9641944": {
          "model_module": "@jupyter-widgets/controls",
          "model_name": "FloatProgressModel",
          "state": {
            "_view_name": "ProgressView",
            "style": "IPY_MODEL_7cad9da24f9c4a1e9bb43d205c699197",
            "_dom_classes": [],
            "description": "Valid: 100%",
            "_model_name": "FloatProgressModel",
            "bar_style": "success",
            "max": 391,
            "_view_module": "@jupyter-widgets/controls",
            "_model_module_version": "1.5.0",
            "value": 391,
            "_view_count": null,
            "_view_module_version": "1.5.0",
            "orientation": "horizontal",
            "min": 0,
            "description_tooltip": null,
            "_model_module": "@jupyter-widgets/controls",
            "layout": "IPY_MODEL_8e09e1205e4a49a383ec4c60b4fdd296"
          }
        },
        "9033189c913c43d9aa2a63a324c65c77": {
          "model_module": "@jupyter-widgets/controls",
          "model_name": "HTMLModel",
          "state": {
            "_view_name": "HTMLView",
            "style": "IPY_MODEL_4aad14119f1848ffac25dbe0df14aeba",
            "_dom_classes": [],
            "description": "",
            "_model_name": "HTMLModel",
            "placeholder": "​",
            "_view_module": "@jupyter-widgets/controls",
            "_model_module_version": "1.5.0",
            "value": " 391/391 [3:47:48&lt;00:00, 34.96s/it, Acc: 0.804]",
            "_view_count": null,
            "_view_module_version": "1.5.0",
            "description_tooltip": null,
            "_model_module": "@jupyter-widgets/controls",
            "layout": "IPY_MODEL_f347275783c048789624435f077183fe"
          }
        },
        "7cad9da24f9c4a1e9bb43d205c699197": {
          "model_module": "@jupyter-widgets/controls",
          "model_name": "ProgressStyleModel",
          "state": {
            "_view_name": "StyleView",
            "_model_name": "ProgressStyleModel",
            "description_width": "initial",
            "_view_module": "@jupyter-widgets/base",
            "_model_module_version": "1.5.0",
            "_view_count": null,
            "_view_module_version": "1.2.0",
            "bar_color": null,
            "_model_module": "@jupyter-widgets/controls"
          }
        },
        "8e09e1205e4a49a383ec4c60b4fdd296": {
          "model_module": "@jupyter-widgets/base",
          "model_name": "LayoutModel",
          "state": {
            "_view_name": "LayoutView",
            "grid_template_rows": null,
            "right": null,
            "justify_content": null,
            "_view_module": "@jupyter-widgets/base",
            "overflow": null,
            "_model_module_version": "1.2.0",
            "_view_count": null,
            "flex_flow": null,
            "width": null,
            "min_width": null,
            "border": null,
            "align_items": null,
            "bottom": null,
            "_model_module": "@jupyter-widgets/base",
            "top": null,
            "grid_column": null,
            "overflow_y": null,
            "overflow_x": null,
            "grid_auto_flow": null,
            "grid_area": null,
            "grid_template_columns": null,
            "flex": null,
            "_model_name": "LayoutModel",
            "justify_items": null,
            "grid_row": null,
            "max_height": null,
            "align_content": null,
            "visibility": null,
            "align_self": null,
            "height": null,
            "min_height": null,
            "padding": null,
            "grid_auto_rows": null,
            "grid_gap": null,
            "max_width": null,
            "order": null,
            "_view_module_version": "1.2.0",
            "grid_template_areas": null,
            "object_position": null,
            "object_fit": null,
            "grid_auto_columns": null,
            "margin": null,
            "display": null,
            "left": null
          }
        },
        "4aad14119f1848ffac25dbe0df14aeba": {
          "model_module": "@jupyter-widgets/controls",
          "model_name": "DescriptionStyleModel",
          "state": {
            "_view_name": "StyleView",
            "_model_name": "DescriptionStyleModel",
            "description_width": "",
            "_view_module": "@jupyter-widgets/base",
            "_model_module_version": "1.5.0",
            "_view_count": null,
            "_view_module_version": "1.2.0",
            "_model_module": "@jupyter-widgets/controls"
          }
        },
        "f347275783c048789624435f077183fe": {
          "model_module": "@jupyter-widgets/base",
          "model_name": "LayoutModel",
          "state": {
            "_view_name": "LayoutView",
            "grid_template_rows": null,
            "right": null,
            "justify_content": null,
            "_view_module": "@jupyter-widgets/base",
            "overflow": null,
            "_model_module_version": "1.2.0",
            "_view_count": null,
            "flex_flow": null,
            "width": null,
            "min_width": null,
            "border": null,
            "align_items": null,
            "bottom": null,
            "_model_module": "@jupyter-widgets/base",
            "top": null,
            "grid_column": null,
            "overflow_y": null,
            "overflow_x": null,
            "grid_auto_flow": null,
            "grid_area": null,
            "grid_template_columns": null,
            "flex": null,
            "_model_name": "LayoutModel",
            "justify_items": null,
            "grid_row": null,
            "max_height": null,
            "align_content": null,
            "visibility": null,
            "align_self": null,
            "height": null,
            "min_height": null,
            "padding": null,
            "grid_auto_rows": null,
            "grid_gap": null,
            "max_width": null,
            "order": null,
            "_view_module_version": "1.2.0",
            "grid_template_areas": null,
            "object_position": null,
            "object_fit": null,
            "grid_auto_columns": null,
            "margin": null,
            "display": null,
            "left": null
          }
        },
        "b4eab86a5ced424f90f8d755f77f1cd4": {
          "model_module": "@jupyter-widgets/controls",
          "model_name": "HBoxModel",
          "state": {
            "_view_name": "HBoxView",
            "_dom_classes": [],
            "_model_name": "HBoxModel",
            "_view_module": "@jupyter-widgets/controls",
            "_model_module_version": "1.5.0",
            "_view_count": null,
            "_view_module_version": "1.5.0",
            "box_style": "",
            "layout": "IPY_MODEL_5227bac07ca84c0c801a4cf9158d903f",
            "_model_module": "@jupyter-widgets/controls",
            "children": [
              "IPY_MODEL_9e011450899e4e3b80f2112385a50172",
              "IPY_MODEL_e278bbcf6c244fa6a82f0ab1cd2a1fa5"
            ]
          }
        },
        "5227bac07ca84c0c801a4cf9158d903f": {
          "model_module": "@jupyter-widgets/base",
          "model_name": "LayoutModel",
          "state": {
            "_view_name": "LayoutView",
            "grid_template_rows": null,
            "right": null,
            "justify_content": null,
            "_view_module": "@jupyter-widgets/base",
            "overflow": null,
            "_model_module_version": "1.2.0",
            "_view_count": null,
            "flex_flow": null,
            "width": null,
            "min_width": null,
            "border": null,
            "align_items": null,
            "bottom": null,
            "_model_module": "@jupyter-widgets/base",
            "top": null,
            "grid_column": null,
            "overflow_y": null,
            "overflow_x": null,
            "grid_auto_flow": null,
            "grid_area": null,
            "grid_template_columns": null,
            "flex": null,
            "_model_name": "LayoutModel",
            "justify_items": null,
            "grid_row": null,
            "max_height": null,
            "align_content": null,
            "visibility": null,
            "align_self": null,
            "height": null,
            "min_height": null,
            "padding": null,
            "grid_auto_rows": null,
            "grid_gap": null,
            "max_width": null,
            "order": null,
            "_view_module_version": "1.2.0",
            "grid_template_areas": null,
            "object_position": null,
            "object_fit": null,
            "grid_auto_columns": null,
            "margin": null,
            "display": null,
            "left": null
          }
        },
        "9e011450899e4e3b80f2112385a50172": {
          "model_module": "@jupyter-widgets/controls",
          "model_name": "FloatProgressModel",
          "state": {
            "_view_name": "ProgressView",
            "style": "IPY_MODEL_ecd7d55ff21c4a1c805b43f1f69ed1a1",
            "_dom_classes": [],
            "description": "Train 1: 100%",
            "_model_name": "FloatProgressModel",
            "bar_style": "success",
            "max": 1172,
            "_view_module": "@jupyter-widgets/controls",
            "_model_module_version": "1.5.0",
            "value": 1172,
            "_view_count": null,
            "_view_module_version": "1.5.0",
            "orientation": "horizontal",
            "min": 0,
            "description_tooltip": null,
            "_model_module": "@jupyter-widgets/controls",
            "layout": "IPY_MODEL_3014580a21054c879b2706de5225c8fb"
          }
        },
        "e278bbcf6c244fa6a82f0ab1cd2a1fa5": {
          "model_module": "@jupyter-widgets/controls",
          "model_name": "HTMLModel",
          "state": {
            "_view_name": "HTMLView",
            "style": "IPY_MODEL_3bcf950266074d39b3e865420cb11342",
            "_dom_classes": [],
            "description": "",
            "_model_name": "HTMLModel",
            "placeholder": "​",
            "_view_module": "@jupyter-widgets/controls",
            "_model_module_version": "1.5.0",
            "value": " 1172/1172 [3:15:06&lt;00:00,  9.99s/it, Loss: 0.380 (0.402)]",
            "_view_count": null,
            "_view_module_version": "1.5.0",
            "description_tooltip": null,
            "_model_module": "@jupyter-widgets/controls",
            "layout": "IPY_MODEL_ca7d3ebb07b041188f0b4428e51eb2d3"
          }
        },
        "ecd7d55ff21c4a1c805b43f1f69ed1a1": {
          "model_module": "@jupyter-widgets/controls",
          "model_name": "ProgressStyleModel",
          "state": {
            "_view_name": "StyleView",
            "_model_name": "ProgressStyleModel",
            "description_width": "initial",
            "_view_module": "@jupyter-widgets/base",
            "_model_module_version": "1.5.0",
            "_view_count": null,
            "_view_module_version": "1.2.0",
            "bar_color": null,
            "_model_module": "@jupyter-widgets/controls"
          }
        },
        "3014580a21054c879b2706de5225c8fb": {
          "model_module": "@jupyter-widgets/base",
          "model_name": "LayoutModel",
          "state": {
            "_view_name": "LayoutView",
            "grid_template_rows": null,
            "right": null,
            "justify_content": null,
            "_view_module": "@jupyter-widgets/base",
            "overflow": null,
            "_model_module_version": "1.2.0",
            "_view_count": null,
            "flex_flow": null,
            "width": null,
            "min_width": null,
            "border": null,
            "align_items": null,
            "bottom": null,
            "_model_module": "@jupyter-widgets/base",
            "top": null,
            "grid_column": null,
            "overflow_y": null,
            "overflow_x": null,
            "grid_auto_flow": null,
            "grid_area": null,
            "grid_template_columns": null,
            "flex": null,
            "_model_name": "LayoutModel",
            "justify_items": null,
            "grid_row": null,
            "max_height": null,
            "align_content": null,
            "visibility": null,
            "align_self": null,
            "height": null,
            "min_height": null,
            "padding": null,
            "grid_auto_rows": null,
            "grid_gap": null,
            "max_width": null,
            "order": null,
            "_view_module_version": "1.2.0",
            "grid_template_areas": null,
            "object_position": null,
            "object_fit": null,
            "grid_auto_columns": null,
            "margin": null,
            "display": null,
            "left": null
          }
        },
        "3bcf950266074d39b3e865420cb11342": {
          "model_module": "@jupyter-widgets/controls",
          "model_name": "DescriptionStyleModel",
          "state": {
            "_view_name": "StyleView",
            "_model_name": "DescriptionStyleModel",
            "description_width": "",
            "_view_module": "@jupyter-widgets/base",
            "_model_module_version": "1.5.0",
            "_view_count": null,
            "_view_module_version": "1.2.0",
            "_model_module": "@jupyter-widgets/controls"
          }
        },
        "ca7d3ebb07b041188f0b4428e51eb2d3": {
          "model_module": "@jupyter-widgets/base",
          "model_name": "LayoutModel",
          "state": {
            "_view_name": "LayoutView",
            "grid_template_rows": null,
            "right": null,
            "justify_content": null,
            "_view_module": "@jupyter-widgets/base",
            "overflow": null,
            "_model_module_version": "1.2.0",
            "_view_count": null,
            "flex_flow": null,
            "width": null,
            "min_width": null,
            "border": null,
            "align_items": null,
            "bottom": null,
            "_model_module": "@jupyter-widgets/base",
            "top": null,
            "grid_column": null,
            "overflow_y": null,
            "overflow_x": null,
            "grid_auto_flow": null,
            "grid_area": null,
            "grid_template_columns": null,
            "flex": null,
            "_model_name": "LayoutModel",
            "justify_items": null,
            "grid_row": null,
            "max_height": null,
            "align_content": null,
            "visibility": null,
            "align_self": null,
            "height": null,
            "min_height": null,
            "padding": null,
            "grid_auto_rows": null,
            "grid_gap": null,
            "max_width": null,
            "order": null,
            "_view_module_version": "1.2.0",
            "grid_template_areas": null,
            "object_position": null,
            "object_fit": null,
            "grid_auto_columns": null,
            "margin": null,
            "display": null,
            "left": null
          }
        },
        "a2c3c0af4b314cb1a566a4a4499a1740": {
          "model_module": "@jupyter-widgets/controls",
          "model_name": "HBoxModel",
          "state": {
            "_view_name": "HBoxView",
            "_dom_classes": [],
            "_model_name": "HBoxModel",
            "_view_module": "@jupyter-widgets/controls",
            "_model_module_version": "1.5.0",
            "_view_count": null,
            "_view_module_version": "1.5.0",
            "box_style": "",
            "layout": "IPY_MODEL_e4be27ac19544e3996a9042be5829342",
            "_model_module": "@jupyter-widgets/controls",
            "children": [
              "IPY_MODEL_8d5405240cc14e4ba4663ec1c7d536a3",
              "IPY_MODEL_c24c9f1eacbb4a24957d04fc580d116e"
            ]
          }
        },
        "e4be27ac19544e3996a9042be5829342": {
          "model_module": "@jupyter-widgets/base",
          "model_name": "LayoutModel",
          "state": {
            "_view_name": "LayoutView",
            "grid_template_rows": null,
            "right": null,
            "justify_content": null,
            "_view_module": "@jupyter-widgets/base",
            "overflow": null,
            "_model_module_version": "1.2.0",
            "_view_count": null,
            "flex_flow": null,
            "width": null,
            "min_width": null,
            "border": null,
            "align_items": null,
            "bottom": null,
            "_model_module": "@jupyter-widgets/base",
            "top": null,
            "grid_column": null,
            "overflow_y": null,
            "overflow_x": null,
            "grid_auto_flow": null,
            "grid_area": null,
            "grid_template_columns": null,
            "flex": null,
            "_model_name": "LayoutModel",
            "justify_items": null,
            "grid_row": null,
            "max_height": null,
            "align_content": null,
            "visibility": null,
            "align_self": null,
            "height": null,
            "min_height": null,
            "padding": null,
            "grid_auto_rows": null,
            "grid_gap": null,
            "max_width": null,
            "order": null,
            "_view_module_version": "1.2.0",
            "grid_template_areas": null,
            "object_position": null,
            "object_fit": null,
            "grid_auto_columns": null,
            "margin": null,
            "display": null,
            "left": null
          }
        },
        "8d5405240cc14e4ba4663ec1c7d536a3": {
          "model_module": "@jupyter-widgets/controls",
          "model_name": "FloatProgressModel",
          "state": {
            "_view_name": "ProgressView",
            "style": "IPY_MODEL_747a7417df4843cf9aca65e6db5bf33b",
            "_dom_classes": [],
            "description": "Valid: 100%",
            "_model_name": "FloatProgressModel",
            "bar_style": "success",
            "max": 391,
            "_view_module": "@jupyter-widgets/controls",
            "_model_module_version": "1.5.0",
            "value": 391,
            "_view_count": null,
            "_view_module_version": "1.5.0",
            "orientation": "horizontal",
            "min": 0,
            "description_tooltip": null,
            "_model_module": "@jupyter-widgets/controls",
            "layout": "IPY_MODEL_1011007d692349db8a38f4a864d3eb69"
          }
        },
        "c24c9f1eacbb4a24957d04fc580d116e": {
          "model_module": "@jupyter-widgets/controls",
          "model_name": "HTMLModel",
          "state": {
            "_view_name": "HTMLView",
            "style": "IPY_MODEL_bdb4be33f1a94ac5affce530a0dc267d",
            "_dom_classes": [],
            "description": "",
            "_model_name": "HTMLModel",
            "placeholder": "​",
            "_view_module": "@jupyter-widgets/controls",
            "_model_module_version": "1.5.0",
            "value": " 391/391 [21:59&lt;00:00,  3.37s/it, Acc: 0.817]",
            "_view_count": null,
            "_view_module_version": "1.5.0",
            "description_tooltip": null,
            "_model_module": "@jupyter-widgets/controls",
            "layout": "IPY_MODEL_7f807087bb454cc393b3584395055c20"
          }
        },
        "747a7417df4843cf9aca65e6db5bf33b": {
          "model_module": "@jupyter-widgets/controls",
          "model_name": "ProgressStyleModel",
          "state": {
            "_view_name": "StyleView",
            "_model_name": "ProgressStyleModel",
            "description_width": "initial",
            "_view_module": "@jupyter-widgets/base",
            "_model_module_version": "1.5.0",
            "_view_count": null,
            "_view_module_version": "1.2.0",
            "bar_color": null,
            "_model_module": "@jupyter-widgets/controls"
          }
        },
        "1011007d692349db8a38f4a864d3eb69": {
          "model_module": "@jupyter-widgets/base",
          "model_name": "LayoutModel",
          "state": {
            "_view_name": "LayoutView",
            "grid_template_rows": null,
            "right": null,
            "justify_content": null,
            "_view_module": "@jupyter-widgets/base",
            "overflow": null,
            "_model_module_version": "1.2.0",
            "_view_count": null,
            "flex_flow": null,
            "width": null,
            "min_width": null,
            "border": null,
            "align_items": null,
            "bottom": null,
            "_model_module": "@jupyter-widgets/base",
            "top": null,
            "grid_column": null,
            "overflow_y": null,
            "overflow_x": null,
            "grid_auto_flow": null,
            "grid_area": null,
            "grid_template_columns": null,
            "flex": null,
            "_model_name": "LayoutModel",
            "justify_items": null,
            "grid_row": null,
            "max_height": null,
            "align_content": null,
            "visibility": null,
            "align_self": null,
            "height": null,
            "min_height": null,
            "padding": null,
            "grid_auto_rows": null,
            "grid_gap": null,
            "max_width": null,
            "order": null,
            "_view_module_version": "1.2.0",
            "grid_template_areas": null,
            "object_position": null,
            "object_fit": null,
            "grid_auto_columns": null,
            "margin": null,
            "display": null,
            "left": null
          }
        },
        "bdb4be33f1a94ac5affce530a0dc267d": {
          "model_module": "@jupyter-widgets/controls",
          "model_name": "DescriptionStyleModel",
          "state": {
            "_view_name": "StyleView",
            "_model_name": "DescriptionStyleModel",
            "description_width": "",
            "_view_module": "@jupyter-widgets/base",
            "_model_module_version": "1.5.0",
            "_view_count": null,
            "_view_module_version": "1.2.0",
            "_model_module": "@jupyter-widgets/controls"
          }
        },
        "7f807087bb454cc393b3584395055c20": {
          "model_module": "@jupyter-widgets/base",
          "model_name": "LayoutModel",
          "state": {
            "_view_name": "LayoutView",
            "grid_template_rows": null,
            "right": null,
            "justify_content": null,
            "_view_module": "@jupyter-widgets/base",
            "overflow": null,
            "_model_module_version": "1.2.0",
            "_view_count": null,
            "flex_flow": null,
            "width": null,
            "min_width": null,
            "border": null,
            "align_items": null,
            "bottom": null,
            "_model_module": "@jupyter-widgets/base",
            "top": null,
            "grid_column": null,
            "overflow_y": null,
            "overflow_x": null,
            "grid_auto_flow": null,
            "grid_area": null,
            "grid_template_columns": null,
            "flex": null,
            "_model_name": "LayoutModel",
            "justify_items": null,
            "grid_row": null,
            "max_height": null,
            "align_content": null,
            "visibility": null,
            "align_self": null,
            "height": null,
            "min_height": null,
            "padding": null,
            "grid_auto_rows": null,
            "grid_gap": null,
            "max_width": null,
            "order": null,
            "_view_module_version": "1.2.0",
            "grid_template_areas": null,
            "object_position": null,
            "object_fit": null,
            "grid_auto_columns": null,
            "margin": null,
            "display": null,
            "left": null
          }
        },
        "625f7a80e44242958487309a26664832": {
          "model_module": "@jupyter-widgets/controls",
          "model_name": "HBoxModel",
          "state": {
            "_view_name": "HBoxView",
            "_dom_classes": [],
            "_model_name": "HBoxModel",
            "_view_module": "@jupyter-widgets/controls",
            "_model_module_version": "1.5.0",
            "_view_count": null,
            "_view_module_version": "1.5.0",
            "box_style": "",
            "layout": "IPY_MODEL_59f7a51a35474c7999712c5d55e00eb6",
            "_model_module": "@jupyter-widgets/controls",
            "children": [
              "IPY_MODEL_9c7478522d824220b4a2d4c601894127",
              "IPY_MODEL_622db9297db14caa9ce4259f8f5cc97e"
            ]
          }
        },
        "59f7a51a35474c7999712c5d55e00eb6": {
          "model_module": "@jupyter-widgets/base",
          "model_name": "LayoutModel",
          "state": {
            "_view_name": "LayoutView",
            "grid_template_rows": null,
            "right": null,
            "justify_content": null,
            "_view_module": "@jupyter-widgets/base",
            "overflow": null,
            "_model_module_version": "1.2.0",
            "_view_count": null,
            "flex_flow": null,
            "width": null,
            "min_width": null,
            "border": null,
            "align_items": null,
            "bottom": null,
            "_model_module": "@jupyter-widgets/base",
            "top": null,
            "grid_column": null,
            "overflow_y": null,
            "overflow_x": null,
            "grid_auto_flow": null,
            "grid_area": null,
            "grid_template_columns": null,
            "flex": null,
            "_model_name": "LayoutModel",
            "justify_items": null,
            "grid_row": null,
            "max_height": null,
            "align_content": null,
            "visibility": null,
            "align_self": null,
            "height": null,
            "min_height": null,
            "padding": null,
            "grid_auto_rows": null,
            "grid_gap": null,
            "max_width": null,
            "order": null,
            "_view_module_version": "1.2.0",
            "grid_template_areas": null,
            "object_position": null,
            "object_fit": null,
            "grid_auto_columns": null,
            "margin": null,
            "display": null,
            "left": null
          }
        },
        "9c7478522d824220b4a2d4c601894127": {
          "model_module": "@jupyter-widgets/controls",
          "model_name": "FloatProgressModel",
          "state": {
            "_view_name": "ProgressView",
            "style": "IPY_MODEL_02e7994e82054089af981ac9eddb6933",
            "_dom_classes": [],
            "description": "Train 2:  58%",
            "_model_name": "FloatProgressModel",
            "bar_style": "",
            "max": 1172,
            "_view_module": "@jupyter-widgets/controls",
            "_model_module_version": "1.5.0",
            "value": 681,
            "_view_count": null,
            "_view_module_version": "1.5.0",
            "orientation": "horizontal",
            "min": 0,
            "description_tooltip": null,
            "_model_module": "@jupyter-widgets/controls",
            "layout": "IPY_MODEL_b89e64d8fffe4a36a0b49674f743f34e"
          }
        },
        "622db9297db14caa9ce4259f8f5cc97e": {
          "model_module": "@jupyter-widgets/controls",
          "model_name": "HTMLModel",
          "state": {
            "_view_name": "HTMLView",
            "style": "IPY_MODEL_7e7817c800654319a57001f75f0c46e7",
            "_dom_classes": [],
            "description": "",
            "_model_name": "HTMLModel",
            "placeholder": "​",
            "_view_module": "@jupyter-widgets/controls",
            "_model_module_version": "1.5.0",
            "value": " 681/1172 [1:53:29&lt;1:23:28, 10.20s/it, Loss: 0.368 (0.379)]",
            "_view_count": null,
            "_view_module_version": "1.5.0",
            "description_tooltip": null,
            "_model_module": "@jupyter-widgets/controls",
            "layout": "IPY_MODEL_04962354e39148bd9e8a2e702f76ae57"
          }
        },
        "02e7994e82054089af981ac9eddb6933": {
          "model_module": "@jupyter-widgets/controls",
          "model_name": "ProgressStyleModel",
          "state": {
            "_view_name": "StyleView",
            "_model_name": "ProgressStyleModel",
            "description_width": "initial",
            "_view_module": "@jupyter-widgets/base",
            "_model_module_version": "1.5.0",
            "_view_count": null,
            "_view_module_version": "1.2.0",
            "bar_color": null,
            "_model_module": "@jupyter-widgets/controls"
          }
        },
        "b89e64d8fffe4a36a0b49674f743f34e": {
          "model_module": "@jupyter-widgets/base",
          "model_name": "LayoutModel",
          "state": {
            "_view_name": "LayoutView",
            "grid_template_rows": null,
            "right": null,
            "justify_content": null,
            "_view_module": "@jupyter-widgets/base",
            "overflow": null,
            "_model_module_version": "1.2.0",
            "_view_count": null,
            "flex_flow": null,
            "width": null,
            "min_width": null,
            "border": null,
            "align_items": null,
            "bottom": null,
            "_model_module": "@jupyter-widgets/base",
            "top": null,
            "grid_column": null,
            "overflow_y": null,
            "overflow_x": null,
            "grid_auto_flow": null,
            "grid_area": null,
            "grid_template_columns": null,
            "flex": null,
            "_model_name": "LayoutModel",
            "justify_items": null,
            "grid_row": null,
            "max_height": null,
            "align_content": null,
            "visibility": null,
            "align_self": null,
            "height": null,
            "min_height": null,
            "padding": null,
            "grid_auto_rows": null,
            "grid_gap": null,
            "max_width": null,
            "order": null,
            "_view_module_version": "1.2.0",
            "grid_template_areas": null,
            "object_position": null,
            "object_fit": null,
            "grid_auto_columns": null,
            "margin": null,
            "display": null,
            "left": null
          }
        },
        "7e7817c800654319a57001f75f0c46e7": {
          "model_module": "@jupyter-widgets/controls",
          "model_name": "DescriptionStyleModel",
          "state": {
            "_view_name": "StyleView",
            "_model_name": "DescriptionStyleModel",
            "description_width": "",
            "_view_module": "@jupyter-widgets/base",
            "_model_module_version": "1.5.0",
            "_view_count": null,
            "_view_module_version": "1.2.0",
            "_model_module": "@jupyter-widgets/controls"
          }
        },
        "04962354e39148bd9e8a2e702f76ae57": {
          "model_module": "@jupyter-widgets/base",
          "model_name": "LayoutModel",
          "state": {
            "_view_name": "LayoutView",
            "grid_template_rows": null,
            "right": null,
            "justify_content": null,
            "_view_module": "@jupyter-widgets/base",
            "overflow": null,
            "_model_module_version": "1.2.0",
            "_view_count": null,
            "flex_flow": null,
            "width": null,
            "min_width": null,
            "border": null,
            "align_items": null,
            "bottom": null,
            "_model_module": "@jupyter-widgets/base",
            "top": null,
            "grid_column": null,
            "overflow_y": null,
            "overflow_x": null,
            "grid_auto_flow": null,
            "grid_area": null,
            "grid_template_columns": null,
            "flex": null,
            "_model_name": "LayoutModel",
            "justify_items": null,
            "grid_row": null,
            "max_height": null,
            "align_content": null,
            "visibility": null,
            "align_self": null,
            "height": null,
            "min_height": null,
            "padding": null,
            "grid_auto_rows": null,
            "grid_gap": null,
            "max_width": null,
            "order": null,
            "_view_module_version": "1.2.0",
            "grid_template_areas": null,
            "object_position": null,
            "object_fit": null,
            "grid_auto_columns": null,
            "margin": null,
            "display": null,
            "left": null
          }
        }
      }
    }
  },
  "cells": [
    {
      "cell_type": "markdown",
      "metadata": {
        "id": "view-in-github",
        "colab_type": "text"
      },
      "source": [
        "<a href=\"https://colab.research.google.com/github/ppijbb/NLP_study/blob/main/Transformer.ipynb\" target=\"_parent\"><img src=\"https://colab.research.google.com/assets/colab-badge.svg\" alt=\"Open In Colab\"/></a>"
      ]
    },
    {
      "cell_type": "code",
      "metadata": {
        "colab": {
          "base_uri": "https://localhost:8080/"
        },
        "id": "W3SnRTrNFyTi",
        "outputId": "dd8e7bc4-dd08-484d-eb79-e75cf21b1368"
      },
      "source": [
        "!pip install sentencepiece\r\n",
        "!pip install wget"
      ],
      "execution_count": null,
      "outputs": [
        {
          "output_type": "stream",
          "text": [
            "Requirement already satisfied: sentencepiece in /usr/local/lib/python3.6/dist-packages (0.1.95)\n",
            "Collecting wget\n",
            "  Downloading https://files.pythonhosted.org/packages/47/6a/62e288da7bcda82b935ff0c6cfe542970f04e29c756b0e147251b2fb251f/wget-3.2.zip\n",
            "Building wheels for collected packages: wget\n",
            "  Building wheel for wget (setup.py) ... \u001b[?25l\u001b[?25hdone\n",
            "  Created wheel for wget: filename=wget-3.2-cp36-none-any.whl size=9682 sha256=ff0a33370ec73d5e3ef735c41c928fb4900b25a1002aae5cc01fee1b8d90f370\n",
            "  Stored in directory: /root/.cache/pip/wheels/40/15/30/7d8f7cea2902b4db79e3fea550d7d7b85ecb27ef992b618f3f\n",
            "Successfully built wget\n",
            "Installing collected packages: wget\n",
            "Successfully installed wget-3.2\n"
          ],
          "name": "stdout"
        }
      ]
    },
    {
      "cell_type": "code",
      "metadata": {
        "colab": {
          "base_uri": "https://localhost:8080/"
        },
        "id": "S5JrEKiZFypQ",
        "outputId": "8f53f715-083c-47da-847e-48d306edd409"
      },
      "source": [
        "drive.mount('/content/drive')\r\n",
        "data_dir = \"/content/drive/My Drive/Colab_Notebooks/data/transformer-evolution\""
      ],
      "execution_count": null,
      "outputs": [
        {
          "output_type": "stream",
          "text": [
            "Drive already mounted at /content/drive; to attempt to forcibly remount, call drive.mount(\"/content/drive\", force_remount=True).\n"
          ],
          "name": "stdout"
        }
      ]
    },
    {
      "cell_type": "code",
      "metadata": {
        "id": "KhhgZkZLF6Gu"
      },
      "source": [
        "import os\r\n",
        "import numpy as np\r\n",
        "import math\r\n",
        "import matplotlib.pyplot as plt\r\n",
        "import json\r\n",
        "import pandas as pd\r\n",
        "from IPython.display import display\r\n",
        "from tqdm import tqdm, tqdm_notebook, trange\r\n",
        "import sentencepiece as spm\r\n",
        "import wget\r\n",
        "\r\n",
        "import torch\r\n",
        "import torch.nn as nn\r\n",
        "import torch.nn.functional as F"
      ],
      "execution_count": null,
      "outputs": []
    },
    {
      "cell_type": "code",
      "metadata": {
        "colab": {
          "base_uri": "https://localhost:8080/"
        },
        "id": "NawRLGRGGTzs",
        "outputId": "355adbfe-cd1e-4b9d-c266-3b03997553b2"
      },
      "source": [
        "for f in os.listdir(data_dir):\r\n",
        "  print(f)"
      ],
      "execution_count": null,
      "outputs": [
        {
          "output_type": "stream",
          "text": [
            "kowiki_gpt.json\n",
            "save_gpt_pretrain.pth\n",
            "kowiki_bert_0.json\n",
            "save_bert_pretrain.pth\n",
            "kowiki_t5.model\n",
            "kowiki_t5.vocab\n",
            "kowiki_t5_0.json\n",
            "save_t5_pretrain.pth\n",
            "ratings_train_t5.json\n",
            "ratings_test_t5.json\n",
            "ratings_train.txt\n",
            "ratings_test.txt\n",
            "kowiki.csv.gz\n",
            "kowiki.model\n",
            "kowiki.vocab\n",
            "ratings_train.json\n",
            "ratings_test.json\n",
            "kowiki.txt\n"
          ],
          "name": "stdout"
        }
      ]
    },
    {
      "cell_type": "code",
      "metadata": {
        "colab": {
          "base_uri": "https://localhost:8080/"
        },
        "id": "cH6l8iHBGWXm",
        "outputId": "c7732c21-7700-4df0-b689-12516c9b8797"
      },
      "source": [
        "# vocab loading\r\n",
        "vocab_file = f\"{data_dir}/kowiki.model\"\r\n",
        "vocab = spm.SentencePieceProcessor()\r\n",
        "vocab.load(vocab_file)\r\n",
        "\r\n",
        "# 입력 texts\r\n",
        "lines = [\r\n",
        "  \"겨울은 추워요.\",\r\n",
        "  \"감기 조심하세요.\"\r\n",
        "]\r\n",
        "\r\n",
        "# text를 tensor로 변환\r\n",
        "inputs = []\r\n",
        "for line in lines:\r\n",
        "  pieces = vocab.encode_as_pieces(line)\r\n",
        "  ids = vocab.encode_as_ids(line)\r\n",
        "  inputs.append(torch.tensor(ids))\r\n",
        "  print(pieces)\r\n",
        "\r\n",
        "# 입력 길이가 다르므로 입력 최대 길이에 맟춰 padding(0)을 추가 해 줌\r\n",
        "inputs = torch.nn.utils.rnn.pad_sequence(inputs, batch_first=True, padding_value=0)\r\n",
        "# shape\r\n",
        "print(inputs.size())\r\n",
        "# 값\r\n",
        "print(inputs)"
      ],
      "execution_count": null,
      "outputs": [
        {
          "output_type": "stream",
          "text": [
            "['▁겨울', '은', '▁추', '워', '요', '.']\n",
            "['▁감', '기', '▁조', '심', '하', '세', '요', '.']\n",
            "torch.Size([2, 8])\n",
            "tensor([[3091, 3604,  206, 3958, 3760, 3590,    0,    0],\n",
            "        [ 212, 3605,   53, 3832, 3596, 3682, 3760, 3590]])\n"
          ],
          "name": "stdout"
        }
      ]
    },
    {
      "cell_type": "code",
      "metadata": {
        "colab": {
          "base_uri": "https://localhost:8080/"
        },
        "id": "64-fhYGKGYfV",
        "outputId": "280eaa91-3b78-4843-9977-e6e0376a7738"
      },
      "source": [
        "n_vocab = len(vocab) # vocab count\r\n",
        "d_hidn = 128 # hidden size\r\n",
        "nn_emb = nn.Embedding(n_vocab, d_hidn) # embedding 객체\r\n",
        "\r\n",
        "input_embs = nn_emb(inputs) # input embedding\r\n",
        "print(input_embs.size())"
      ],
      "execution_count": null,
      "outputs": [
        {
          "output_type": "stream",
          "text": [
            "torch.Size([2, 8, 128])\n"
          ],
          "name": "stdout"
        }
      ]
    },
    {
      "cell_type": "code",
      "metadata": {
        "id": "GLb-K5x4HfJA"
      },
      "source": [
        "def get_sinusoid_encoding_table(n_seq, d_hidn):\r\n",
        "    def cal_angle(position, i_hidn):\r\n",
        "        return position / np.power(10000, 2 * (i_hidn // 2) / d_hidn)\r\n",
        "    def get_posi_angle_vec(position):\r\n",
        "        return [cal_angle(position, i_hidn) for i_hidn in range(d_hidn)]\r\n",
        "\r\n",
        "    sinusoid_table = np.array([get_posi_angle_vec(i_seq) for i_seq in range(n_seq)])\r\n",
        "    sinusoid_table[:, 0::2] = np.sin(sinusoid_table[:, 0::2])  # dim 2i\r\n",
        "    sinusoid_table[:, 1::2] = np.cos(sinusoid_table[:, 1::2])  # dim 2i+1\r\n",
        "\r\n",
        "    return sinusoid_table"
      ],
      "execution_count": null,
      "outputs": []
    },
    {
      "cell_type": "code",
      "metadata": {
        "colab": {
          "base_uri": "https://localhost:8080/",
          "height": 301
        },
        "id": "ihvFNXSFHgfP",
        "outputId": "dbc04a4c-b389-486b-f0a7-851b46a2e049"
      },
      "source": [
        "n_seq = 64\r\n",
        "pos_encoding = get_sinusoid_encoding_table(n_seq, d_hidn)\r\n",
        "\r\n",
        "print (pos_encoding.shape) # 크기 출력\r\n",
        "plt.pcolormesh(pos_encoding, cmap='RdBu')\r\n",
        "plt.xlabel('Depth')\r\n",
        "plt.xlim((0, d_hidn))\r\n",
        "plt.ylabel('Position')\r\n",
        "plt.colorbar()\r\n",
        "plt.show()"
      ],
      "execution_count": null,
      "outputs": [
        {
          "output_type": "stream",
          "text": [
            "(64, 128)\n"
          ],
          "name": "stdout"
        },
        {
          "output_type": "display_data",
          "data": {
            "image/png": "[encoded data removed]",
            "text/plain": [
              "<Figure size 432x288 with 2 Axes>"
            ]
          },
          "metadata": {
            "tags": [],
            "needs_background": "light"
          }
        }
      ]
    },
    {
      "cell_type": "code",
      "metadata": {
        "colab": {
          "base_uri": "https://localhost:8080/"
        },
        "id": "g2zF7IorHiG-",
        "outputId": "a0cb65d5-6df1-4821-9e6b-eabb3040d19c"
      },
      "source": [
        "pos_encoding = torch.FloatTensor(pos_encoding)\r\n",
        "nn_pos = nn.Embedding.from_pretrained(pos_encoding, freeze=True)\r\n",
        "\r\n",
        "positions = torch.arange(inputs.size(1), device=inputs.device, dtype=inputs.dtype).expand(inputs.size(0), inputs.size(1)).contiguous() + 1\r\n",
        "pos_mask = inputs.eq(0)\r\n",
        "\r\n",
        "positions.masked_fill_(pos_mask, 0)\r\n",
        "pos_embs = nn_pos(positions) # position embedding\r\n",
        "\r\n",
        "print(inputs)\r\n",
        "print(positions)\r\n",
        "print(pos_embs.size())"
      ],
      "execution_count": null,
      "outputs": [
        {
          "output_type": "stream",
          "text": [
            "tensor([[3091, 3604,  206, 3958, 3760, 3590,    0,    0],\n",
            "        [ 212, 3605,   53, 3832, 3596, 3682, 3760, 3590]])\n",
            "tensor([[1, 2, 3, 4, 5, 6, 0, 0],\n",
            "        [1, 2, 3, 4, 5, 6, 7, 8]])\n",
            "torch.Size([2, 8, 128])\n"
          ],
          "name": "stdout"
        }
      ]
    },
    {
      "cell_type": "code",
      "metadata": {
        "id": "ZISCrjTjHjsR"
      },
      "source": [
        "input_sums = input_embs + pos_embs"
      ],
      "execution_count": null,
      "outputs": []
    },
    {
      "cell_type": "code",
      "metadata": {
        "colab": {
          "base_uri": "https://localhost:8080/"
        },
        "id": "5Qd328DyHk7I",
        "outputId": "e7918fea-acd4-43c8-ac8c-2762bbff5df3"
      },
      "source": [
        "Q = input_sums\r\n",
        "K = input_sums\r\n",
        "V = input_sums\r\n",
        "attn_mask = inputs.eq(0).unsqueeze(1).expand(Q.size(0), Q.size(1), K.size(1))\r\n",
        "print(attn_mask.size())\r\n",
        "print(attn_mask[0])"
      ],
      "execution_count": null,
      "outputs": [
        {
          "output_type": "stream",
          "text": [
            "torch.Size([2, 8, 8])\n",
            "tensor([[False, False, False, False, False, False,  True,  True],\n",
            "        [False, False, False, False, False, False,  True,  True],\n",
            "        [False, False, False, False, False, False,  True,  True],\n",
            "        [False, False, False, False, False, False,  True,  True],\n",
            "        [False, False, False, False, False, False,  True,  True],\n",
            "        [False, False, False, False, False, False,  True,  True],\n",
            "        [False, False, False, False, False, False,  True,  True],\n",
            "        [False, False, False, False, False, False,  True,  True]])\n"
          ],
          "name": "stdout"
        }
      ]
    },
    {
      "cell_type": "code",
      "metadata": {
        "colab": {
          "base_uri": "https://localhost:8080/"
        },
        "id": "mm4kFF-DHmG2",
        "outputId": "f04d3366-c41d-409f-f5c6-f28ed6cdf3cb"
      },
      "source": [
        "scores = torch.matmul(Q, K.transpose(-1, -2))\r\n",
        "print(scores.size())\r\n",
        "print(scores[0])"
      ],
      "execution_count": null,
      "outputs": [
        {
          "output_type": "stream",
          "text": [
            "torch.Size([2, 8, 8])\n",
            "tensor([[224.8264,  60.8021,  83.4846,  53.0841,  76.3761,  57.7435,  75.7161,\n",
            "          75.7161],\n",
            "        [ 60.8021, 152.1900,  37.6300,  41.9216,  47.7023,  43.0618,  51.0911,\n",
            "          51.0911],\n",
            "        [ 83.4846,  37.6300, 188.7206,  37.2529,  54.0546,  60.1003, 101.1594,\n",
            "         101.1594],\n",
            "        [ 53.0841,  41.9216,  37.2529, 201.1003,  73.5700,  28.5441,  51.9892,\n",
            "          51.9892],\n",
            "        [ 76.3761,  47.7023,  54.0546,  73.5700, 193.0322,  84.2410,  74.6388,\n",
            "          74.6388],\n",
            "        [ 57.7435,  43.0618,  60.1003,  28.5441,  84.2410, 209.7837,  47.1137,\n",
            "          47.1137],\n",
            "        [ 75.7161,  51.0911, 101.1594,  51.9892,  74.6388,  47.1137, 206.4439,\n",
            "         206.4439],\n",
            "        [ 75.7161,  51.0911, 101.1594,  51.9892,  74.6388,  47.1137, 206.4439,\n",
            "         206.4439]], grad_fn=<SelectBackward>)\n"
          ],
          "name": "stdout"
        }
      ]
    },
    {
      "cell_type": "code",
      "metadata": {
        "colab": {
          "base_uri": "https://localhost:8080/"
        },
        "id": "-gv1hKonHp_u",
        "outputId": "59374308-7b67-48ce-b6d4-62748340b8a6"
      },
      "source": [
        "d_head = 64\r\n",
        "scores = scores.mul_(1/d_head**0.5)\r\n",
        "print(scores.size())\r\n",
        "print(scores[0])"
      ],
      "execution_count": null,
      "outputs": [
        {
          "output_type": "stream",
          "text": [
            "torch.Size([2, 8, 8])\n",
            "tensor([[28.1033,  7.6003, 10.4356,  6.6355,  9.5470,  7.2179,  9.4645,  9.4645],\n",
            "        [ 7.6003, 19.0238,  4.7038,  5.2402,  5.9628,  5.3827,  6.3864,  6.3864],\n",
            "        [10.4356,  4.7038, 23.5901,  4.6566,  6.7568,  7.5125, 12.6449, 12.6449],\n",
            "        [ 6.6355,  5.2402,  4.6566, 25.1375,  9.1962,  3.5680,  6.4987,  6.4987],\n",
            "        [ 9.5470,  5.9628,  6.7568,  9.1962, 24.1290, 10.5301,  9.3299,  9.3299],\n",
            "        [ 7.2179,  5.3827,  7.5125,  3.5680, 10.5301, 26.2230,  5.8892,  5.8892],\n",
            "        [ 9.4645,  6.3864, 12.6449,  6.4987,  9.3299,  5.8892, 25.8055, 25.8055],\n",
            "        [ 9.4645,  6.3864, 12.6449,  6.4987,  9.3299,  5.8892, 25.8055, 25.8055]],\n",
            "       grad_fn=<SelectBackward>)\n"
          ],
          "name": "stdout"
        }
      ]
    },
    {
      "cell_type": "code",
      "metadata": {
        "colab": {
          "base_uri": "https://localhost:8080/"
        },
        "id": "7FOcLAP_Hrsn",
        "outputId": "85aa1681-e0b6-4874-cf64-a6fa2cd6f4ab"
      },
      "source": [
        "scores.masked_fill_(attn_mask, -1e9)\r\n",
        "print(scores.size())\r\n",
        "print(scores[0])"
      ],
      "execution_count": null,
      "outputs": [
        {
          "output_type": "stream",
          "text": [
            "torch.Size([2, 8, 8])\n",
            "tensor([[ 2.8103e+01,  7.6003e+00,  1.0436e+01,  6.6355e+00,  9.5470e+00,\n",
            "          7.2179e+00, -1.0000e+09, -1.0000e+09],\n",
            "        [ 7.6003e+00,  1.9024e+01,  4.7038e+00,  5.2402e+00,  5.9628e+00,\n",
            "          5.3827e+00, -1.0000e+09, -1.0000e+09],\n",
            "        [ 1.0436e+01,  4.7038e+00,  2.3590e+01,  4.6566e+00,  6.7568e+00,\n",
            "          7.5125e+00, -1.0000e+09, -1.0000e+09],\n",
            "        [ 6.6355e+00,  5.2402e+00,  4.6566e+00,  2.5138e+01,  9.1962e+00,\n",
            "          3.5680e+00, -1.0000e+09, -1.0000e+09],\n",
            "        [ 9.5470e+00,  5.9628e+00,  6.7568e+00,  9.1962e+00,  2.4129e+01,\n",
            "          1.0530e+01, -1.0000e+09, -1.0000e+09],\n",
            "        [ 7.2179e+00,  5.3827e+00,  7.5125e+00,  3.5680e+00,  1.0530e+01,\n",
            "          2.6223e+01, -1.0000e+09, -1.0000e+09],\n",
            "        [ 9.4645e+00,  6.3864e+00,  1.2645e+01,  6.4987e+00,  9.3299e+00,\n",
            "          5.8892e+00, -1.0000e+09, -1.0000e+09],\n",
            "        [ 9.4645e+00,  6.3864e+00,  1.2645e+01,  6.4987e+00,  9.3299e+00,\n",
            "          5.8892e+00, -1.0000e+09, -1.0000e+09]], grad_fn=<SelectBackward>)\n"
          ],
          "name": "stdout"
        }
      ]
    },
    {
      "cell_type": "code",
      "metadata": {
        "colab": {
          "base_uri": "https://localhost:8080/"
        },
        "id": "G5QgLfeJHtlW",
        "outputId": "d4e3f784-0cf7-4aac-b3e3-15a8d5f54404"
      },
      "source": [
        "attn_prob = nn.Softmax(dim=-1)(scores)\r\n",
        "print(attn_prob.size())\r\n",
        "print(attn_prob[0])"
      ],
      "execution_count": null,
      "outputs": [
        {
          "output_type": "stream",
          "text": [
            "torch.Size([2, 8, 8])\n",
            "tensor([[1.0000e+00, 1.2464e-09, 2.1233e-08, 4.7496e-10, 8.7319e-09, 8.5036e-10,\n",
            "         0.0000e+00, 0.0000e+00],\n",
            "        [1.0935e-05, 9.9998e-01, 6.0380e-07, 1.0325e-06, 2.1266e-06, 1.1906e-06,\n",
            "         0.0000e+00, 0.0000e+00],\n",
            "        [1.9367e-06, 6.2773e-09, 1.0000e+00, 5.9882e-09, 4.8911e-08, 1.0414e-07,\n",
            "         0.0000e+00, 0.0000e+00],\n",
            "        [9.2188e-09, 2.2840e-09, 1.2742e-09, 1.0000e+00, 1.1934e-07, 4.2902e-10,\n",
            "         0.0000e+00, 0.0000e+00],\n",
            "        [4.6464e-07, 1.2897e-08, 2.8533e-08, 3.2717e-07, 1.0000e+00, 1.2419e-06,\n",
            "         0.0000e+00, 0.0000e+00],\n",
            "        [5.5747e-09, 8.8961e-10, 7.4846e-09, 1.4490e-10, 1.5300e-07, 1.0000e+00,\n",
            "         0.0000e+00, 0.0000e+00],\n",
            "        [3.8378e-02, 1.7672e-03, 9.2326e-01, 1.9771e-03, 3.3543e-02, 1.0749e-03,\n",
            "         0.0000e+00, 0.0000e+00],\n",
            "        [3.8378e-02, 1.7672e-03, 9.2326e-01, 1.9771e-03, 3.3543e-02, 1.0749e-03,\n",
            "         0.0000e+00, 0.0000e+00]], grad_fn=<SelectBackward>)\n"
          ],
          "name": "stdout"
        }
      ]
    },
    {
      "cell_type": "code",
      "metadata": {
        "colab": {
          "base_uri": "https://localhost:8080/"
        },
        "id": "0I-TtWuKHvmm",
        "outputId": "b62681be-e0e8-4515-b138-7e5ba5778e15"
      },
      "source": [
        "context = torch.matmul(attn_prob, V)\r\n",
        "print(context.size())"
      ],
      "execution_count": null,
      "outputs": [
        {
          "output_type": "stream",
          "text": [
            "torch.Size([2, 8, 128])\n"
          ],
          "name": "stdout"
        }
      ]
    },
    {
      "cell_type": "code",
      "metadata": {
        "colab": {
          "base_uri": "https://localhost:8080/"
        },
        "id": "xW31frYnJ8SG",
        "outputId": "affa012e-247a-49d8-e4b7-42057c859117"
      },
      "source": [
        "def get_attn_decoder_mask(seq):\r\n",
        "    subsequent_mask = torch.ones_like(seq).unsqueeze(-1).expand(seq.size(0), seq.size(1), seq.size(1))\r\n",
        "    subsequent_mask = subsequent_mask.triu(diagonal=1) # upper triangular part of a matrix(2-D)\r\n",
        "    return subsequent_mask\r\n",
        "\r\n",
        "\r\n",
        "Q = input_sums\r\n",
        "K = input_sums\r\n",
        "V = input_sums\r\n",
        "\r\n",
        "attn_pad_mask = inputs.eq(0).unsqueeze(1).expand(Q.size(0), Q.size(1), K.size(1))\r\n",
        "print(attn_pad_mask[0])\r\n",
        "attn_dec_mask = get_attn_decoder_mask(inputs)\r\n",
        "print(attn_dec_mask[0])\r\n",
        "attn_mask = torch.gt((attn_pad_mask + attn_dec_mask), 0)\r\n",
        "print(attn_mask[0])\r\n",
        "\r\n",
        "batch_size = Q.size(0)\r\n",
        "n_head = 2"
      ],
      "execution_count": null,
      "outputs": [
        {
          "output_type": "stream",
          "text": [
            "tensor([[False, False, False, False, False, False,  True,  True],\n",
            "        [False, False, False, False, False, False,  True,  True],\n",
            "        [False, False, False, False, False, False,  True,  True],\n",
            "        [False, False, False, False, False, False,  True,  True],\n",
            "        [False, False, False, False, False, False,  True,  True],\n",
            "        [False, False, False, False, False, False,  True,  True],\n",
            "        [False, False, False, False, False, False,  True,  True],\n",
            "        [False, False, False, False, False, False,  True,  True]])\n",
            "tensor([[0, 1, 1, 1, 1, 1, 1, 1],\n",
            "        [0, 0, 1, 1, 1, 1, 1, 1],\n",
            "        [0, 0, 0, 1, 1, 1, 1, 1],\n",
            "        [0, 0, 0, 0, 1, 1, 1, 1],\n",
            "        [0, 0, 0, 0, 0, 1, 1, 1],\n",
            "        [0, 0, 0, 0, 0, 0, 1, 1],\n",
            "        [0, 0, 0, 0, 0, 0, 0, 1],\n",
            "        [0, 0, 0, 0, 0, 0, 0, 0]])\n",
            "tensor([[False,  True,  True,  True,  True,  True,  True,  True],\n",
            "        [False, False,  True,  True,  True,  True,  True,  True],\n",
            "        [False, False, False,  True,  True,  True,  True,  True],\n",
            "        [False, False, False, False,  True,  True,  True,  True],\n",
            "        [False, False, False, False, False,  True,  True,  True],\n",
            "        [False, False, False, False, False, False,  True,  True],\n",
            "        [False, False, False, False, False, False,  True,  True],\n",
            "        [False, False, False, False, False, False,  True,  True]])\n"
          ],
          "name": "stdout"
        }
      ]
    },
    {
      "cell_type": "code",
      "metadata": {
        "colab": {
          "base_uri": "https://localhost:8080/"
        },
        "id": "l2pvoOeqKCEO",
        "outputId": "a07aecbd-b79d-4cdc-96e8-74c65c293d78"
      },
      "source": [
        "attention = MultiHeadAttention(d_hidn, n_head, d_head)\r\n",
        "output, attn_prob = attention(Q, K, V, attn_mask)\r\n",
        "print(output.size(), attn_prob.size())"
      ],
      "execution_count": null,
      "outputs": [
        {
          "output_type": "stream",
          "text": [
            "torch.Size([2, 8, 128]) torch.Size([2, 2, 8, 8])\n"
          ],
          "name": "stdout"
        }
      ]
    },
    {
      "cell_type": "code",
      "metadata": {
        "colab": {
          "base_uri": "https://localhost:8080/"
        },
        "id": "wOv_DPltKEae",
        "outputId": "8868ca39-4923-4970-cd1e-5982773c712d"
      },
      "source": [
        "conv1 = nn.Conv1d(in_channels=d_hidn, out_channels=d_hidn * 4, kernel_size=1)\r\n",
        "# (bs, d_hidn * 4, n_seq)\r\n",
        "ff_1 = conv1(output.transpose(1, 2))\r\n",
        "print(ff_1.size())"
      ],
      "execution_count": null,
      "outputs": [
        {
          "output_type": "stream",
          "text": [
            "torch.Size([2, 512, 8])\n"
          ],
          "name": "stdout"
        }
      ]
    },
    {
      "cell_type": "code",
      "metadata": {
        "id": "PdIxfClVKGxu"
      },
      "source": [
        "class PoswiseFeedForwardNet(nn.Module):\r\n",
        "    def __init__(self, d_hidn):\r\n",
        "        super().__init__()\r\n",
        "\r\n",
        "        self.conv1 = nn.Conv1d(in_channels=self.config.d_hidn, out_channels=self.config.d_hidn * 4, kernel_size=1)\r\n",
        "        self.conv2 = nn.Conv1d(in_channels=self.config.d_hidn * 4, out_channels=self.config.d_hidn, kernel_size=1)\r\n",
        "        self.active = F.gelu\r\n",
        "\r\n",
        "    def forward(self, inputs):\r\n",
        "        # (bs, d_ff, n_seq)\r\n",
        "        output = self.active(self.conv1(inputs.transpose(1, 2)))\r\n",
        "        # (bs, n_seq, d_hidn)\r\n",
        "        output = self.conv2(output).transpose(1, 2)\r\n",
        "        # (bs, n_seq, d_hidn)\r\n",
        "        return output"
      ],
      "execution_count": null,
      "outputs": []
    },
    {
      "cell_type": "code",
      "metadata": {
        "colab": {
          "base_uri": "https://localhost:8080/"
        },
        "id": "0Xrj5_hBKNZ_",
        "outputId": "fabfd6d2-9688-4087-e1a2-6f4fb6ef18da"
      },
      "source": [
        "vocab_file = f\"{data_dir}/kowiki.model\"\r\n",
        "vocab = spm.SentencePieceProcessor()\r\n",
        "vocab.load(vocab_file)"
      ],
      "execution_count": null,
      "outputs": [
        {
          "output_type": "execute_result",
          "data": {
            "text/plain": [
              "True"
            ]
          },
          "metadata": {
            "tags": []
          },
          "execution_count": 34
        }
      ]
    },
    {
      "cell_type": "code",
      "metadata": {
        "id": "fUWWeevSKWmH"
      },
      "source": [
        "class Config(dict): \r\n",
        "    __getattr__ = dict.__getitem__\r\n",
        "    __setattr__ = dict.__setitem__\r\n",
        "\r\n",
        "    @classmethod\r\n",
        "    def load(cls, file):\r\n",
        "        with open(file, 'r') as f:\r\n",
        "            config = json.loads(f.read())\r\n",
        "            return Config(config)"
      ],
      "execution_count": null,
      "outputs": []
    },
    {
      "cell_type": "code",
      "metadata": {
        "colab": {
          "base_uri": "https://localhost:8080/"
        },
        "id": "-nUkQuzOKYZN",
        "outputId": "6d764d53-c4c2-45a2-84be-e6fd0d93aeb1"
      },
      "source": [
        "config = Config({\r\n",
        "    \"n_enc_vocab\": len(vocab),\r\n",
        "    \"n_dec_vocab\": len(vocab),\r\n",
        "    \"n_enc_seq\": 256,\r\n",
        "    \"n_dec_seq\": 256,\r\n",
        "    \"n_layer\": 6,\r\n",
        "    \"d_hidn\": 256,\r\n",
        "    \"i_pad\": 0,\r\n",
        "    \"d_ff\": 1024,\r\n",
        "    \"n_head\": 4,\r\n",
        "    \"d_head\": 64,\r\n",
        "    \"dropout\": 0.1,\r\n",
        "    \"layer_norm_epsilon\": 1e-12\r\n",
        "})\r\n",
        "print(config)"
      ],
      "execution_count": null,
      "outputs": [
        {
          "output_type": "stream",
          "text": [
            "{'n_enc_vocab': 8007, 'n_dec_vocab': 8007, 'n_enc_seq': 256, 'n_dec_seq': 256, 'n_layer': 6, 'd_hidn': 256, 'i_pad': 0, 'd_ff': 1024, 'n_head': 4, 'd_head': 64, 'dropout': 0.1, 'layer_norm_epsilon': 1e-12}\n"
          ],
          "name": "stdout"
        }
      ]
    },
    {
      "cell_type": "code",
      "metadata": {
        "id": "8njgZOjLKag-"
      },
      "source": [
        "def get_sinusoid_encoding_table(n_seq, d_hidn):\r\n",
        "    def cal_angle(position, i_hidn):\r\n",
        "        return position / np.power(10000, 2 * (i_hidn // 2) / d_hidn)\r\n",
        "    def get_posi_angle_vec(position):\r\n",
        "        return [cal_angle(position, i_hidn) for i_hidn in range(d_hidn)]\r\n",
        "\r\n",
        "    sinusoid_table = np.array([get_posi_angle_vec(i_seq) for i_seq in range(n_seq)])\r\n",
        "    sinusoid_table[:, 0::2] = np.sin(sinusoid_table[:, 0::2])  # even index sin \r\n",
        "    sinusoid_table[:, 1::2] = np.cos(sinusoid_table[:, 1::2])  # odd index cos\r\n",
        "\r\n",
        "    return sinusoid_table"
      ],
      "execution_count": null,
      "outputs": []
    },
    {
      "cell_type": "code",
      "metadata": {
        "id": "_DBOYk3nKcUm"
      },
      "source": [
        "def get_attn_pad_mask(seq_q, seq_k, i_pad):\r\n",
        "    batch_size, len_q = seq_q.size()\r\n",
        "    batch_size, len_k = seq_k.size()\r\n",
        "    pad_attn_mask = seq_k.data.eq(i_pad).unsqueeze(1).expand(batch_size, len_q, len_k)  # <pad>\r\n",
        "    return pad_attn_mask"
      ],
      "execution_count": null,
      "outputs": []
    },
    {
      "cell_type": "code",
      "metadata": {
        "id": "9jp5VJhCKdlv"
      },
      "source": [
        "def get_attn_decoder_mask(seq):\r\n",
        "    subsequent_mask = torch.ones_like(seq).unsqueeze(-1).expand(seq.size(0), seq.size(1), seq.size(1))\r\n",
        "    subsequent_mask = subsequent_mask.triu(diagonal=1) # upper triangular part of a matrix(2-D)\r\n",
        "    return subsequent_mask"
      ],
      "execution_count": null,
      "outputs": []
    },
    {
      "cell_type": "code",
      "metadata": {
        "id": "eqNx0FdzKe2n"
      },
      "source": [
        "class ScaledDotProductAttention(nn.Module):\r\n",
        "    def __init__(self, config):\r\n",
        "        super().__init__()\r\n",
        "        self.config = config\r\n",
        "        self.dropout = nn.Dropout(config.dropout)\r\n",
        "        self.scale = 1 / (self.config.d_head ** 0.5)\r\n",
        "    \r\n",
        "    def forward(self, Q, K, V, attn_mask):\r\n",
        "        # (bs, n_head, n_q_seq, n_k_seq)\r\n",
        "        scores = torch.matmul(Q, K.transpose(-1, -2)).mul_(self.scale)\r\n",
        "        scores.masked_fill_(attn_mask, -1e9)\r\n",
        "        # (bs, n_head, n_q_seq, n_k_seq)\r\n",
        "        attn_prob = nn.Softmax(dim=-1)(scores)\r\n",
        "        attn_prob = self.dropout(attn_prob)\r\n",
        "        # (bs, n_head, n_q_seq, d_v)\r\n",
        "        context = torch.matmul(attn_prob, V)\r\n",
        "        # (bs, n_head, n_q_seq, d_v), (bs, n_head, n_q_seq, n_v_seq)\r\n",
        "        return context, attn_prob"
      ],
      "execution_count": null,
      "outputs": []
    },
    {
      "cell_type": "code",
      "metadata": {
        "id": "inQ7Cm_IKgT_"
      },
      "source": [
        "class MultiHeadAttention(nn.Module):\r\n",
        "    def __init__(self, config):\r\n",
        "        super().__init__()\r\n",
        "        self.config = config\r\n",
        "\r\n",
        "        self.W_Q = nn.Linear(self.config.d_hidn, self.config.n_head * self.config.d_head)\r\n",
        "        self.W_K = nn.Linear(self.config.d_hidn, self.config.n_head * self.config.d_head)\r\n",
        "        self.W_V = nn.Linear(self.config.d_hidn, self.config.n_head * self.config.d_head)\r\n",
        "        self.scaled_dot_attn = ScaledDotProductAttention(self.config)\r\n",
        "        self.linear = nn.Linear(self.config.n_head * self.config.d_head, self.config.d_hidn)\r\n",
        "        self.dropout = nn.Dropout(config.dropout)\r\n",
        "    \r\n",
        "    def forward(self, Q, K, V, attn_mask):\r\n",
        "        batch_size = Q.size(0)\r\n",
        "        # (bs, n_head, n_q_seq, d_head)\r\n",
        "        q_s = self.W_Q(Q).view(batch_size, -1, self.config.n_head, self.config.d_head).transpose(1,2)\r\n",
        "        # (bs, n_head, n_k_seq, d_head)\r\n",
        "        k_s = self.W_K(K).view(batch_size, -1, self.config.n_head, self.config.d_head).transpose(1,2)\r\n",
        "        # (bs, n_head, n_v_seq, d_head)\r\n",
        "        v_s = self.W_V(V).view(batch_size, -1, self.config.n_head, self.config.d_head).transpose(1,2)\r\n",
        "\r\n",
        "        # (bs, n_head, n_q_seq, n_k_seq)\r\n",
        "        attn_mask = attn_mask.unsqueeze(1).repeat(1, self.config.n_head, 1, 1)\r\n",
        "\r\n",
        "        # (bs, n_head, n_q_seq, d_head), (bs, n_head, n_q_seq, n_k_seq)\r\n",
        "        context, attn_prob = self.scaled_dot_attn(q_s, k_s, v_s, attn_mask)\r\n",
        "        # (bs, n_head, n_q_seq, h_head * d_head)\r\n",
        "        context = context.transpose(1, 2).contiguous().view(batch_size, -1, self.config.n_head * self.config.d_head)\r\n",
        "        # (bs, n_head, n_q_seq, e_embd)\r\n",
        "        output = self.linear(context)\r\n",
        "        output = self.dropout(output)\r\n",
        "        # (bs, n_q_seq, d_hidn), (bs, n_head, n_q_seq, n_k_seq)\r\n",
        "        return output, attn_prob"
      ],
      "execution_count": null,
      "outputs": []
    },
    {
      "cell_type": "code",
      "metadata": {
        "id": "OqwwNZBXKise"
      },
      "source": [
        "class PoswiseFeedForwardNet(nn.Module):\r\n",
        "    def __init__(self, config):\r\n",
        "        super().__init__()\r\n",
        "        self.config = config\r\n",
        "\r\n",
        "        self.conv1 = nn.Conv1d(in_channels=self.config.d_hidn, out_channels=self.config.d_ff, kernel_size=1)\r\n",
        "        self.conv2 = nn.Conv1d(in_channels=self.config.d_ff, out_channels=self.config.d_hidn, kernel_size=1)\r\n",
        "        self.active = F.gelu\r\n",
        "        self.dropout = nn.Dropout(config.dropout)\r\n",
        "\r\n",
        "    def forward(self, inputs):\r\n",
        "        # (bs, d_ff, n_seq)\r\n",
        "        output = self.active(self.conv1(inputs.transpose(1, 2)))\r\n",
        "        # (bs, n_seq, d_hidn)\r\n",
        "        output = self.conv2(output).transpose(1, 2)\r\n",
        "        output = self.dropout(output)\r\n",
        "        # (bs, n_seq, d_hidn)\r\n",
        "        return output"
      ],
      "execution_count": null,
      "outputs": []
    },
    {
      "cell_type": "code",
      "metadata": {
        "id": "Xrls1hkhKr_n"
      },
      "source": [
        "class EncoderLayer(nn.Module):\r\n",
        "    def __init__(self, config):\r\n",
        "        super().__init__()\r\n",
        "        self.config = config\r\n",
        "\r\n",
        "        self.self_attn = MultiHeadAttention(self.config)\r\n",
        "        self.layer_norm1 = nn.LayerNorm(self.config.d_hidn, eps=self.config.layer_norm_epsilon)\r\n",
        "        self.pos_ffn = PoswiseFeedForwardNet(self.config)\r\n",
        "        self.layer_norm2 = nn.LayerNorm(self.config.d_hidn, eps=self.config.layer_norm_epsilon)\r\n",
        "    \r\n",
        "    def forward(self, inputs, attn_mask):\r\n",
        "        # (bs, n_enc_seq, d_hidn), (bs, n_head, n_enc_seq, n_enc_seq)\r\n",
        "        att_outputs, attn_prob = self.self_attn(inputs, inputs, inputs, attn_mask)\r\n",
        "        att_outputs = self.layer_norm1(inputs + att_outputs)\r\n",
        "        # (bs, n_enc_seq, d_hidn)\r\n",
        "        ffn_outputs = self.pos_ffn(att_outputs)\r\n",
        "        ffn_outputs = self.layer_norm2(ffn_outputs + att_outputs)\r\n",
        "        # (bs, n_enc_seq, d_hidn), (bs, n_head, n_enc_seq, n_enc_seq)\r\n",
        "        return ffn_outputs, attn_prob"
      ],
      "execution_count": null,
      "outputs": []
    },
    {
      "cell_type": "code",
      "metadata": {
        "id": "tvWqXXlKKth_"
      },
      "source": [
        "class Encoder(nn.Module):\r\n",
        "    def __init__(self, config):\r\n",
        "        super().__init__()\r\n",
        "        self.config = config\r\n",
        "\r\n",
        "        self.enc_emb = nn.Embedding(self.config.n_enc_vocab, self.config.d_hidn)\r\n",
        "        sinusoid_table = torch.FloatTensor(get_sinusoid_encoding_table(self.config.n_enc_seq + 1, self.config.d_hidn))\r\n",
        "        self.pos_emb = nn.Embedding.from_pretrained(sinusoid_table, freeze=True)\r\n",
        "\r\n",
        "        self.layers = nn.ModuleList([EncoderLayer(self.config) for _ in range(self.config.n_layer)])\r\n",
        "    \r\n",
        "    def forward(self, inputs):\r\n",
        "        positions = torch.arange(inputs.size(1), device=inputs.device, dtype=inputs.dtype).expand(inputs.size(0), inputs.size(1)).contiguous() + 1\r\n",
        "        pos_mask = inputs.eq(self.config.i_pad)\r\n",
        "        positions.masked_fill_(pos_mask, 0)\r\n",
        "\r\n",
        "        # (bs, n_enc_seq, d_hidn)\r\n",
        "        outputs = self.enc_emb(inputs) + self.pos_emb(positions)\r\n",
        "\r\n",
        "        # (bs, n_enc_seq, n_enc_seq)\r\n",
        "        attn_mask = get_attn_pad_mask(inputs, inputs, self.config.i_pad)\r\n",
        "\r\n",
        "        attn_probs = []\r\n",
        "        for layer in self.layers:\r\n",
        "            # (bs, n_enc_seq, d_hidn), (bs, n_head, n_enc_seq, n_enc_seq)\r\n",
        "            outputs, attn_prob = layer(outputs, attn_mask)\r\n",
        "            attn_probs.append(attn_prob)\r\n",
        "        # (bs, n_enc_seq, d_hidn), [(bs, n_head, n_enc_seq, n_enc_seq)]\r\n",
        "        return outputs, attn_probs"
      ],
      "execution_count": null,
      "outputs": []
    },
    {
      "cell_type": "code",
      "metadata": {
        "id": "H5K4CtIRKvkO"
      },
      "source": [
        "class DecoderLayer(nn.Module):\r\n",
        "    def __init__(self, config):\r\n",
        "        super().__init__()\r\n",
        "        self.config = config\r\n",
        "\r\n",
        "        self.self_attn = MultiHeadAttention(self.config)\r\n",
        "        self.layer_norm1 = nn.LayerNorm(self.config.d_hidn, eps=self.config.layer_norm_epsilon)\r\n",
        "        self.dec_enc_attn = MultiHeadAttention(self.config)\r\n",
        "        self.layer_norm2 = nn.LayerNorm(self.config.d_hidn, eps=self.config.layer_norm_epsilon)\r\n",
        "        self.pos_ffn = PoswiseFeedForwardNet(self.config)\r\n",
        "        self.layer_norm3 = nn.LayerNorm(self.config.d_hidn, eps=self.config.layer_norm_epsilon)\r\n",
        "    \r\n",
        "    def forward(self, dec_inputs, enc_outputs, self_attn_mask, dec_enc_attn_mask):\r\n",
        "        # (bs, n_dec_seq, d_hidn), (bs, n_head, n_dec_seq, n_dec_seq)\r\n",
        "        self_att_outputs, self_attn_prob = self.self_attn(dec_inputs, dec_inputs, dec_inputs, self_attn_mask)\r\n",
        "        self_att_outputs = self.layer_norm1(dec_inputs + self_att_outputs)\r\n",
        "        # (bs, n_dec_seq, d_hidn), (bs, n_head, n_dec_seq, n_enc_seq)\r\n",
        "        dec_enc_att_outputs, dec_enc_attn_prob = self.dec_enc_attn(self_att_outputs, enc_outputs, enc_outputs, dec_enc_attn_mask)\r\n",
        "        dec_enc_att_outputs = self.layer_norm2(self_att_outputs + dec_enc_att_outputs)\r\n",
        "        # (bs, n_dec_seq, d_hidn)\r\n",
        "        ffn_outputs = self.pos_ffn(dec_enc_att_outputs)\r\n",
        "        ffn_outputs = self.layer_norm3(dec_enc_att_outputs + ffn_outputs)\r\n",
        "        # (bs, n_dec_seq, d_hidn), (bs, n_head, n_dec_seq, n_dec_seq), (bs, n_head, n_dec_seq, n_enc_seq)\r\n",
        "        return ffn_outputs, self_attn_prob, dec_enc_attn_prob"
      ],
      "execution_count": null,
      "outputs": []
    },
    {
      "cell_type": "code",
      "metadata": {
        "id": "yqUYngsXKxqO"
      },
      "source": [
        "class Decoder(nn.Module):\r\n",
        "    def __init__(self, config):\r\n",
        "        super().__init__()\r\n",
        "        self.config = config\r\n",
        "\r\n",
        "        self.dec_emb = nn.Embedding(self.config.n_dec_vocab, self.config.d_hidn)\r\n",
        "        sinusoid_table = torch.FloatTensor(get_sinusoid_encoding_table(self.config.n_dec_seq + 1, self.config.d_hidn))\r\n",
        "        self.pos_emb = nn.Embedding.from_pretrained(sinusoid_table, freeze=True)\r\n",
        "\r\n",
        "        self.layers = nn.ModuleList([DecoderLayer(self.config) for _ in range(self.config.n_layer)])\r\n",
        "    \r\n",
        "    def forward(self, dec_inputs, enc_inputs, enc_outputs):\r\n",
        "        positions = torch.arange(dec_inputs.size(1), device=dec_inputs.device, dtype=dec_inputs.dtype).expand(dec_inputs.size(0), dec_inputs.size(1)).contiguous() + 1\r\n",
        "        pos_mask = dec_inputs.eq(self.config.i_pad)\r\n",
        "        positions.masked_fill_(pos_mask, 0)\r\n",
        "    \r\n",
        "        # (bs, n_dec_seq, d_hidn)\r\n",
        "        dec_outputs = self.dec_emb(dec_inputs) + self.pos_emb(positions)\r\n",
        "\r\n",
        "        # (bs, n_dec_seq, n_dec_seq)\r\n",
        "        dec_attn_pad_mask = get_attn_pad_mask(dec_inputs, dec_inputs, self.config.i_pad)\r\n",
        "        # (bs, n_dec_seq, n_dec_seq)\r\n",
        "        dec_attn_decoder_mask = get_attn_decoder_mask(dec_inputs)\r\n",
        "        # (bs, n_dec_seq, n_dec_seq)\r\n",
        "        dec_self_attn_mask = torch.gt((dec_attn_pad_mask + dec_attn_decoder_mask), 0)\r\n",
        "        # (bs, n_dec_seq, n_enc_seq)\r\n",
        "        dec_enc_attn_mask = get_attn_pad_mask(dec_inputs, enc_inputs, self.config.i_pad)\r\n",
        "\r\n",
        "        self_attn_probs, dec_enc_attn_probs = [], []\r\n",
        "        for layer in self.layers:\r\n",
        "            # (bs, n_dec_seq, d_hidn), (bs, n_dec_seq, n_dec_seq), (bs, n_dec_seq, n_enc_seq)\r\n",
        "            dec_outputs, self_attn_prob, dec_enc_attn_prob = layer(dec_outputs, enc_outputs, dec_self_attn_mask, dec_enc_attn_mask)\r\n",
        "            self_attn_probs.append(self_attn_prob)\r\n",
        "            dec_enc_attn_probs.append(dec_enc_attn_prob)\r\n",
        "        # (bs, n_dec_seq, d_hidn), [(bs, n_dec_seq, n_dec_seq)], [(bs, n_dec_seq, n_enc_seq)]S\r\n",
        "        return dec_outputs, self_attn_probs, dec_enc_attn_probs"
      ],
      "execution_count": null,
      "outputs": []
    },
    {
      "cell_type": "code",
      "metadata": {
        "id": "W4D6JBKFKzvW"
      },
      "source": [
        "class Transformer(nn.Module):\r\n",
        "    def __init__(self, config):\r\n",
        "        super().__init__()\r\n",
        "        self.config = config\r\n",
        "\r\n",
        "        self.encoder = Encoder(self.config)\r\n",
        "        self.decoder = Decoder(self.config)\r\n",
        "    \r\n",
        "    def forward(self, enc_inputs, dec_inputs):\r\n",
        "        # (bs, n_enc_seq, d_hidn), [(bs, n_head, n_enc_seq, n_enc_seq)]\r\n",
        "        enc_outputs, enc_self_attn_probs = self.encoder(enc_inputs)\r\n",
        "        # (bs, n_seq, d_hidn), [(bs, n_head, n_dec_seq, n_dec_seq)], [(bs, n_head, n_dec_seq, n_enc_seq)]\r\n",
        "        dec_outputs, dec_self_attn_probs, dec_enc_attn_probs = self.decoder(dec_inputs, enc_inputs, enc_outputs)\r\n",
        "        # (bs, n_dec_seq, n_dec_vocab), [(bs, n_head, n_enc_seq, n_enc_seq)], [(bs, n_head, n_dec_seq, n_dec_seq)], [(bs, n_head, n_dec_seq, n_enc_seq)]\r\n",
        "        return dec_outputs, enc_self_attn_probs, dec_self_attn_probs, dec_enc_attn_probs"
      ],
      "execution_count": null,
      "outputs": []
    },
    {
      "cell_type": "code",
      "metadata": {
        "id": "ghWRGd1cK1Jg"
      },
      "source": [
        "class MovieClassification(nn.Module):\r\n",
        "    def __init__(self, config):\r\n",
        "        super().__init__()\r\n",
        "        self.config = config\r\n",
        "\r\n",
        "        self.transformer = Transformer(self.config)\r\n",
        "        self.projection = nn.Linear(self.config.d_hidn, self.config.n_output, bias=False)\r\n",
        "    \r\n",
        "    def forward(self, enc_inputs, dec_inputs):\r\n",
        "        # (bs, n_dec_seq, d_hidn), [(bs, n_head, n_enc_seq, n_enc_seq)], [(bs, n_head, n_dec_seq, n_dec_seq)], [(bs, n_head, n_dec_seq, n_enc_seq)]\r\n",
        "        dec_outputs, enc_self_attn_probs, dec_self_attn_probs, dec_enc_attn_probs = self.transformer(enc_inputs, dec_inputs)\r\n",
        "        # (bs, d_hidn)\r\n",
        "        dec_outputs, _ = torch.max(dec_outputs, dim=1)\r\n",
        "        # (bs, n_output)\r\n",
        "        logits = self.projection(dec_outputs)\r\n",
        "        # (bs, n_output), [(bs, n_head, n_enc_seq, n_enc_seq)], [(bs, n_head, n_dec_seq, n_dec_seq)], [(bs, n_head, n_dec_seq, n_enc_seq)]\r\n",
        "        return logits, enc_self_attn_probs, dec_self_attn_probs, dec_enc_attn_probs"
      ],
      "execution_count": null,
      "outputs": []
    },
    {
      "cell_type": "code",
      "metadata": {
        "id": "eIfc6bBQK27-"
      },
      "source": [
        "class MovieDataSet(torch.utils.data.Dataset):\r\n",
        "    def __init__(self, vocab, infile):\r\n",
        "        self.vocab = vocab\r\n",
        "        self.labels = []\r\n",
        "        self.sentences = []\r\n",
        "\r\n",
        "        line_cnt = 0\r\n",
        "        with open(infile, \"r\") as f:\r\n",
        "            for line in f:\r\n",
        "                line_cnt += 1\r\n",
        "\r\n",
        "        with open(infile, \"r\") as f:\r\n",
        "            for i, line in enumerate(tqdm(f, total=line_cnt, desc=f\"Loading {infile}\", unit=\" lines\")):\r\n",
        "                data = json.loads(line)\r\n",
        "                self.labels.append(data[\"label\"])\r\n",
        "                self.sentences.append([vocab.piece_to_id(p) for p in data[\"doc\"]])\r\n",
        "    \r\n",
        "    def __len__(self):\r\n",
        "        assert len(self.labels) == len(self.sentences)\r\n",
        "        return len(self.labels)\r\n",
        "    \r\n",
        "    def __getitem__(self, item):\r\n",
        "        return (torch.tensor(self.labels[item]),\r\n",
        "                torch.tensor(self.sentences[item]),\r\n",
        "                torch.tensor([self.vocab.piece_to_id(\"[BOS]\")]))"
      ],
      "execution_count": null,
      "outputs": []
    },
    {
      "cell_type": "code",
      "metadata": {
        "id": "Mg5_z8gfK4aP"
      },
      "source": [
        "def movie_collate_fn(inputs):\r\n",
        "    labels, enc_inputs, dec_inputs = list(zip(*inputs))\r\n",
        "\r\n",
        "    enc_inputs = torch.nn.utils.rnn.pad_sequence(enc_inputs, batch_first=True, padding_value=0)\r\n",
        "    dec_inputs = torch.nn.utils.rnn.pad_sequence(dec_inputs, batch_first=True, padding_value=0)\r\n",
        "\r\n",
        "    batch = [\r\n",
        "        torch.stack(labels, dim=0),\r\n",
        "        enc_inputs,\r\n",
        "        dec_inputs,\r\n",
        "    ]\r\n",
        "    return batch"
      ],
      "execution_count": null,
      "outputs": []
    },
    {
      "cell_type": "code",
      "metadata": {
        "colab": {
          "base_uri": "https://localhost:8080/"
        },
        "id": "NpUZvf7AK6F_",
        "outputId": "8703902e-19a5-4c4f-a559-025b80212577"
      },
      "source": [
        "batch_size = 128\r\n",
        "train_dataset = MovieDataSet(vocab, f\"{data_dir}/ratings_train.json\")\r\n",
        "train_loader = torch.utils.data.DataLoader(train_dataset, batch_size=batch_size, shuffle=True, collate_fn=movie_collate_fn)\r\n",
        "test_dataset = MovieDataSet(vocab, f\"{data_dir}/ratings_test.json\")\r\n",
        "test_loader = torch.utils.data.DataLoader(test_dataset, batch_size=batch_size, shuffle=False, collate_fn=movie_collate_fn)"
      ],
      "execution_count": null,
      "outputs": [
        {
          "output_type": "stream",
          "text": [
            "Loading /content/drive/My Drive/Colab_Notebooks/data/transformer-evolution/ratings_train.json: 100%|██████████| 149995/149995 [00:05<00:00, 26667.91 lines/s]\n",
            "Loading /content/drive/My Drive/Colab_Notebooks/data/transformer-evolution/ratings_test.json: 100%|██████████| 49997/49997 [00:01<00:00, 28089.18 lines/s]\n"
          ],
          "name": "stderr"
        }
      ]
    },
    {
      "cell_type": "code",
      "metadata": {
        "id": "B6N3CsB3K8dV"
      },
      "source": [
        "def eval_epoch(config, model, data_loader):\r\n",
        "    matchs = []\r\n",
        "    model.eval()\r\n",
        "\r\n",
        "    n_word_total = 0\r\n",
        "    n_correct_total = 0\r\n",
        "    with tqdm_notebook(total=len(data_loader), desc=f\"Valid\") as pbar:\r\n",
        "        for i, value in enumerate(data_loader):\r\n",
        "            labels, enc_inputs, dec_inputs = map(lambda v: v.to(config.device), value)\r\n",
        "\r\n",
        "            outputs = model(enc_inputs, dec_inputs)\r\n",
        "            logits = outputs[0]\r\n",
        "            _, indices = logits.max(1)\r\n",
        "\r\n",
        "            match = torch.eq(indices, labels).detach()\r\n",
        "            matchs.extend(match.cpu())\r\n",
        "            accuracy = np.sum(matchs) / len(matchs) if 0 < len(matchs) else 0\r\n",
        "\r\n",
        "            pbar.update(1)\r\n",
        "            pbar.set_postfix_str(f\"Acc: {accuracy:.3f}\")\r\n",
        "    return np.sum(matchs) / len(matchs) if 0 < len(matchs) else 0"
      ],
      "execution_count": null,
      "outputs": []
    },
    {
      "cell_type": "code",
      "metadata": {
        "id": "cTX4QbYfLQ-5"
      },
      "source": [
        "def train_epoch(config, epoch, model, criterion, optimizer, train_loader):\r\n",
        "    losses = []\r\n",
        "    model.train()\r\n",
        "\r\n",
        "    with tqdm_notebook(total=len(train_loader), desc=f\"Train {epoch}\") as pbar:\r\n",
        "        for i, value in enumerate(train_loader):\r\n",
        "            labels, enc_inputs, dec_inputs = map(lambda v: v.to(config.device), value)\r\n",
        "\r\n",
        "            optimizer.zero_grad()\r\n",
        "            outputs = model(enc_inputs, dec_inputs)\r\n",
        "            logits = outputs[0]\r\n",
        "\r\n",
        "            loss = criterion(logits, labels)\r\n",
        "            loss_val = loss.item()\r\n",
        "            losses.append(loss_val)\r\n",
        "\r\n",
        "            loss.backward()\r\n",
        "            optimizer.step()\r\n",
        "\r\n",
        "            pbar.update(1)\r\n",
        "            pbar.set_postfix_str(f\"Loss: {loss_val:.3f} ({np.mean(losses):.3f})\")\r\n",
        "    return np.mean(losses)"
      ],
      "execution_count": null,
      "outputs": []
    },
    {
      "cell_type": "code",
      "metadata": {
        "colab": {
          "base_uri": "https://localhost:8080/"
        },
        "id": "0erwRvU9LSL2",
        "outputId": "11f7cc5b-bfd8-4908-9b3a-729f265297ce"
      },
      "source": [
        "config.device = torch.device(\"cuda\" if torch.cuda.is_available() else \"cpu\")\r\n",
        "config.n_output = 2\r\n",
        "print(config)\r\n",
        "\r\n",
        "learning_rate = 5e-5\r\n",
        "n_epoch = 10"
      ],
      "execution_count": null,
      "outputs": [
        {
          "output_type": "stream",
          "text": [
            "{'n_enc_vocab': 8007, 'n_dec_vocab': 8007, 'n_enc_seq': 256, 'n_dec_seq': 256, 'n_layer': 6, 'd_hidn': 256, 'i_pad': 0, 'd_ff': 1024, 'n_head': 4, 'd_head': 64, 'dropout': 0.1, 'layer_norm_epsilon': 1e-12, 'device': device(type='cpu'), 'n_output': 2}\n"
          ],
          "name": "stdout"
        }
      ]
    },
    {
      "cell_type": "code",
      "metadata": {
        "colab": {
          "base_uri": "https://localhost:8080/",
          "height": 357,
          "referenced_widgets": [
            "23dcd6527dc741bd8317c15a4a11e7aa",
            "e0e02801ea5d47b8906df2adaa6d81b0",
            "8352890308f540e4b56c1176dfb77633",
            "9df949f45eed4d608bee73b62980daf7",
            "3c64b5825d6246418915be5ae210138c",
            "1cf8a01d5ff24e66802b0e8d44fcd818",
            "aea7db07d2674aac8c7b9574612a4910",
            "f4617a338a0d460ca50bb219499f4338",
            "747d7fdff53a4a79ae3fb53f7c5dd91a",
            "492e39fa42484cd18918b26142cdaf15",
            "3469d6d4f5c842aca23869aaa9641944",
            "9033189c913c43d9aa2a63a324c65c77",
            "7cad9da24f9c4a1e9bb43d205c699197",
            "8e09e1205e4a49a383ec4c60b4fdd296",
            "4aad14119f1848ffac25dbe0df14aeba",
            "f347275783c048789624435f077183fe",
            "b4eab86a5ced424f90f8d755f77f1cd4",
            "5227bac07ca84c0c801a4cf9158d903f",
            "9e011450899e4e3b80f2112385a50172",
            "e278bbcf6c244fa6a82f0ab1cd2a1fa5",
            "ecd7d55ff21c4a1c805b43f1f69ed1a1",
            "3014580a21054c879b2706de5225c8fb",
            "3bcf950266074d39b3e865420cb11342",
            "ca7d3ebb07b041188f0b4428e51eb2d3",
            "a2c3c0af4b314cb1a566a4a4499a1740",
            "e4be27ac19544e3996a9042be5829342",
            "8d5405240cc14e4ba4663ec1c7d536a3",
            "c24c9f1eacbb4a24957d04fc580d116e",
            "747a7417df4843cf9aca65e6db5bf33b",
            "1011007d692349db8a38f4a864d3eb69",
            "bdb4be33f1a94ac5affce530a0dc267d",
            "7f807087bb454cc393b3584395055c20",
            "625f7a80e44242958487309a26664832",
            "59f7a51a35474c7999712c5d55e00eb6",
            "9c7478522d824220b4a2d4c601894127",
            "622db9297db14caa9ce4259f8f5cc97e",
            "02e7994e82054089af981ac9eddb6933",
            "b89e64d8fffe4a36a0b49674f743f34e",
            "7e7817c800654319a57001f75f0c46e7",
            "04962354e39148bd9e8a2e702f76ae57"
          ]
        },
        "id": "mM5qbfZRLTQG",
        "outputId": "bf3275d1-fee2-483e-ce5e-e5c292139b84"
      },
      "source": [
        "model = MovieClassification(config)\r\n",
        "model.to(config.device)\r\n",
        "\r\n",
        "criterion = torch.nn.CrossEntropyLoss()\r\n",
        "optimizer = torch.optim.Adam(model.parameters(), lr=learning_rate)\r\n",
        "\r\n",
        "best_epoch, best_loss, best_score = 0, 0, 0\r\n",
        "losses, scores = [], []\r\n",
        "for epoch in range(n_epoch):\r\n",
        "    loss = train_epoch(config, epoch, model, criterion, optimizer, train_loader)\r\n",
        "    score = eval_epoch(config, model, test_loader)\r\n",
        "\r\n",
        "    losses.append(loss)\r\n",
        "    scores.append(score)\r\n",
        "\r\n",
        "    if best_score < score:\r\n",
        "        best_epoch, best_loss, best_score = epoch, loss, score\r\n",
        "print(f\">>>> epoch={best_epoch}, loss={best_loss:.5f}, socre={best_score:.5f}\")"
      ],
      "execution_count": null,
      "outputs": [
        {
          "output_type": "stream",
          "text": [
            "/usr/local/lib/python3.6/dist-packages/ipykernel_launcher.py:5: TqdmDeprecationWarning: This function will be removed in tqdm==5.0.0\n",
            "Please use `tqdm.notebook.tqdm` instead of `tqdm.tqdm_notebook`\n",
            "  \"\"\"\n"
          ],
          "name": "stderr"
        },
        {
          "output_type": "display_data",
          "data": {
            "application/vnd.jupyter.widget-view+json": {
              "model_id": "23dcd6527dc741bd8317c15a4a11e7aa",
              "version_minor": 0,
              "version_major": 2
            },
            "text/plain": [
              "HBox(children=(FloatProgress(value=0.0, description='Train 0', max=1172.0, style=ProgressStyle(description_wid…"
            ]
          },
          "metadata": {
            "tags": []
          }
        },
        {
          "output_type": "stream",
          "text": [
            "\n"
          ],
          "name": "stdout"
        },
        {
          "output_type": "stream",
          "text": [
            "/usr/local/lib/python3.6/dist-packages/ipykernel_launcher.py:7: TqdmDeprecationWarning: This function will be removed in tqdm==5.0.0\n",
            "Please use `tqdm.notebook.tqdm` instead of `tqdm.tqdm_notebook`\n",
            "  import sys\n"
          ],
          "name": "stderr"
        },
        {
          "output_type": "display_data",
          "data": {
            "application/vnd.jupyter.widget-view+json": {
              "model_id": "747d7fdff53a4a79ae3fb53f7c5dd91a",
              "version_minor": 0,
              "version_major": 2
            },
            "text/plain": [
              "HBox(children=(FloatProgress(value=0.0, description='Valid', max=391.0, style=ProgressStyle(description_width=…"
            ]
          },
          "metadata": {
            "tags": []
          }
        },
        {
          "output_type": "stream",
          "text": [
            "\n"
          ],
          "name": "stdout"
        },
        {
          "output_type": "display_data",
          "data": {
            "application/vnd.jupyter.widget-view+json": {
              "model_id": "b4eab86a5ced424f90f8d755f77f1cd4",
              "version_minor": 0,
              "version_major": 2
            },
            "text/plain": [
              "HBox(children=(FloatProgress(value=0.0, description='Train 1', max=1172.0, style=ProgressStyle(description_wid…"
            ]
          },
          "metadata": {
            "tags": []
          }
        },
        {
          "output_type": "stream",
          "text": [
            "\n"
          ],
          "name": "stdout"
        },
        {
          "output_type": "display_data",
          "data": {
            "application/vnd.jupyter.widget-view+json": {
              "model_id": "a2c3c0af4b314cb1a566a4a4499a1740",
              "version_minor": 0,
              "version_major": 2
            },
            "text/plain": [
              "HBox(children=(FloatProgress(value=0.0, description='Valid', max=391.0, style=ProgressStyle(description_width=…"
            ]
          },
          "metadata": {
            "tags": []
          }
        },
        {
          "output_type": "stream",
          "text": [
            "\n"
          ],
          "name": "stdout"
        },
        {
          "output_type": "display_data",
          "data": {
            "application/vnd.jupyter.widget-view+json": {
              "model_id": "625f7a80e44242958487309a26664832",
              "version_minor": 0,
              "version_major": 2
            },
            "text/plain": [
              "HBox(children=(FloatProgress(value=0.0, description='Train 2', max=1172.0, style=ProgressStyle(description_wid…"
            ]
          },
          "metadata": {
            "tags": []
          }
        }
      ]
    },
    {
      "cell_type": "code",
      "metadata": {
        "id": "B1-0ZiEmLVQO"
      },
      "source": [
        "data = {\r\n",
        "    \"loss\": losses,\r\n",
        "    \"score\": scores\r\n",
        "}\r\n",
        "df = pd.DataFrame(data)\r\n",
        "display(df)\r\n",
        "\r\n",
        "# graph\r\n",
        "plt.figure(figsize=[12, 4])\r\n",
        "plt.plot(losses, label=\"loss\")\r\n",
        "plt.plot(scores, label=\"score\")\r\n",
        "plt.legend()\r\n",
        "plt.xlabel('Epoch')\r\n",
        "plt.ylabel('Value')\r\n",
        "plt.show()"
      ],
      "execution_count": null,
      "outputs": []
    }
  ]
}