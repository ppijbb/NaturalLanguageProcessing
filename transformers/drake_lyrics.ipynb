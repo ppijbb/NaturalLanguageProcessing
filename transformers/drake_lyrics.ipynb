{
  "cells": [
    {
      "cell_type": "markdown",
      "metadata": {
        "colab_type": "text",
        "id": "view-in-github"
      },
      "source": [
        "<a href=\"https://colab.research.google.com/github/ppijbb/NLP_study/blob/main/drake_lyrics.ipynb\" target=\"_parent\"><img src=\"https://colab.research.google.com/assets/colab-badge.svg\" alt=\"Open In Colab\"/></a>"
      ]
    },
    {
      "cell_type": "code",
      "execution_count": 1,
      "metadata": {
        "colab": {
          "base_uri": "https://localhost:8080/"
        },
        "id": "i8eK-mdcV_92",
        "outputId": "090f08fe-08e3-43d0-c0c4-35ae8f272abe"
      },
      "outputs": [
        {
          "name": "stdout",
          "output_type": "stream",
          "text": [
            "Collecting watermark\n",
            "  Downloading https://files.pythonhosted.org/packages/73/71/8a7c1c1672bc20448ef8b96652f7d332bd680a4b2e873f50ea1e4ede81ca/watermark-2.2.0-py2.py3-none-any.whl\n",
            "Collecting importlib-metadata<3.0; python_version < \"3.8\"\n",
            "  Downloading https://files.pythonhosted.org/packages/98/b8/8ec57a8ef46fbe7f185318c7ff7df9a06c9df451d9a59a067bfa851bb828/importlib_metadata-2.1.1-py2.py3-none-any.whl\n",
            "Requirement already satisfied: ipython in /usr/local/lib/python3.7/dist-packages (from watermark) (5.5.0)\n",
            "Requirement already satisfied: zipp>=0.5 in /usr/local/lib/python3.7/dist-packages (from importlib-metadata<3.0; python_version < \"3.8\"->watermark) (3.4.0)\n",
            "Requirement already satisfied: simplegeneric>0.8 in /usr/local/lib/python3.7/dist-packages (from ipython->watermark) (0.8.1)\n",
            "Requirement already satisfied: setuptools>=18.5 in /usr/local/lib/python3.7/dist-packages (from ipython->watermark) (54.0.0)\n",
            "Requirement already satisfied: decorator in /usr/local/lib/python3.7/dist-packages (from ipython->watermark) (4.4.2)\n",
            "Requirement already satisfied: pygments in /usr/local/lib/python3.7/dist-packages (from ipython->watermark) (2.6.1)\n",
            "Requirement already satisfied: prompt-toolkit<2.0.0,>=1.0.4 in /usr/local/lib/python3.7/dist-packages (from ipython->watermark) (1.0.18)\n",
            "Requirement already satisfied: pickleshare in /usr/local/lib/python3.7/dist-packages (from ipython->watermark) (0.7.5)\n",
            "Requirement already satisfied: pexpect; sys_platform != \"win32\" in /usr/local/lib/python3.7/dist-packages (from ipython->watermark) (4.8.0)\n",
            "Requirement already satisfied: traitlets>=4.2 in /usr/local/lib/python3.7/dist-packages (from ipython->watermark) (5.0.5)\n",
            "Requirement already satisfied: wcwidth in /usr/local/lib/python3.7/dist-packages (from prompt-toolkit<2.0.0,>=1.0.4->ipython->watermark) (0.2.5)\n",
            "Requirement already satisfied: six>=1.9.0 in /usr/local/lib/python3.7/dist-packages (from prompt-toolkit<2.0.0,>=1.0.4->ipython->watermark) (1.15.0)\n",
            "Requirement already satisfied: ptyprocess>=0.5 in /usr/local/lib/python3.7/dist-packages (from pexpect; sys_platform != \"win32\"->ipython->watermark) (0.7.0)\n",
            "Requirement already satisfied: ipython-genutils in /usr/local/lib/python3.7/dist-packages (from traitlets>=4.2->ipython->watermark) (0.2.0)\n",
            "Installing collected packages: importlib-metadata, watermark\n",
            "  Found existing installation: importlib-metadata 3.7.0\n",
            "    Uninstalling importlib-metadata-3.7.0:\n",
            "      Successfully uninstalled importlib-metadata-3.7.0\n",
            "Successfully installed importlib-metadata-2.1.1 watermark-2.2.0\n",
            "Collecting transformers\n",
            "\u001b[?25l  Downloading https://files.pythonhosted.org/packages/f9/54/5ca07ec9569d2f232f3166de5457b63943882f7950ddfcc887732fc7fb23/transformers-4.3.3-py3-none-any.whl (1.9MB)\n",
            "\u001b[K     |████████████████████████████████| 1.9MB 18.7MB/s \n",
            "\u001b[?25hRequirement already satisfied: filelock in /usr/local/lib/python3.7/dist-packages (from transformers) (3.0.12)\n",
            "Requirement already satisfied: importlib-metadata; python_version < \"3.8\" in /usr/local/lib/python3.7/dist-packages (from transformers) (2.1.1)\n",
            "Requirement already satisfied: numpy>=1.17 in /usr/local/lib/python3.7/dist-packages (from transformers) (1.19.5)\n",
            "Requirement already satisfied: regex!=2019.12.17 in /usr/local/lib/python3.7/dist-packages (from transformers) (2019.12.20)\n",
            "Requirement already satisfied: requests in /usr/local/lib/python3.7/dist-packages (from transformers) (2.23.0)\n",
            "Requirement already satisfied: packaging in /usr/local/lib/python3.7/dist-packages (from transformers) (20.9)\n",
            "Requirement already satisfied: tqdm>=4.27 in /usr/local/lib/python3.7/dist-packages (from transformers) (4.41.1)\n",
            "Collecting tokenizers<0.11,>=0.10.1\n",
            "\u001b[?25l  Downloading https://files.pythonhosted.org/packages/71/23/2ddc317b2121117bf34dd00f5b0de194158f2a44ee2bf5e47c7166878a97/tokenizers-0.10.1-cp37-cp37m-manylinux2010_x86_64.whl (3.2MB)\n",
            "\u001b[K     |████████████████████████████████| 3.2MB 57.0MB/s \n",
            "\u001b[?25hCollecting sacremoses\n",
            "\u001b[?25l  Downloading https://files.pythonhosted.org/packages/7d/34/09d19aff26edcc8eb2a01bed8e98f13a1537005d31e95233fd48216eed10/sacremoses-0.0.43.tar.gz (883kB)\n",
            "\u001b[K     |████████████████████████████████| 890kB 27.6MB/s \n",
            "\u001b[?25hRequirement already satisfied: zipp>=0.5 in /usr/local/lib/python3.7/dist-packages (from importlib-metadata; python_version < \"3.8\"->transformers) (3.4.0)\n",
            "Requirement already satisfied: idna<3,>=2.5 in /usr/local/lib/python3.7/dist-packages (from requests->transformers) (2.10)\n",
            "Requirement already satisfied: urllib3!=1.25.0,!=1.25.1,<1.26,>=1.21.1 in /usr/local/lib/python3.7/dist-packages (from requests->transformers) (1.24.3)\n",
            "Requirement already satisfied: certifi>=2017.4.17 in /usr/local/lib/python3.7/dist-packages (from requests->transformers) (2020.12.5)\n",
            "Requirement already satisfied: chardet<4,>=3.0.2 in /usr/local/lib/python3.7/dist-packages (from requests->transformers) (3.0.4)\n",
            "Requirement already satisfied: pyparsing>=2.0.2 in /usr/local/lib/python3.7/dist-packages (from packaging->transformers) (2.4.7)\n",
            "Requirement already satisfied: six in /usr/local/lib/python3.7/dist-packages (from sacremoses->transformers) (1.15.0)\n",
            "Requirement already satisfied: click in /usr/local/lib/python3.7/dist-packages (from sacremoses->transformers) (7.1.2)\n",
            "Requirement already satisfied: joblib in /usr/local/lib/python3.7/dist-packages (from sacremoses->transformers) (1.0.1)\n",
            "Building wheels for collected packages: sacremoses\n",
            "  Building wheel for sacremoses (setup.py) ... \u001b[?25l\u001b[?25hdone\n",
            "  Created wheel for sacremoses: filename=sacremoses-0.0.43-cp37-none-any.whl size=893262 sha256=5211afba7f708b9e8867627aaca2fbaa27c0489c7144be856e92859030df0010\n",
            "  Stored in directory: /root/.cache/pip/wheels/29/3c/fd/7ce5c3f0666dab31a50123635e6fb5e19ceb42ce38d4e58f45\n",
            "Successfully built sacremoses\n",
            "Installing collected packages: tokenizers, sacremoses, transformers\n",
            "Successfully installed sacremoses-0.0.43 tokenizers-0.10.1 transformers-4.3.3\n",
            "Python implementation: CPython\n",
            "Python version       : 3.7.10\n",
            "IPython version      : 5.5.0\n",
            "\n",
            "numpy     : 1.19.5\n",
            "scipy     : 1.4.1\n",
            "sklearn   : 0.0\n",
            "pandas    : 1.1.5\n",
            "matplotlib: 3.2.2\n",
            "\n"
          ]
        }
      ],
      "source": [
        "!pip install watermark \n",
        "!pip install transformers\n",
        "%load_ext watermark\n",
        "%watermark -v -p numpy,scipy,sklearn,pandas,matplotlib"
      ]
    },
    {
      "cell_type": "code",
      "execution_count": 2,
      "metadata": {
        "id": "pvux8i-mZzKO"
      },
      "outputs": [],
      "source": [
        "import numpy as np\n",
        "import os\n",
        "import time\n",
        "import datetime\n",
        "import torch\n",
        "from tqdm import tqdm\n",
        "import subprocess\n",
        "import os\n",
        "import re\n",
        "import argparse\n",
        "from torch.utils.data import DataLoader # 데이터로더\n",
        "import os\n",
        "%matplotlib inline\n",
        "import matplotlib\n",
        "import matplotlib.pyplot as plt\n",
        "import os\n",
        "import tarfile\n",
        "from six.moves import urllib \n",
        "import pandas as pd\n",
        "import matplotlib.image as mpimg\n",
        "from pandas.plotting import scatter_matrix\n",
        "import seaborn as sns\n",
        "from torch.utils.data import Dataset, DataLoader, random_split, RandomSampler, SequentialSampler\n",
        "torch.manual_seed(42)\n",
        "import random\n",
        "from transformers import GPT2LMHeadModel,  GPT2Tokenizer, GPT2Config, GPT2LMHeadModel\n",
        "from transformers import AdamW, get_linear_schedule_with_warmup\n",
        "\n",
        "\n",
        "plt.rcParams['axes.labelsize'] = 14\n",
        "plt.rcParams['xtick.labelsize'] = 12\n",
        "plt.rcParams['ytick.labelsize'] = 12\n",
        "\n",
        "# 한글출력\n",
        "matplotlib.rc('font', family='Malgun Gothic') # 기본 폰트인 맑은 고딕을 사용함.\n",
        "plt.rcParams['axes.unicode_minus'] = False\n",
        "\n",
        "# 그림을 저장할 폴더\n",
        "PROJECT_ROOT_DIR = \".\"\n",
        "CHAPTER_ID = \"final_project\"\n",
        "IMAGES_PATH = os.path.join(PROJECT_ROOT_DIR, \"images\", CHAPTER_ID)\n",
        "\n",
        "# 그림을 저장하는 함수\n",
        "def save_fig(fig_id, tight_layout=True, fig_extension=\"png\", resolution=300):\n",
        "    path = os.path.join(IMAGES_PATH, fig_id + \".\" + fig_extension)\n",
        "    if tight_layout:\n",
        "        plt.tight_layout()\n",
        "    plt.savefig(path, format=fig_extension, dpi=resolution)"
      ]
    },
    {
      "cell_type": "code",
      "execution_count": 3,
      "metadata": {
        "id": "DL9bJiR5Zzru"
      },
      "outputs": [],
      "source": [
        "drake = pd.read_csv('/content/drive/MyDrive/Colab_Notebooks/data/drake_data.csv', encoding = 'utf-8')\n",
        "drake = drake.dropna(axis=0)\n",
        "temp = []\n",
        "for lyric in drake['lyrics']:\n",
        "  temp.append(lyric.split('\\n'))\n",
        "for verse in temp:\n",
        "  for line in verse:\n",
        "    if line == '' or len(line)==0:\n",
        "      temp[temp.index(verse)].remove(line)\n",
        "\n",
        "lyric_list = []\n",
        "for verse in temp:\n",
        "  line_t=''\n",
        "  for line in verse:\n",
        "    if line[0]==\"[\":\n",
        "      temp[temp.index(verse)].remove(line)\n",
        "    else:\n",
        "      line_t = line_t+line+'. '\n",
        "  lyric_list.append(line_t)"
      ]
    },
    {
      "cell_type": "code",
      "execution_count": 4,
      "metadata": {
        "id": "ltt1HGU4GtG9"
      },
      "outputs": [],
      "source": [
        "list_df = pd.DataFrame(lyric_list)"
      ]
    },
    {
      "cell_type": "code",
      "execution_count": 5,
      "metadata": {
        "colab": {
          "base_uri": "https://localhost:8080/"
        },
        "id": "B7cqAZWSNPCO",
        "outputId": "e34f91c0-ebe0-4607-955e-a6ac4cf0260e"
      },
      "outputs": [
        {
          "data": {
            "text/plain": [
              "0      Always been a gem. Certified lover boy, someho...\n",
              "1      Someone's in my ear from the other side. Telli...\n",
              "2      Wassup ladies?. Swishahouse, baby. Wassup to a...\n",
              "3      Pipe this shit up and I turn this shit up. Whe...\n",
              "4      I tell ya, \"I stopped keeping count when I was...\n",
              "                             ...                        \n",
              "266    You know that you got me. You got me where you...\n",
              "267    Uh. I just hope you stay down, uh. I just hope...\n",
              "268    You's a vegan but you goin' ham. Lotta niggas,...\n",
              "269    Oh-oh-oh-oh. You and your girlfriend too badmi...\n",
              "270    And I know. I just want the top, don't wanna c...\n",
              "Name: 0, Length: 271, dtype: object"
            ]
          },
          "execution_count": 5,
          "metadata": {
            "tags": []
          },
          "output_type": "execute_result"
        }
      ],
      "source": [
        "bios = list_df[0].copy() #just use the main bio text in this example\n",
        "bios"
      ]
    },
    {
      "cell_type": "code",
      "execution_count": 6,
      "metadata": {
        "colab": {
          "base_uri": "https://localhost:8080/",
          "height": 376
        },
        "id": "hm_Fgr7AHMDl",
        "outputId": "56378156-01af-45ed-a08b-569f65eb0de9"
      },
      "outputs": [
        {
          "name": "stdout",
          "output_type": "stream",
          "text": [
            "[nltk_data] Downloading package punkt to /root/nltk_data...\n",
            "[nltk_data]   Unzipping tokenizers/punkt.zip.\n"
          ]
        },
        {
          "name": "stderr",
          "output_type": "stream",
          "text": [
            "/usr/local/lib/python3.7/dist-packages/seaborn/distributions.py:2557: FutureWarning: `distplot` is a deprecated function and will be removed in a future version. Please adapt your code to use either `displot` (a figure-level function with similar flexibility) or `histplot` (an axes-level function for histograms).\n",
            "  warnings.warn(msg, FutureWarning)\n"
          ]
        },
        {
          "data": {
            "text/plain": [
              "<matplotlib.axes._subplots.AxesSubplot at 0x7fc066b25a10>"
            ]
          },
          "execution_count": 6,
          "metadata": {
            "tags": []
          },
          "output_type": "execute_result"
        },
        {
          "name": "stderr",
          "output_type": "stream",
          "text": [
            "findfont: Font family ['Malgun Gothic'] not found. Falling back to DejaVu Sans.\n",
            "findfont: Font family ['Malgun Gothic'] not found. Falling back to DejaVu Sans.\n"
          ]
        },
        {
          "data": {
            "image/png": "[encoded data removed]",
            "text/plain": [
              "<Figure size 432x288 with 1 Axes>"
            ]
          },
          "metadata": {
            "needs_background": "light",
            "tags": []
          },
          "output_type": "display_data"
        }
      ],
      "source": [
        "import nltk\n",
        "nltk.download('punkt')\n",
        "\n",
        "\n",
        "doc_lengths = []\n",
        "\n",
        "for bio in bios:\n",
        "\n",
        "    # get rough token count distribution\n",
        "    tokens = nltk.word_tokenize(bio)\n",
        "\n",
        "    doc_lengths.append(len(tokens))\n",
        "\n",
        "doc_lengths = np.array(doc_lengths)\n",
        "\n",
        "sns.distplot(doc_lengths)"
      ]
    },
    {
      "cell_type": "code",
      "execution_count": 7,
      "metadata": {
        "colab": {
          "base_uri": "https://localhost:8080/"
        },
        "id": "lqfMm3pK36FZ",
        "outputId": "0c92b499-b9fd-47d1-feb9-60e9b52d05f3"
      },
      "outputs": [
        {
          "data": {
            "text/plain": [
              "0.2730627306273063"
            ]
          },
          "execution_count": 7,
          "metadata": {
            "tags": []
          },
          "output_type": "execute_result"
        }
      ],
      "source": [
        "len(doc_lengths[doc_lengths > 768])/len(doc_lengths)"
      ]
    },
    {
      "cell_type": "code",
      "execution_count": 8,
      "metadata": {
        "colab": {
          "base_uri": "https://localhost:8080/"
        },
        "id": "C64Kczha37XA",
        "outputId": "ffaed92b-4008-488f-fee6-e4a67c8715d1"
      },
      "outputs": [
        {
          "data": {
            "text/plain": [
              "633.6236162361623"
            ]
          },
          "execution_count": 8,
          "metadata": {
            "tags": []
          },
          "output_type": "execute_result"
        }
      ],
      "source": [
        "np.average(doc_lengths)"
      ]
    },
    {
      "cell_type": "code",
      "execution_count": 9,
      "metadata": {
        "colab": {
          "base_uri": "https://localhost:8080/",
          "height": 135,
          "referenced_widgets": [
            "dcf3b1b5a9444b8898ae468e549be108",
            "2d5833c081e0471cb2d14f8e22f3d094",
            "a30f9839810347bc827e5a6fa7a1370c",
            "15718e48e9234f5ea80268baf6e35963",
            "ab298129b7e4458aa003c9e8e04e1f07",
            "d0a3e0161f614356a7b6ac697c48f141",
            "85ae782e2bf844d292c425be9e40f15b",
            "c88e50e79a534a6ebceeacca57609648",
            "1787f61eb0b94e7c8dbc1e2ef383204d",
            "770f0dfac53d49dface7214bd82fc854",
            "b59ab3388d2e4804a26d477edbe438a4",
            "4b671eee81af436c861b0b80c69a74ba",
            "5f9290c8d6f549aea5e5426ca0bc8a67",
            "3fc57b88f5e64df88c650cbae9bc57fb",
            "f3e1133452ad4494a84691e9c4656ecd",
            "b66bb573869d4ad0a089d8dbb678fe81"
          ]
        },
        "id": "WJ5z4WpK39fw",
        "outputId": "69a3feeb-b61a-4e57-d8d2-810cffc161f0"
      },
      "outputs": [
        {
          "data": {
            "application/vnd.jupyter.widget-view+json": {
              "model_id": "dcf3b1b5a9444b8898ae468e549be108",
              "version_major": 2,
              "version_minor": 0
            },
            "text/plain": [
              "HBox(children=(FloatProgress(value=0.0, description='Downloading', max=1042301.0, style=ProgressStyle(descript…"
            ]
          },
          "metadata": {
            "tags": []
          },
          "output_type": "display_data"
        },
        {
          "name": "stdout",
          "output_type": "stream",
          "text": [
            "\n"
          ]
        },
        {
          "data": {
            "application/vnd.jupyter.widget-view+json": {
              "model_id": "1787f61eb0b94e7c8dbc1e2ef383204d",
              "version_major": 2,
              "version_minor": 0
            },
            "text/plain": [
              "HBox(children=(FloatProgress(value=0.0, description='Downloading', max=456318.0, style=ProgressStyle(descripti…"
            ]
          },
          "metadata": {
            "tags": []
          },
          "output_type": "display_data"
        },
        {
          "name": "stderr",
          "output_type": "stream",
          "text": [
            "Special tokens have been added in the vocabulary, make sure the associated word embedding are fine-tuned or trained.\n"
          ]
        },
        {
          "name": "stdout",
          "output_type": "stream",
          "text": [
            "\n"
          ]
        }
      ],
      "source": [
        "tokenizer = GPT2Tokenizer.from_pretrained('gpt2', bos_token='<|startoftext|>', eos_token='<|endoftext|>', pad_token='<|pad|>') #gpt2-medium"
      ]
    },
    {
      "cell_type": "code",
      "execution_count": 32,
      "metadata": {
        "id": "KRqBLn_-4Ggr"
      },
      "outputs": [],
      "source": [
        "batch_size = 2"
      ]
    },
    {
      "cell_type": "code",
      "execution_count": 33,
      "metadata": {
        "id": "CbH8wazX4HRi"
      },
      "outputs": [],
      "source": [
        "class GPT2Dataset(Dataset):\n",
        "\n",
        "  def __init__(self, txt_list, tokenizer, gpt2_type=\"gpt2\", max_length=768):\n",
        "\n",
        "    self.tokenizer = tokenizer\n",
        "    self.input_ids = []\n",
        "    self.attn_masks = []\n",
        "\n",
        "    for txt in txt_list:\n",
        "\n",
        "      encodings_dict = tokenizer('<|startoftext|>'+ txt + '<|endoftext|>', truncation=True, max_length=max_length, padding=\"max_length\")\n",
        "\n",
        "      self.input_ids.append(torch.tensor(encodings_dict['input_ids']))\n",
        "      self.attn_masks.append(torch.tensor(encodings_dict['attention_mask']))\n",
        "    \n",
        "  def __len__(self):\n",
        "    return len(self.input_ids)\n",
        "\n",
        "  def __getitem__(self, idx):\n",
        "    return self.input_ids[idx], self.attn_masks[idx] "
      ]
    },
    {
      "cell_type": "code",
      "execution_count": 34,
      "metadata": {
        "colab": {
          "base_uri": "https://localhost:8080/"
        },
        "id": "AUWuhwaa4Owy",
        "outputId": "a72d3da9-72f2-44aa-aefa-6e3702869b2f"
      },
      "outputs": [
        {
          "name": "stdout",
          "output_type": "stream",
          "text": [
            "  230 training samples\n",
            "   41 validation samples\n"
          ]
        }
      ],
      "source": [
        "dataset = GPT2Dataset(bios, tokenizer, max_length=768)\n",
        "\n",
        "# Split into training and validation sets\n",
        "train_size = int(0.85 * len(dataset))\n",
        "val_size = len(dataset) - train_size\n",
        "\n",
        "train_dataset, val_dataset = random_split(dataset, [train_size, val_size])\n",
        "\n",
        "print('{:>5,} training samples'.format(train_size))\n",
        "print('{:>5,} validation samples'.format(val_size))"
      ]
    },
    {
      "cell_type": "code",
      "execution_count": 35,
      "metadata": {
        "id": "xRliPjba4SUZ"
      },
      "outputs": [],
      "source": [
        "# Create the DataLoaders for our training and validation datasets.\n",
        "# We'll take training samples in random order. \n",
        "train_dataloader = DataLoader(\n",
        "            train_dataset,  # The training samples.\n",
        "            sampler = RandomSampler(train_dataset), # Select batches randomly\n",
        "            batch_size = batch_size # Trains with this batch size.\n",
        "        )\n",
        "\n",
        "# For validation the order doesn't matter, so we'll just read them sequentially.\n",
        "validation_dataloader = DataLoader(\n",
        "            val_dataset, # The validation samples.\n",
        "            sampler = SequentialSampler(val_dataset), # Pull out batches sequentially.\n",
        "            batch_size = batch_size # Evaluate with this batch size.\n",
        "        )"
      ]
    },
    {
      "cell_type": "code",
      "execution_count": 36,
      "metadata": {
        "id": "AUklzRi_4Uux"
      },
      "outputs": [],
      "source": [
        "# I'm not really doing anything with the config buheret\n",
        "configuration = GPT2Config.from_pretrained('gpt2', output_hidden_states=False)\n",
        "\n",
        "# instantiate the model\n",
        "model = GPT2LMHeadModel.from_pretrained(\"gpt2\", config=configuration)\n",
        "\n",
        "# this step is necessary because I've added some tokens (bos_token, etc) to the embeddings\n",
        "# otherwise the tokenizer and model tensors won't match up\n",
        "model.resize_token_embeddings(len(tokenizer))\n",
        "\n",
        "# Tell pytorch to run this model on the GPU.\n",
        "device = torch.device(\"cuda\")\n",
        "model.cuda()\n",
        "\n",
        "# Set the seed value all over the place to make this reproducible.\n",
        "seed_val = 42\n",
        "\n",
        "random.seed(seed_val)\n",
        "np.random.seed(seed_val)\n",
        "torch.manual_seed(seed_val)\n",
        "torch.cuda.manual_seed_all(seed_val)"
      ]
    },
    {
      "cell_type": "code",
      "execution_count": 37,
      "metadata": {
        "id": "o7bSjLxe5IkZ"
      },
      "outputs": [],
      "source": [
        "# some parameters I cooked up that work reasonably well\n",
        "epochs = 40\n",
        "learning_rate = 5e-5\n",
        "warmup_steps = 1e2\n",
        "epsilon = 1e-8\n",
        "\n",
        "# this produces sample output every 100 steps\n",
        "sample_every = 100"
      ]
    },
    {
      "cell_type": "code",
      "execution_count": 38,
      "metadata": {
        "id": "OFgs5vTW5MtB"
      },
      "outputs": [],
      "source": [
        "# Note: AdamW is a class from the huggingface library (as opposed to pytorch) \n",
        "optimizer = AdamW(model.parameters(),\n",
        "                  lr = learning_rate,\n",
        "                  eps = epsilon\n",
        "                )"
      ]
    },
    {
      "cell_type": "code",
      "execution_count": 39,
      "metadata": {
        "id": "tfkGpRjU5OS1"
      },
      "outputs": [],
      "source": [
        "# Total number of training steps is [number of batches] x [number of epochs]. \n",
        "# (Note that this is not the same as the number of training samples).\n",
        "total_steps = len(train_dataloader) * epochs\n",
        "\n",
        "# Create the learning rate scheduler.\n",
        "# This changes the learning rate as the training loop progresses\n",
        "scheduler = get_linear_schedule_with_warmup(optimizer, \n",
        "                                            num_warmup_steps = warmup_steps, \n",
        "                                            num_training_steps = total_steps)"
      ]
    },
    {
      "cell_type": "code",
      "execution_count": 40,
      "metadata": {
        "id": "kIi9aPbD5PKq"
      },
      "outputs": [],
      "source": [
        "def format_time(elapsed):\n",
        "    return str(datetime.timedelta(seconds=int(round((elapsed)))))"
      ]
    },
    {
      "cell_type": "code",
      "execution_count": 41,
      "metadata": {
        "colab": {
          "base_uri": "https://localhost:8080/"
        },
        "id": "Msg7Z6-q5SBp",
        "outputId": "8e993e90-4cce-4921-c8e1-185a3a9892da"
      },
      "outputs": [
        {
          "name": "stdout",
          "output_type": "stream",
          "text": [
            "\n",
            "======== Epoch 1 / 40 ========\n",
            "Training...\n"
          ]
        },
        {
          "name": "stderr",
          "output_type": "stream",
          "text": [
            "Setting `pad_token_id` to `eos_token_id`:50256 for open-end generation.\n"
          ]
        },
        {
          "name": "stdout",
          "output_type": "stream",
          "text": [
            "  Batch   100  of    115. Loss: 4.109401226043701.   Elapsed: 0:00:59.\n",
            "0:  bipartisan, of, of, of, of, of, of, of, of, of, of, of, of, of, of, of, of, of, of, of, of, of, of, of, of the, of the, of the, of the, of the, of the, of the, of the, of the, of the, of the, of the, of the, of the, of the, of the, of the, of the, of the, of the, of the, of the, of the, of the, of the,, of the,, of the, of the, of, of the, of the, of the, of the,,, of the,, of the, of the, of the, of the, of the, of the, of, of the,,, of, of the, of the,, of the, of the, of the, of the, of the, of the, of the, of the, of the, of the, of the, of the, of the, of the, of the, of the, of the, of the, of the, of the, of the, of the, of the, of the, of the, of the, of,,,, of the,,, of the\n",
            "1:  bipartisan, the, the, the, the, the, the, the, the, the, the, the, the, the, the, the, the, the, the, the, the, the, the,, the, the, the, the, the, the, the, the, the, the, the, the, the, the, the, the, the, the, the, the, the, the,, the,, the, the, the, the,, the, the, the, the, the, the, the, the, the, the, the, the, the, the, the, the, the, the, the, the, the, the, the, the, the, the,,, the, the,, the, the, the,,,, the,, the,, the, the, the, the, the,, the, the, the, the, the, the, the, the, the, the, the, the, the, the, the, the, the, the, the, the, the, the, the, the, the, the, the, the, the, the, the, the, the, the, the, the, the, the, the, the, the, the, the, the,\n",
            "2:  bipartisan the the the the the the the the the the the the the the the the the the the the the the the the the the the the the the the the the the the the the the the the the the the the the the the the the the the the the the the the the the the the the the the the the the the the the the the the the the the the the the the the the the the the the the the the the the the the the the the the the the the the the the the the the the the the the the the the the the the the the the the the the the the the the the the the the the the the the the the the the the the the the the the the the the the the the the the the the the the the the the the the the the the the the the the the the the the the the the the the the the the the the the the the the the the the the the the the the the the the the the the the the the the the the the the the the the the the the the the the the the the the the the the the the the the the the the the the the the the the the the the the the the the the the the the the the the the the the the the the the the the the the the the the the the the the the the the the the the the\n",
            "3:  bipartisan the the the the the the the the the the the the the the the the the the the the the the the the the the the the the the the the the the the the the the the the the the the the the the the the the the the the the the the the the the the the the the the the the the the the the the the the the the the the the the the the the the the the the the the the the the the the the the the the the the the the the the the the the the the the the the the the the the the the the the the the the the the the the the the the the the the the the the the the the the the the the the the the the the the the the the the the the the the the the the the the the the the the the the the the the the the the the the the the the the the the the the the the the the the the the the the the the the the the the the the the the the the the the the the the the the the the the the the the the the the the the the the the the the the the the the the the the the the the the the the the the the the the the the the the the the the the the the the the the the the the the the the the the the the the the the the the the the the the the the the the the the the\n",
            "4:  bipartisan \" \" of the \" of the\" of the \" of the\n",
            " a a the \" of the \" of the\n",
            " \" of the the \" of the\n",
            " a the \" of the \" of a the \" of the\n",
            " the a the \" the \" of the\n",
            " the \" of the \" of the \" of the\n",
            " a the \" of the \" of the \" of the\n",
            " the the \" a the \" of the\n",
            " the \" the the \" of the \" of the\n",
            " the \" a the \" a the \" a the \" a the\n",
            "\n",
            "  Average training loss: 15.18\n",
            "  Training epoch took: 0:01:12\n",
            "\n",
            "Running Validation...\n",
            "  Validation Loss: 3.97\n",
            "  Validation took: 0:00:04\n",
            "\n",
            "======== Epoch 2 / 40 ========\n",
            "Training...\n"
          ]
        },
        {
          "name": "stderr",
          "output_type": "stream",
          "text": [
            "Setting `pad_token_id` to `eos_token_id`:50256 for open-end generation.\n"
          ]
        },
        {
          "name": "stdout",
          "output_type": "stream",
          "text": [
            "  Batch   100  of    115. Loss: 4.21872615814209.   Elapsed: 0:00:58.\n",
            "0:  increasing in the number of times some number are number of times some number are number of times some number are number of times some number are number of times some number are number of times some number are number of times some number are number of times some number are number number are numbers of times some number are number of times some number are number of times some number are number of times some number are number of times some number are number of times some number are number of times some number are number number are numbers number are numbers there, there, there, there, there, there, there, there, there, there, there, there, there, there, there, there, there, there, there, there, there, there, there, there, there, there, there, there, there, number are number are numbers there, there, there, there, there, there, there, there, there, there, there, there, there, there, there, there, there, there, there, there, there, there, there, there, there, there, there, there, there, there, there, there, there, there, there, there, there, there, there, there, there, there, there, there, there, there, there, there, there, there, there, there, there, there, there, there, there, there, there, there, there, there, there, there\n",
            "1:  increasing in the more than in the more than in the more than in the more than in the more than in the more than in the more than in the more than in the more than in the more than in the more in the more than in the more than in the more than in the more than in the more than in the more than in the more than in the more than in the more than in the more than in the more than in the more than in the more than in the more more than in the more than in the more than in the more than in the more than in more than in the more than in the more than in the more than in the more than in the more than in the more in the more than in the more than in the more than in the more than in the more than in the more than in the more than in the more than in the more than in the more than in the more than in the more than in the more than in the more than in the more than in the more than in the more than in the more than in in the more than in the more than in the more than in the more than in the more than in the more than in the more in the more than in the more than in the more than in the more than in the more than in the more than in the more than in the more than in the more than in the more than in the more than in the more than in\n",
            "2:  increasing:: many: many: many: many: many: many: many: many: many: many: many: many: many: many: many: many: many: many: many: many: many many many many many many many many many more many many other millions: many: many: many: many: many: many: many: many: many: many: many: many: many: many: many: many: many: many: many: many: many: many: many: many: many: many: many: many: many: many: many: many: many: many: many: many: many: many: many: many: many: many: many: many: many: many million millions millions millions millions millions millions millions millions millions millions millions millions millions millions millions millions millions millions millions millions millions millions millions millions millions millions millions millions millions millions millions millions millions millions millions millions millions millions millions millions millions millions millions millions millions millions millions millions millions millions millions millions millions millions millions millions millions millions millions millions millions millions millions millions millions millions millions millions millions millions millions millions millions millions millions millions millions millions millions millions millions millions millions millions millions millions millions millions millions millions millions millions millions millions millions millions millions millions millions millions millions millions millions millions millions millions millions millions millions millions millions millions millions millions millions millions millions millions millions millions millions millions millions millions millions millions millions millions millions millions millions millions millions millions millions millions millions millions millions millions millions millions millions millions millions millions millions\n",
            "3:  increasing their\n",
            " million, my million, my million, my million, my million, my million, my million, my million, my million, my million, my million, my million, my million, my million, my million, my million, my million, my million, my million, million, my million, my million, my million, my million, my million, my million, my million, my million, my million, my million, my million, my million, my million, my million, my million, my million, my million, my million, my million, my million, my million, my million, my million, my million million, million, my million, my million, my million, my million million, my million, my million, my million, my million, my million, my million, my million, my million, my million, my million, my million, my million, my million, my million, my million, my million, my million, my million, my million, my million, my million, my million, my million, my million, my million, my million, my million, my million, my million, my million, my million, my million, my million, my million, my million, my million, my million, my million, my million, my million, my million, my million, my million, my million, my million, my million, my million,\n",
            "4:  increasing a, and they all come out of the wind, and all the wind, and they all come out of the sun, and all the sun, and they all come out of the darkness and the darkness, and they all come out of the dark and the dark, and they all come out of the dark, and they all come out of the dark, and they all come out of the dark, and they all come out of the darkness and the darkness, and they all come out of the darkness, and they all come out of the darkness and the darkness, and they all come out of the darkness and the darkness, and they all come out dark and the dark, and they all come out the dark, and they all come out of the dark, and they all come out of the dark and the dark, and they all come out the dark and the darkness and the darkness, and they all come out the dark and the darkness, and they all come out from the dark and the dark, and they all come out from the darkness and the darkness, and they all come out the dark and the darkness, and they all come out from the darkness and the darkness, and they all come out of the darkness and the darkness, and they all come out from the darkness and the darkness, and they all come out from the darkness and the darkness, and they all come out from the darkness and the darkness, and they all come out from the darkness and\n",
            "\n",
            "  Average training loss: 3.00\n",
            "  Training epoch took: 0:01:11\n",
            "\n",
            "Running Validation...\n",
            "  Validation Loss: 2.77\n",
            "  Validation took: 0:00:04\n",
            "\n",
            "======== Epoch 3 / 40 ========\n",
            "Training...\n"
          ]
        },
        {
          "name": "stderr",
          "output_type": "stream",
          "text": [
            "Setting `pad_token_id` to `eos_token_id`:50256 for open-end generation.\n"
          ]
        },
        {
          "name": "stdout",
          "output_type": "stream",
          "text": [
            "  Batch   100  of    115. Loss: 2.7659897804260254.   Elapsed: 0:00:58.\n",
            "0: day is time is the time is the time is the time is the time is the time is the time is the time is the time is the time is the time is the time is the time is the time is the time is the time is the time is the time is the time is the time is the time is the time is the time is the time is the time is the time is the time is the time is the time is the time is the time is the time is the time is the time is the time is the time is the time is the time is the time is the time is the time is the time is the time is the time is the time is the time is the time is the time is the time is the time is the time is the time is the time is the time is the time is the time is the time is the time is the time is the time is the time is the time is the time is the time is the time is the time is the time is the time is the time is the time is the time is the time is the time is the time is the time is the time is the time is the time is the time is the time is the time is the time is the time is the time is the time is the time is the time is the time is the time is the time is the time is the time is the time is the time is the time is the time is the time is the time is the time is\n",
            "1: day and. I mean, he is a really good guy and I. He ain' a really good guy and I'm not trying to throw you in the ground. I mean, he's not trying to be like, you know, what would they say? You know, you know, we never have one day in this town, I mean, I say that you know what would they say? You know, you know, we never have one day in this town, I mean, we never have one day in this town, I mean, I say that you know what would they say? You know, you know. We never have one day in this town. I mean, you know, I say that you know what would you say? You know, you know, we never have one day in this town, I mean, we never have one day in this town, I mean, I mean, I say that you know what would you say? You know, you know, we never have one day in this town. I mean, you know, I say that you know what would you say? You know, you know, we never have one day in this town. I mean. You know, I say that you know what would you say? I say you know what would you say? I mean, I say you know what would you say? I mean, I say you know what would you say? I mean, I say you know\n",
            "2: day,, the, the, the, the, the, the, the, the, the, the, the, the, the, the, the, the, the, the, the, the, the, the, the, the, the, the, the, the, the, the, the, the, the, the, the, the, the, the, the, the, the, the, the, the, the, the, the, the, the, the, the, the, the, the, the, the, the, the, the, the, the, the, the, the, the, the, the, the, the, the, the, the, the, the, the, the, the, the, the, the, the, the, the, the, the, the, the, the, the, the, the, the, the, the, the, the, the, the, the, the, the, the, the, the, the, the, the, the, the, the, the, the, the, the, the, the, the, the, the, the, the, the, the, the, the, the, the, the, the, the, the, the, the, the, the, the, the, the, the, the, the, the, the, the, the, the, the, the,\n",
            "3: day it I'm sure I'm sure I'm sure I'm sure I'm sure I'm sure I'm sure I'm sure I'm sure I'm sure I'm sure I'm sure I'm sure I'm sure I'm sure I'm sure I'm sure I'm sure I'm sure I'm sure I'm sure I'm sure I'm sure I'm sure I'm sure I'm sure I'm sure I'm sure I'm sure I'm sure I'm sure I'm sure I'm sure I'm sure I'm sure I'm sure I'm sure I'm sure I'm sure I'm sure I'm sure I'm sure I'm sure I'm sure I'm sure I'm sure I'm sure I'm sure I'm sure I'm sure I'm sure I'm sure I'm sure I'm sure I'm sure I'm sure I'm sure I'm sure I'm sure I'm sure I'm sure I'm sure I'm sure I'm sure I'm sure I'm sure I'm sure I'm sure I'm sure I'm sure I'm sure I'm sure I'm sure I'm sure I'm sure I'm sure I'm sure I'm sure I'm sure I'm sure I'm sure I'm sure I'm sure I'm sure I'm sure I'm sure I'm sure I'm sure I'm sure I'm sure I'm sure I'm sure I'm sure I'm sure I'm sure I'm sure I'm sure I'm sure I'm sure\n",
            "4: day: offense of the world is not offense of the world,\" offense of the world is not the offense of the world,\" the offense of the world is not the offense offense of the world,\" the offense of the world is not the offense the offense of the world,\" the offense of world is the offense of the world,\" the offense of the world is the offense of the world,\" the offense of the world is not the offense of the world,\" the offense of the world is the offense of the world,\" the offense of the world is the offense of the world,\" the offense offense of the world is the offense of the world,\" the offense of the world is the offense of the world,\" the offense of the world is the offense of the world,\" the offense of the world is the offense of offense,\" the offense of the world is the offense of the world,\" the offense offense of the world is the offense of the world,\" the offense of the world is the offense of the world,\" the offense of the world is the offense of the world,\" the offense of the world is the offense of the world,\" the offense of the world is the offense offense of the world,\" the offense of the world is the offense of the world,\" the offense of the world is the offense of the world,\" the offense of the world is the offense of the world,\" the offense of the world is the offense of the world,\" the offense of the world is\n",
            "\n",
            "  Average training loss: 2.77\n",
            "  Training epoch took: 0:01:11\n",
            "\n",
            "Running Validation...\n",
            "  Validation Loss: 2.68\n",
            "  Validation took: 0:00:04\n",
            "\n",
            "======== Epoch 4 / 40 ========\n",
            "Training...\n"
          ]
        },
        {
          "name": "stderr",
          "output_type": "stream",
          "text": [
            "Setting `pad_token_id` to `eos_token_id`:50256 for open-end generation.\n"
          ]
        },
        {
          "name": "stdout",
          "output_type": "stream",
          "text": [
            "  Batch   100  of    115. Loss: 2.8388874530792236.   Elapsed: 0:00:57.\n",
            "0:  Hang ( year) ( me back ( year) ( me back ( year) ( me back ( year) ( me back ( year) ( me back ( year) ( me back ( year) ( me back ( year) ( me back ( year year) ( me back ( year) ( me back ( year) ( me back ( year) ( me back ( year) ( me back ( year) ( me back ( year) ( me back ( year) ( me back ( year) ( me back ( year) ( me back ( year) ( me back ( year) ( me back ( year) ( me back ( year) ( me back year) ( me back ( year) ( me back year year) ( me back ( year) ( me back ( year) ( me back ( year) ( me back ( year) ( me back ( year) ( me back ( year) ( me back ( year) ( me back ( year) ( me back ( year) ( me back ( year) ( me back ( year) ( me back ( year) ( me back ( year) ( me back ( year) ( me back ( year) ( me back ( year) ( me back ( year) ( me back ( year) ( me back year) ( me back year) ( me back ( year) ( me back ( year) ( me back year) ( me back ( year) ( me back\n",
            "1:  Hangy. But yeah yeah I'm serious. That's when it starts. It starts when the whole world starts. Yeah it start, I'm real to tell. Yeah it start, I'm real to tell. And maybe some days I won't get it back. I'm real to tell, and maybe some days I won't get it back. All the time I'm real to tell. Yeah. Yeah it start, I'm real to tell. Like they say. Yeah. All the time I'm real to tell. Like they say. I just wanna try. I just wanna try. You gotta keep this going. I just wanna try. I just wanna try. (Slow). It starts when the whole world starts. I just wanna try. I just wanna try. (Slow). It starts when the whole world starts. (Slow). Yeah they say. (Slow). They just wanna try. (Slow). Yeah they say. And they just wanna try. (Slow). Yeah they say. And they just wanna try. (Slow). Yeah they say. And they just wanna try. (Slow). Yeah they say. And they just wanna try. (Slow). Yeah they say. And they just wanna try. (Slow). Yeah they say. And they just wanna try. (Slow). Yeah they say. And they just wanna try. (Slow). Yeah they say. And they just wanna try. (Slow). Yeah they say. And they just\n",
            "2:  Hang: I think there is no reason to be here. I think there is no reason for the time. I think there is no reason for the time.\n",
            "\n",
            "Om years of you I'm going to die before I years of you I'm going to die before I sleep. Why did you keep me off my meds? Why do you keep me off my meds? Why did you keep me off my meds? Why do you keep me off my med days. And my nights are like the tides of winter. And my nights are like the tides of winter. And my nights are like the tides of summer. And my nights are like the tides of summer. And my nights are like the tides of summer. And the tides of summer. And the tides of summer. And the tides of summer. And the tides of summer. And the tides of summer. And the tides of summer. And the tides of summer. And the tides of summer. And the tides of summer. And the tides of summer. And the tides of summer. And the tides of summer. And the tides of summer. And the tides of summer. And the tides of summer. And the tides of summer. And the tides of summer. And the tides of summer. And the tides of summer. And the tides of summer. And the tides of summer. And the tides of summer. And the tides of summer. And the tides of summer. And the tides of\n",
            "3:  Hang1.mp3,2) mss1.mp3,2) mss1.mp3,2) mss1.mp3,2) mss1.mp3,2) mss1.mp3,2) m10gawdy.mp3,2) mss1.mp310gaawdy.mp3,2) mss1.mp3,2) mss1.mp3,2) mss1.mp3,2) mss1.mp3,2) m iss1.mhm,2) mss1.mhm,210gawdy.mms,2) mss1.mhm,2 City of God,2) mss1.mhm,2;M-1-2-1.mms,2) mss1.mhm,2;M-1-2-1.mms,2) m iss1.mhm,2;M-1-2-1.mms,2) m iss1.mhm,2;M-1-2-1.mms,2) m iss1.mhm,2;M-1-2-1.mms10gawdy.mms,2) m iss1.mhm,2;M-1-2-1.mms,2)\n",
            "4:  Hang-- a- way- off- a- way- off- a- way- off- it- to- go- down-to- the-line-to- say- \"Hey- there- there\".- a- like-us-a- lot-of-the-nays-of-us-ah-and-us.- a- like-us-a- way- off-a- way- off- it- to- come-out-so-and-come-out.- a- like-us-a- way- off- a- way- off- it- to-come-out-so-and-come-out.- a- like-us-a- way- off- a- way- off- it- to-come-out-so-and-come-out.- a- like-us-a- way- off- a- way- off- it- to-come-out-so-and-come-out.- a- like-us-a- way- off- a- way- off- it- to-come-out-so-and-come-out.- a- like-us-a- way- off- a- way- off- it- to-come-out-so-and-come-out.- a- like-us-a- way- off- a-\n",
            "\n",
            "  Average training loss: 2.68\n",
            "  Training epoch took: 0:01:10\n",
            "\n",
            "Running Validation...\n",
            "  Validation Loss: 2.61\n",
            "  Validation took: 0:00:04\n",
            "\n",
            "======== Epoch 5 / 40 ========\n",
            "Training...\n"
          ]
        },
        {
          "name": "stderr",
          "output_type": "stream",
          "text": [
            "Setting `pad_token_id` to `eos_token_id`:50256 for open-end generation.\n"
          ]
        },
        {
          "name": "stdout",
          "output_type": "stream",
          "text": [
            "  Batch   100  of    115. Loss: 2.7958452701568604.   Elapsed: 0:00:58.\n",
            "0:  foodsYou can't live without us, we'll never touch your shit you know. You're just as bad with the shit you do. You're just as bad with the shit you do. You're just as bad with the shit you do. You've been here, you've been here. You're just as good as nobody else got to be. You're just as good as somebody else got to be.\n",
            "1:  foods. it's your friend. You are my roommate. You think I am just a person. You really are a real person. You think I am just a person that I am. I don't even do your work. I never do your work. I don't even do your work. I never do your work. I never do your work. I never do your work. I never do your work. I never do your work. I never do your work. I never do your work. I don't even do your work. I never do your work. I never do your work. I never do your work. I never do your work. I never do your work. I never do your work. I never do your work. I never do your work. I never do your work. I never do your work. I never do your work. I never do you work. I never do your work. I never do your work. I never do your work. I never do you work. I never do your work. I never do your work. I never do your work. I never do your work. I never do your work. I never do your work. I never do your work. I never do your work. I never do your work. I never do your work. I never do your work. I never do your work. I never do your work. I never do your work. I never do your work. I never\n",
            "2:  foods,, and the same for the rest of us.\" The Lord hath power to call upon the multitude, and the multitude is the power. the Lord has the power to call upon the multitude, and the multitude is the power. The Lord has the power to call upon the multitude, and the multitude is the power. The Lord has the power to call upon the multitude, and the multitude is the power. The Lord has the power to call upon the multitude, and the multitude is the power. The Lord has the power to call upon the multitude, and the multitude is the power. The Lord has the power to call upon the multitude, and the multitude is the power. The Lord has the power to call upon the multitude, and the crowd is the power. The Lord has the power to call upon the multitude, and the multitude is the power. The Lord has the power to call upon the multitude, and the multitude is the power. The Lord has the power to call numbers through the power of the Word, and the multitude is the power. The Lord has the power to call the multitude, and the multitude is the power. The Lord has the power to call, and the multitude is the power. The Lord has the power to call, and the multitude is the power. The Lord has the power to call, and the crowd is the power. The Lord has the power to call, and the congregation is the power. The Lord has the\n",
            "3:  foods with things with it. This way you can get a job. Now what's the problem with you? This way you can the solve the problem. This way you get a job. Now, why do you think this is so bad? Now, why do you want this? Now, why do you want this? I don't know. I just wanna say somethin' somethin' somethin' somethin'. I just wanna say somethin'. I just wanna say somethin'. I just wanna say somethin'. I just wanna say somethin'. I just wanna say somethin' somethin'. I just wanna say somethin'. I just wanna say somethin' somethin' somethin'. I just wanna say somethin'. I just wanna say somethin' somethin'. I just wanna say somethin' somethin' somethin'. I just wanna say somethin' somethin'. I just wanna say somethin' somethin'. I just wanna say somethin' somethin' somethin'. I just wanna say somethin' somethin' somethin'. I just wanna say somethin' somethin' somethin' somethin'. I just wanna say somethin' somethin' somethin'. I just wanna say somethin' somethin' somethin' somethin'. I just wanna say somethin' somethin' somethin' somethin'. I just wanna say somethin' somethin' somethin' somethin'. I\n",
            "4:  foodsCannabis cannabis is in fact a very important drug that people have to get over their paranoia to get more of it\". But news from the New York Times is that the city of New York is New YorkCity is the city that has the greatest city in the world, the world's greatest city, the world's greatest city that will be the next great city. New York, let's talk about the big city. New York, let's talk about the big city. New York, let's talk about the big city.\n",
            "\n",
            "  Average training loss: 2.62\n",
            "  Training epoch took: 0:01:11\n",
            "\n",
            "Running Validation...\n",
            "  Validation Loss: 2.60\n",
            "  Validation took: 0:00:04\n",
            "\n",
            "======== Epoch 6 / 40 ========\n",
            "Training...\n"
          ]
        },
        {
          "name": "stderr",
          "output_type": "stream",
          "text": [
            "Setting `pad_token_id` to `eos_token_id`:50256 for open-end generation.\n"
          ]
        },
        {
          "name": "stdout",
          "output_type": "stream",
          "text": [
            "  Batch   100  of    115. Loss: 2.3018791675567627.   Elapsed: 0:00:58.\n",
            "0:  trail. c. me. me. me. me. me. me. me. me. me. me. me. me. me. me. me. me. me. me. me. me. me. me. me. me. me. me. me. me. me. me. me. me. me. me. me. me. me. me. me. me. me. me. me. me. me. me. me. me. me. me. me. me. me. me. me. me. me. me. me. me. me. me. me. me. me. me. me. me. me. me. me. me. me. me. me. me. me. me. me. me. me. me. me. me. me. me. me. me. me. me. me. me. me. me. me. me. me. me. me. me. me. me. me. me. me. me. me. me. me. me. me. me. me. me. me. me. me. me. me. me. me. me. me. me. me. me. me. me. me. me. me. me. me. me. me. me. me. me. me. me.              \n",
            "1:  trail in year, for the first time, I just got the first year of the year. They told me that I was too old for that. And the first thing I said was 'No, I'm not young. I'm not young, I'm not young, I'm not young. And I'm not young, I'm not young, I'm not young, I'm not young, I'm not young. And I'm not young, I'm not young. And I'm not young, I'm not young. And I'm not young, I'm not young. And I'm not young, I'm not young. And I'm not young, I'm not young. And I'm not young, I'm not young, I'm not young. And I'm not young, I'm not young. And I'm not young, I'm not young. And I'm not young, I'm not young, I'm not young. And I'm not young, I'm not young, I'm not young. And I'm not young, I'm not young. And I'm not young, I'm not young. And I'm not young, I'm not young. And I'm not young, I'm not young, I'm not young. And I'm not young, I'm not young. And I'm not young, I'm not young. And I'm not young, I'm not young. And I\n",
            "2:  trailA lot of fun, but you have to respect you, and all the other friends, and I hope you always do. You're the one that always makes me happy.\n",
            "3:  trailYou (i've been looking for you). \n",
            "4:  trail's we. I just can't afford that. I just can't. I just can't. But, uh, that's how it goes. You know, I don't know. But, uh, that's how it goes. You know, I don't know. But, uh, that's how it goes. You know, I don't know. But, uh, that's how it goes. You know, I don't know. But, uh, that's how it goes. You know, I don't know. But, uh, that's how it goes. You know, I don't know. But, uh, that's how it goes. You know road. Your road. My road, my road. It's too much, it's too many, it's too heavy, it's too strong. I do it, you do it. I do it, you do it. I do it, you do it. I do it, you do it. I do it, you do it. The road is my road. My road. The road. The road. The road. I do it, you do it. I do it, you do it. I do it, you do it. I do it, you do it. I do it, you do it. That's too much, it's too many, it's too heavy, it's too strong. I do it, you do\n",
            "\n",
            "  Average training loss: 2.57\n",
            "  Training epoch took: 0:01:11\n",
            "\n",
            "Running Validation...\n",
            "  Validation Loss: 2.63\n",
            "  Validation took: 0:00:04\n",
            "\n",
            "======== Epoch 7 / 40 ========\n",
            "Training...\n"
          ]
        },
        {
          "name": "stderr",
          "output_type": "stream",
          "text": [
            "Setting `pad_token_id` to `eos_token_id`:50256 for open-end generation.\n"
          ]
        },
        {
          "name": "stdout",
          "output_type": "stream",
          "text": [
            "  Batch   100  of    115. Loss: 2.4693868160247803.   Elapsed: 0:00:58.\n",
            "0: intend\n",
            " it's hard to to you, and I feel like the world just keeps changing, and I always wanted to do everything just for me. I think that's when it's harder than it used shit, and it just ain't got no place like it belongs. I don't know what to do, that's a lie to me. Yeah, even though it took a while to get to where I was, I'm still so attached. I'm still trying to figure that out though. And yeah, it's just one of those things where you gotta deal with it, you gotta deal with it. And yeah, that's like, no one will ever know you're the way you wish you was, but it won't happen. No one will ever say you were the way you wish you was. Yeah, even though it took a while to get to where I was, I'm still so attached. I'm still trying to figure that out though. And yeah, it's just one of those things where you gotta deal things, you gotta deal with them. And yeah, that's like, no one will ever know you're the way you wish you was. Yeah, even though it took a while to get to where I was, I'm still so attached. I'm still trying to figure that out though. And yeah, it's just one of those things where you gotta deal The things that I try to deal I try to deal I\n",
            "1: intendA niggas I'm gonna be a big girl now,\" Mr. S. told the guest. \"Who else is with you? Yeah, you're gon' run through my city like my nigga Doin' Man,\" Mr told Mr. Niggas. \"Oh, nigga, it's the summer of niggas.\" \"You really need no girlfriend, you need no wife, and that nigga won't let you down,\" Mr. Niggas told Mr. Niggas. \"You really need no girlfriend, you need no wife, and that nigga won't let you down.\"Mr. S. told Mr. N guest that the girl needed to be treated better than her peers. Mr. N said that she needs to go from the hip to the hip. Mr. N said that the girl needed to go from the hip to the hip. Mr. S. said that the girl needed to go from the hip to the hip. Ms. O.K. said that she has an opportunity to succeed. Ms. O.K. said that the city is City and I'm the nigga. Mr. O.K. said that the city is Southern, I'm the nigga. Mr. O.K. said that the city is Southern, I'm the nigga. Ms. O.K. said that the city is Southern, I'm the nigga. Mr. O.K\n",
            "2: intend, people, yeah. And so, I mean, the money, the money, the money. And so, so, uh, I mean, it's that money, it's that money. But uh, it's not. I mean, it's that money, it's that money. And so, I mean, uh, I mean, uh, I mean, uh, I mean, uh, I mean, uh, you can never ever, never, never, never. And you know what I mean? I mean, uh, it's that money. It's that money, it's that money. It's that money. You know what I mean? I mean, I mean, uh, uh, it's that money. It's that money. It's that money. It's that money. The money. And the money is that money. But, I mean, uh, it's that money, that money. And so, I mean, uh, I mean, uh, I mean, uh, I mean, uh, I mean, uh, I mean, uh, I mean, uh, I mean, uh, I mean, uh, I mean, uh, I mean, uh, I mean, uh, I mean, uh, I mean, uh, I mean, uh, I mean, uh, I mean, uh, I mean, uh, I mean, uh, I mean, uh, I mean,\n",
            "3: intend. time. (I think we should've never been one. I think we should've never been the other). It's on, we just gonna take it apart, and we just gotta know it. Just gotta have the time. I guess we gotta know it. It's on. we just gotta let it go. We gotta let it go. It's on, we just gotta let it go. I guess we gotta know it. It's on, we just gotta let it go. It's on, we just gotta let it go. I guess we gotta know it. It's on, we just gotta let it go. It's on. we just gotta let it go. We gotta let it go. (It's on, we just gotta let it go. I guess we gotta know it. It's on, we just gotta let it go. It's on, we just gotta let it go. It's on. we just gotta let it go. It's on, we just gotta let it go.                                                                                       \n",
            "4: intend1r. I don't know if anybody else like that. No, no, no. I'm not. No, no, no. No. I'm not. Yeah, yeah, yeah. You know what. Like you know what. Yeah. Yeah, yeah. What. What. What. What. Who. Who. Who. Who. Who. Who. Who. Who. Who. Who. Who. Who. Who. Who. Who. Who. Who. Who. Who. Who. Who. Who. Who. Who. Who. Who. Who. Who. Who. Who. Who. Who. Who. Who. Who. Who. Who. Who. Who. Who. Who. Who. Who. Who. Who. Who. Who. Who. Who. Who. Who. Who. Who. Who. Who. Who. Who. Who. Who. Who. Who. Who. Who. Who. Who. Who. Who. Who. Who. Who. Who. Who. Who. Who. Who. Who. Who. Who. Who. Who. Who. Who. Who. Who. Who. Who. Who. Who. Who. Who. Who. Who. Who. Who. Who. Who. Who. Who. Who. Whose. Who. Who. Who. Who. Who. Who. Who. Who. Who. Who. Who. Who. Who. Who. Whose. Whose.\n",
            "\n",
            "  Average training loss: 2.54\n",
            "  Training epoch took: 0:01:11\n",
            "\n",
            "Running Validation...\n",
            "  Validation Loss: 2.56\n",
            "  Validation took: 0:00:04\n",
            "\n",
            "======== Epoch 8 / 40 ========\n",
            "Training...\n"
          ]
        },
        {
          "name": "stderr",
          "output_type": "stream",
          "text": [
            "Setting `pad_token_id` to `eos_token_id`:50256 for open-end generation.\n"
          ]
        },
        {
          "name": "stdout",
          "output_type": "stream",
          "text": [
            "  Batch   100  of    115. Loss: 1.2112261056900024.   Elapsed: 0:00:58.\n",
            "0:  surround \" things that are so good! \" -- The introspection of the introspection of my soul. \" -- What's the difference between a man and a woman?. \" -- The newness and the newness of my vision. \" -- How much world I live with. \" -- When I start to lose patience. \" -- What is my relationship with my God?. \" -- When I wake up in the morning and all I think is is \" I know how to make my brother feel good. \" -- When I lose the energy you're problem. \" -- A man that tells me that I need it all. \" -- When I lose your faith in you, I will ask you to return it, but you will never find me. \" -- The question is, \"How can you return to that dream you mommy dream?. \" -- The question is, \"Who is this girl on the other side?. \" -- The question is, \"How can you bring yourself to accept that you have a problem?. \" -- The question is, \"Who is this girl?. \" -- The question is, \"What the fuck is it about?. \" -- The question is, \"How are we gonna go from here to there?. \" -- The question is, \"Who is that bitch that can't find me?\". \" -- The question is, \"What the fuck?. \" -- The question is, \"Who is\n",
            "1:  surround and it like a candy bar. I used to wear it on my lap, like the whole world has been on my lap and it's like a candy bar.  And I had to break it morning.  And I put it on my lap.  Like the whole world has been on my lap and it's like a candy bar.   And I would break it, I would break it, I would break it.   And I would break it, I would break it.   And I would break it, I would break it, I would break it.    And I would break it, I would break it.   And I would break it, I would break it,                                                                                                                                                      \n",
            "2:  surround with people different ways. I mean, if there's somebody who's gonna sing about that shit, I know that's somebody I can relate to. If somebody's gonna put this shit to the side, I know that's somebody I can relate to. What I mean is, I can relate to everybody. You know who you can relate to. I mean, I just wanna make it clear how important you. I just wanna make it clear how important you. I just wanna make it clear how important you. I just wanna make it clear how important you. I just wanna make it clear how important you. I just wanna make it clear how important you. I just wanna make it clear how important you. I just wanna make it clear how important you. I just wanna make it clear how important you. I just wanna make it clear how important you. I just wanna make it clear how important you. I just wanna make it clear how important you. I just wanna make it clear how important you. I just wanna make it clear how important you. I just wanna make it clear how important you. I just wanna make it clear how important you. \n",
            "3:  surroundYou, so I thought I'd share it with ya, even though I know that it's probably not really your favorite game, just because I think that it's my favorite game, so you think I'll make out with you, even though I'm probably not really your favorite. That's why I'm not scared of you, too, baby. That's why I'm not frightened of you, too, baby. That's why I'm not frightened of you, too, baby. That's why I'm not scared of you, too, baby. And I was just wondering what kind of advice you fucker gives me, baby. And I'm probably not going to make out with you, even though I don't really know how to express how stupid you really are. It's just that you do things because you're too busy texting to know who I really am. And I was just wondering what kind fucker gave me. And I was just wondering what kind of advice you Giggly's got on you. And I really like you, though I really hate your games (I really hate all of them), you still just don't really want to hear about the game like a fucking saint. And I guess when you're awake, you kinda get all your problems in one go (I guess it's kinda like a saint, though). And I guess when you're awake, you kinda get all your problems in one go (I guess it's kinda\n",
            "4:  surround of country with the latest music, you know? Well, music that they had to learn from this country. With the latest music, that I hear you. Yeah, the newest album was just the last thing that I heard. Nowadays, I do listen to them, it's all about these old friends. You know what? I got all these new records that came out lately. They're the new best. They're the old best rappers that you heard lately. And the new song that they just. Yeah, I have a lot of new records that come out lately. They're the new best rappers that you heard lately. They're the new best rappers that you heard lately. They're the new best rappers that you heard lately. They're the new best rappers that you heard lately. You know what? I got all these new records that came out lately. They're the new best rappers that you heard lately. They're the new best rappers that you heard lately. They're the new best rappers that you heard lately. You know what? I got all these new records that came lately. They're the new best rappers that you heard lately. They're the new best rappers that you heard lately. They's the new best rappers that you heard lately. You know what? I got all these new records that came in lately. They're the new best rappers that you heard lately. They're the new best rappers that you heard lately. They\n",
            "\n",
            "  Average training loss: 2.50\n",
            "  Training epoch took: 0:01:11\n",
            "\n",
            "Running Validation...\n",
            "  Validation Loss: 2.59\n",
            "  Validation took: 0:00:04\n",
            "\n",
            "======== Epoch 9 / 40 ========\n",
            "Training...\n"
          ]
        },
        {
          "name": "stderr",
          "output_type": "stream",
          "text": [
            "Setting `pad_token_id` to `eos_token_id`:50256 for open-end generation.\n"
          ]
        },
        {
          "name": "stdout",
          "output_type": "stream",
          "text": [
            "  Batch   100  of    115. Loss: 2.209312915802002.   Elapsed: 0:00:58.\n",
            "0:  reflex in while still getting, but then when I do, my brother-in basement, my mom just tells me, \"You know I'm the real deal. You know we are the real deal. You know I got the real deal. And you know I got the real deal. It's just like you. You know I got the real deal. I got the real deal. I got the real deal. All I need is the real deal. And I'll see it through the lens, right? I guess this way you see it, yes. I guess this way you see it, yes. I guess this way you see it, yes. I guess this way you see it, yes. I guess this way you see it, yes. I guess this way you see it, yes. I guess this way you see it, yes.\n",
            "1:  reflex,, goo, goo, goo, goo, goo, goo, goo. You gotta go, go, go, goo, goo, goo, goo, goo. You gotta go, go, go, go, go, go.  This shit ain't even real.  No-one wanna hear shit like this, no-one wanna.  ass ain't real.    ‘I'm all in that car right now.   ‘All in that car right now.   ‘Fuck this shit.   ‘All in that car right now.   ‘Fuck this shit.   ‘All in that car right now.  ‘Fuck this shit.   ‘All in that car right now.    ‘Fuck this shit.   ‘All in that car right now.   ‘Fuck this shit.    ‘‘‘‘‘‘‘‘‘‘‘.   ‘‘‘‘‘‘‘‘‘‘‘‘.   ‘‘‘‘‘‘‘‘‘.   ‘‘‘\n",
            "2:  reflex and. It's one of those ones that is the same, just different. The same is the same. I mean, it's like the same thing. But it's one of those times when you can hear the sound and feel it and see what it is. I mean, I can hear my dad and I can see his face on it. I mean, I can hear his voice on it, but he's still a little distant. It's a little different, just different. That's the way it's always been. Yeah, it's all about getting ahead. And that's why you can always take it easy. I mean, I was born with that. But now, it's just about getting ahead. And that's why you can always take it easy. That's why you can always take it easy. Okay? You like, 'Cause you've got the right to it. Yeah. Yeah. Yeah, yeah, yeah. Yeah, yeah. I need to know. This, this. I need to know. This, this. You can take it easy. I need to know. This, this. You can take it easy. Just like that, this. I need to know. This, I need to know. I don't even know if you could take it easy or not. I don't even know if you could take it easy. I don't even know if you could take it easy. I don't even\n",
            "3:  reflexs feet. I could be a child. I'm a child. We need to be together. A couple of my little girls. We need to come together like this. My name's Michael Jordan. I need you in my life. How do you feel about the money I put into your car?. I know I can do nothing, just try and stay sober. You look like you really want me in your life.                                                                                                                                                                                                                   \n",
            "4:  reflex, mood. And they have nothing to say. That, that, that, that, that. They're not, that, that, that. What happened with you? Did you forget anything? Or did it happen too quickly? Yeah, I said 'you', then it happened too quick. You said 'you', then it happened too quick. Why are you so quiet? Cause, I wanna get you down. I wanna get you down, but I want you to stay. That you, I wanna get you down. That you, I wanna get you down. That you, I wanna get you down. That you, I wanna get you down. I wanna get you down, but I want you to stay. That you, I wanna get you down. That you, I wanna get you down. That you, I wanna get you down. That you, I wanna get you down. That you, I wanna get you down. That you, I wanna get you down. That you, I wanna get you down. That you, I wanna get you down. That you, I wanna get you down. That you, I wanna get you down. That you, I wanna get you down. That you, I wanna get you down. That you, I wanna get you down. That you, I wanna get you down. That you, I wanna get you down. That you, I wanna get you down. That you, I wanna get you\n",
            "\n",
            "  Average training loss: 2.48\n",
            "  Training epoch took: 0:01:11\n",
            "\n",
            "Running Validation...\n",
            "  Validation Loss: 2.57\n",
            "  Validation took: 0:00:04\n",
            "\n",
            "======== Epoch 10 / 40 ========\n",
            "Training...\n"
          ]
        },
        {
          "name": "stderr",
          "output_type": "stream",
          "text": [
            "Setting `pad_token_id` to `eos_token_id`:50256 for open-end generation.\n"
          ]
        },
        {
          "name": "stdout",
          "output_type": "stream",
          "text": [
            "  Batch   100  of    115. Loss: 1.8191601037979126.   Elapsed: 0:00:58.\n",
            "0:  display,, and you should be there too. And yeah, if anybody ever something that I might do I'd do that. And yeah, yeah, that's what everybody should do for them. And yeah, that's what everybody should do. And yeah, that's what everybody should do. And yeah, that's what they should do. And yeah, that's what they should do. And yeah, that's what they should do. And yeah, that's what you should do. And yeah, that's what you should do. And yeah, that's what you should do. And yeah, that's what you should do. And yeah, that's what you should do. And yeah, that's what you should do. And yeah, that's what you should do. And yeah, that's what you should do. And yeah, that's what you should do. And yeah, that's what you should do. And yeah, that's what you should do. And yeah, that's what you should do. And yeah, that's what you should do. And yeah, that's what you should do. And yeah, that's what you should do. And yeah, that's what you should do. And yeah, that's what you should do. And yeah, that's what you should do. And yeah, that's what you should do. And yeah, that's what you should do. And yeah, that's what you should\n",
            "1:  display\" \"show all\" \"no\" \"show all\" \"no\" \"show all\" \"no\" \"show hat\" \"no more\" \"show all\" \"no more\" \"show all\" \"no more\" \"show all\" \"no more\" \"show all\" \"no more\" \"show all\" \"no more\" \"show all glow\" \"show all glow\" \"show all glow\" \"show all glow\" \"show all glow\" \"show all glow\" \"show all glow\" \"show all glow\" \"show all glow\" \"show all glow\" \"show all glow\" \"show all glow\" \"show all glow\" \"show all glow\" \"show all glow\" \"show all glow\" \"show all glow\" \"show all glow\" \"show all glow\" \"show all glow\" \"show all glow\" \"show all glow\" \"show all glow\" \"show all glow\" \"show all glow\" \"show all glow\" \"show all glow\" \"show all glow\" \"show all glow\" \"show all glow glow\" \"show all glow\" \"show all glow\" \"show all glow\" \"show all glow\" \"show all glow\" \"show all glow\" \"show all glow\" \"show all glow\" \"show all glow\" \"show all glow\" \"show all glow\" \"show all glow\" \"show all glow\" \"show all glow\" \"show all glow\n",
            "2:  display with coins time.\"\n",
            " year old boy, we got a lot of money we're using you in the past. So how much money is your money?. I guess you're not getting too old. Why don girls make me more attractive and richer?. Because they'll make you feel like you're living in a house. You better be smart, you better be successful. Cause that's what you should be asking yourself. If you ask me that question I'll tell you. If I'm getting rich, I deserve a lot of money, but you're not getting enough. I guess you're not getting too old. I guess you're not getting too old. How much money is your money?. I guess you're not getting too old. You better be smart, you better be successful. Cause that money got what's going to happen to you. So how much money is your money?. I guess you're not getting too old. I guess you're not getting too old. How much money is your money?. I guess you're not getting too old. You better be smarter. Cause that money got what's going to happen to you. So how much money is your money?. I guess you're not getting too old. You better be smarter. Cause that Money got what's going to happen to you. So how much money is your money?. I guess you're not getting too old. I guess you're\n",
            "3:  display., a, y. Know what you need. Know where you'll be headed. Know what you needed. Know what you needed. You know where you'll be headed. Know what you need. Know where you'll be headed. Know what you needed. Know what you needed. Know where you'll be headed. Know what you needed. Know where you'll be headed. Know what you needed. Know where you'll be headed. Know what you needed. Know where you'll be headed. Know what you needed. Know where you'll be headed. Know what you needed. Know where you'll be headed. Know what you needed. Know where you'll be headed. Know what you needed. Know where you'll be headed. Know what you needed. Know where you'll be headed. Know what you needed. Know where you'll be headed. Know what you needed. Know where you'll be headed. Know what you needed. Know where you'll be headed. Know what you needed. Know where you'll be headed. Know what you needed. Know where you'll be headed. Know what you needed. Know where you'll be headed. Know what you needed. Know where you'll be headed. Know what you needed. Know where you'll be headed. Know what you needed. Know where you'll be headed. Know what you needed. Know where you'll be headed. Know what you needed. Know where you'll be headed. Know what you needed.\n",
            "4:  displayThe same thing happened to me, and I was trying to kill myself. It is still in the backseat with me. Every time that I feel like my breath is still moving, I pull up and try to hit them again with it. Every time I feel like my breath is still moving, I pull up and try to hit them again with it. Every time that I feel like my breath is still moving, I pull up and try to hit them again with it. I don't even know what to do with myself. I just wake up a lot more tired than the previous night. It just gets in the way, right? It's just about to get in the way, right? I just wake up a lot more tired than the previous night. It just gets in the way, right? What's happening now?? Why are you holding this over me?\n",
            "\n",
            "  Average training loss: 2.45\n",
            "  Training epoch took: 0:01:11\n",
            "\n",
            "Running Validation...\n",
            "  Validation Loss: 2.54\n",
            "  Validation took: 0:00:04\n",
            "\n",
            "======== Epoch 11 / 40 ========\n",
            "Training...\n"
          ]
        },
        {
          "name": "stderr",
          "output_type": "stream",
          "text": [
            "Setting `pad_token_id` to `eos_token_id`:50256 for open-end generation.\n"
          ]
        },
        {
          "name": "stdout",
          "output_type": "stream",
          "text": [
            "  Batch   100  of    115. Loss: 2.5607004165649414.   Elapsed: 0:00:58.\n",
            "0:  pastor. person, I'm going to be there. my momma love me and now I'm the center. that's the definition of love. I'm just like the sun in my skin. My mother never gave a fuck about me. Don't get your mother out of my life, this chick ain't got no fuckin' left on her to do with it. But if I'm still with you, we can go on. We gotta love each other. We gotta grow. We gotta get the confidence that we gotta grow. It's not my fault, she did bad things. But we just gotta be thankful for what we got here. I mean look at the world and I swear, these days that I'm with a nigga ain't that long. You see it's just the nigga I'm in this for. I don't even care, that's like one of those black dudes. They just wanna make me feel better. Like that's how they make me feel. But you know what I mean? I got a lil boy in this for and now I'm the center. I just wanna stay. I'll let my mother make decisions that'll make me happier. All these nights and I ain't let her make decisions that'll make me unhappy. Because you know what I mean? I got a lil boy in this for and now I'm the center. I just wanna stay. I'll let my mother make decisions that'll make Money Man feel\n",
            "1:  pastor I. But a lot of people still don't know who I really am. My momma always treated me like she always treated me. She never treated me way. And she never treated me my way. But she treated me so deep and tender. And that's why it's such a pain to see my ex talk to her. She is so deep and tender with me. But I need her to stay close. I need to stay close to her but she can't. Like I've been waiting. I'm so close to getting out. But we need to make sure we are loving each other. I'm so close to getting out. But we need to make sure we are loving each other. I am so close to getting out. But we need to make sure we are loving each other. I can't believe I can do the math on this. I can't believe how many people know me. She always treated me the way that she treated me. But she treated me so deeply and tender with me. She treated me so deep and tender with me. She treated me so deep and tender with me. She treated me so deep and tender with me. She treated me like she always treated me. She made me feel so alive and so beautiful. And I need her to stay close. I need to stay close to her but she can't. Like I've been waiting. I'm so close to getting out. But we need to make sure we\n",
            "2:  pastor,, and a number of other people I people I mean it. My people my people my people. I don't even have to get married without you. You don't even have to get married without me. It's just a life. You just give it all to me like one of my friends. Just a life. I'm just as thankful as anybody to be with me. And that's exactly the reason why I'm so grateful. I'm grateful to God that it's okay. You know what? I don't even get paid for that shit. I'm just grateful to God that it's okay. Yeah, we're the same. We both know that I'm not even the most selfish person that I got it. I really do get it. And you're just grateful that shit was okay. That's exactly the reason why I'm so thankful. I'm grateful to God that it's okay. Yeah, we're the same. We both know that I'm not even the most selfish person that I got it. I really do get it. And you're just grateful that shit was okay. That's exactly the reason why I'm so thankful. I'm grateful to God that it's okay. Yeah, we're the same. We all know that I'm not even the most selfish person that I got it. I really do get it. And you're just grateful that shit was okay. That's exactly the reason why I'm so\n",
            "3:  pastor. And girl. And her brother, she ain't never seen her son, no matter how much I say. And my mommy is just chillin' at the house, so I'm in front of her house all the time, all the time. And even my sister, she's just chillin' at the house, so I'm in front of her house all the time, all the time. And when she leave on my birthday, I make her dance, and she can make me run to the bathroom. And then when I'm ready, she let go all her shit and let me drop her and give me the baby. And she said 'oh baby, you're allergic to that shit baby, just go ahead and motherfuckin' baby with me.' And she said 'Oh my goodness, baby, I just need some ice and some cold water'. And the ice was like 'fuck yeah, I'm allergic to that shit baby, just go ahead and the motherfuckin' baby with me'. And she said 'oh baby, you're allergic to that shit baby, just go ahead and the motherfuckin' baby with me'. And we kept talking, and I said 'hey, motherfucker, just come back home to visit you'. And she said 'oh baby, you're allergic to that shit baby, just go ahead and the motherfuckin' baby with me'. And I said 'oh baby, your body feels\n",
            "4:  pastorWe are told. 'Cause we all die 'bout this girl, like shit in Vegas. 'Cause I don't care if you die for me and me only, girl. 'Cause you get the feeling she just wants us gone. 'Cause we're telling her we'll probably never do it. 'Cause if you never do it or you don't do it, then I'm gone. 'Cause when I'm on, so I can do anything. 'Cause I'm back, like I used to be back. 'Cause it's all my fault, and now I'm trying to do it. 'Cause if I'm gone, then I'm gone. 'Cause I love this song, I love all my friends. 'Cause the people I'm still with now. 'Cause these things are still getting worse. 'Cause I'm gonna die and these things are still getting worse. 'Cause I'm gonna die and these things are still getting worse. 'Cause I'm trying to do anything. 'Cause I'm back, like I used Summer. 'Cause it's all my fault, and now I'm trying to do it. 'Cause if I'm gone, then I'm gone. 'Cause it's all my fault, and now I'm trying to do it. 'Cause if I'm gone, then I'm gone. 'Cause it's all my fault, and now I'm trying to do it. 'Cause if I'm gone,\n",
            "\n",
            "  Average training loss: 2.42\n",
            "  Training epoch took: 0:01:11\n",
            "\n",
            "Running Validation...\n",
            "  Validation Loss: 2.57\n",
            "  Validation took: 0:00:04\n",
            "\n",
            "======== Epoch 12 / 40 ========\n",
            "Training...\n"
          ]
        },
        {
          "name": "stderr",
          "output_type": "stream",
          "text": [
            "Setting `pad_token_id` to `eos_token_id`:50256 for open-end generation.\n"
          ]
        },
        {
          "name": "stdout",
          "output_type": "stream",
          "text": [
            "  Batch   100  of    115. Loss: 3.127382755279541.   Elapsed: 0:00:58.\n",
            "0:  illicit the and that's really good, man,\" voice on the mic said. \"I need more money to do these things. I need more money to get it done. That's really good, man. And maybe we'll even have one more year or two and we'll be in the same city or something. We should know that. And maybe we'll just have some more money to do these things. That's really good, man. And maybe we'll even have some more money to do these things. That's really good, man. And maybe we'll even have some more money to do these things. That's really good, man. And maybe we'll even have some more money to do these things. That's really good, man. And maybe we'll even have some more money to do these things. That's really good, man. And maybe we'll even have some more money to do these things. That's really good, man. And maybe we'll even have some more money to do these things. That's really good, man. And maybe we'll even have some more money to do these things. That's really good, man. And maybe we'll even have some more money to do these things. That's really good, man. And maybe we'll even have some more money to do these things. That's really good, man. And maybe we'll even have some more money to do these things. That's really\n",
            "1:  illicit and while they're in the bathroom. It's just a lot harder in the bedroom now because of drugs that I get, but they just want to make sure they're clean and they don't take too much stuff. It's just like they make it so they know who's in it and who they're in it for. If you make it hard for somebody, it's like they make it so they know who's in it and who they're in it for. 'Cause you know who you're talking to right now, that somebody that you know is on the way out. That it's like it's just somebody out there that's trying to get to you. But you know what you do, you know what it's like. You know what it's like they make it so they know who you're talking to right now, that somebody that you know is on the way out. That it's like it's just somebody out there that's trying to get to you. But you know what you do, you know what it's like. You know what it's like they make it so they know who you're talking to right now, that somebody that you know is on the way out. That it's like it's just somebody out there that's trying to get to you. They just want to make sure they're clean and they don't take too much. It's just like they make it so they know who's in it and who they\n",
            "2:  illicit. I was told that if I didn't then I would get in trouble.\" Then he in a private cell, and that I would have to do it. I don't know if I really wanna be out here. I am going through this shit right now. They need to be real about that. I know a lot of you and want to know a lot. I'm the one that was scared. I was in love with. I'm the one that was so afraid. I am the one that was so scared. I am the one that was so afraid. I am the one that was so afraid. I am the one that was so afraid. I am the one that was so scared. I am the one that was so scared. I am the one that was so scared. I am the one that was so frightened. \n",
            "3:  illicitRipe like you just told her that shit ain't evenhin' good enough. That's my fuckin' motto. That's my fuckin' motto. That's my fuckin' motto. That's my fuckin' motto. That's my fuckin' motto. That's my fuckin' motto. That's my fuckin' motto. That's my fuckin' motto. That's my fuckin' motto. That's my fuckin' motto. That's my fuckin' motto. That's my fuckin' motto. That's my fuckin' motto. That's my fuckin' motto. That's my fuckin' motto. That's my fuckin' motto. That's my fuckin' motto. That's my fuckin' motto. That's my fuckin' motto. That's my fuckin' motto. That's my fuckin' motto. That's my fuckin' motto. That's my fuckin' motto. That's my fuckin' motto. That's my fuckin' motto. That's my fuckin' motto. That's my fuckin' motto. That's my fuckin' motto. That's my fuckin' motto. That's my fuckin' motto. That's my fuckin' motto. That's my fuckin' motto. That's my fuckin' motto. That's my fuckin' motto. That's my fuckin' motto. That's my fuckin' motto. That's my fuckin' motto. That's my fuckin' motto. That's my fuckin' motto. That's my fuckin' motto. That's\n",
            "4:  illicit1. It's really simple, that's why it's beautiful,\" said G manager at the time. \"I just started putting money in, but I don't need it anymore. Nowadays I just want to put that money in, but I don't need it anymore. It's really simple, that's why it's beautiful.,\" said G’ a father of two that I need to learn everything every day. So much of my life I wish that I never had to find it. I think every single day, it's just more and more. So much of my life I wish that I never had to find it. I just started put money in, but I don't need it anymore. Nowadays I just want to put that money in, but I don't need it anymore. It's really simple, that's why it's beautiful.,\" said G, a father of two that I need to learn everything every day. So much of my life I wish that I never had to find it. I think every single day, it's just more and more. \n",
            "\n",
            "  Average training loss: 2.40\n",
            "  Training epoch took: 0:01:11\n",
            "\n",
            "Running Validation...\n",
            "  Validation Loss: 2.51\n",
            "  Validation took: 0:00:04\n",
            "\n",
            "======== Epoch 13 / 40 ========\n",
            "Training...\n"
          ]
        },
        {
          "name": "stderr",
          "output_type": "stream",
          "text": [
            "Setting `pad_token_id` to `eos_token_id`:50256 for open-end generation.\n"
          ]
        },
        {
          "name": "stdout",
          "output_type": "stream",
          "text": [
            "  Batch   100  of    115. Loss: 2.368633985519409.   Elapsed: 0:00:58.\n",
            "0:  LiberationWe (I'm just trying to stay alive). We don't need you (Love me, Baby). Yeah, I know. I know how that feels. I know how that feels. I know how that feels. I know how that feels. I know how that feels. I know how that feels. I know how that feels. I know how that feels. I know how that feels. I know how that feels. I know how that feels. I know how that feels. I know how that feels. I know how that feels. I know how that feels. I know how that feels. I know how that feels. I know how that feels. I know how that feels. I know how that feels. \n",
            "1:  Liberation.—and I want—a—bunch of people—who are—just—the ones I—was—the shit. (Tippin'), that's for real, the nigga. That's what we do—in real life, I'm not, yeah. I'm a young black man, don't be mean, do you want me, do ya. I'm the motherfuckin' bitch that made you—you're the one that said you could—you made it. That's a nigga. I'm still trying to figure out what that is—. That's a nigga. 'Cause you—you—you—. Tell 'em—say it—say it—say it. Tell 'em—say it—say it—say it——. Tell 'em—say it—say it—say it—say it—. Tell 'em—say it—say it—say it—. Tell 'em—say it—say it—say it—. Tell 'em—say it—say it—say it—. Tell 'em—say it—say it—say it—. Tell 'em—say it—say it—say it—. I want—a—bunch of people—who are—just—the ones I—was—the shit. (Tippin'), that's for real, the nigga. That's what we do—in real life,\n",
            "2:  LiberationThe problem was, boys think they have an issue. But they never find out they have an issue. They always have a problem. They never find out they have an issue. They always have an issue. They never find out they have an issue. They always have an issue. You never know what your problem really is. You never know what your problem really is.\n",
            "3:  Liberation and I. You know that I'm a grown-up. You know that I'm so far from a grown-up. You know that I'm not a real artist. You know that I can only have some music when I need it. You know that I just can't leave, girl. Because I know that I'm just a real artist, girl. And you know that my music is the reason why I'm here. You know that I'm just a real artist, girl. And you know that I am in that position right now. I'm just a real artist. But you know that my music is the reason why I'm here. You know that I'm just a real artist, girl. And you know that I am in that position right now. I'm just a real artist. But you know that my music is the reason why I'm here. You know that I just can't leave, girl. Because I know that I'm just a real artist, girl. And you know that I'm just a real artist. But you know that I'm just a real artist, girl. And you know that I am in that position right now. I'm just a real artist. But you know that my music is the reason why I'm here. You know that I just can't leave, girl. Because I know that I'm just a real artist, girl. And you know that I'm just a real artist, girl. And\n",
            "4:  LiberationGottaNeroes. Long as I keep it to myself, yeah. I just gotta grind out the hate that's in my body. If we ain't together forever, then don't be a bitch like we are. Just gotta grind out the love that's in my body. If we ain't together forever, then don't be a bitch like we are. Just gotta grind out the hate that's in my body. If we ain't together forever, then don't be a bitch like we are. Just gotta grind out the hate that's in my body. We're always together but sometimes we don't take it too far. All alone in this world. We're so lonely. I feel like they're in the zone, they're in the zone. We don't get it, they don't get it, we don't get it, we don't get it. We gotta give it up to you, yeah. We gotta give it up to you, yeah. We gotta give it up to you, yeah. We gotta give it up to you, yeah. We gotta give it up to you, yeah. We gotta give it up to you, yeah. We gotta give it up to you, yeah. We gotta give it up to you, yeah. We gotta give it up to you, yeah. We gotta give it up to you, yeah. We gotta give it up to you, yeah. We gotta give it up to you, yeah\n",
            "\n",
            "  Average training loss: 2.38\n",
            "  Training epoch took: 0:01:11\n",
            "\n",
            "Running Validation...\n",
            "  Validation Loss: 2.53\n",
            "  Validation took: 0:00:04\n",
            "\n",
            "======== Epoch 14 / 40 ========\n",
            "Training...\n"
          ]
        },
        {
          "name": "stderr",
          "output_type": "stream",
          "text": [
            "Setting `pad_token_id` to `eos_token_id`:50256 for open-end generation.\n"
          ]
        },
        {
          "name": "stdout",
          "output_type": "stream",
          "text": [
            "  Batch   100  of    115. Loss: 2.5432307720184326.   Elapsed: 0:00:58.\n",
            "0:  NamMate, look! I heard from the old nigga, niggas ain't got nothing like it, I'm too old for this shit. Cause what the fuck is with this? A nigga from Poland, we don't come together like it and shit. Y'all up in these vans, they just beakin' like you did. They ain't no no show, they ain't no star. Like if you can't prove yourself, you can't prove yourself, so we never callin' you back, no shit. Cause I ain't no nigga here to judge, no man, I ain't a man. Niggas, you know what we do, they don't even listen to a nigga's opinion. They just talkin' and bein' dumb, so that's why I don't tryna do so much. So when you come from the south, when you get your girl, you get the boy. Yeah, that's where we can make it. We don't make it here either, we make it here, then we make it, then we make it, then we make it, then we make it, then we make it, then we make it, then we make it, then we make it, then we make it, then we make it, then we make it, then we make it, then we make it, then we make it, then we make it, then we make it,\n",
            "1:  NamThe way that we run the country—a hundred percent—has been to break our promises. And the women that we run the country—a hundred percent—have been the first generation to realize. And when you try to bring your dream of fame back, it's not the brightest lights that you'll ever see in your life. And your dreams come true. My dreams are more in the family now than they ever were. Your dreams come true, my dreams come true. But my dreams are the ones that hurt me more. In all these years where I'm trying to reach out, my dreams come true. My dreams are more in the family now than they ever were. Your dreams come true, my dreams come true. But my dreams are the ones that hurt me more. In all these years where I'm trying to reach out, my dreams come true. My dreams come true, my dreams come true. But my dreams are the ones that hurt me more. In all these years where I'm trying to reach out, my dreams come true. My dreams come true, my dreams come true. But my dreams are the ones that hurt me more. In all these years where I'm trying to reach out, my dreams come true. My dreams come true, my dreams come true. But my dreams are the ones that hurt me more. My dreams come true, my dreams come true. But my dreams come true, my dreams come true. But my dreams come true,\n",
            "2:  NamOtha, let's face it–she said you don't mean anything to me, and she said that I'm not even that good with it. Now it's the last game for you to play, and you start to realize that you're the person that was going to get to me. So I come and I come, and you start crying, and you start to question what your intentions are. Now you start to wonder, 'What's going wrong? Why are you right now?', and that's exactly when you start realizing that you're the person that was going to get to me. And now you start realizing that you're the person that's going to get to me. So that's what my team does, but you try to pretend that you're not even here anymore. Why am I even here?–where are we at right now?. Why am I even here?–where are we at right now?. \n",
            "3:  NamWipe, the new kid on the block (new kid on the block). Talked about new wave, new wave. I think I'm on my way to Platinum. Talked about my momma always showing me how we should get fucked up. Tellin' everybody shit we don't like. And my momma said I couldn't do that shit. Shit got you, girl. Talkin' about the weather. They had a lot of rainbows (no doubt about it). Got some snowbows (they gave you them). We had some fun. We got a lot of money, we have more. So why not just get some money (better!). And then we can all live? (No?). Yeah. Shit like that. Yeah, I know. I'm not a pessimist, I just ain't. It's always that way, girl. Talkin' about everything I gotta say, yeah. It's just like it's summertime (no need to hit the highway). What's the worst, girl? (Can't really tell). Yeah. Lookin' around in vain for the women we don't have. Tellin' everybody shit we don't like. (Tellin' everybody shit we don't like). Shit got you, girl. Talkin' about the weather. They had a lot of rainbows (no doubt about it). Got some snowbows (they gave you them). We had some fun. We got a lot of\n",
            "4:  NamWorst, you've been through a while. And when they get a new team, you know? You know. You know you belong, that's the new life. But what's your motto? Yeah, I'm always tryna make up for not playing in the league. And uh, I just hope they play better on paper. I mean you, I'm always tryna do something good for my mother. You know? Uh, we don't really have a lot. I just want to bring her along on a good run. And everytime she gets sick or something. And she doesn't mean it, she just wants us all to just forget that shit. (Laughter). And you know, it's hard to believe that I even existed. I just wish they all went through life. I just wish you could be the one that I was and be alone. I just wish that it wouldn't be me. When I was a kid I was like a kid at a park. Nowadays I think about it like I'm a child. But I'm not the kid like you are. Or you know why I'm even here. Tell me why. (Sound of laughter). You just wanna see a little girl. Just wanna see a little girl. We just wanna be friends. You know you belong, that's the new life. But what's your motto? Yeah, I'm always tryna make up for not playing in the league. And uh\n",
            "\n",
            "  Average training loss: 2.36\n",
            "  Training epoch took: 0:01:11\n",
            "\n",
            "Running Validation...\n",
            "  Validation Loss: 2.49\n",
            "  Validation took: 0:00:04\n",
            "\n",
            "======== Epoch 15 / 40 ========\n",
            "Training...\n"
          ]
        },
        {
          "name": "stderr",
          "output_type": "stream",
          "text": [
            "Setting `pad_token_id` to `eos_token_id`:50256 for open-end generation.\n"
          ]
        },
        {
          "name": "stdout",
          "output_type": "stream",
          "text": [
            "  Batch   100  of    115. Loss: 1.322636365890503.   Elapsed: 0:00:58.\n",
            "0: IONIn the beginning there was hope that they would come together, that people would meet them. But they have always been different. They are brothers that I will never know. \n",
            "1: IONS, MESSH, VANILLA TOY MO MO, HIVEC, LIVEC; SIXTH PENAMENT, HOOP HAPPY BECOME MIXTER, LIVEC. PENTATO, PEGGORI, MIXTER NIGGA; SIXTER SIXTER TO SEE, LIVEC, NIGGA. HOOHOO, MIXTER NIGGA, HOOHOO. YELLOW LIGHTS, MIXTER NIGGA. PECATO, LIVEC, MIXTER NIGGA. NIGGA, HOOP HOOP. MIXTER HOOHOO, HOOP HOOHO. LIVEC, HOOP LIVEC, HOOP HO. HOOHOO, HO HOOHO. IOLA NIGGA, HOOP HOOHOO. FISH PENTATO, PEGGORI, MIXTER MIXTER. PENTATO, PEGGORI, MIXTER MO. OVO, PEGGORI, MIXTER NIGGA. OVO, PEGGORI, MIXTER NIGGA. OVO, PEGGORI, MIXTER NIGGA. PENTATO, PEGG MO, HOOP HAPPY BECOME GIGGA. HOO\n",
            "2: IONIt's ironic that first lady Melania, first lady, we're going after every rapper, every single girl that wants to be in my city. You know what I mean? You might be one of them girls who just wanna be at home. And we just got to pick one out of the bunch that we need to get rid of. That one girl that we should really be getting rid of. The one girl that we should really be getting rid of. That one girl that we should really be getting rid of. We're gonna take a photo and make her know it's real. We got to do it like we're doing it. I just want to tell her that we love each other, and we hate each other. And so I'm trying to please her and try and make her feel like I deserve what she gets. And sometimes if I'm trying to please her she just makes me look good and she wanna love it. And that's why I'm telling her how she should treat me like she deserved it. To give her the money that I want and the time that I wish I hadn't given, but then she just lets me feel like I deserve it. Yeah, that's a lot to ask. How many rappers would wanna hit me and my momma, my cousin, my cousins, my cousins, my cousins? How many rappers would wanna hit me and my momma, my cousin, my cousins, my cousin? How many rappers would\n",
            "3: ION. My god, what are we so ashamed of? We're going to have to make sure that you're happy and we're bringing a smile on your face. We want it all to go away. Make sure you stay focused on getting what you need. We'll just keep looking at the same place and we know you're going to make us happy. Don't worry about being alone, we can do this in a heartbeat. When you wake up, get naked, take pictures, and you know we don't want you alone. I know that if I make this right, that it's gonna be for you. You gonna feel like it. The only thing you need is love, you know that it can't hurt. You know that you can't do that in your life. I said you can't do that, that it's gonna get me mad at you. That what I'm asking for. It got a way to get you to where you need me. That's why I love you. I could never accept that you still love me. Even if you hate me. I love you so deeply. Make sure you stay focused on your goals. We could only make this happen in a heartbeat. When you wake up, get naked, take pictures, and you know we don't want you alone. We know that if I make this right, that it's gonna be for you. You gotta find out what kind of man you are and make sure you\n",
            "4: IONI'mma send you somethin' to me when the time comes. Say you're here on your own. Can I have some sleep? Cause you're here on your own. And you know what's in your head?. And when you're a rebel, you know the real struggle is over. 'Cause if you leave, you'll end up with a bunch of baggage. Cause a nigga is just a pussy. You don't get to choose who you love, but who they love. And a lil' freak (who's like a mascot). (What is that mascot?). (Damn, who ain't?). (You can take pictures if you wanna do what you want but you gotta trust me). My dad sent me some diamonds on one of my titties. But my heart's in your head, so you could never tell it. (Okay, whoa). (Whoa, whoa). 'Cause I can see how you're scared. You tryna fight it out, but you gotta trust me. (Okay, you gotta trust me). How dare you lie to me about this?. 'Cause you wanna be the only one with me in that city. You gotta be the only one with me in your city. So, 'cause you wanna be the only one with me. And you know what's in your head?. And when you're a rebel, you know the real struggle is over. 'Cause if you leave, you\n",
            "\n",
            "  Average training loss: 2.34\n",
            "  Training epoch took: 0:01:11\n",
            "\n",
            "Running Validation...\n",
            "  Validation Loss: 2.51\n",
            "  Validation took: 0:00:04\n",
            "\n",
            "======== Epoch 16 / 40 ========\n",
            "Training...\n"
          ]
        },
        {
          "name": "stderr",
          "output_type": "stream",
          "text": [
            "Setting `pad_token_id` to `eos_token_id`:50256 for open-end generation.\n"
          ]
        },
        {
          "name": "stdout",
          "output_type": "stream",
          "text": [
            "  Batch   100  of    115. Loss: 2.6899194717407227.   Elapsed: 0:00:58.\n",
            "0:  glimpseThey got the vision of perfectionAnd you're so beautifulI told you to wait, baby, this is what life wasgoing to be like I'mma tell you. I told you I'd never give up, all I've done is be a vessel. I promised myself this would never change, all my life we just stuck around. So don't ever let that kid say, \"Damn, look, he looks like a girl\". Instead let him say, \"I love you all the same, honey\". 'Cause you know that I love you all the same, honey. Cause you know that I love you all the same, honey. Cause you know that I love you all the same, honey. If you don't love me, you don't really deserve it. Even if it's just me, even if my love is bad, even if I'mma show it to you. Show it to me every night. Show it to me every night. Show it to me every night. Tell me what is 'til next week. Tell me everything that comes in to my body. Let me see if you're loving me as much as you are. I'mma tell you when you finally get it, I'mma take it off. I'll take you anywhere and time. All you need is time and you ain't even got time to run from my body. I'mma keep you in my place. Let me see if you're loving me as much as\n",
            "1:  glimpseSomewhere in the world. 'Cause you're justa layin' me down. 'Cause you're justa layin' me down. \n",
            "2:  glimpseSomewhere on the floor, the girl I love is nowhere, even if I'm nowhere, or at least there's nowhere else to be found. But when this bitch starts going crazy, I never leave her alone, never stop talking. Sometimes, you feel like you can't let her die alone, and she always tell me I need someone to hold her back. And I always tell her, 'It's all about you, and how it can be. All about life and everything. You make me feel so guilty about never being a mother to you. You made me feel so guilty about never being a wife to you. And I always tell her, 'It's all about you, and how it can be. All about life and everything. You make me feel so guilty about never being a mom to you. And I always tell her, 'It's all about you, and how it can be. All about life and everything. You make me feel so guilty about never being a wife to you. And I always tell her, 'It's all about you, and how it can be. All about life and everything. You make me feel so guilty about never being a mom to you. And I always tell her, 'It's all about you, and how it can be. All about life and everything. You make me feel so guilty about never being a wife to you. And I always tell girl, oh oh oh oh oh oh oh oh\n",
            "3:  glimpse,. You know that I never had to go on in a car ride or I would only be there a minute, where we'd end up being friends?. You know that I always had that feeling you, my heart beat too, too late to know you'd even come?. You know that my love for your dad started when he first met me in the dorm. You know that I made myself feel a little less than I should have been. And now I'm in you and I feel the same. And that's why I love you so much. And my mother always has me on camera, and then on camera. I'm blessed to be surrounded by my peers. And in the city I love so much, I can't get enough of them. And there is a song that needs to be told like that. All I can do is speak my mind and they say \"I need you, girl. \". But I need you still. \n",
            "4:  glimpse with, I can tell that you're just chillin' with us. I've got a lot of things I've been through and that's just the way it is. Like when the whole crew came out the other end of the stick in one day. With the whole crew back together for the night. I had you here and now you're gone. You can't forget what I meant. I told you I was here and now you're gone. \n",
            "\n",
            "  Average training loss: 2.31\n",
            "  Training epoch took: 0:01:11\n",
            "\n",
            "Running Validation...\n",
            "  Validation Loss: 2.51\n",
            "  Validation took: 0:00:04\n",
            "\n",
            "======== Epoch 17 / 40 ========\n",
            "Training...\n"
          ]
        },
        {
          "name": "stderr",
          "output_type": "stream",
          "text": [
            "Setting `pad_token_id` to `eos_token_id`:50256 for open-end generation.\n"
          ]
        },
        {
          "name": "stdout",
          "output_type": "stream",
          "text": [
            "  Batch   100  of    115. Loss: 2.9801950454711914.   Elapsed: 0:00:58.\n",
            "0:  LaureTing It Up.\n",
            "1:  LaureWoo?. (Ayy, ayy, ayy, ayy, ayy, ayy, ayy, ayy, ayy, ayy, ayy, ayy, ayy, ayy, ayy, ayy, ayy, ayy, ayy, ayy, ayy, ayy. Yeah, man, whoa, where am I right now?.!!!!!!!!!!!!!!!!!!!!!!!!!!!!!!!!!!!!!!!!!!!!!!!!!!!!!!!!!!!!!!!!!!!!!!!!!!!!!!!!!!!!!!!!!!!!!!!!!!!!!!!!!!!!!!!!!!!!!!!!!!!!!!!!!!!!!!!!!!!!!!!!!!!!!!!!!!!!!!!!!!!!!!!!!!!!!!!!!!!!!!!!!!!!!!!!!!!!!!!!!!!!!!!!!!!!!!!!!!!!!!!!!!!!!!!!!!!!!!!!!!!!!!!!!!!!!!!!!!!!!!!!!!!!!!!!!!!!!!!!!!!!!!!!!!!!!!!!!!!!!!!!!!!!!!!!!!!!!!!!!\n",
            "2:  LaureSki, who never made a scene in her life. I ain't even goin' for it, she said. So I said she would. And now you gon' show her up. Yeah, she said it. And now you're goin' for it. So I said she would. And now you gon' show her up. You got somethin' I need you for. Don't come here without her. You heard her out the rain. I'm still comin' with the women. Let's just get it on. We can't let the girls get a body. And if I go in her way I will never come right back to. I ain't even get on to the show, I'm still goin' for it. So I said she would. And now you gon' show her up. She say it. And now you're goin' for it. So I said she would. And now you're goin' for it. So I said she would. And now you're goin' for it. So I said she would. And now you're goin' for it. So I say she would. And now you're goin' for it. So I said she would. And now you're goin' for it. So I said she would. And now you're goin' for it. So I say she would. And now you're goin' for it. So I\n",
            "3:  LaureMakes it look like someone else is playing a role. Maybe you're playing someone else, or maybe that's not that player. Either way, maybe I'm here to say goodnight to everybody on the team. That I just want you all to know who I am. And I want them to know I am. So please don't forget to come by once your mind's been focused and you've started healing. Feel free to be whatever you choose to be. And I'm ready to play any number. If you want to know why I stay. If you want to learn about me, I'm ready to discuss your needs. Don't get lost on me, I will keep you safe. Don't have no problem just wait out my time. Don't get confused about who I am. I'm my number one man, I'm your number one soldier. And I'm your number one officer. And I'm your number one lieutenant, I can never duplicate you. Don't ask me 'Do you mean to bring me down', when this is all about you. You've done what I say is right, I'm here to take the fall, the fall. And I got a new mission plan on my mind. So keep me warm and watch what you do on my mind. I'll never forget that night in the parking lot. You just keep on running and I'll never forget that day. Oh look what my city looks like. Look what the sun look\n",
            "4:  Laure2, and now I know she like it. C'mon, what am I?, can I call you?3, I'm in the mood. Just to let you know she loves me. Don't ever forget.4, I've been looking at you all these years. And now you think you're over?, well, just hope I never call.5, what am I?, can I call you? 6, I've been looking at you all these years. And now you think you're over?, well, just hope I never call. 7, izma, I don't even watch much of your shows. And then you think you've quit, and then I'm down and sorry. I'm sorry that we can't see off. You should call me now and tell me we're okay. 8, can I call you?, can I call you? 9, I'm sorry I've said so many bad things. I mean, how many times I've said anything that's just been untrue?. Can you please be honest with me so I can correct myself?. And you know, when I make you nervous, I don't hesitate. Because when I'm down, I'm not up, I'm down. Can you please be honest with me so I can correct myself?. And you know, when I make you nervous, I don't hesitate. Because when I'm down, I'm not up, I'm\n",
            "\n",
            "  Average training loss: 2.29\n",
            "  Training epoch took: 0:01:11\n",
            "\n",
            "Running Validation...\n",
            "  Validation Loss: 2.51\n",
            "  Validation took: 0:00:04\n",
            "\n",
            "======== Epoch 18 / 40 ========\n",
            "Training...\n"
          ]
        },
        {
          "name": "stderr",
          "output_type": "stream",
          "text": [
            "Setting `pad_token_id` to `eos_token_id`:50256 for open-end generation.\n"
          ]
        },
        {
          "name": "stdout",
          "output_type": "stream",
          "text": [
            "  Batch   100  of    115. Loss: 2.051863431930542.   Elapsed: 0:00:58.\n",
            "0: ism to money, and I think it's a way to go and it's a struggle to get through it. It's the way to do it. We need your help, and we've seen your problems lately and you need someone else to help with them. We need your help, and we've seen your problems lately and you need somebody else to help with them. We need your help, and we've seen your problems lately and you need somebody else to help with them. We need your help, and we've seen your problems lately and you need someone else to help with them. We need your help, and we've seen your problems lately and you need somebody else to help with them. If you haven't done it, you're dead for it, you're dead for it, you're dead for it. If you haven't done it, you're dead for it, you're dead for it, you're dead for it. We need your help, and we've seen your problems lately and you need somebody else to help with them. We need your help, and we've seen your problems lately and you need someone else to help with them. We need your help, and we've seen your problems lately and you need somebody else to help with them. You need me, and we love you. I need you and we love you. I need you and we love you. I need you and we love you. I need you and we love you\n",
            "1: ism..\n",
            ". They don't make us proud. We don't have time to think it through. They don't make us proud. We don't have time money to spend on things. They don't make us proud. We don't have time for feelings. They don't make us proud. We don't have time for feelings. They don't make us proud. We don't have time for feelings. They don't make us proud. We don't have time for feelings. They don't make us proud. We don't have time for feelings. They don't make us proud. They don't make us proud. We don't have time for feelings. They don't make us proud. We don't have time for feelings. They don't make us proud. We don't have time for feelings. They don't make us proud. We don't have time for feelings. They don't make us proud. We don't have time for feelings. They don't make us proud. We don't have time for feelings. They don't make us proud. We don't have time for feelings. They don't make us proud. We don't have time for feelings. They don't make us proud. We don't have time for feelings. They don't make us proud. They don't make us proud. We don't have time for feelings. They don't make us proud. We don't have time for feelings. They don't\n",
            "2: ismBut I'm not alone. Look at that shit. People wanna be famous. You ain't seen me do it for twenty-five years, don't you think?—yeah. Yeah, the last time you ever had to sit through a single shit was with Niko. And every time he'd come up to me in New York City. And when he'd go on in his mind to the city, it just felt like we were closer than we used to. I was the one you used to hate, but I'm the one you never seen. Every single night, you're awake like a ghost, but never come around. 'Cause I'll never meet you again. I never said goodbye to the city. But every time I'm here, it just feel like we were closer than we used '76. Yeah, the last time you ever had to sit through a single shit was with Nik. 'Cause I don't even wanna die. 'Cause I'm just so lonely right now. You know, I'm so busy working my phone, sitting by and not really texting. Or texting and writing and not really. But whatever happened, I'll never meet you again. I never said goodbye to the city. But every time I'm here, it just feel like we were closer than we used to. I was the one you used to hate, but I'm the one you never seen. Every single night, you're awake like a ghost,\n",
            "3: ismThey don't know about this shit or shit like us. And we ain't even started for this, not even close.\"\n",
            "4: ismBuckaroo, but that ain't all. I got it for ya. I can't make enough time for ya. Cause you want all the money. And when I get the cash you gon get on this tourin', and I get the ride-along. I'm just askin' you to watch my shit gettin' hotter. (Giggles) No, I'm just sayin' I'mma blow all the smoke. I swear I never run a red light. I'm the only one to see ya lose your mind. 'Cause ya know me as a thug, I'm just tryna lose ya. (Giggles) No, I'm just sayin' I'mma blow all the smoke. I swear I never run a red light. I'm the only one to see ya lose your mind. 'Cause ya know me as a thug, I'm just tryna lose ya. (Giggles) No, I'm just sayin' I'mma blow all the smoke. I swear I never run a red light. I'm the only one to see ya lose your mind. 'Cause ya know me as a thug, I'm just tryna lose ya. (Giggles) No, I'm just sayin' I'mma blow all the smoke. I swear I never run a red light. I'm the only one to see ya lose your mind. 'Cause ya know me as a thug, I\n",
            "\n",
            "  Average training loss: 2.27\n",
            "  Training epoch took: 0:01:11\n",
            "\n",
            "Running Validation...\n",
            "  Validation Loss: 2.52\n",
            "  Validation took: 0:00:04\n",
            "\n",
            "======== Epoch 19 / 40 ========\n",
            "Training...\n"
          ]
        },
        {
          "name": "stderr",
          "output_type": "stream",
          "text": [
            "Setting `pad_token_id` to `eos_token_id`:50256 for open-end generation.\n"
          ]
        },
        {
          "name": "stdout",
          "output_type": "stream",
          "text": [
            "  Batch   100  of    115. Loss: 2.0341827869415283.   Elapsed: 0:00:58.\n",
            "0: oun-yell, yep, and I'm back. I'll go, yep, and I'm back. I'll go, yep, and I'm back. I'll go, yep, and I'm back. I'll go, yep, and I'm back. I'll go, yep, and I'm back. Oh ho ho ho. I'm on top of it. Just get the air and make it. Just make sure no one's out there waiting for me. Get the air and make it Pop. And you can get the air just make it Pop. And you can just make it Pop. And you can just make it Pop. And you can get the air just make it Pop. And you can just make it Pop. And you can just make it Pop. And you can just make it Pop. And you can just make it Pop. And you can just make it Pop. And you can just make it Pop. And you can just make it Pop. And you can just make it Pop. And you can just make it Pop. And you can just make it Pop. And you can just make it Pop. And you can just make it Pop. And you can just make it Pop. And you can just make it Pop. And you can just make it Pop. And you can just make it Pop. And you can just make it Pop. And you can just make it Pop. And you can just\n",
            "1: oun6. It's funny, like, it's funny. I don't really do interviews. You know, when I do these interviews. I don't really do interviews. I don't really do interviews. I don't really do interviews. Yeah. Yeah. I don't really do interviews. I don't really do interviews. I don't really do interviews. Yeah. Yeah. 6 Uhm. Six Uhm. Yeah. 6 Uhm. 6 Uhm. I'ma check it off. 6 Uhm. 6 Uhm. 6 Uhm. I'ma check it off. 6 Uhm. 6 Uhm. 6 Uhm. Uhm. Uhm. 6 Uhm. 6 Uhm. 6 Uhm. \n",
            "2: ounDance. That's all that got you feeling like it. I always say when I'm getting nervous it's all me. Even though I love the moment. If I'm playing like I'm trying to win, that's it. I love being at the top of my game. Just because you can't take that away from me. You know how I feel?. You ain't see no happiness in me, yeah. All I gotta is make sure I can get through, yeah. Yeah. I'm just trying to stay alive, yeah. And get a Grammy and make it out of here. You can make this shit look like a Hollywood stunt. All I gotta is make sure I can get through, yeah. I love being at the top of my game. I just trying to stay alive, yeah. And get a Grammy and make it out of here. You can make this shit look like a Hollywood stunt. \n",
            "3: ounGotta-drop-shit. I'ma-drop-shit. I'ma-drop-shit. 'Bout the sound of a man dying inside. Tired of living in the house, living in the basement. Bout the sound of a man dying inside. I'ma-drop-shit. I'ma-drop-shit. 'Bout the sound of a man dying inside. Tired of living in the house, living in the basement. \n",
            "4: ounIt's not the first time I've gone from high school to low school. Oh yeah. When you're young you gotta get lost. Yeah, get lost. When you're young you gotta get lost. It's like somebody's waiting at the counter with some weed on top. Yeah, go get it, get it, get it. Cause you're in the right spot. When you get into some more shit and then go 'til it's all your thing. Then we just keep movin' off and you just gotta gettin' back. Yeah, go get it, get it, get it. Cause you're in the right spot. When you get into some more shit and then go 'til it's all your thing. Then we just keep movin' off and you just gotta gettin' back. I know I've seen so many people say, \"I'm the one that got to go\". Yeah, I'm the one that's gotta go. I know I've seen so many people say, \"I'm the one that got to go\". \"Well what are you waiting for?\". I'm on some shit that's all yours. \"Well what are you waiting for?\". \"I gotta go through the niggas\". \"Get something for someone else?\". I'm on some shit that's all yours. \"Well what are you waiting for?\". \"I gotta go through the niggas\". \"Get something for someone else?\". I'm on\n",
            "\n",
            "  Average training loss: 2.25\n",
            "  Training epoch took: 0:01:11\n",
            "\n",
            "Running Validation...\n",
            "  Validation Loss: 2.48\n",
            "  Validation took: 0:00:04\n",
            "\n",
            "======== Epoch 20 / 40 ========\n",
            "Training...\n"
          ]
        },
        {
          "name": "stderr",
          "output_type": "stream",
          "text": [
            "Setting `pad_token_id` to `eos_token_id`:50256 for open-end generation.\n"
          ]
        },
        {
          "name": "stdout",
          "output_type": "stream",
          "text": [
            "  Batch   100  of    115. Loss: 3.4119138717651367.   Elapsed: 0:00:58.\n",
            "0:  election., they never say. We gotta stay home in this city and get married, I'm with a girl who want me to be. Yeah. We need some time, I'm with a girl who want me to be. I know your heart is in your ears, baby, you know how to get the message across. That's how I hear it from your ear. It's in your ears the same when the news hits the paper. 'Cause this is real, I'm out there right now with no words. The girl I love you is just as beautiful as you are. What's going on around you? I'm out there right now, all alone. You know how to get the message across. That's how I hear it from your ear. It's in your ears the same when the news hits the paper. 'Cause this is real, I'm out there right now, all alone. Yeah. We need some time, I'm with a girl who want me to be. I know your heart is in your ears, baby, you know how to get the message across. That's how I hear it from your ear. It's in your ears the same when the news hits the paper. 'Cause this is real, I'm out there right now, all alone. Yeah. We need some time, I'm with a girl who want me to be. I know your heart is in your ears, baby, you know how to get the\n",
            "1:  electionThe people that we know today are real people. But we are just trying to hold our peace and have a conversation. Even though you know nothing of us. But, you know the truth. Your heart hurts, your heart hurts. Your voice hurts, your voice hurts. Your mother is hurt, too. You have too much, too much. The way you try to control your emotions, it gets too deep. The game is too deep. They don't care about the game. We all get dragged down, too. How can we find our feet?. We don't have the time to do it, you know. I got a new way, you know. I ain't even thought twice about it. We do what we do, that's my motto. All the things that I say, my momma want to do. Now I wanna do my shit alone. I won't let my friends know. My mother hate the game. So I don't get mad when I make mistakes. She want to be around me, but she won't. She can relate to the fact that I can't do it alone. I got a new way, you know. I ain't even thought twice about it. We do what we do, that's my motto. All the things that I say, my momma want to do. Now I wanna do my shit alone. I won't let my friends know. My mother hate the game. So I don't get\n",
            "2:  electionSlam back with me, you know? Yeah, so. I. Said, \"You know, I don't really want it to go unpunished.\" I. Said, \"You know, I just don't care that much for that bullshit\". (Huh?). I. Said, \"You know, I just don't care that much for that shit. And you know, what's a problem, nigga? Shit. You know, I just don't really want it to go unpunished.\" I. Said, \"You know, I just don't care that much for that shit. And you know, what's a problem, nigga? Shit. You know, I just don't really want it to go unpunished. (Uh). I. Said, \"You know, I just don't really want that shit. And you know, what's a problem, nigga? Shit. You know, I just don't really want it to go unpunished. \n",
            "3:  election-fixing culture, they're the problem, they be the problem—they be the problem, they be the problem. The world and you know it just got different. You know who your father is from. You know who your mother is from. You know who your sister's from. And you know who your boyfriend is from. You know who your mother is from. You know who your best friend is from. You know who your worst enemy is from. And you know who your best friends are from. And you know who your best friend is from. But you really need to know what is going on in your life to help you. Because there is nobody that nobody is perfect, nobody that nobody hates like. You know the problems that some people are running out of and that none of us really know about. But you really need to know what is going on in your life to help you. Because there is nobody that nobody is perfect, nobody that nobody hates like. You know the problems that some people are running out of and that none of us really know about. But you really need to know what is going on in your life. Because there is nobody that nobody is perfect, nobody that nobody hates like. You know the problems that some people are running out of and that none of us really know about. But you really need to know what is going on in your life. Because there is nobody that nobody is perfect, nobody that nobody hates like. You\n",
            "4:  election, speech,\" speech,\" said the man. \"They always try to get what they want and I just know that I'll never get it,\" the man said. \"I never give an inch, and I'm a liar, I got a mistress, I got a dog, I got a rose for every one of my lovers, the other side of the fence,\" the man said. \"You know the ones that you know I'd really love no more? When the time comes, fuck that shit, you know I've got enough for you,\" the man said. \"I know you and I love a lot, you should know that I love you,\" the man said. \"I never want anybody close to me, never need anybody close to me, never need anybody close to me,\" the man said. \"I'm with you, I'm with the world, you won't find much to lose. I don't know where you stand but I'm always here on your side. I'm with the world, I'm with the world, I'm with the world, I'm with the world, I'm with the world. I'm with you, I'm with the world, I'm with the world, I'm with the world, I'm with the world. I'm with you, I'm with the world, I'm with the world, I'm with the world, I'm with the world. I'm with you, I'm with\n",
            "\n",
            "  Average training loss: 2.24\n",
            "  Training epoch took: 0:01:11\n",
            "\n",
            "Running Validation...\n",
            "  Validation Loss: 2.49\n",
            "  Validation took: 0:00:04\n",
            "\n",
            "======== Epoch 21 / 40 ========\n",
            "Training...\n"
          ]
        },
        {
          "name": "stderr",
          "output_type": "stream",
          "text": [
            "Setting `pad_token_id` to `eos_token_id`:50256 for open-end generation.\n"
          ]
        },
        {
          "name": "stdout",
          "output_type": "stream",
          "text": [
            "  Batch   100  of    115. Loss: 1.8109924793243408.   Elapsed: 0:00:58.\n",
            "0:  crazyT. And I don't regret it, just cause it's been a long time since we've done it together. I've got a lot of people I can count on when we're in the car. And when I'm done, they're gone. And you know who you are. I know that if I leave you a better man, I will never forget you. 'Cause we'll never be alone and we'll never be alone. And you'll love my boy if you love me so. Always. And I keep on puttingtin' plans aside so I never really talk. Because it's gotta end soon. And my team got to be together, too. And every time you tryin' to come up with me. I got a real time head, I'ma work it back with you. Every time you tryin' to come up with me. I got a real time head, I'ma work it back with you. Every time you tryin' to come up with me. I got a real time head, I'ma work it back with you. Every time you tryin' to come up with me. I got a real time head, I'ma work it back with you. Every time you tryin' to come up with me. I get a real time head, I'ma work it back with you. Every time you tryin' to come up with me. 'Cause we'll never be alone and we'll\n",
            "1:  crazy. And nigga, we did what we do, you know. It's like a love ride. And the world's on fire. We been in all this shit lately, baby, you know. See me with your dog?. Cause I live and die by the drug that you brought. The game that you don't give a fuck about. The one that I wish you would come back to. The one you don't even want to play. I would rather have you play a second, girl. I want you to play the first, girl. All the pain, all the hate, you should tell somebody. We should have you tell somebody, just tell somebody. We should have you tell somebody, just tell somebody. All the anguish, all the hate, you should tell somebody. We should have you tell somebody, just tell somebody. All the anguish, all the hate, you should tell somebody. We should have you tell somebody, just tell somebody. All the anguish, all the hate, you should tell somebody. We should have you tell somebody, just tell somebody. That's how I know you know how to kill it. And I don't really care that we were at it last night. You are the one who will always tell me that it's alright. All of your mistakes are costing you more. And as long as we are not together. You never had to deal with someone like that. I love you, I see that all over you\n",
            "2:  crazyBut you know where you going now. I'm still trying to figure it out. I think you were thinking, \"What if she ain't here?\". Girl, it's hard to tell if I'm alone with you right now. But if you wanna know. I love to talk to you, you know me like a real man. We had a couple niggas who was trying to get it together. Now we just gotta go back to the old times. I gotta tell you how much I miss you. You was probably the one who saved us up. I gotta tell you how much I miss you. You was probably the one who saved us up. I gotta tell you how much I miss you. You were probably the one who saved us up. \n",
            "3:  crazyBurglars, I swear on the phone that I'm never getting a text from you. You can't hit the gas for me and I don't wanna hit the gas. Please don't come try to stop me (Givin' your blessings) when they try to stop me (Crowding in, Givin' your blessings). I just want to be with you, I just want you to get back to me. And I know you can do what you want with me. If it ain't for niggas, try not to act that way. Just tell my friends it's me, I just tell them my problems with ya are just the surface. I've been trying to get closer to you over the years. But it only gets worse, when the ones we talk about end up in trouble and the ones we're around end up in trouble. I'm just trying to get closer to you and I know you can do what you want with me. If it ain't for niggas, try not to act that way. Just tell my friends it's me, I just tell them my problems with ya are just the surface. I've been trying to get closer to you over the years. But it only gets worse, when the ones we talk about end up in trouble and the ones we're around end up in trouble. I'm just trying to get closer to you and I know you can do what you want with me. If\n",
            "4:  crazyThe one who saved us from our mistakes. The one with the potential to be our greatest. The one with the potential to make us proud. I've been in love with my girl for so long. But it's been a long time since I've had someone else with me. We only known each other online. She always say I'm the only one we can count on. I don't trust her. She always tell me that if I'm with her, she'll still love me. But if she doesn't love me enough, then we'll never have the same friends. We'll never have the same feelings, but we'll still love each other. I'm so thankful that someone I've closest with. That's why every single one of us was born to be around. And you couldn't help but think that we knew each other. But in this position, it feels wrong when people ask me \"What are you, huh?\". How would you describe me?. What makes me feel the things I don't love?. How can I justify myself?. I hate being surrounded by so many people. This world I can't control, this people who are always so jealous. And I can't really explain how I feel when a girl tells me I love her too. When I feel she says I'm too focused on my other goals, too focused on myself. When she tells me that this isn't just a label I must follow. And when I say\n",
            "\n",
            "  Average training loss: 2.22\n",
            "  Training epoch took: 0:01:11\n",
            "\n",
            "Running Validation...\n",
            "  Validation Loss: 2.51\n",
            "  Validation took: 0:00:04\n",
            "\n",
            "======== Epoch 22 / 40 ========\n",
            "Training...\n"
          ]
        },
        {
          "name": "stderr",
          "output_type": "stream",
          "text": [
            "Setting `pad_token_id` to `eos_token_id`:50256 for open-end generation.\n"
          ]
        },
        {
          "name": "stdout",
          "output_type": "stream",
          "text": [
            "  Batch   100  of    115. Loss: 1.5132657289505005.   Elapsed: 0:00:58.\n",
            "0:  bench. yeah. no. like I'm doing a lot of things wrong. yeah, shit. yeah. yeah, shit. yeah, shit. yeah. yeah, shit. shit. shit. shit. shit. shit. shit. shit. shit. shit. shit. shit. shit. shit. shit. shit. shit. shit. shit. shit. shit. shit. shit. shit. shit. shit. shit. shit. shit. shit. shit. shit. shit. shit. shit. shit. shit. shit. shit. shit. shit. shit. shit. shit. shit. shit. shit. shit. shit. shit. shit. shit. shit. shit. shit. shit. shit. shit. shit. shit. shit. shit. shit. shit. shit. shit. shit. shit. shit. shit. shit. shit. shit. shit. shit. shit. shit. shit. shit. shit. shit. shit. shit. shit. shit. shit. shit. shit. shit. shit. shit. shit. shit. shit. shit. shit. shit. shit. shit. shit. shit. shit. shit. shit. shit. shit. shit. shit. shit. shit. shit. shit. shit. shit. shit. shit. shit. shit. shit. shit. shit. shit. shit. shit. shit. shit. shit. shit. shit. shit. shit. shit. shit\n",
            "1:  benchWorst bit in the game, reallyWorst bit in the game, really. But I don't get it. Because when you let me go you say. You just been. I'm always, but now, you're gone. All of my women, all of my women. What's next?. I'm stuck with the shit. I'm still stuck with the shit. I could see this coming if I took enough time. But now I'm scared for my life, I'm scared for my life. I can tell you now are the days, I'm trying to figure it out. I don't really wanna get into that one, girl. I just wanna hear you talk. You wanna hear about my things now. I won't ever be alone forever. If my time was spent alone in the streets, it'd be a waste. I know I can do it, I know that I'll do it someday. But, my time's been gone. All of my women, all of my women. What's next?. I'm stuck with the shit. I'm still stuck with the shit. I could see this coming if I took enough time. But now I'm scared for my life, I'm scared for my life. I can tell you now are the days, I'm trying to figure it out. I don't really wanna get into that one, girl. I just wanna hear you talk. You wanna hear about my things now. \n",
            "2:  benchThis shit went crazy. I used to get called the niggas that shit but then you niggas don't ever listen. You the fuckin boss. You the thug that the mob is gonna kick. It's gotta be hard for me to get the numbers right. It's gonna be hard to get right the numbers if I'm honest with myself. 'Cause this ain't my nigga and I'm stuck in a 6' 6\". This ain't our baby, this is someone we can relate to. It ain't the same shit that you and Wayne together. I'm like, \"Damn, you can't get this out of my system, what on Earth made you do this?\". I could call this my mother, but we can't have sex cause I can't give a fuck. That was my first time, a nigga was back in my prime. I'm still here, look at this shit, I got money, it's yours, it's yours. You the niggas I'm referring to?. You the fuckin boss. You the thug that the mob is gonna kick. It's gotta be hard for me to get the numbers right. It's gotta be hard for me to get right the numbers if I'm honest with myself. 'Cause this ain't my nigga and I'm stuck in a 6' 6\". This ain't my baby, this is someone we can relate to. It ain't the same shit that you and Wayne\n",
            "3:  benchHang on it (Love it, but I got you)                                                                                       � 17 12                                                     �\n",
            "4:  bench-back time. I don't like a time you talk about, that's just not right for me. And when I'm around, I'm down. I guess it's up to you how it goes. Yeah, it's up to you. But what's the reason I was there? Because I got a problem. So, if you ever wanna get into this shit, fuck it. And I'm not around, that's just not right for me. And when I'm around, I'm down. I guess it's up time that you talk about. And when I'm around, I'm down. I guess it's up the time that you talk about. \n",
            "\n",
            "  Average training loss: 2.20\n",
            "  Training epoch took: 0:01:11\n",
            "\n",
            "Running Validation...\n",
            "  Validation Loss: 2.50\n",
            "  Validation took: 0:00:04\n",
            "\n",
            "======== Epoch 23 / 40 ========\n",
            "Training...\n"
          ]
        },
        {
          "name": "stderr",
          "output_type": "stream",
          "text": [
            "Setting `pad_token_id` to `eos_token_id`:50256 for open-end generation.\n"
          ]
        },
        {
          "name": "stdout",
          "output_type": "stream",
          "text": [
            "  Batch   100  of    115. Loss: 2.4602274894714355.   Elapsed: 0:00:58.\n",
            "0:  incorporatedThe best is a lie, but I know that it's nothin' that I'm hiding. I've been trying to hold my own all summer, and now my body's too busy to care, and I know what I'm gettin' for Christmas. But these days I'm not even awake, and I don't know what else to do. And if you don't love me, then what you deserve is silence. I guess you have something to hide, don't you, girl?. Maybe a song from the other side, it could bring them closer. But you need to hide all that love, that's just what I do, girl. I can't do that, you're already broke, girl. There's so much more to me than how I live, I don't get that done, girl. I don't even really think about how I do, girl, there's so much more to me than how I live, girl. And your friends telling you I made it, don't give a fuck. Because I don't really want to talk about you, girl. I know how you feel when I touch you, girl, I won't hold you. I'm just tryna hold you down, girl, I won't hold you down. 'Cause if I really love you and there's nothing else to do, and you're alone with me, then who the fuck are you, girl, that's just a song for you?.\n",
            "1:  incorporatedA minute later. Now there's a girl that's standing over you. She's scared. And you need to help her, so she come in here. But you can never trust me, can you?. You need to know that she loves me. She loves you more than anybody else, don't you?. Even before we started, she told me I was just the luckiest. That's why she always said she loves me. And every time I come in here, she's eager to tell me that you love her. Tell her what happened, girl, but it was more than a year ago. You don't know, girl, but she always say she loves me. You know that I'm the luckiest. 'Cause you feel it right now. But your heart always beats slow. It's obvious, girl. That's why I need you, baby. I need you with me when you're up. When you wanna come and get me like that. When you gotta be with me when you need somebody for you. You're already here, girl, you don't need a therapist. You got a new boyfriend, girl, that'll take it. Your new girlfriend's here, baby. I need you with me when you're up. When you wanna come and get me like that. When you gotta be with me when you need somebody for you. You're already here, girl, you don't need a therapist. You got a new boyfriend\n",
            "2:  incorporatedIf you take a picture, it will be posted on my wall, right here at your home. That's why I'ma make every day better. Every day I'min' money like every single night. Everything I earn on the way. I promise the city is never like that again. You're welcome here, your family is welcome here. I promise everything I promise I put in is guaranteed. It's always going out to make a difference. But you won't ever get paid for it. I swear it when your money get wet. Your wife loves me that way. She always tell me they love me. When your love dries. And you start to fall apart with love. You leave my life to your brother or your girl. Now you're gone, you gone, you gone. Why you feel the pain when your life is ruined?. Why you feel the need when I don't have a problem?. Why you feel me so warm when you love me?. All your problems are so childish. You can't even take a sip in silence. I know it's too much for you to let it go. You just can't let it go. You're too precious to let it go. You can't even take a sip in silence. I know it's too much for you to let it go. You just can't let it go. And you don't even need to take a sip in silence. I know it's too much for\n",
            "3:  incorporatedThe second song group ain't in a position to be stuck in.\". It's just the one song out that they don't really listen to. But they try. And they try so hard to make everybody around them happy. And all that got me on a high alert. I started my first album as a trap group and went off the top. I used to never see a nigga I had with me. But now there's some rappers out there that can turn that shit into something. That's the new shit that I get. I hope that all my niggas get along with me and they realize that they made a life change. And they ain't been living like that ever since. I hope they get along with me and they realize that they made a life change. But they ain't been living like that ever since. I hope they get along with me and they realize that they made a life change. And they ain't been living like that ever since. I hope that all my niggas get along with me and they realize that they made a life change. And they ain't been living like that ever since. \n",
            "4:  incorporatedCame out when you'rea trying to workin' on things. You know that I could never lie, that I would never lie to you. And if you didn't trust me, I'd be with you dead, right?. Always telling lies to be honest, never revealing my deepest secrets. If I stay silent, I would lie to you. But if you stayed quiet, I'd be with you dead. Always telling lies to be honest, never revealing my deepest secrets. If I stay silent, I would lie to you. But if you stayed quiet, I would lie to you. And if you stayed silent, I'd be with you dead. Always telling lies to be honest, never revealing my deepest secrets. You know that I could never lie, that I would never lie to you. But if you didn't trust me, I'd be with you dead, right?. Always telling lies to be honest, never revealing my deepest secrets. If I stay silent, I'd be with you dead, right?. Always telling lies to be honest, never revealing my deepest secrets. So you would never see the light of day, will you?. Yeah, that I can tell. If you stay silent, I'd be with you dead, right?. Always telling lies to be honest, never revealing my deepest secrets. If I stay silent, I'd be with you dead, right?. Always telling lies to be honest, never revealing my deepest secrets\n",
            "\n",
            "  Average training loss: 2.18\n",
            "  Training epoch took: 0:01:11\n",
            "\n",
            "Running Validation...\n",
            "  Validation Loss: 2.52\n",
            "  Validation took: 0:00:04\n",
            "\n",
            "======== Epoch 24 / 40 ========\n",
            "Training...\n"
          ]
        },
        {
          "name": "stderr",
          "output_type": "stream",
          "text": [
            "Setting `pad_token_id` to `eos_token_id`:50256 for open-end generation.\n"
          ]
        },
        {
          "name": "stdout",
          "output_type": "stream",
          "text": [
            "  Batch   100  of    115. Loss: 2.281224012374878.   Elapsed: 0:00:57.\n",
            "0: PeterCrazy? But if my mother's safe, will I be safe? Because if my mother's safe, who knows? Because I don't really have a choice, my mom will tell me. She might say 'I never told, she wouldn't' or it'll change forever. But if my mom is safe, I'll know. She might say 'She's safe, she would love you'. 'Cause she said 'You said you're a patient, I'm not\". 'Cause I said things like, 'If you need a moment, put it on hold'. 'Cause it's probably too late to save that moment, so I'll take it. And put it on hold'. And put it on hold. And put it on hold. And put it on hold. 'Cause it's probably too late to save that moment, so I'll take it. 'Cause it's probably too late to save that moment, so I'll take it. 'Cause it's probably too late to save that moment, so I'll take it. 'Cause it's probably too late to save that moment, so I'll take it. 'Cause it's probably too late to save that moment, so I'll take it. I'm not alone. I'm not alone. That's just not right, y'know. And when I get to, I'm going to tell you about it. And tell you what you did, and then, she'll lie and say\n",
            "1: PeterI'ma call and show ya' daddy. But ain't no show. The lights go out for a second. But when they come on they do what we do. You see, the sun just set. And every time I touch it I'm just a ghost. This is my song and it's for you. I want you to remember where we was when you were young. This is when I was your age. I was tryna run from you, and I'd tell you it's fine. I'm in town on this Sunday and you have to leave me alone. And you just can't take a chance. And, when the time comes, I'm gone. I can't believe I'm still here. And it's just one show at a time. You tryna get me to where you live. But you just can't take a chance. And, when the time comes, I'm gone. \n",
            "2: PeterYEAH, there you at. It's a struggle every day, it's the hardest thing for me to accept. I've been avoiding this for so long, I'm still living it from here. And I'm still in some kind of position. My family, my city, my city is nothing but empty seats, filled with empty seats. And my dad has just arrived, so I gotta walk. We get to where we belong, we sit down and see where we belong. He say look, you need to come and let's get to your place. And we say we can't just sit and just sit. And we gotta sit down, sit down and see where we belong. And we gotta sit down, sit down and see where we belong. And we gotta sit down, sit down and see where we belong. And we gotta sit down, sit down and see where we belong. And we gotta sit down, sit down and see where we belong. And we gotta sit down, sit down and see where we belong. And we gotta sit down, sit down and see where we belong. And we gotta sit down, sit down and see where we belong. And we gotta sit down, sit down and see where we belong. And we gotta sit down, sit down and see where we belong. And we gotta sit down, sit down and see where we belong. And we gotta sit down, sit down and see where we belong. And we gotta sit\n",
            "3: PeterA little bit more of the same. That's the beauty of it all. See you all through the year. We had a couple of great nights. You know what I'm sayin'?. Look, I'm not here to judge. I'm here to be a better soldier, soldier. No other nigga is born that way. No other nigga is a perfectionist. Yeah, I never doubted it. I'm all in it to get rich off the ground. It just takes a little bit. You get what you pay for. Just leave a nigga alone and fuck with your wife. The world is full of problems and niggas that need saving. And the world is full of issues and niggas that need saving. Where are the niggas gonna find help?. Where are the niggas gonna find help?. Where are the niggas gonna find help?. Who are the niggas going to find the soles of the Earth?. We need the answer. The answer is, it's yours, yeah. I don't see a problem in me missing out. When you ask me how I feel, I tell you that I'm just a rapper and shit. Why you never see a struggle when you ask me how I feel, I tell you that I'm just a rapper and shit. Why you never see a struggle when you ask me how I feel, I tell you that I'm just a rapper and shit\n",
            "4: PeterWe don't know, nigga, niggas we won't ever see again. It's all about money. I swear on these niggas I will always love you, nigga, niggas we won't ever see again. It's all about money. I swear on these niggas I will always love you, nigga, niggas we won't ever see again. It's all about money. I swear on these niggas I will always love you, nigga, niggas we won't ever see again. It's all about money. I swear on these niggas I will always love you, nigga, niggas we won't ever see again. It's all about money. I swear on these niggas I will always love you, nigga, niggas we won't ever see again. It's all about money. I swear on these niggas I will always love you, nigga, niggas we won't ever see again. It's all about money. I swear on these niggas I will always love you, nigga, niggas we won't ever see again. It's all about money. I swear on these niggas I will always love you, nigga, niggas we won't ever see again. It's all about money. I swear on these niggas I will always love you, nigga, niggas\n",
            "\n",
            "  Average training loss: 2.16\n",
            "  Training epoch took: 0:01:11\n",
            "\n",
            "Running Validation...\n",
            "  Validation Loss: 2.51\n",
            "  Validation took: 0:00:04\n",
            "\n",
            "======== Epoch 25 / 40 ========\n",
            "Training...\n"
          ]
        },
        {
          "name": "stderr",
          "output_type": "stream",
          "text": [
            "Setting `pad_token_id` to `eos_token_id`:50256 for open-end generation.\n"
          ]
        },
        {
          "name": "stdout",
          "output_type": "stream",
          "text": [
            "  Batch   100  of    115. Loss: 1.6889230012893677.   Elapsed: 0:00:58.\n",
            "0: uringOn my knees, on my knees. I been waiting on you. Let it feel as if someone's asleep. Let it get to you, you know?. Let it get to you, you know?. Let it get to you, you know?. Let it get to you, you know?. Let it get to you, you know?. Let it get to you, you know?. Let it get to you, you know?. Let it get to you, you know?. Let it get to you, you know?. Let it get to you, you know?. Let it get to you, you know?. Let it get to you, you know?. Let it get to you, you know?. Let it get to you, you know?. Let it get to you, you know?. Let it get to you, you know?. Let it get to you, you know?. Let it get to you, you know?. Let it get to you, you know?. Let it get to you, you know?. Let it get to you, you know?. Let it get to you, you know?. Let it get to you, you know?. Let it get to you, you know?. Let it get to you, you know?. Let it get to you, you know?. Let it get to you, you know?. Let it get to you,\n",
            "1: uringBack, that's why I'm back. When I come back I take you back, I take you back. Why I'm back? When I come back I take you back. Oh, oh, oh, oh, oh, oh. When I come back I take you back, I take you back. Why I'm back? When I come back I take you back, I take you back. When I come back I take you back, I take you back. No. No, no. No, no. No, no. Oh, oh, oh, oh, oh. Oh, oh, oh, oh, oh. Oh, oh, oh, oh. \n",
            "2: uringSomewhere in his apartment, he got a sweater. So I went out and bought the sweater. I'm at the Whole Foods and ordered a cheesesteak and cheesesteak. And the cheesesteak is amazing and the cheesesteak is amazing. I'm up at 6:m, my best friend is in bed. She likes ice cream, and when I make it, I just can't stop. And she said \"Hey, do you like ice cream?\". It was ice cream, girl, she like ice cream. And I'm going through all the ice cream store. And I'm going through a bunch of ice cream flavors. And she still likes me when I'm the only girl, you know?. Because I ain't nobody else that's like you like. Even with this money like I'm out here. I just try to get her a drink and she just say \"Bitch, you better go get that shot\". Yeah, you better go get that shot. Cause I feel the same way that I feel myself when I see myself in your life. I know now you know I love you a whole lot and you're right about all the things that's wrong with me. The way you treat me that I respect a whole lot. And I always seem to forget all that I mean. And I just lie to myself to myself and it gets awkward. But I feel like I'm finally back where I started. So I'm sitting in\n",
            "3: uring. And world. And it's all in my head and I'm thinking about it, yeah. I'm not alone. I'm alone. I'm not alone. I'm not alone. I'm not alone. I'm not alone. And it's all in my head and I'm thinking about it, yeah. And it's all in my head and I'm thinking about it. Yeah, yeah. Cause you don't love me, girl. But you love me and I'll make it better and I'm not alone. I'm not alone. I'm not alone. I'm not alone. And it's all in my head and I'm thinking about it. \n",
            "4: uringRocker that they get. Just take a chance. You know when I'm the boss. That I always get the credit, man, right?. I'm still the kid, I got a real shot at it. That I'm unstoppable, I swear. I'm unstoppable, man, right?. This shit ain't over like this. I mean, you had no choice, I could have stayed. It's about you, girl. You have no choice at all. I'm still the kid, I got a real shot at it. That I'm unstoppable, I swear. I'm unstoppable, man, right?. Yeah, that's my verse right there in the middle of it. 'Cause it's like they never let it get to where it ends. I mean, the game is over, my shit just got better. You know that feeling, man?. That you're going to the next level, man. You know that feeling, man?. Yeah, that's my verse right there in the middle October heat. Yeah, that's my verse right there, man?. Yeah, that's my verse right there right now, man. This shit ain't over like this, man, I hate to admit it, girl. I'm still the kid, I got a real shot at it. That I'm unstoppable, I swear. I'm unstoppable, man, right?. Yeah, that's my verse right there right now, man\n",
            "\n",
            "  Average training loss: 2.15\n",
            "  Training epoch took: 0:01:11\n",
            "\n",
            "Running Validation...\n",
            "  Validation Loss: 2.52\n",
            "  Validation took: 0:00:04\n",
            "\n",
            "======== Epoch 26 / 40 ========\n",
            "Training...\n"
          ]
        },
        {
          "name": "stderr",
          "output_type": "stream",
          "text": [
            "Setting `pad_token_id` to `eos_token_id`:50256 for open-end generation.\n"
          ]
        },
        {
          "name": "stdout",
          "output_type": "stream",
          "text": [
            "  Batch   100  of    115. Loss: 3.0512337684631348.   Elapsed: 0:00:58.\n",
            "0:  reproductiveM lady, I had to give up. I had to accept it. I had to keep it—a hundred thousand for myself—enough for myself. And here we are in a time that's gone, where women are scared to speak in public. And men are afraid to say themselves. I can feel they're scared of not being understood, and fear that they'll never understand. So I had to give up on life and never move on. So I had to give up on my own. I had to give up—a hundred thousand for myself—enough for myself. And here we are in a time that's gone, where women are scared to speak in public. And men are afraid to say themselves. This shit is ridiculous. Women say I love them (loving them) and hate me (niggas hating me). I can't trust her, she won't trust me. If they ever hear that I love them and hate me, they'll hate me too. Why on Earth do we need it this late? If they ever hear that I love them and hate me, they'll hate me too. Why on Earth do we need it this late? If they ever hear that I love them and hate me, they'll hate me too. \n",
            "1:  reproductiveIt's in the air, we just don't know where to begin. I could tell you where I'm at, how I'm feeling. And you all over there I bet there ain't no one but me. So we both feel it right now. Yeah. How long did it take me to realize that you all love me. So much. I'm so hot right now. I hope you'll never forget me. Always a lover, always a loving one. Always a lover, always a loving one. Always a lover, always a loving one. Always a lover, always a loving one. Always a lover, always a loving one. Always a lover, always a loving one. Always a lover, always a loving one. Always a lover, always a loving one. So you all too hot right now. \n",
            "2:  reproductive and, and he knows it. We just been through it, you know?. You know who's on this, who's watching from the other side, you know?. Yeah, yeah, yeah. A lot of people I know, you know who you are. And that's a shame, yeah. I don't mean to feel ashamed, that's what's important. That's why I know I can be yourself in this. A lot of people I know, you know who you are. And that's a shame, yeah. I don't mean to feel ashamed, that's what's important. That's why I know I can be myself in this. A lot of people I know, you know who you are. And that's a shame, yeah. That's why I know I can be myself in this. A lot of people I know, you know who you are. And that's a shame, yeah. I don't mean to feel ashamed, that's what's important. That's why I know I can be myself in this. A lot of people I know, you know who you are. And that's a shame, yeah. I don't mean to feel ashamed, that's what's important. That's why I know I can be myself in this. A lot of people I know, you know who you are. And that's a shame, yeah. How's that for real? (Yeah). Why, how can I\n",
            "3:  reproductiveCrazy, you shoulda known already. Cuz it's a game you are playing. How come you always playin' my shit?. You got a bitch that you never playin'. Why don't you give 'em all you got, like \"Yeah?\".. Cuz you're a real fuckin' man, you always claim all my shit as yours. Cuz you just never know how much time you wasted in this life. Why don't you show that shit to all these different women you wanna hang out with. Don't worry, I'm not your friend, bro. I came here to show you I'm still alive and fuckin'. But every single nigga that you come across, you tryna be my friend. Cuz you're out of your mind now, even though you'rea lost me. All my women's emotions going crazy. I hate all my new friends (Yeah). Cuz my money makes them nervous (Yeah). So I'll probably never make it out to you. Now you should know where you stand inside the game. I'm still alive and fuckin'. Why don't you give 'em all you got, like \"Yeah?\".. Cuz you're a real fuckin' man, you always claim all my shit as yours. Cuz you just never know how much time you wasted in this life. Why don't you show that shit to all these different women you wanna hang out with. Don't worry, I'm not\n",
            "4:  reproductiveAyy. Ayy, ayy, ayy. Ayy, ayy. Ayy, ayy. Ayy, ayy. Ayy, ayy. Ayy, ayy. Ayy, ayy. Ayy, ayy. Ayy, ayy. Ayy, ayy. Ayy, ayy. Ayy, ayy. Ayy, ayy. Ayy, ayy. Ayy, ayy. Ayy, ayy. Ayy, ayy. Ayy, ayy. Ayy, ayy. Ayy, ayy. Ayy, ayy. Ayy, ayy. Ayy, ayy. Ayy, ayy. Ayy, ayy. Ayy, ayy. Ayy, ayy. Ayy, ayy. Ayy, ayy. Ayy, ayy. Ayy, ayy. Ayy, ayy. Ayy, ayy. Ayy, ayy. Ayy, ayy. Ayy, ayy. Ayy, ayy. Ayy, ayy. Ayy, ayy. Ayy, ayy. Ayy, ayy. Ayy, ayy. Ayy, ayy. Ayy, ayy. Ayy, ayy. Ayy, ayy. Ayy, ayy. Ayy, ayy. Ayy, a\n",
            "\n",
            "  Average training loss: 2.13\n",
            "  Training epoch took: 0:01:11\n",
            "\n",
            "Running Validation...\n",
            "  Validation Loss: 2.54\n",
            "  Validation took: 0:00:04\n",
            "\n",
            "======== Epoch 27 / 40 ========\n",
            "Training...\n"
          ]
        },
        {
          "name": "stderr",
          "output_type": "stream",
          "text": [
            "Setting `pad_token_id` to `eos_token_id`:50256 for open-end generation.\n"
          ]
        },
        {
          "name": "stdout",
          "output_type": "stream",
          "text": [
            "  Batch   100  of    115. Loss: 2.324439525604248.   Elapsed: 0:00:58.\n",
            "0:  zone6.7.8.9.10.11. I'ma gettin' the info from the safe. I'm a motherfucker. (Wanna come inside?). Don't tell me you wanna dance with the hoes. (Member?). Don't tell me I'm gon' get a glass of Dr. Luke. I just hope the nigga can't find another one to drink with. (Member?). Don't call me \"baby\". I just hope he can't find another one to drink with. I just hope he can't find another one to drink with. All the women in this city got to experience the pain and it's just a matter of time before the man take down the man. And we'll see if he still alive. So get that ass and that pussy ready for the season. Let the season begin. Let the season begin. Let the season begin. Let the season begin. If you got nothing that you can hold on to, it's kinda hard to hold on. Let's face it, the last thing you wanted to do was move. (Member?). When the season starts, I'ma make it right this year. Don't say it \"Baby\", I just want you to know I'ma give it everything I know right now. I don't know how the game went from here. But we gotta go. I'm just tryna get ya. Get 'em to get me off my mind. I could\n",
            "1:  zone. We all know that's the motto of the band. You can do whatever you want. Now I'm here with you trying not to run out and get shot in the stomach. But do whatever you want. It's just that you're trying to prove that. It's just that you're trying to prove that. You just try to prove that. You just try to prove that. I don't care who you are or if you ain't fuckin' who you are, if you ain't fuckin' who you are. You think you're 'bout the man. Don't you ever question who you being and who you gonna be. This city is just as fucked as the rest. This ain't even been a song that anybody's heard before. It's just just about, 'Bout the man'. Who's gonna be the one that's on the map?. How's it gonna feel when you're alone in the city?. I don't know, man, where's the fuckin' star?. You can't really be the one that's on the map?. Don't you ever question who you be or if you ain't fuckin' who you are, if you ain't fuckin' who you are. I don't care who you be or if you ain't fuckin' who you are. \n",
            "2:  zoneThe game has been run and won, I've been down the path of defeat. \n",
            "3:  zoneWoo hoo! I know I need your help! Girl, I know I need your help! Girl, I know I need your help! Man, you're a magnet for trouble. Just put that hair down and let me do the talking. Let me do the talking. Now I know you really wanna fuck with me, but I'm your type. You really wanna fuck with me, but I'm your type. Girl, I know I need your help!. Girl, I know I need your help!. Girl, I know I need your help! Man, you're a magnet for trouble. Just put that hair down and let me do the talking. Let me do the talking. Now I know you really wanna fuck with me, but I'm your type. You really wanna fuck with me, but I'm your type. Girl, I know I need your help!. Girl, I know I need your help!. Girl, I know I need your help!. Girl, I know I need your help! Man, you're a magnet for trouble. Just put that hair down and let me do the talking. Let me do the talking. Now I know you really wanna fuck with me, but I'm your type. You really wanna fuck with me, but I'm your type. Girl, I know I need your help!. Girl, I know I need your help!. Girl, I know I need your help!. Girl, I know I need your help!. Man,\n",
            "4:  zoneBrick to get you ready for the winter. Yeah, let me just put it aside for a second:. So that you can forget about the winter. Oh, yeah. Oh, I never told you that. Oh, let me just throw myself back into the game. Tell me what you're up against. Yeah, let me just throw myself back into the game. Tell me what you're up against. Okay, let me just give you the scoop. I promise you that I know what I know. The game that I be playing, man. Now let me get you some bread. Just let me just grab that bread like a man. I swear it's heaven right now, man. Let me get you some bread like a man. I swear it's heaven right now, man. \n",
            "\n",
            "  Average training loss: 2.12\n",
            "  Training epoch took: 0:01:11\n",
            "\n",
            "Running Validation...\n",
            "  Validation Loss: 2.51\n",
            "  Validation took: 0:00:04\n",
            "\n",
            "======== Epoch 28 / 40 ========\n",
            "Training...\n"
          ]
        },
        {
          "name": "stderr",
          "output_type": "stream",
          "text": [
            "Setting `pad_token_id` to `eos_token_id`:50256 for open-end generation.\n"
          ]
        },
        {
          "name": "stdout",
          "output_type": "stream",
          "text": [
            "  Batch   100  of    115. Loss: 2.570889711380005.   Elapsed: 0:00:58.\n",
            "0:  commitsOn behalf of the people of this land: I testify that the people of this land are the chosen ones. They have my burial memento that I have given them. They have my burial m ring that they gave me. I am the one that sent them the message that I am chosen. So that they might have a better chance at all of being successful. I am a rebel against the wishes of the people I lead. I am a rebel against the desires of the people I lead. So that they might have a better chance at all of being successful. \n",
            "1:  commitsIn your heart. I can't see you hurt in your eyes. That'll hurt forever. Please forgive me. I don't see no one. I've been praying for you for a long time. I know you've been praying for me for a long time. Don't forget about me. You've been thinking of me too much and I've been neglecting you. I've been holding you down, I've been feeling so alone, I know you're lonely. Please forgive me. I don't see no one. I've been praying for you for a long time. I know you've been praying for me for a long time. Don't forget about me. You've been thinking of me too much and I've been neglect 6 AM. It's just been a year since you've been apart. 6 AM. You don't want me to stay. 6 AM. I'll make sure that's the case tonight. But then again, you might as well forget about me, oh. 6AM. You don't want me to stay. You don't want me to stay. You don't want me to stay. \n",
            "2:  commitsOn my knees.... It's hard to sit down when I'm awake. \n",
            "3:  commitsMaaannnnnn! (Clap!! Clap!! Clap!! Clap!! Clap!! Clap!! Clap!! Clap!! Clap!! Clap!! Clap!! Clap!! Clap!! Clap!! Clap!! Clap!! Clap!! Clap!! Clap!! Clap!! Clap!! Clap!! Clap!! Clap!! Clap!! Clap!! Clap!! Clap!! Clap!! Clap!! Clap!! Clap!! Clap!! Clap!! Clap!! Clap!! Clap!! Clap!! Clap!! Clap!! Clap!! Clap!! Clap!! Clap!! Clap!! Clap!! Clap!! Clap!! Clap!! Clap!! Clap!! Clap!! Clap!! Clap!! Clap!! Clap!! Clap!! Clap!! Clap!! Clap!! Clap!! Clap!! Clap!! Clap!! Clap!! Clap!! Clap!! Clap!! Clap!! Clap!! Clap!! Clap!! Clap!! Clap!! Clap!! Clap!! Clap!! Clap!! Clap!! Clap!! Clap!! Clap!! Clap!! Clap!! Clap!! Clap!! Clap!! Clap!! Clap!! Clap!! Clap!! Clap!! Clap!! Clap!! Clap!! Clap!! Clap!! Cl\n",
            "4:  commitsIf you want a great deal, you should go with the young man. He told you you'd never have a chance. He didn't want nothing to do with you. He wanted no regrets, no ones that you would remember. You got a reputation, that's all there is to it. You got a woman that you're with and then you try to hit her like a deer with a bow. And I see her ass bounce back like candy from her necklace. And you tell me, \"You mean you want nothing to do with me?\". She's like, \"What?,\" she says. 'Cause I'ma give you my time, that's all I'll have. 'Cause you, I'ma give you my time, that's all I'll have. 'Cause you, I'ma give you my time, that's all I'll have. And you tell me, \"You mean you want nothing to do with me?\". She's like, \"What?,\" she says. 'Cause I'ma give you my time, that's all I'll have. 'Cause you, I'ma give you my time, that's all I'll have. 'Cause you, I'ma give you my time, that's all I'll have. The only time it will matter is when you have to wait. Until then there's no one around you at the time. 'Cause it's all in your brain, you still believe in me\n",
            "\n",
            "  Average training loss: 2.10\n",
            "  Training epoch took: 0:01:11\n",
            "\n",
            "Running Validation...\n",
            "  Validation Loss: 2.51\n",
            "  Validation took: 0:00:04\n",
            "\n",
            "======== Epoch 29 / 40 ========\n",
            "Training...\n"
          ]
        },
        {
          "name": "stderr",
          "output_type": "stream",
          "text": [
            "Setting `pad_token_id` to `eos_token_id`:50256 for open-end generation.\n"
          ]
        },
        {
          "name": "stdout",
          "output_type": "stream",
          "text": [
            "  Batch   100  of    115. Loss: 1.6951316595077515.   Elapsed: 0:00:58.\n",
            "0:  ironyI need a drink and a toast. Yeah. I need a drink and a toast. I need a drink and a toast. I need a drink and a toast. I need a drink and a toast. I need a drink and a toast. I need a drink and a toast. I need a drink and a toast. I need a drink and a toast. I need a drink and a toast. I need a drink and a toast. I need a drink and a toast. I need a drink and a toast. I need a drink and a toast. I need a drink and a toast. Ayo. Don't even listen to me. I can do nothing. I need to do nothing. Ayo. Niggas. They be poking fun at me. They be poking fun at me. They be poking fun at me. They be poking fun at me. They be poking fun at me. They be poking fun at me. That's the way it is. That's the way it is. I'm not trying to make a career out of it. I'm not trying to make a career out of it. I'm not trying to make a career out of it. I'm not trying to make a career out of it. I'm not trying to make a career out of it. I'm not trying to make a career out of it. I'm not trying to make a career out of it. I'm not trying to make a career out\n",
            "1:  irony of. My dad, you know, was a star on the basketball team. My dad, you know, was a star on the basketball team. That's what made me want to be in this league. We just got this, it's been a while since I've had a chance to sit down with you and discuss our future. I've been waiting for someone, they need to hear from me right now. And I was going, \"Oh, I never heard of you, now you're awake.\". 'Cause you had the best shit in the world. I can't stop thinking about how far we'veed and how far the team will go in the next. It just always end up being how we are. We got these things going, you know, just a minute. Things are getting worse, things are not going as way as these things. We gonna need to hear your side of things. So let me be clear that it's not personal, it's not personal, but it's not personal, but. You know, when you're on the other team, you know you're playing, but it's not the time to let things slide. We gotta hear some of these feelings from you right now, let me be clear. You know how far we've progressed in the last couple years, but we've still got to let things slide. When these things end up being about you and I, and I'm down at the\n",
            "2:  irony: women said they us. They said we're the last thing on Earth. (They say we gon' be the last thing on Earth). We gon' be the last thing on Earth. (They say we gon' be the last thing on Earth). We gon' be the last thing on Earth. (They say we gon' be the last thing on Earth). We gon' be the last thing on Earth. And they said I got a lil' love for 'em (they ain't got no love for no love). (Yeah, I got a lil' love for 'em, that's why I'm here). These niggas that got me want them just got no love for 'em. (Nah, nah, nah, yeah, I got a lil' love for 'em). These niggas that got me want them just got no love for 'em. (Nah, nah, nah, yeah, I got a lil' love for 'em). These niggas that got me want them just got no love for 'em. (Nah, nah, nah, yeah, I got a lil' love for 'em). These niggas that got me want them just got no love for 'em. (Nah, nah, nah, yeah, I got a lil' love for 'em). These niggas that got me want them just got no love\n",
            "3:  ironyAyyyy, just kidding, that's some bullshit. I really needed that. Can I just hit the ball and bounce with that? (You're playing some old games). Can I just hit the ball and bounce with that? (Is that what we were looking for?). I really needed that, baby!. It's just me being myself. It's just me being myself, baby!. It's just me being myself, baby!. It's just me being myself, baby!. It's just me being myself, baby!. It's just me being myself, baby!. It's just me being myself, baby!. It's just me being myself, baby!. It's just me being myself, baby!. It's just me being myself, baby!. It's just me being myself, baby!. It's just me being myself, baby!. It's just me being myself, baby!. It's just me being myself, baby!. And it's just me being myself, baby!. It's just me being myself, baby!. (Yea, fuck that, I'm so new man, I just changed everything). It's just me being myself, baby!. (Yeah, you're playing some old games, you know that?). It's just me being myself, baby!. (You're playing some old games, you know that?). It's just me being myself, baby!. (You're playing some old games, you know that?). It's just me being myself,\n",
            "4:  ironyA lot like my motherma said. But when I'm gone, I'm gone, like a ghost. But I'm back to being a rebel. I guess, I guess you're right. It's nothin' on the menu. It's nothin' on the menu. It's nothin' on the menu. I don't wanna have to tell you that, but I'm telling you right. I'm with you right now. I don't wanna have to tell you that, but I'm telling you right. I'm with you right now. I don't wanna have to tell you that, but I'm telling you right. \n",
            "\n",
            "  Average training loss: 2.08\n",
            "  Training epoch took: 0:01:11\n",
            "\n",
            "Running Validation...\n",
            "  Validation Loss: 2.52\n",
            "  Validation took: 0:00:04\n",
            "\n",
            "======== Epoch 30 / 40 ========\n",
            "Training...\n"
          ]
        },
        {
          "name": "stderr",
          "output_type": "stream",
          "text": [
            "Setting `pad_token_id` to `eos_token_id`:50256 for open-end generation.\n"
          ]
        },
        {
          "name": "stdout",
          "output_type": "stream",
          "text": [
            "  Batch   100  of    115. Loss: 2.3218884468078613.   Elapsed: 0:00:58.\n",
            "0:  Sah. Aye. He came before the King. Told you everything. Had you my mind?. When the prince told you everything. That's how I got me here. Oh. I don't know who to blame but you. That's when your lies end. Oh. You didn't want to hear it. Oh. My heart hurts. Your laughter isn't enough. Oh. How you always smile. Oh. Who would you think of?. Oh, I guess you could say no. Oh. You can't stand me. I can't stand you. I can't stand you. How you always smile. Oh. Oh. How you always smile. And you can't stand me. Why you always smile when I smile when I smile. I don't understand. You say I look selfish?. Why you always smile when I smile when I smile. Oh. What you say when you smile is wrong?. I don't understand. You say I look selfish?. Why you always smile when I smile when I smile. Oh. What you say when you smile is wrong?. I don't understand. You say I look selfish?. Why you always smile when I smile when I smile. Oh. I never liked the way you wanted it. I never liked the way you had it. You just told me how it went wrong. Oh. What you say when you smile is wrong?. I don't understand. You say I look selfish?\n",
            "1:  SahRhin (Nah, nah) yeah. That shit was about me. I can't lie, I know exactly what I feel like. 'Cause I'm outta here. I've been outta here for too long. Look, look what you found 'til you find it. You know what's mine? (Ayy). Yeah, that shit is mine, man. Just look how you look at me. The same thing you see me doing. The same thing you see me do. Yeah, that shit is mine. I can't lie, I know exactly what I feel like. 'Cause I'm outta here. I've been outta here for too long. Look, look what you found 'til you find it. You know what's mine? You know what's mine? Ayy). Yeah, that shit is mine, man. Just look how you look at me. The same thing you see me do. The same thing you see me do. Yeah, that shit is mine. I can't lie, I know exactly what I feel like. 'Cause I'm outta here. I've been outta here for too long. Look, look what you found 'til you find it. You know what's mine? You know what's mine? (Ayy). Yeah, that shit is mine, man. Just look how you look at me. The same thing you see me doing. The same thing you see me do\n",
            "2:  SahYou. Want to be like? I said that was crazy. (Ooh). You're a genius, you. Want a drink?. Tryin' out to sip off this (Ba-Ba). Man, I know you want one. So do you, girl, please drink from me. Drink from your man. And now you're on the run, girl. \n",
            "3:  Sahs sittin' in the club 'til the night's over. And if you need me, 'bout to talk, 'bout to do your thing, but I don't like 'em. I'm movin' around, they know I'm movin' around. I'm movin' around, they know I'm movin' around. I'm movin', they know I'm movin' around. But they know I'm movin' around, and they're movin' about. I'm movin', they know I'm movin' around. I'm movin', they know I'm movin' around. I'm movin', they know I'm movin' around. That's nothin' besides love and all that, man. Yeah, and I'll say it, even though I know you don't. You're just as out of touch with my emotions as mine. And these other dudes have to see that I'm the most selfish. You don't even even deserve shit I'm feelin' right now, man. But I don't know I feel right now, man, cause I'm in bed with another dude. 'Bout to touch ya ass and show me love. Show me love from anywhere on the face of the Earth. To show all the love I give to ya ass. And tell ya stories of where I was from. And how I was from. And I feel love\n",
            "4:  Sah-Rahman is leader and God is my friend. If I have no choice, I am going to die. No one ever has my back, no one ever has my back, nobody ever has my back. Just like he said, he doesn't know how to love us. I say this just to show you, I see it all too bright with his beauty. And he, I mean really big and bold. Oh, how is this not the perfect vision, you know that I've been with you all my life. Oh, how is this not the perfect vision? This is his vision. I am not here to save you and your daughters from this. There is never a time that you can not come together and cry. I cannot even begin to describe how I cannot take what I said from you. Oh I cannot even begin to explain how I cannot take what I said from you. And your daughters that love me. I will always be there for you, they will know I love you. Your little ones that love you. I will always be there for you, they will know I love you. Your girls that love you. My time with you will never be interrupted. I will never ever forget you, I will never leave you. But who is that? You just being this way for me. You're just being your sister, is it not you that I love?. I want you to feel something, and I want you to feel something,\n",
            "\n",
            "  Average training loss: 2.07\n",
            "  Training epoch took: 0:01:11\n",
            "\n",
            "Running Validation...\n",
            "  Validation Loss: 2.51\n",
            "  Validation took: 0:00:04\n",
            "\n",
            "======== Epoch 31 / 40 ========\n",
            "Training...\n"
          ]
        },
        {
          "name": "stderr",
          "output_type": "stream",
          "text": [
            "Setting `pad_token_id` to `eos_token_id`:50256 for open-end generation.\n"
          ]
        },
        {
          "name": "stdout",
          "output_type": "stream",
          "text": [
            "  Batch   100  of    115. Loss: 2.2370095252990723.   Elapsed: 0:00:58.\n",
            "0:  BryanHang on a wire, hang with the Russian mob on fire! — Nicki Minaj’s Reign on a high? — Luke Gallows’.’ — Boi-1da crank, go on the road, come with me on a date! — Lil' Wayne on a mission, Lil' Wayne on fire! — YG on her back, Yo Gotti’! — Young Money on Drake!, Young Money on her back! — Drake, Young Money on her back, Young Money on her back! — Young Money, Young Money on her back, Young Money on her back! — Drake, Young Money on her back, Young Money on her back! — Young Money, Young Money on her back, Young Money on her back! — Young Money, Young Money on her back, Young Money on her back! — Young Money, Young Money on her back, Young Money on her back! — Young Money, Young Money on her back, Young Money on her back! — Young Money, Young Money on her back, Young Money on her back! — Young Money, Young Money on her back, Young Money on her back! — Young Money, Young Money on her back, Young Money on her back! — Young Money, Young Money on her back, Young Money on her back! — Young Money, Young Money on her back, Young Money on her back! — Young Money, Young Money on her back, Young\n",
            "1:  BryanNahaha, I can't stand it. Just don't ask me about how I'm feeling. Tell me, \"I-I know you're acting this way. How you feeling?\". Yeah, don't ask me what I'm feeling. Tell me, \"Why you acting this way?\".. Why you acting this way? Because. Why? Because you feeling. What? What? What? Why you acting this way? Why? Why? Because. You feeling. What? What? What? Why you acting this way? Why? Because. Why? Because. Where you at?. Where's your girl? (Huh?). Where's your girl now?. Where's your girl now?. Where is your girl now?. She. Can't. We both know. Girl? Girl? Girl? Girl? Girl? Girl? Girl? Girl? Girl? Girl? Girl? Girl? Girl? Girl? Girl? Girl? Girl? Girl? Girl? Girl? Girl? Girl? Girl? Girl? Girl? Girl? Girl? Girl? Girl? Girl? Girl? Girl? Girl? Girl? Girl? Girl? Girl? Girl? Girl? Girl? Girl? Girl? Girl? Girl? Girl? Girl? Girl? Girl? Girl? Girl? Girl? Girl? Girl? Girl? Girl? Girl? Girl? Girl? Girl? Girl? Girl? Girl? Girl? Girl? Girl? Girl? Girl? Girl? Girl? Girl\n",
            "2:  BryanGottaHit it. Fuck the fuck up, gettin' it done, gettin' it done. My bitch, she was wooin up, oh. Yeah, shit, shit. When they were sing, you wouldn't know. All you know is that I'm writing letters to a lot of nigga shit, yeah. You like that?. I got a lot of love in this nigga, no?. Got you down, I don't wanna hear what you say. It's good and you get a hold of me. Niggas out the house, we like these pictures. They always see me the other time. They always see me, they always see me the other time. I stay down, shit, shit. Fuckin' things up, gettin' it done, gettin' it done. My bitch, she was wooin up, oh. Yeah, shit, shit. When they were sing, you wouldn't know. All you know is that I'm writing letters to a lot of nigga shit, yeah. You like that?. I got a lot of love in this nigga, no?. Got you down, I don't wanna hear what you say. It's good and you get a hold of me. Niggas out the house, we\n",
            "3:  BryanI call ya man outta here. Tell him tell me how you gotta go. When you hearin my song, I put my hand in it. If you back outta here, then I'm the one. If you back outta here, then I'm the one. Just make my voice low and clear. \n",
            "4:  BryanYou say your brother's coming here and he don't come home. He said they could be here at the weekend. I don't know if we even need him, but we need to do it right. That girl just told me. We should fuck if that's what you want. I need to fix up some things that I don't really understand. Let's see how the world goes. 'Cause you don't want me to play with you right now. Your mind is just too busy playing games. Call me crazy. It's never enough. You got it out now, just do it now. If you get a job with me I want it right now. This is why I gotta keep it right now. And we need the peace. 'Cause we need to do it right. That girl just told me. We should fuck if that's what you want. I need to fix up some things that I don't really understand. Let's see how the world goes. 'Cause you don't want me to play with you right now. Your mind is just too busy playing games. Call me crazy. It's never enough. You got it out now, just do it now. If you get a job with me I want it right now. This is why I gotta keep it right now. And we need the peace. 'Cause we need to do it right. That girl just told me. We should fuck if that's what you want. \n",
            "\n",
            "  Average training loss: 2.06\n",
            "  Training epoch took: 0:01:11\n",
            "\n",
            "Running Validation...\n",
            "  Validation Loss: 2.51\n",
            "  Validation took: 0:00:04\n",
            "\n",
            "======== Epoch 32 / 40 ========\n",
            "Training...\n"
          ]
        },
        {
          "name": "stderr",
          "output_type": "stream",
          "text": [
            "Setting `pad_token_id` to `eos_token_id`:50256 for open-end generation.\n"
          ]
        },
        {
          "name": "stdout",
          "output_type": "stream",
          "text": [
            "  Batch   100  of    115. Loss: 2.2543752193450928.   Elapsed: 0:00:58.\n",
            "0:  spiritsIt was like being kidnapped from the past, but now you're here in your present. (Yup, ayy). We got the money for some drinks, we got some real dough to blow your mind. We're here in this for a reason, you ain't nobody's friend. You gotta go get a job and put on the right attitude. And we say that even when we don't know. Cause the truth is you're way too nice to others. Yeah, you and your accomplices. We had it all on the spot (All you got is the key), 'cause you fuckin' never been the same. So let's start over, we got somethin' you don't need 'til we reach. Let's see if you can take it. Then start over, you better take it (Let's take it). Yeah, this is all for niggas that wanna drop 'em on the spot. We'll do whatever it takes to show you that love is alive. You should drop what you're doing right now (I just wanna get me a drink). Don't ever get back to me, you should drop what you're doing right now. Yeah, this is all for niggas that wanna drop 'em on the spot. We'll do whatever it takes (Take it, blow it) to show you that love is alive. You should drop what you're doing right now (I just wanna get me a drink). Don't ever\n",
            "1:  spiritsWalkingin' backwards, I’m about to catch up to you. Yeah, it's gonna take a long time. You're welcome, baby. Yeah. And tell me about what you learned?. And tell me about what you learned?. It's not my type to be confused about things, baby. Say, \"girl, you learned a lesson\". Say \"yo, girl, you learned a lesson\". Say \"yo, girl, you learned a lesson\". Say \"yo, girl, you learned a lesson\". Yeah, man, you got to find it out before you let it be known. You taught your girlfriend to take an oath like the Pope did. When it comes to women, you don't even do that shit. Say, \"girl, you learned a lesson\". Say \"yo, girl, you learned a lesson\". It's not my type to be confused about things, baby. Say, \"girl, you learned a lesson\". Say \"yo, girl, you learned a lesson\". It's not my type to be confused about things, baby. Say, \"girl, you learned a lesson\". Yeah, man, you got to find it out before you let it be known. You taught your girlfriend to take an oath like the Pope did. When it comes 4 this summer, boy, oh-so-young, they were supposed to bring a nigga. Yeah, I can hear it in your ears. Say, \"\n",
            "2:  spirits and women that we had to have.\" women that we had to have. \"I love my girl, I love that dog, she never met me. The worst thing about me is that I can't remember what I did, but I can at least remember how it happened. I'm a monster, it really is the worst thing that ever happened to me. The worst thing that ever happened to me was a plane crash that would have meant the world. I spent it on myself and I'm glad that it was worth the wait. Because if you never hear from me you just get lost in the distance. You can come and get me later if you need to, but I just won't give up the chance. I've already established a life, I swear I want it the same way. I've already established the lifestyle that I can't help it in. They told me that I needed to change, they knew that I needed to change. I never wanted to give up the chance, I've been focused on me and my boy, I just want it the same way. I never want to give up the chance, I've been focused on me and my boy. I'm sure I'm wrong, I just didn't make the decision. It just seems like the new things get in the way, then you finally realize it. I've already established a life, I swear I want it the same way. I've already established the lifestyle that I can't\n",
            "3:  spirits, and women with the nappies. You got the feeling I'd be lying, baby. They don't take kindly to rumors. 'Cause I had to trust me. I didn't do no wrong. You've seen me with your face. You've been on a mission from the beginning. I know you've seen me through some of the things. And I think you know something. You have been the one who betrayed me. You've been the one who fooled me. I thought that maybe, maybe I could take you. To take you to some places. But you couldn't bring yourself. You couldn't bring yourself. To look in the mirror and show me you were. To see you were naked on the wing. And that your legs were wet on some of your front. I thought that maybe, maybe I could take you. To look in the mirror and show me you was. To see you were naked on the wing. And that your legs were wet on some of your front. It's okay. It's okay to ask your parents what they're worth. I bet I could save them a few lives. But you and I, we both, know the money could buy you peace. And happiness. But if you don't live up to my expectations. And you feel like I'm acting like you got money. And you don't see your father's face. And you don't even see your mom's face. Baby. I can help\n",
            "4:  spirits(!), just to have fun, to have fun with friends. I can't wait to get back on my feet. (Woo!). I got a bunch more, you know I'm a freak now, you know I'm a freak now. All right, all right. Oh, you and I could do it together, without getting you nervous. Oh, you and I could do it together, without getting you nervous. Oh, you and I could do it together, without getting you nervous. Oh, you and I could do it together, without getting you nervous. I'm so glad you caught up. I'm sorry I messed up, my time here is over. Please don't do this to you. I'm going to call you back if you wanna. I'm so glad you caught up. I'm sorry I messed up, my time here is over. Please don't do this to you. I'm going to call you back if you wanna. I'm so glad you caught up. I'm sorry I messed up, my time here is over. Please don't do this to you. I'm going to call you back if you wanna. I'm so glad you caught up. I'm sorry I messed up, my time here is over. Please don't do this to you. I'm going to call you back if you wanna. I'm so glad you caught up. I'm sorry I messed up, my time here is over. Please don\n",
            "\n",
            "  Average training loss: 2.05\n",
            "  Training epoch took: 0:01:11\n",
            "\n",
            "Running Validation...\n",
            "  Validation Loss: 2.52\n",
            "  Validation took: 0:00:04\n",
            "\n",
            "======== Epoch 33 / 40 ========\n",
            "Training...\n"
          ]
        },
        {
          "name": "stderr",
          "output_type": "stream",
          "text": [
            "Setting `pad_token_id` to `eos_token_id`:50256 for open-end generation.\n"
          ]
        },
        {
          "name": "stdout",
          "output_type": "stream",
          "text": [
            "  Batch   100  of    115. Loss: 2.128535032272339.   Elapsed: 0:00:58.\n",
            "0:  sees you bitch, the city's got an addiction to you. Just ask around, you won't get a response. I could pick you up at a party if you're not there for the night. You don't really deserve to be there for the night, I can't stand to see you go. I can't believe you, you're making me mad, you're obsessed with me. But that'll just get you down, then get you back up, then get you back up again. I can't believe it, that'll just get you down, then get you back up again. I can't believe it, that'll just get you down, then get you back up again. That'll just get you down, then get you back up again. I can't believe it, that'll just get you down, then get you back up again. I can't believe it, that'll just get you down, then get you back up again. I can't believe it, that'll just get you down, then get you back up again. I can't believe it, that'll just get you down, then get you back up again. I can't believe it, that'll just get you down, then get you back up again. I can't believe it, that'll just get you down, then get you back up again. I can't believe it, that'll just get you down, then get you back up again. I can't believe\n",
            "1:  seesThis shit get blown out of our budget just like the money that we raised for it back then. When a movie starts costing millions of dollars just to make the cut. That's why we gotta strive even harder in order to find the right balance. You don't want to waste your hard-earned dough and run out of dough. You know what it takes for us to succeed. The only question at this point is who do these other rappers think that we're supposed to be?. Either way, we strive even harder in order to find the right balance. You don't want to waste your hard-earned dough and run out of dough. You know what it takes for us to succeed. The only question at this point is who do these other rappers think that we're supposed to be?. \n",
            "2:  seesBuck and Drake, Drake, Weezy. But you know when you gotta run, I always stay behind. Cause you ain't never been out here on this ride. Cause if you stay put, I bet that we stay put. (Yeah, that's how I always felt, yeah). We would go to the game or the club or whatever. It's probably when we was new, but we feelin' like we did it. That's why I still love you, baby. I know you know when you gotta run, I always stay behind. Cause you ain't never been out here on this ride. Cause if you stay put, I bet that we stay put. (Yeah, that's how I always felt, yeah). We would go to the game or the club or whatever. It's probably when we were new, but we feelin' like we did it. That's why I still love you, baby. I know you know when you gotta run, I always stay put. Cause you ain't never been out here on this ride. Cause if you stay put, I bet that we stay put. (Yeah, that's how I always felt, yeah). We would go to the game or the club or whatever. It's probably when we were new, but we feelin' like we did it. That's why I still love you, baby. I know you know when you gotta run, I always stay put. Cause you ain\n",
            "3:  seesIt's been a while since we've done this before. Yeah, it was a while, but now that you're awake. It's been a long time since we've done this before. All of a sudden, it's apparent you don't really enjoy waking up. Maybe it was too much. Too much in fact, you just seem to miss the way things always seem to. That you'll find yourself awake, in bed for the night. That you'll find yourself awake, in bed for the night. Yeah, just feel that you don't really love waking up. I told you that I needed you to sleep, but you just seem to miss the way things always seem to. That you'll find yourself awake, in bed for the night. That you'll find yourself awake, in bed for the night. Yeah, just feel that you don't really love waking up. You just seem to miss the way things always seem to. That you'll find yourself awake, in bed for the night. Yeah, just feel that you don't really love waking up. I told you that I needed you to sleep, but you just seem to miss the way things always seem to. That you'll find yourself awake, in bed for the night. Yeah, just feel that you don't really love waking up. And I'm just going around the town trying to get your attention. Cause now you're too busy going around the town trying to get your attention. Cause now you\n",
            "4:  seesNah, shit, I'm just kidding. I don't wanna lie. If someone ain't shakin' shit, shit's nothin' good. And they take shots in the dark. And the first time I shoot someone in the dark, I got it all on purpose. Uh-huh, yeah. Nigga, you know what I'm talkin' about?. I wanna get the niggas to put their dimes to sleep. And the ones that ain't on the clock don't see the point. 'Cause no nigga see a point like me. Like I gettin' all the credit 'cause we still got the money to burn. And I've just been through a bunch of charges. That you ain't even got a case. That I ain't got the time to go and settle. And I ain't got all this paper to deal with. You ain't even got a case. That I ain't got the time to go and settle. And I ain't got all this paper to deal with. You ain't even got a case. That I ain't got the time to go and settle. And I ain't got all this paper to deal with. You ain't even got a case. That I ain't got the time to go and settle. And I ain't got all this paper to deal with. I've just been through a bunch of charges. That you ain't even got a case. That I\n",
            "\n",
            "  Average training loss: 2.04\n",
            "  Training epoch took: 0:01:11\n",
            "\n",
            "Running Validation...\n",
            "  Validation Loss: 2.52\n",
            "  Validation took: 0:00:04\n",
            "\n",
            "======== Epoch 34 / 40 ========\n",
            "Training...\n"
          ]
        },
        {
          "name": "stderr",
          "output_type": "stream",
          "text": [
            "Setting `pad_token_id` to `eos_token_id`:50256 for open-end generation.\n"
          ]
        },
        {
          "name": "stdout",
          "output_type": "stream",
          "text": [
            "  Batch   100  of    115. Loss: 2.077439546585083.   Elapsed: 0:00:58.\n",
            "0:  hungrySucker!, y'all don't get it. Y'all don't get it. Y'all don't get it. Y'all don't get it. Y'all don't get it. Y'all don't get it. Y'all don't get it. And if they give you the keys, then fuck. Then I see them all but I don't see them. You better fuck with your team, then we'll all know. \n",
            "1:  hungryThe ones that you love so much. We want to see you do them thing. We wanna see you do them thing. We wanna see you do them thing. We wanna see you do them thing. We wanna see you do them thing. Yeah. Like. I keep feeling like. \"Why won't it be like this?\". When. Why won't it be like this?\". \n",
            "2:  hungry (who's a genius?) to come rescue. And you just told me, \"That's a fucking ridiculous question\" and \"I'ma know\". Now you wanna make the song to this song. We're goin' on these drugs runnin' through our town. You've done a number on us. We need a bigger nigga to be like, \"Whoa...\". And uh, you doin' that one for a living. I wanna call my friend up and tell him what you know about me. And uh, \"Let's do something crazy, do some soul work.\" When I see you in the mirror. It's all dark like I'm naked and you naked. But that's why I never leave you alone (Yeah). I hate when I see your face. And that's why I never leave you alone. I swear I never ever touched a flower. Never seen a man that I need, that's for real. You should go, \"What are you doin'??, you just gotta let me know\" (Uh). I can't make you proud, man, we never made each other. And I can't make you proud of me, man, we always made each other. I swear the truth hurts when you act like it's true. And I tell my brother to bring you some clean clothes. And come watch us fight. And if you lose you should come to her (That's a fucking ridiculous question).\n",
            "3:  hungryI never used to think of myself as a monster. Instead, I've grown to trust it. It's only when I finally stop fearin' and start taking notes. Ayy, is this what life is supposed to be like?. You get my attention, I don't get the message. I just say it out of spite, out of love, it's just me, girl, what are you trying to take from me?. Why would I do what you're sayin'? It's nothing personal. Why would I do what you're sayin'? I'm a star, so make the trip. I don't need to worry 'bout it, so I'm here to tell you all. 'Cause these days it's a given that people around me. What you expect of me, what you bargained for. And now I'm here for a reason. My girl is a different breed from the other kids. It's like I never see her again. She's one of these beautiful little girls, beautiful little ones. I'm not ashamed to tell her I'm here to take her home. 'Cause she love to see me at home, she knows it's my fate. And she knows she love me just like I love her. I don't even pretend to love her at all when we talk. But every time I take this quick shot. Just put the blade in her heart and watch it come alive. Never let it get to me,\n",
            "4:  hungryBuck up, I'll be there when it's done. With the big homie for the last verse. We don't even make eye contact. 'Cause she just started talking to a rapper. She knows I'm not around. We do not speak like it's official. She started talking shit when the lights go down. And now she wants my name on the team, I swear. Oh, oh-oh-oh, oh-oh. All in all, I'm just here to kick ass. She used to call me a bitch like a baby. Now she's all in my face, all in my hair, all in my eyes. Can't even pretend. Just act like I'm really the one here with you. Yeah, right. Now you got the whole world to see when you want to change. I've always hated myself, so let's just get it together. We gonna hit it off like a couple hands. I ain't playin' on anything. I like to just have fun, and just like that. And fuck everything else and just be whoever. Niggas can get a girl on, that's all I ever had. When I was just a kid, I was just playing with my friends. Then I noticed a chick that was on the beat, playing. The music started to freak me out. Now I'm out the house, it's all on my brain. But she keep talking that she know my name's Drake\n",
            "\n",
            "  Average training loss: 2.03\n",
            "  Training epoch took: 0:01:11\n",
            "\n",
            "Running Validation...\n",
            "  Validation Loss: 2.53\n",
            "  Validation took: 0:00:04\n",
            "\n",
            "======== Epoch 35 / 40 ========\n",
            "Training...\n"
          ]
        },
        {
          "name": "stderr",
          "output_type": "stream",
          "text": [
            "Setting `pad_token_id` to `eos_token_id`:50256 for open-end generation.\n"
          ]
        },
        {
          "name": "stdout",
          "output_type": "stream",
          "text": [
            "  Batch   100  of    115. Loss: 1.9368393421173096.   Elapsed: 0:00:57.\n",
            "0:  PTBiscayne, VA. VA Today, we open up shop. We hope you enjoy. We hope you enjoy. When the clock tickin' and the lights up, you can't help it. And it's true that every time I look up. I know that lookin' up can take years. I'm sayin' I'm ready, you can wait till the end. 'Cause I got a thing for you. My mother always treated me like it was a favor. When she gave the first name to a mascot. And he always came around with it. When she had a diamond ring on her finger. I don't know how the world could forget about it. But he always came around with it and they even showed up in public. He even put on his favorite band for the occasion. And every time he'd come around he always been there. I've known him for twenty-six years. He's never been shy. But at twenty you won't forget him. Cause, uh, there's a good chance he would just forget you. Uh, 'cause you never hear the good things from me. I know he's nervous, but I keep it down to make sure he won't forget you. When I look up 'til I see him on the top of the deck. And he looking down it takes a minute or two. Uh, he always thought I was the one that was wrong. Always thought I was the one that was wrong\n",
            "1:  PTAyyahaha, I'm back from Mexico! I'm back from Mexico! I'm back from Mexico! I'm back from Mexico! I'm back from Mexico! I'm back from Mexico! I'm back from Mexico! I'm back from Mexico! I'm back from Mexico! I'm back from Mexico! I'm back from Mexico! I'm back from Mexico! I'm back from Mexico! I'm back from Mexico! I'm back from Mexico! I'm back from Mexico! I'm back from Mexico! I'm back from Mexico! I'm back from Mexico! I'm back from Mexico! I'm back from Mexico! I'm back from Mexico! I'm back from Mexico! I'm back from Mexico! I'm back from Mexico! I'm back from Mexico! I'm back from Mexico! I'm back from Mexico! I'm back from Mexico! I'm back from Mexico! I'm back from Mexico! I'm back from Mexico! I'm back from Mexico! I'm back from Mexico! I'm back from Mexico! I'm back from Mexico! I'm back from Mexico! I'm back from Mexico! I'm back from Mexico! I'm back from Mexico! I'm back from Mexico! I'm back from Mexico! I'm back from Mexico! I'm back from Mexico! I'm back from Mexico! I'm back from Mexico! I'm back from Mexico! I'm back from Mexico! I'm back from Mexico!\n",
            "2:  PTBastar “n’talent“was’n’talent,’talent. Look, I'm not even kidding you. And just to remind myself, that's not the same as taking shots at the president. (Lil Wayne, Lil Wayne). You know what that means? Just listen to your mother, the one. Because she's the one with the phone. You and Trey from the way. You and Trey from the way. You and Trey from the way. You and Trey from the way. You and Trey from the way. You and Trey from the way. You and Trey from the way. And Trey from the way. I hope you enjoy yourself, Trey. 'Cause you and Trey from the way. You and Trey from the way. You and Trey from the way. You and Trey from the way. Yeah, I got it. Don't know who the hell you, Trey. But, I guess you know who I am. The reason why I make sure you get to me is because you got to me. You got to me. You got to me. Oh, my God. You got me. You got me. I can't be too nice. You got me. I'm not even kidding. This is the game I want it. I want you to know the truth. You know I wanna make you happy. And not just in the streets. I wanna make you laugh. And\n",
            "3:  PTBengaluru, the city of my heart. I used to dream, that I could ride through it again. This time the money's good enough that I ain't scared of no more. My girls will make me laugh harder, even with a face full of smiles. And this time, even when I die, this light will remain on. I wish they all the love, that they all would see. It's been my whole life, never had no love for you. I'm always on my way, never was without you. And I hope that you know that I love you enough to love you back. And you know I love you, too, even without you. And you know I love you, too, even without you. Yeah, it's been my whole life, never had no love for you. I've been missing you, too, even without you. And I hope that you know that I love you enough to love you back. And you know I love you, too, even without you. Oh, well, I world, you know I've done it. I could stand it no more. I'd do anything, for you the way you are. How can anyone else not see you without my love?. I love you enough to love you back. And you know I love you, too, even without you. Yeah, it's been my whole life, never had no love for you. I've been missing you,\n",
            "4:  PT6. Yeah, yeah. So, do what you gotta do to get that pussy stuck to the floor. Like, don't do me, do you think I'm the only one that's doing it?. Telling people they shouldn't be trusted with things like this. Just tell them I was right, yeah. Just tell them this is, I thought this was. This was when I was going crazy. This is when I'm going crazy. This is what I do to get everybody a little bit. So if it doesn't get here soon, then don't have to deal with it. Just don't have a problem with it. Get some love like I used to do you before. But you gotta put your heart first before you take the crown. Cause the city's in pain when you give the city its seal. This is like your old shit. And I ain't done it yet. But if we ever get the game, then I'm done with it. Just tell them I was right, yeah. Just tell them this is, I thought this was. I'm just tryna stay down and not get involved. Like I used to do you before. But you gotta put your heart first before you take the crown. Cause the city's in pain when you give the city its seal. This is like your old shit. And I ain't done it yet. But if we ever get the game, then I'm done with it. Just tell them\n",
            "\n",
            "  Average training loss: 2.02\n",
            "  Training epoch took: 0:01:11\n",
            "\n",
            "Running Validation...\n",
            "  Validation Loss: 2.54\n",
            "  Validation took: 0:00:04\n",
            "\n",
            "======== Epoch 36 / 40 ========\n",
            "Training...\n"
          ]
        },
        {
          "name": "stderr",
          "output_type": "stream",
          "text": [
            "Setting `pad_token_id` to `eos_token_id`:50256 for open-end generation.\n"
          ]
        },
        {
          "name": "stdout",
          "output_type": "stream",
          "text": [
            "  Batch   100  of    115. Loss: 1.9011784791946411.   Elapsed: 0:00:58.\n",
            "0: üPiggas, you look better. Lookin' prettier, oh-oh. Pull up in the truck with my old shit. Pull up right beside me, lookin' like I'm losin' up in Southside. Yeah, I do, I do. But I gotta be a star and a million a week, girl. I'll never change for nothing and everything. I'm tryna see what I'm livin', like I'm on a mission. I've been tryna say thank you, like I'm tryna come. But my momma wanna fuck and then I'm goin' off for the weekend. She never wanna come back but I know. If I'm tryna have a wedding I'll probably regret it. I hope it ain't to one of these days, I'ma have her back on top. That's the reason we even came together. And then we went down a shit. Back when you were all about to turn 30. All these niggas started thinkin' about all this money. The only difference was your father never paid. I feel like I'm tryna go against you. And I'll be tryna show you everything I know and all I do is act like. Yeah, yeah, yeah. Yeah, yeah, yeah. I'm tryna stay up to date with all these niggas. You look better, don't even get too attached. Lookin' prettier, oh\n",
            "1: üAyes. But it's a shame, you know, the pressure of it. You're trying to make me take you out. But what is it you're trying to do?. You trying to keep me from being a star?. You trying to find the right girl?. What are you waiting for?. Just be patient, baby. This girl is special. But this girl is special. Why don't we just do that?. How many of you know what I am?. I'm a perfectionist. Do you really think you're getting it then?. And you're expecting the answer to what you're waiting for?. I know you heard that. And that makes you nervous. But I hope that that you finally get it, baby. Please put the ball back in your ears. So that I can listen to you. Try not to make me feel bad. Try not to make me feel guilty. Please put the ball back in your ears. So that I can listen to you. Try not to make me feel bad. Try not to make me feel guilty. It's time we started over. It's time we started over. It's time we started over. I don't think that I've ever really been in love. And how'd that even stop me?. I don't know how to keep you on my mind. Why don't we just do that?. How many of you know what I am?. I'm a\n",
            "2: üCrazy like I'm in Kansas right now with my kids. They can play 'em any time, just let 'em know how they gon' play them. They gon' play 'em any time, just let 'em know how they gon' play 'em. They gon' play 'em any time, just let 'em know how they gon' play 'em. They gon' play 'em any time, just let 'em know how they gon' play them. They gon' play 'em any time, just let 'em know how they gon' play 'em. \n",
            "3: üWhat you feel is wrong with me? (Ooh, yeah) Ooh, yeah. (Okay, okay, okay, okay). (Yeah, yeah, yeah. Let's just say I really do feel wrong. I guess a lot of things don't really end well for me. I just find myself in situations that I can't. (That's why you gotta remind me of that? I need to go in there and prove myself, 'til the very end. I need your forgiveness, you deserve it, no one else here should ever be in the position to blame. I can't wait till I get something right, it's always on my mind. Just keep going 'round 'round, you know me. You know me, I been acting like the type to get dragged along the way. I was acting like you and I was the type to laugh with. When we first met, I was still thinking what I thought of him. I would just have to go through him, straight away (I would go through him, straight away). He looked like he was about to die like a recluse (Well yeah, just wait). I mean you got me a couple times when I'm just being himself like it's all business. You make everybody around you better, make everybody feel better. You gotta feel like I love you, but you ain't really loved. I think I only really know you by the way I roll, you know what's\n",
            "4: üI could never give a fuck where you live. Life is about to change. It's happening these other days. People think they know me but they don't. My mother is gone, my father's gone. I don't wanna move out of there like I know you. I can't afford it, but I'm not even thinking about it. My life is so simple. It's only got me here on one, uh, one-month, one-month deal. Can I do it if you gotta do it? Can I do it if your heart is beating so hard?. Yeah, I got you locked up with my ex, but it's okay 'cause I'm living it. I'm not ashamed, I'm proud, baby, I'm glad. When I see your face I feel it. Feel what your heart feels like to hold your hand. And when your heart is racing, it ain't stopping. I gotta get the timing right. You tryna do it but it's not happening. I gotta get the timing right. You tryna do it but it's not happening. I gotta get the timing right. Now, when you awake from your nap, I can't help but think about how you reacted. I've had feelings when you were asleep. I remember how you looked when you found a new girl. You had friends that you had dated. Now you're single and gone, you want somebody to take care of you. I'm\n",
            "\n",
            "  Average training loss: 2.01\n",
            "  Training epoch took: 0:01:11\n",
            "\n",
            "Running Validation...\n",
            "  Validation Loss: 2.53\n",
            "  Validation took: 0:00:04\n",
            "\n",
            "======== Epoch 37 / 40 ========\n",
            "Training...\n"
          ]
        },
        {
          "name": "stderr",
          "output_type": "stream",
          "text": [
            "Setting `pad_token_id` to `eos_token_id`:50256 for open-end generation.\n"
          ]
        },
        {
          "name": "stdout",
          "output_type": "stream",
          "text": [
            "  Batch   100  of    115. Loss: 2.1456637382507324.   Elapsed: 0:00:58.\n",
            "0: ruceYou’re’a’paper cuttin' on me, yeah. If you wanna fuck me, you need to wait for somebody else. I'm outta here right now, I swear, baby, I'm in a relationship right now. I'm on some other shit. I'm feeling down right now, I'm on some other shit. I’m from Florida. And I said \"enough already, enough,\" you know?. Cause if anything good ever comes to you. That's all I wanna do, baby. Give it all I got, I'll be back with you (I’m not gonna lie). I hope you stay faithful to me, baby. I said \"enough already, enough,\" you know?. Cause if anything good ever comes to you. That's all I wanna do, baby. Give it all I got, I'll be back with you (I’m not gonna lie). I hope you stay faithful to me, baby. I said \"enough already, enough,\" you know?. Cause if anything good ever comes to you. That's all I wanna do, baby. Give it all I got, I'll be back with you (I’m not gonna lie). \n",
            "1: ruce(r). Ayy. Man. See you later, everybody. I'll make you count. But it's all good, everybody know I'm over here. And there's no need to wait, 'cause you got me. You always know me. You keep on going, but you don't always follow. You don't always let your guard down and put it under your coat. You've seen me, I've seen you. Now I know you want me, baby. But you need some love, I'm not making you nervous. Baby, I'ma get it. But we still got work to do. We got to prove you right. I'ma break it down, break it down. You're never gonna get it in peace until someone brings it. I don't know how I'm supposed to be putting it, just sayin'. I'ma show up, show up and make you happy. You want the same things that I want, but we both know you want it. You want me, baby. \n",
            "2: ruceAyyyy, they ain't even give a fuck. You know me, I can tell the difference. Even if you get too hot. I mean, you know I know you love it when it's love, but, uh, you know I hate when it's love. Don't judge 'em, just accept they're part of the deal. Even when they feel like they outsmart you and they miss you. Don't judge 'em, just accept they're part deal. Even when they feel like they outsmart you and they miss you. Just accept they're part of the deal. This is one of the greats, one of the greats. When a nigga hit the stride, then you know you got it. I'm talkin' in Spanish, where everybody know. But you said you couldn't come up from that. I got the money so I'll give you one last chance, yeah. We can't have no one else on. We get flown so it can be over like a holiday. You can't be a bad boy, you can't be a good boy. I don't care who you think you're, no one really knows. But. I want you so bad, I wanna see you die the year after, huh?. Because if this year's not for you, then you're the first. The year you spend the summer at your mommy's house, huh?. What you say these days,\n",
            "3: ruceThis is a parody song that I don't remember. And I got to admit, 'Cause everybody here is kinda down right now. The only thing that's new is that everybody here is kinda down right now. I got to admit, 'Cause everybody here is kinda down right now. I gotta admit, 'Cause every time I go outside, I never go home. I gotta admit, 'Cause every time I go outside, I never go home. I gotta admit, 'Cause you know, every time I go outside I never go home. I gotta admit, 'Cause every time I go outside I never go home. I gotta admit, 'Cause every time I go outside I never go home. All I've been up to is trying to hide the truth from you, boy. All I've been up to is trying to hide the truth from you, boy. All I've been up to is trying to hide the truth from you, boy. All I've been up to is trying to fuck it up with all of your lies. I've been up to it on occasion, oh, that's not a fluke. I've been up to it on occasion, oh, that's not a fl team, the haters gonna hate us. I've been up to it on occasion, oh, that's not a fluke. I've been up to it on occasion, oh, that's not a fluke. \n",
            "4: ruceRally, cheers. I'm back on the road, yeah. It's good, all that's mine. Ayy, yeah, uh, all that's mine. Yeah, yeah. I'm back on the road, yeah. It's good, all that's mine. I'm back on the road, yeah. It's good, all that's mine. Yeah, yeah. \n",
            "\n",
            "  Average training loss: 2.01\n",
            "  Training epoch took: 0:01:11\n",
            "\n",
            "Running Validation...\n",
            "  Validation Loss: 2.54\n",
            "  Validation took: 0:00:04\n",
            "\n",
            "======== Epoch 38 / 40 ========\n",
            "Training...\n"
          ]
        },
        {
          "name": "stderr",
          "output_type": "stream",
          "text": [
            "Setting `pad_token_id` to `eos_token_id`:50256 for open-end generation.\n"
          ]
        },
        {
          "name": "stdout",
          "output_type": "stream",
          "text": [
            "  Batch   100  of    115. Loss: 1.4970505237579346.   Elapsed: 0:00:58.\n",
            "0:  derivativesIt (mind blown) don't want you. They want all the credit for what you do. I know this shit is not for everybody. Just sayin' a word, and that's okay. You're too busy man, you know it. That's when I say, \"You've been caught up in this drama, I should've known sooner\". I think, well, I guess I should've kept up with you for as long as I was with you. But I had to give you time so. So much, you never see me get to my face. And how is that for you?. How is that for you?. How is that for you?. You know what's wrong with me?. But let me do my best and let you know what it is. 'Cause you know what's wrong with me?. But let me do my best and let you know what it is. Let me do my best and let you know what it is. I wanna change, I wanna change. Let me do my best and let you know what it is. You can change, I can change. I know it's rough, but, for all of me, you ain't had no time to make me change. Don't call, don't give me no credit. Don't call, don't give me no credit. Don't call, don't give me no credit. \n",
            "1:  derivativesOne time I'm lifting heavy. All my dudes are looking up, it's crazy. I'm lifting heavy, my body ain't always lifting heavy. I'm lifting heavy, my time ain't always fuckin' heavy. All my friends are lifting heavy, they get it on. I'm lifting heavy, my time ain't always fuckin' heavy. All my friends are lifting heavy, they get it on. And that's just the surface of things. They don't know what's going on, I can tell they're confused. All this shit was going on for niggas that was too immature for us. And some of the kids here probably think we're immature for them. The money's good, I just need to make it back to school. So I can bring them out and they don't know who I am. I know I'm in they zone like you could see in a flash. Cause I need to make it back to school. So I can bring them out and they don't know who I am. I know I'm in they zone like you could see in a flash. Cause I need to make it back to school. So I can bring them out and they don't know who I am. How you get high and get it done?. How you get high and get it done?. The answer is, \"You can't\". Cause we fuckin' outta your zone like you can see in a flash. Cause we fuckin' out\n",
            "2:  derivativesIt's all good, baby, but I'm still at your crib. You look so worried and I said I'm sorry. I'm not really sorry. What happened?. All this bad, baby? You're down so I can't move you?. Uh-huh. Oh, you think I'm serious? Yeah. Do you still remember?. That's when your mother called you?. How long have you been drinking?. So when I wake up, do you come home?. We both say, \"Thanks, honey\", I'm really sorry. If you feel that way, I hope that I can help. Let's just say, it's been a while since we had sex. Let me just say that, that's when you say, \"Hey\". (Okay, okay, okay). Yeah, that's when I say, \"Hey\". I just finished class, I'm late, I can't call you up. You look so worried and I said I'm sorry. I'm not really sorry, what happened?. All this bad, baby? You're down so I can't move you?. Uh-huh. Oh, you think I'm serious? Yeah. Do you still remember?. That's when your mother called you?. How long have you been drinking?. So when I wake up, do you come home?. We both say, \"Thanks, honey\", I'm really sorry. If you feel\n",
            "3:  derivatives, cash, the stock of the stock. There's no doubt about it; there's no doubt about it; and it's all going in. And I really ain't fuckin' loose with no-one. Not even the cops from Cincinnati don't know who I hang with. And my brother told me I just gotta be myself. And when you have a thing, you should be ashamed. But I just can't hide it. Even when they give me shit, and I'm the only one. Just to see you around. You always stay right beside me, where I stay. And it's always been a dream come true for me. And now you just wanna have a new baby. And I'll be back on the island, waiting for you. I ain't out in the cold, man, I'm not out in the cold. Yeah, look, I'm really out in the cold. And I'm really out in the cold. Always been out, waiting for you. But now you just wanna have a new baby. And I'll be back on the island, waiting for you. I ain't out in the cold, man, I'm not out in the cold. 'Cause my kids tell me they hate it when I don't. When they say that I'm out of town (Yeah). The only time they ever utter a negative is when I'm back there. The only time they ever utter a negative is when I'm back there.\n",
            "4:  derivativesThe song is too bright, and you just had to go and see what's in store. You know what I mean?. So, uh, look, this is a new record with lyrics. I'm pretty sure that if I had a hundred grams on me. And one out of ten would kill you. So please keep it in your song that you can take it apart. I swear to God, I ain't feelin' nothing. That nigga could've fooled me. I guess I'm down to one and I will never get you, I don't believe that. Because, like, I don't know how to please a man. Cause, like, I don't know how to please a man, I don't believe that. Cause, like, I don't know how to please a man. Cause, like, I don't know how to please a man, I don't believe that. Cause, like, I don't know how to please a man. Cause I don't know how to please a man, I don't believe that. Cause I don't know how to please a man. Fuck the industry. Fuck the women who do the talking, fuck the men who do the talking. This shit should be on my CD. And when I finish, when you're done. It's not going in like I do. This shit is on my CD. And when I finish, when you're done. It's not going in like I\n",
            "\n",
            "  Average training loss: 2.00\n",
            "  Training epoch took: 0:01:11\n",
            "\n",
            "Running Validation...\n",
            "  Validation Loss: 2.54\n",
            "  Validation took: 0:00:04\n",
            "\n",
            "======== Epoch 39 / 40 ========\n",
            "Training...\n"
          ]
        },
        {
          "name": "stderr",
          "output_type": "stream",
          "text": [
            "Setting `pad_token_id` to `eos_token_id`:50256 for open-end generation.\n"
          ]
        },
        {
          "name": "stdout",
          "output_type": "stream",
          "text": [
            "  Batch   100  of    115. Loss: 1.7283316850662231.   Elapsed: 0:00:58.\n",
            "0: \u0019WOO-WOO-WOO! (Uh-huh) You just know what I'm about (Uh-huh). Just know what I'm about, yeah. You just know what I'm about, uh. Just know what I'm about, yeah. This is like we did it twice already. Just know what I'm about. Just know what I'm about, yeah. I don't love you like you love me. I don't love you like you love me. I don't love you like you love me. I don't love you like you love me. I don't love you like you love me. I don't love you like you love me. I don't love you like you love me. I don't love you like you love me. I don't love you like you love me. I don't love you like you love me. Oh-oh. So you wanna save your ass. Yeah, you don't wanna give a fuck. Yeah, you don't wanna give a fuck. Yeah, you don't wanna give a fuck. Yeah, you don't wanna give a fuck. Yeah, you don't wanna give a fuck. Yeah, you don't wanna give a fuck. You know what I'm about. (Uh-huh) All right you can say. All right you can say. All right you can say. All right you can say. (Well) (Yeah, yeah, yeah,\n",
            "1: \u0019All you niggas wanna do is give you an X while still alive. I got a gun that lets me shoot anything that comes through me, and I've got that holstered in the holstered. Got me like this, you two are the only ones I trust. I got a stack that you ain't got nowhere to run. I got an empty car that you stuck with. And you two are my niggas, it's a double life. I can't afford four figures and still get to where I'm at. I made a deal where you two, I never gave you an inch. You two wanna do it together. I made it go from plat to shit, you got my man at the bar. Yeah, I got everything in my life I need. I'm not even lookin' for an A-plus. All you niggas wanna do is give you an X while still alive. I got a gun that lets me shoot anything that comes through me, and I've got that holstered in the holstered. Got me like this, you two are the only ones I trust. I got a stack that you ain't got nowhere to run. I got an empty car that you stuck with. And you two are my niggas, it's a double life. I can't afford four figures and still get to where I'm at. I made a deal where you two, I never gave you an inch\n",
            "2: \u0019The thing we used to do when we were down was to count them. Tryna hit me up when I'm down, girl, that's why I been down. Tryna not take that shit, I'll tell you. I'm a star out here, man, I can't even be with ya. But your name, but your mouth is still clean. And I was right in the middle of a nigga taking shots. We had a couple drinks on the deck and it got really hot. A little before it came to a head. You know my shit and that's why I'm all up in my body. We've been going out and drinking, so long as you keep me out of your life. And you won't even come close. We did a tandem dance so we could celebrate. And after a while, we both became a recluse. We been here for a few years now. Don't even lie to me, my love is gone. Can't take a second for the petty things, that can't take the time. Niggas tryna show they respect when they show up at the store, like Weezy's. And Weezy never show him respect, for real, ain't nothing new. And so Weezy just pretend that nobody's around. Like, \"Yea, but he was here before you did that shit!\". Then you're like \"Wow, that's a cool shit\". You know I like to be the one\n",
            "3: \u0019What we do we do we think we know? (Money talks). Money talks. Money talks. Money talk. Money talks. Money talks. Money talks. Money talk. Money talk. Money talk. Money talk. Money talk. Money talk. Money talk. Money talk. You got money when you workin' like this. I'm the one that got everything. If I wasn't so busy, I'd probably take it easy. If I had the time. When the money starts flowin' up. And when the money starts flowin'. You can take the flow out of your city or your city. And I can still get it in, man. I'm the one that got everything. If you only had one hand. You could take that apart now. You don't need too much anymore. Everything was planned and planned. Now the hand is movin' sideways. All you did was plot and plot. When the hand starts flowin' up. And when the hand starts flowin', you can take that apart now. And if you only had one hand. You could take that apart now. You don't need too much anymore. Everything was planned and planned. Now the hand is movin' sideways. All you did was plot and plot. When the hand starts flowin' up. And when the hand starts flowin', you can take that apart now. And if you only had one hand. You could take that apart now. \n",
            "4: \u0019Gimme that one out of four. When I hear you talkin' to me, I won't hold back. When you niggas wanna get high and run, you won't come home from the party. I'll kill for you like you was mine. And just so you know, I took it from you to bring you down. When I see you get up late and I miss you, I can't help but feel bad. Because of your lack of commitment and I can't help but think that you are down to the ground. You are so distant, I can't help but wonder. Because of how I am loved and I am loved to. And I don't wanna make excuses, you just keep getting closer. You are so distant, I can't help but think that you are down to the ground. You are so distant, I can't help but think that you are down to the ground. \"I'm not out here for the praise of my city, I'm out here for the affection of my city. I got to have a woman on my mind soon, even if she's not mine. You gotta know that she love me, she can't help but think that you are down. And I can't help but think that you are down to the ground. You're so distant, I can't help but think that you are down to the ground. Your soul hurts, you keep thinking that you're down to the ground. You\n",
            "\n",
            "  Average training loss: 2.00\n",
            "  Training epoch took: 0:01:11\n",
            "\n",
            "Running Validation...\n",
            "  Validation Loss: 2.54\n",
            "  Validation took: 0:00:04\n",
            "\n",
            "======== Epoch 40 / 40 ========\n",
            "Training...\n"
          ]
        },
        {
          "name": "stderr",
          "output_type": "stream",
          "text": [
            "Setting `pad_token_id` to `eos_token_id`:50256 for open-end generation.\n"
          ]
        },
        {
          "name": "stdout",
          "output_type": "stream",
          "text": [
            "  Batch   100  of    115. Loss: 2.044883966445923.   Elapsed: 0:00:58.\n",
            "0:  rememberingAyy. \n",
            "1:  rememberingBut I always feel like I'm on one. When it all gets too much, that's when things come together. I always gotta do my part to keep this forever and never stop feeling. That's why I try and act like it's never going on. Even when I'm in the zone. There's just not enough time. And I still have to do it. It's hard to keep track of how many times it's been. And what I want to say about the day's resolutions. But still here, you stay up at night trying to get to my phone. It's just too late already. It's hard to do all my other things today. Because your body just won't let you get there. I'm in a zone, try and hold up on you. I gotta get it all together, I'm in the zone, try and act like it's never going on. Even when I'm in the zone. There's just not enough time. And I still have to do it. It's hard to keep track of how many times it's been. And what I want to say about the day's resolutions. But still here, you stay up at night trying to get to my phone. It's just too late already. It's hard to do all my other things today. \n",
            "2:  rememberingWho said it right, then you did it wrong?, then you did it right. It's a marathon, and I don't know what you don't know, then you did it right. It's a marathon, and I don't know what you don't know, then you did it right. It's a marathon, and we do it, it's all you can do, girl, you did it right. You got me so fucking hot that I can't resist, you got me so fucking hot that I can't resist. Can't resist, you got me so fucking hot that I can't resist. Tell my best friend that's going to come around soon as well, that's why we need you. Tell my best friend that's going Union at some point soon as well, that's why we need you. Tell my best friend that's going to come around soon as well, that's why we need you. I'ma take her out for a, I'ma take her out for a Euro. Don't ever leave me, I know your heart beats fast, stop for more, stop for more. Every girl I know I need her in this city, every night I'm out here with you. I've been chasing you for a long time, you're probably forgetting me. Don't ever leave me, I know your heart beats fast, stop for more, stop for more. Every girl I know I need her in this city\n",
            "3:  rememberingMakes sense, is he?\" asked, lifting the shit out of her. \"Yeah, my fuckin' head, yeah. But he ain't me. He's not me, I'm nothin', I've been in this position. Yeah, I gotta tell ya my story. And I ain't gonna lie, this shit is crazy!. He don't know me, I can't help it. I ain't know who I be. I know he don't know me. And I ain't gonna lie, this shit is crazy!. Tell ya my story, tell ya my story. Tell ya my story, tell ya my story. Now make it a point for ya to come with ya friend and tell him how I'm doin' what I do. I'm down to come clean, that shit just isn't that easy. You don't listen to 'em and you don't even care. I don't listen when they say you can't bring yourself, you can't bring yourself. The only things I need is a chance, a chance to do better. You know what I was before I left?. I could give you everything you want, just ask me. Just go and lie to me. Now you know shit, now you understand shit. I could tell the difference between you two, I promise you. \n",
            "4:  rememberingWhat's up?? (Ooh, woah, woah). Oh, woah, woah. (Ooh, woah, woah). (Ooh, woah, woah, woah, woah). Oh, woah, woah, woah (Oh, woah, woah). (Oh, woah, woah, woah, woah). Oh, woah, woah, woah (Oh, woah, woah). Oh, woah, woah (Oh, woah, woah, woah). Oh, woah, woah, woah (Oh, woah, woah). Yeah, yeah. Yeah, yeah. We'll be at a store a hundred times in a week. We get it right every time. Yeah, yeah, yeah. That's it, yeah. It's everything. It's everything. (Loudly, it's all right). Yeah, yeah, yeah (Mmm). Uh, yeah. Uh, yeah. Uh, yeah (Mmm). Uh, yeah. We'll be at a store a hundred times in a week. We get it right every time (Mmm). \n",
            "\n",
            "  Average training loss: 1.99\n",
            "  Training epoch took: 0:01:11\n",
            "\n",
            "Running Validation...\n",
            "  Validation Loss: 2.54\n",
            "  Validation took: 0:00:04\n",
            "\n",
            "Training complete!\n",
            "Total training took 0:50:02 (h:mm:ss)\n"
          ]
        }
      ],
      "source": [
        "total_t0 = time.time()\n",
        "\n",
        "training_stats = []\n",
        "\n",
        "model = model.to(device)\n",
        "\n",
        "for epoch_i in range(0, epochs):\n",
        "\n",
        "    # ========================================\n",
        "    #               Training\n",
        "    # ========================================\n",
        "\n",
        "    print(\"\")\n",
        "    print('======== Epoch {:} / {:} ========'.format(epoch_i + 1, epochs))\n",
        "    print('Training...')\n",
        "\n",
        "    t0 = time.time()\n",
        "\n",
        "    total_train_loss = 0\n",
        "\n",
        "    model.train()\n",
        "\n",
        "    for step, batch in enumerate(train_dataloader):\n",
        "\n",
        "        b_input_ids = batch[0].to(device)\n",
        "        b_labels = batch[0].to(device)\n",
        "        b_masks = batch[1].to(device)\n",
        "\n",
        "        model.zero_grad()        \n",
        "\n",
        "        outputs = model(  b_input_ids,\n",
        "                          labels=b_labels, \n",
        "                          attention_mask = b_masks,\n",
        "                          token_type_ids=None\n",
        "                        )\n",
        "\n",
        "        loss = outputs[0]  \n",
        "\n",
        "        batch_loss = loss.item()\n",
        "        total_train_loss += batch_loss\n",
        "\n",
        "        # Get sample every x batches.\n",
        "        if step % sample_every == 0 and not step == 0:\n",
        "\n",
        "            elapsed = format_time(time.time() - t0)\n",
        "            print('  Batch {:>5,}  of  {:>5,}. Loss: {:>5,}.   Elapsed: {:}.'.format(step, len(train_dataloader), batch_loss, elapsed))\n",
        "\n",
        "            model.eval()\n",
        "\n",
        "            sample_outputs = model.generate(\n",
        "                                    bos_token_id=random.randint(1,30000),\n",
        "                                    do_sample=True,   \n",
        "                                    top_k=50, \n",
        "                                    max_length = 300,\n",
        "                                    top_p=0.95, \n",
        "                                    num_return_sequences=5\n",
        "                                )\n",
        "            for i, sample_output in enumerate(sample_outputs):\n",
        "                  print(\"{}: {}\".format(i, tokenizer.decode(sample_output, skip_special_tokens=True)))\n",
        "            \n",
        "            model.train()\n",
        "\n",
        "        loss.backward()\n",
        "\n",
        "        optimizer.step()\n",
        "\n",
        "        scheduler.step()\n",
        "\n",
        "    # Calculate the average loss over all of the batches.\n",
        "    avg_train_loss = total_train_loss / len(train_dataloader)       \n",
        "    \n",
        "    # Measure how long this epoch took.\n",
        "    training_time = format_time(time.time() - t0)\n",
        "\n",
        "    print(\"\")\n",
        "    print(\"  Average training loss: {0:.2f}\".format(avg_train_loss))\n",
        "    print(\"  Training epoch took: {:}\".format(training_time))\n",
        "        \n",
        "    # ========================================\n",
        "    #               Validation\n",
        "    # ========================================\n",
        "\n",
        "    print(\"\")\n",
        "    print(\"Running Validation...\")\n",
        "\n",
        "    t0 = time.time()\n",
        "\n",
        "    model.eval()\n",
        "\n",
        "    total_eval_loss = 0\n",
        "    nb_eval_steps = 0\n",
        "\n",
        "    # Evaluate data for one epoch\n",
        "    for batch in validation_dataloader:\n",
        "        \n",
        "        b_input_ids = batch[0].to(device)\n",
        "        b_labels = batch[0].to(device)\n",
        "        b_masks = batch[1].to(device)\n",
        "        \n",
        "        with torch.no_grad():        \n",
        "\n",
        "            outputs  = model(b_input_ids, \n",
        "#                            token_type_ids=None, \n",
        "                             attention_mask = b_masks,\n",
        "                            labels=b_labels)\n",
        "          \n",
        "            loss = outputs[0]  \n",
        "            \n",
        "        batch_loss = loss.item()\n",
        "        total_eval_loss += batch_loss        \n",
        "\n",
        "    avg_val_loss = total_eval_loss / len(validation_dataloader)\n",
        "    \n",
        "    validation_time = format_time(time.time() - t0)    \n",
        "\n",
        "    print(\"  Validation Loss: {0:.2f}\".format(avg_val_loss))\n",
        "    print(\"  Validation took: {:}\".format(validation_time))\n",
        "\n",
        "    # Record all statistics from this epoch.\n",
        "    training_stats.append(\n",
        "        {\n",
        "            'epoch': epoch_i + 1,\n",
        "            'Training Loss': avg_train_loss,\n",
        "            'Valid. Loss': avg_val_loss,\n",
        "            'Training Time': training_time,\n",
        "            'Validation Time': validation_time\n",
        "        }\n",
        "    )\n",
        "\n",
        "print(\"\")\n",
        "print(\"Training complete!\")\n",
        "print(\"Total training took {:} (h:mm:ss)\".format(format_time(time.time()-total_t0)))"
      ]
    },
    {
      "cell_type": "code",
      "execution_count": 42,
      "metadata": {
        "colab": {
          "base_uri": "https://localhost:8080/",
          "height": 1000
        },
        "id": "P_qjZbj28LlC",
        "outputId": "d916ce69-2ec9-4033-abfc-2ecc74bc87ef"
      },
      "outputs": [
        {
          "data": {
            "text/html": [
              "<div>\n",
              "<style scoped>\n",
              "    .dataframe tbody tr th:only-of-type {\n",
              "        vertical-align: middle;\n",
              "    }\n",
              "\n",
              "    .dataframe tbody tr th {\n",
              "        vertical-align: top;\n",
              "    }\n",
              "\n",
              "    .dataframe thead th {\n",
              "        text-align: right;\n",
              "    }\n",
              "</style>\n",
              "<table border=\"1\" class=\"dataframe\">\n",
              "  <thead>\n",
              "    <tr style=\"text-align: right;\">\n",
              "      <th></th>\n",
              "      <th>Training Loss</th>\n",
              "      <th>Valid. Loss</th>\n",
              "      <th>Training Time</th>\n",
              "      <th>Validation Time</th>\n",
              "    </tr>\n",
              "    <tr>\n",
              "      <th>epoch</th>\n",
              "      <th></th>\n",
              "      <th></th>\n",
              "      <th></th>\n",
              "      <th></th>\n",
              "    </tr>\n",
              "  </thead>\n",
              "  <tbody>\n",
              "    <tr>\n",
              "      <th>1</th>\n",
              "      <td>15.18</td>\n",
              "      <td>3.97</td>\n",
              "      <td>0:01:12</td>\n",
              "      <td>0:00:04</td>\n",
              "    </tr>\n",
              "    <tr>\n",
              "      <th>2</th>\n",
              "      <td>3.00</td>\n",
              "      <td>2.77</td>\n",
              "      <td>0:01:11</td>\n",
              "      <td>0:00:04</td>\n",
              "    </tr>\n",
              "    <tr>\n",
              "      <th>3</th>\n",
              "      <td>2.77</td>\n",
              "      <td>2.68</td>\n",
              "      <td>0:01:11</td>\n",
              "      <td>0:00:04</td>\n",
              "    </tr>\n",
              "    <tr>\n",
              "      <th>4</th>\n",
              "      <td>2.68</td>\n",
              "      <td>2.61</td>\n",
              "      <td>0:01:10</td>\n",
              "      <td>0:00:04</td>\n",
              "    </tr>\n",
              "    <tr>\n",
              "      <th>5</th>\n",
              "      <td>2.62</td>\n",
              "      <td>2.60</td>\n",
              "      <td>0:01:11</td>\n",
              "      <td>0:00:04</td>\n",
              "    </tr>\n",
              "    <tr>\n",
              "      <th>6</th>\n",
              "      <td>2.57</td>\n",
              "      <td>2.63</td>\n",
              "      <td>0:01:11</td>\n",
              "      <td>0:00:04</td>\n",
              "    </tr>\n",
              "    <tr>\n",
              "      <th>7</th>\n",
              "      <td>2.54</td>\n",
              "      <td>2.56</td>\n",
              "      <td>0:01:11</td>\n",
              "      <td>0:00:04</td>\n",
              "    </tr>\n",
              "    <tr>\n",
              "      <th>8</th>\n",
              "      <td>2.50</td>\n",
              "      <td>2.59</td>\n",
              "      <td>0:01:11</td>\n",
              "      <td>0:00:04</td>\n",
              "    </tr>\n",
              "    <tr>\n",
              "      <th>9</th>\n",
              "      <td>2.48</td>\n",
              "      <td>2.57</td>\n",
              "      <td>0:01:11</td>\n",
              "      <td>0:00:04</td>\n",
              "    </tr>\n",
              "    <tr>\n",
              "      <th>10</th>\n",
              "      <td>2.45</td>\n",
              "      <td>2.54</td>\n",
              "      <td>0:01:11</td>\n",
              "      <td>0:00:04</td>\n",
              "    </tr>\n",
              "    <tr>\n",
              "      <th>11</th>\n",
              "      <td>2.42</td>\n",
              "      <td>2.57</td>\n",
              "      <td>0:01:11</td>\n",
              "      <td>0:00:04</td>\n",
              "    </tr>\n",
              "    <tr>\n",
              "      <th>12</th>\n",
              "      <td>2.40</td>\n",
              "      <td>2.51</td>\n",
              "      <td>0:01:11</td>\n",
              "      <td>0:00:04</td>\n",
              "    </tr>\n",
              "    <tr>\n",
              "      <th>13</th>\n",
              "      <td>2.38</td>\n",
              "      <td>2.53</td>\n",
              "      <td>0:01:11</td>\n",
              "      <td>0:00:04</td>\n",
              "    </tr>\n",
              "    <tr>\n",
              "      <th>14</th>\n",
              "      <td>2.36</td>\n",
              "      <td>2.49</td>\n",
              "      <td>0:01:11</td>\n",
              "      <td>0:00:04</td>\n",
              "    </tr>\n",
              "    <tr>\n",
              "      <th>15</th>\n",
              "      <td>2.34</td>\n",
              "      <td>2.51</td>\n",
              "      <td>0:01:11</td>\n",
              "      <td>0:00:04</td>\n",
              "    </tr>\n",
              "    <tr>\n",
              "      <th>16</th>\n",
              "      <td>2.31</td>\n",
              "      <td>2.51</td>\n",
              "      <td>0:01:11</td>\n",
              "      <td>0:00:04</td>\n",
              "    </tr>\n",
              "    <tr>\n",
              "      <th>17</th>\n",
              "      <td>2.29</td>\n",
              "      <td>2.51</td>\n",
              "      <td>0:01:11</td>\n",
              "      <td>0:00:04</td>\n",
              "    </tr>\n",
              "    <tr>\n",
              "      <th>18</th>\n",
              "      <td>2.27</td>\n",
              "      <td>2.52</td>\n",
              "      <td>0:01:11</td>\n",
              "      <td>0:00:04</td>\n",
              "    </tr>\n",
              "    <tr>\n",
              "      <th>19</th>\n",
              "      <td>2.25</td>\n",
              "      <td>2.48</td>\n",
              "      <td>0:01:11</td>\n",
              "      <td>0:00:04</td>\n",
              "    </tr>\n",
              "    <tr>\n",
              "      <th>20</th>\n",
              "      <td>2.24</td>\n",
              "      <td>2.49</td>\n",
              "      <td>0:01:11</td>\n",
              "      <td>0:00:04</td>\n",
              "    </tr>\n",
              "    <tr>\n",
              "      <th>21</th>\n",
              "      <td>2.22</td>\n",
              "      <td>2.51</td>\n",
              "      <td>0:01:11</td>\n",
              "      <td>0:00:04</td>\n",
              "    </tr>\n",
              "    <tr>\n",
              "      <th>22</th>\n",
              "      <td>2.20</td>\n",
              "      <td>2.50</td>\n",
              "      <td>0:01:11</td>\n",
              "      <td>0:00:04</td>\n",
              "    </tr>\n",
              "    <tr>\n",
              "      <th>23</th>\n",
              "      <td>2.18</td>\n",
              "      <td>2.52</td>\n",
              "      <td>0:01:11</td>\n",
              "      <td>0:00:04</td>\n",
              "    </tr>\n",
              "    <tr>\n",
              "      <th>24</th>\n",
              "      <td>2.16</td>\n",
              "      <td>2.51</td>\n",
              "      <td>0:01:11</td>\n",
              "      <td>0:00:04</td>\n",
              "    </tr>\n",
              "    <tr>\n",
              "      <th>25</th>\n",
              "      <td>2.15</td>\n",
              "      <td>2.52</td>\n",
              "      <td>0:01:11</td>\n",
              "      <td>0:00:04</td>\n",
              "    </tr>\n",
              "    <tr>\n",
              "      <th>26</th>\n",
              "      <td>2.13</td>\n",
              "      <td>2.54</td>\n",
              "      <td>0:01:11</td>\n",
              "      <td>0:00:04</td>\n",
              "    </tr>\n",
              "    <tr>\n",
              "      <th>27</th>\n",
              "      <td>2.12</td>\n",
              "      <td>2.51</td>\n",
              "      <td>0:01:11</td>\n",
              "      <td>0:00:04</td>\n",
              "    </tr>\n",
              "    <tr>\n",
              "      <th>28</th>\n",
              "      <td>2.10</td>\n",
              "      <td>2.51</td>\n",
              "      <td>0:01:11</td>\n",
              "      <td>0:00:04</td>\n",
              "    </tr>\n",
              "    <tr>\n",
              "      <th>29</th>\n",
              "      <td>2.08</td>\n",
              "      <td>2.52</td>\n",
              "      <td>0:01:11</td>\n",
              "      <td>0:00:04</td>\n",
              "    </tr>\n",
              "    <tr>\n",
              "      <th>30</th>\n",
              "      <td>2.07</td>\n",
              "      <td>2.51</td>\n",
              "      <td>0:01:11</td>\n",
              "      <td>0:00:04</td>\n",
              "    </tr>\n",
              "    <tr>\n",
              "      <th>31</th>\n",
              "      <td>2.06</td>\n",
              "      <td>2.51</td>\n",
              "      <td>0:01:11</td>\n",
              "      <td>0:00:04</td>\n",
              "    </tr>\n",
              "    <tr>\n",
              "      <th>32</th>\n",
              "      <td>2.05</td>\n",
              "      <td>2.52</td>\n",
              "      <td>0:01:11</td>\n",
              "      <td>0:00:04</td>\n",
              "    </tr>\n",
              "    <tr>\n",
              "      <th>33</th>\n",
              "      <td>2.04</td>\n",
              "      <td>2.52</td>\n",
              "      <td>0:01:11</td>\n",
              "      <td>0:00:04</td>\n",
              "    </tr>\n",
              "    <tr>\n",
              "      <th>34</th>\n",
              "      <td>2.03</td>\n",
              "      <td>2.53</td>\n",
              "      <td>0:01:11</td>\n",
              "      <td>0:00:04</td>\n",
              "    </tr>\n",
              "    <tr>\n",
              "      <th>35</th>\n",
              "      <td>2.02</td>\n",
              "      <td>2.54</td>\n",
              "      <td>0:01:11</td>\n",
              "      <td>0:00:04</td>\n",
              "    </tr>\n",
              "    <tr>\n",
              "      <th>36</th>\n",
              "      <td>2.01</td>\n",
              "      <td>2.53</td>\n",
              "      <td>0:01:11</td>\n",
              "      <td>0:00:04</td>\n",
              "    </tr>\n",
              "    <tr>\n",
              "      <th>37</th>\n",
              "      <td>2.01</td>\n",
              "      <td>2.54</td>\n",
              "      <td>0:01:11</td>\n",
              "      <td>0:00:04</td>\n",
              "    </tr>\n",
              "    <tr>\n",
              "      <th>38</th>\n",
              "      <td>2.00</td>\n",
              "      <td>2.54</td>\n",
              "      <td>0:01:11</td>\n",
              "      <td>0:00:04</td>\n",
              "    </tr>\n",
              "    <tr>\n",
              "      <th>39</th>\n",
              "      <td>2.00</td>\n",
              "      <td>2.54</td>\n",
              "      <td>0:01:11</td>\n",
              "      <td>0:00:04</td>\n",
              "    </tr>\n",
              "    <tr>\n",
              "      <th>40</th>\n",
              "      <td>1.99</td>\n",
              "      <td>2.54</td>\n",
              "      <td>0:01:11</td>\n",
              "      <td>0:00:04</td>\n",
              "    </tr>\n",
              "  </tbody>\n",
              "</table>\n",
              "</div>"
            ],
            "text/plain": [
              "       Training Loss  Valid. Loss Training Time Validation Time\n",
              "epoch                                                          \n",
              "1              15.18         3.97       0:01:12         0:00:04\n",
              "2               3.00         2.77       0:01:11         0:00:04\n",
              "3               2.77         2.68       0:01:11         0:00:04\n",
              "4               2.68         2.61       0:01:10         0:00:04\n",
              "5               2.62         2.60       0:01:11         0:00:04\n",
              "6               2.57         2.63       0:01:11         0:00:04\n",
              "7               2.54         2.56       0:01:11         0:00:04\n",
              "8               2.50         2.59       0:01:11         0:00:04\n",
              "9               2.48         2.57       0:01:11         0:00:04\n",
              "10              2.45         2.54       0:01:11         0:00:04\n",
              "11              2.42         2.57       0:01:11         0:00:04\n",
              "12              2.40         2.51       0:01:11         0:00:04\n",
              "13              2.38         2.53       0:01:11         0:00:04\n",
              "14              2.36         2.49       0:01:11         0:00:04\n",
              "15              2.34         2.51       0:01:11         0:00:04\n",
              "16              2.31         2.51       0:01:11         0:00:04\n",
              "17              2.29         2.51       0:01:11         0:00:04\n",
              "18              2.27         2.52       0:01:11         0:00:04\n",
              "19              2.25         2.48       0:01:11         0:00:04\n",
              "20              2.24         2.49       0:01:11         0:00:04\n",
              "21              2.22         2.51       0:01:11         0:00:04\n",
              "22              2.20         2.50       0:01:11         0:00:04\n",
              "23              2.18         2.52       0:01:11         0:00:04\n",
              "24              2.16         2.51       0:01:11         0:00:04\n",
              "25              2.15         2.52       0:01:11         0:00:04\n",
              "26              2.13         2.54       0:01:11         0:00:04\n",
              "27              2.12         2.51       0:01:11         0:00:04\n",
              "28              2.10         2.51       0:01:11         0:00:04\n",
              "29              2.08         2.52       0:01:11         0:00:04\n",
              "30              2.07         2.51       0:01:11         0:00:04\n",
              "31              2.06         2.51       0:01:11         0:00:04\n",
              "32              2.05         2.52       0:01:11         0:00:04\n",
              "33              2.04         2.52       0:01:11         0:00:04\n",
              "34              2.03         2.53       0:01:11         0:00:04\n",
              "35              2.02         2.54       0:01:11         0:00:04\n",
              "36              2.01         2.53       0:01:11         0:00:04\n",
              "37              2.01         2.54       0:01:11         0:00:04\n",
              "38              2.00         2.54       0:01:11         0:00:04\n",
              "39              2.00         2.54       0:01:11         0:00:04\n",
              "40              1.99         2.54       0:01:11         0:00:04"
            ]
          },
          "execution_count": 42,
          "metadata": {
            "tags": []
          },
          "output_type": "execute_result"
        }
      ],
      "source": [
        "# Display floats with two decimal places.\n",
        "pd.set_option('precision', 2)\n",
        "\n",
        "# Create a DataFrame from our training statistics.\n",
        "df_stats = pd.DataFrame(data=training_stats)\n",
        "\n",
        "# Use the 'epoch' as the row index.\n",
        "df_stats = df_stats.set_index('epoch')\n",
        "\n",
        "# A hack to force the column headers to wrap.\n",
        "#df = df.style.set_table_styles([dict(selector=\"th\",props=[('max-width', '70px')])])\n",
        "\n",
        "# Display the table.\n",
        "df_stats"
      ]
    },
    {
      "cell_type": "code",
      "execution_count": 43,
      "metadata": {
        "colab": {
          "base_uri": "https://localhost:8080/",
          "height": 427
        },
        "id": "ohORBOnv8MIS",
        "outputId": "fc972423-7557-4900-9622-ef650f1f3cf3"
      },
      "outputs": [
        {
          "data": {
            "image/png": "[encoded data removed]",
            "text/plain": [
              "<Figure size 864x432 with 1 Axes>"
            ]
          },
          "metadata": {
            "tags": []
          },
          "output_type": "display_data"
        }
      ],
      "source": [
        "# Use plot styling from seaborn.\n",
        "sns.set(style='darkgrid')\n",
        "\n",
        "# Increase the plot size and font size.\n",
        "sns.set(font_scale=1.5)\n",
        "plt.rcParams[\"figure.figsize\"] = (12,6)\n",
        "\n",
        "# Plot the learning curve.\n",
        "plt.plot(df_stats['Training Loss'], 'b-o', label=\"Training\")\n",
        "plt.plot(df_stats['Valid. Loss'], 'g-o', label=\"Validation\")\n",
        "\n",
        "# Label the plot.\n",
        "plt.title(\"Training & Validation Loss\")\n",
        "plt.xlabel(\"Epoch\")\n",
        "plt.ylabel(\"Loss\")\n",
        "plt.legend()\n",
        "plt.xticks([1, 2, 3, 4])\n",
        "\n",
        "plt.show()"
      ]
    },
    {
      "cell_type": "code",
      "execution_count": 44,
      "metadata": {
        "colab": {
          "base_uri": "https://localhost:8080/"
        },
        "id": "cNYFea-18Njy",
        "outputId": "235ad8af-e2b7-4480-81d8-d4517b7cc572"
      },
      "outputs": [
        {
          "name": "stdout",
          "output_type": "stream",
          "text": [
            "The GPT-2 model has 148 different named parameters.\n",
            "\n",
            "==== Embedding Layer ====\n",
            "\n",
            "transformer.wte.weight                                  (50259, 768)\n",
            "transformer.wpe.weight                                   (1024, 768)\n",
            "\n",
            "==== First Transformer ====\n",
            "\n",
            "transformer.h.0.ln_1.weight                                   (768,)\n",
            "transformer.h.0.ln_1.bias                                     (768,)\n",
            "transformer.h.0.attn.c_attn.weight                       (768, 2304)\n",
            "transformer.h.0.attn.c_attn.bias                             (2304,)\n",
            "transformer.h.0.attn.c_proj.weight                        (768, 768)\n",
            "transformer.h.0.attn.c_proj.bias                              (768,)\n",
            "transformer.h.0.ln_2.weight                                   (768,)\n",
            "transformer.h.0.ln_2.bias                                     (768,)\n",
            "transformer.h.0.mlp.c_fc.weight                          (768, 3072)\n",
            "transformer.h.0.mlp.c_fc.bias                                (3072,)\n",
            "transformer.h.0.mlp.c_proj.weight                        (3072, 768)\n",
            "transformer.h.0.mlp.c_proj.bias                               (768,)\n",
            "\n",
            "==== Output Layer ====\n",
            "\n",
            "transformer.ln_f.weight                                       (768,)\n",
            "transformer.ln_f.bias                                         (768,)\n"
          ]
        }
      ],
      "source": [
        "# Get all of the model's parameters as a list of tuples.\n",
        "params = list(model.named_parameters())\n",
        "\n",
        "print('The GPT-2 model has {:} different named parameters.\\n'.format(len(params)))\n",
        "\n",
        "print('==== Embedding Layer ====\\n')\n",
        "\n",
        "for p in params[0:2]:\n",
        "    print(\"{:<55} {:>12}\".format(p[0], str(tuple(p[1].size()))))\n",
        "\n",
        "print('\\n==== First Transformer ====\\n')\n",
        "\n",
        "for p in params[2:14]:\n",
        "    print(\"{:<55} {:>12}\".format(p[0], str(tuple(p[1].size()))))\n",
        "\n",
        "print('\\n==== Output Layer ====\\n')\n",
        "\n",
        "for p in params[-2:]:\n",
        "    print(\"{:<55} {:>12}\".format(p[0], str(tuple(p[1].size()))))"
      ]
    },
    {
      "cell_type": "code",
      "execution_count": 45,
      "metadata": {
        "colab": {
          "base_uri": "https://localhost:8080/"
        },
        "id": "L4rujQ4c8Pca",
        "outputId": "12f7469f-afde-4265-940f-edeed20a2128"
      },
      "outputs": [
        {
          "name": "stderr",
          "output_type": "stream",
          "text": [
            "Setting `pad_token_id` to `eos_token_id`:50256 for open-end generation.\n"
          ]
        },
        {
          "name": "stdout",
          "output_type": "stream",
          "text": [
            "tensor([[26374, 11072]], device='cuda:0')\n",
            "0: Kimchi niggas. They gon' know it. I told y'all we need to move outta here now. Tell me we need to move outta here now. I told y'all we need to move outta here\n",
            "\n",
            "\n",
            "1: Kimchi (x). F.A.I. (x). Energizer bunny. \n",
            "\n",
            "\n",
            "2: Kimchi me, jimchi naw. Yeah. I want you to know that I'm a descendant, yes. \n",
            "\n",
            "\n",
            "3: Kimchi way. She got so accustomed to all the stuff that we used to do in the club that we girls got used to it. Now we just chill and play the game. I guess it's just me and them all and they\n",
            "\n",
            "\n",
            "4: Kimchi. I might as well have him here in there, but it's hard to cause he's the one to watch. \n",
            "\n",
            "\n",
            "5: Kimchi how's that going for you. So this one's for you. I'ma tryna fix your mind and get you through it. And this one's for you. You're the only one. And you're always the only\n",
            "\n",
            "\n",
            "6: KimchiTangent, oh. What the hell?. I could feel her heart thumping like I was beating a drum. I bet I could feel her pussy clit, shawty. My daddy's so accustomed to this shit,\n",
            "\n",
            "\n",
            "7: Kimchi, that's what we're trying to do, yeah?. Niggas think they knew. We're trying to act like we know. It's okay, man. We gotta do it, we gotta do it. I got\n",
            "\n",
            "\n",
            "8: Kimchi mama, who we used to call the 'Baka', or 'baby dog', my mom, or my dad. time for something new, you see, my whole summer, yeah, my summer's a little different.\n",
            "\n",
            "\n",
            "9: Kimchi hot body. She don't know if she's ready. She just know that she can't help but be herself. I'm tryna change her mind. Look at my face and see if I can change it. Look at my\n",
            "\n",
            "\n"
          ]
        }
      ],
      "source": [
        "model.eval()\n",
        "\n",
        "prompt = \"Kimchi\"\n",
        "\n",
        "generated = torch.tensor(tokenizer.encode(prompt)).unsqueeze(0)\n",
        "generated = generated.to(device)\n",
        "\n",
        "print(generated)\n",
        "\n",
        "sample_outputs = model.generate(\n",
        "                                generated, \n",
        "                                #bos_token_id=random.randint(1,30000),\n",
        "                                do_sample=True,   \n",
        "                                top_k=50, \n",
        "                                max_length = 50,\n",
        "                                top_p=0.95, \n",
        "                                num_return_sequences=10\n",
        "                                )\n",
        "\n",
        "for i, sample_output in enumerate(sample_outputs):\n",
        "  print(\"{}: {}\\n\\n\".format(i, tokenizer.decode(sample_output, skip_special_tokens=True)))"
      ]
    },
    {
      "cell_type": "markdown",
      "metadata": {
        "id": "g09YZNr34cLx"
      },
      "source": [
        "-------"
      ]
    }
  ],
  "metadata": {
    "accelerator": "GPU",
    "colab": {
      "authorship_tag": "ABX9TyM9eTeJ9NOtZfYpQXVtar5h",
      "collapsed_sections": [],
      "include_colab_link": true,
      "mount_file_id": "1o9r7-OtnA0oqtToQ-6PwGJgfN9blSIwN",
      "name": "drake_lyrics",
      "provenance": []
    },
    "kernelspec": {
      "display_name": "Python 3.8.8 ('base')",
      "language": "python",
      "name": "python3"
    },
    "language_info": {
      "name": "python",
      "version": "3.8.8"
    },
    "vscode": {
      "interpreter": {
        "hash": "ad2bdc8ecc057115af97d19610ffacc2b4e99fae6737bb82f5d7fb13d2f2c186"
      }
    },
    "widgets": {
      "application/vnd.jupyter.widget-state+json": {
        "15718e48e9234f5ea80268baf6e35963": {
          "model_module": "@jupyter-widgets/controls",
          "model_name": "HTMLModel",
          "state": {
            "_dom_classes": [],
            "_model_module": "@jupyter-widgets/controls",
            "_model_module_version": "1.5.0",
            "_model_name": "HTMLModel",
            "_view_count": null,
            "_view_module": "@jupyter-widgets/controls",
            "_view_module_version": "1.5.0",
            "_view_name": "HTMLView",
            "description": "",
            "description_tooltip": null,
            "layout": "IPY_MODEL_c88e50e79a534a6ebceeacca57609648",
            "placeholder": "​",
            "style": "IPY_MODEL_85ae782e2bf844d292c425be9e40f15b",
            "value": " 1.04M/1.04M [00:00&lt;00:00, 4.98MB/s]"
          }
        },
        "1787f61eb0b94e7c8dbc1e2ef383204d": {
          "model_module": "@jupyter-widgets/controls",
          "model_name": "HBoxModel",
          "state": {
            "_dom_classes": [],
            "_model_module": "@jupyter-widgets/controls",
            "_model_module_version": "1.5.0",
            "_model_name": "HBoxModel",
            "_view_count": null,
            "_view_module": "@jupyter-widgets/controls",
            "_view_module_version": "1.5.0",
            "_view_name": "HBoxView",
            "box_style": "",
            "children": [
              "IPY_MODEL_b59ab3388d2e4804a26d477edbe438a4",
              "IPY_MODEL_4b671eee81af436c861b0b80c69a74ba"
            ],
            "layout": "IPY_MODEL_770f0dfac53d49dface7214bd82fc854"
          }
        },
        "2d5833c081e0471cb2d14f8e22f3d094": {
          "model_module": "@jupyter-widgets/base",
          "model_name": "LayoutModel",
          "state": {
            "_model_module": "@jupyter-widgets/base",
            "_model_module_version": "1.2.0",
            "_model_name": "LayoutModel",
            "_view_count": null,
            "_view_module": "@jupyter-widgets/base",
            "_view_module_version": "1.2.0",
            "_view_name": "LayoutView",
            "align_content": null,
            "align_items": null,
            "align_self": null,
            "border": null,
            "bottom": null,
            "display": null,
            "flex": null,
            "flex_flow": null,
            "grid_area": null,
            "grid_auto_columns": null,
            "grid_auto_flow": null,
            "grid_auto_rows": null,
            "grid_column": null,
            "grid_gap": null,
            "grid_row": null,
            "grid_template_areas": null,
            "grid_template_columns": null,
            "grid_template_rows": null,
            "height": null,
            "justify_content": null,
            "justify_items": null,
            "left": null,
            "margin": null,
            "max_height": null,
            "max_width": null,
            "min_height": null,
            "min_width": null,
            "object_fit": null,
            "object_position": null,
            "order": null,
            "overflow": null,
            "overflow_x": null,
            "overflow_y": null,
            "padding": null,
            "right": null,
            "top": null,
            "visibility": null,
            "width": null
          }
        },
        "3fc57b88f5e64df88c650cbae9bc57fb": {
          "model_module": "@jupyter-widgets/base",
          "model_name": "LayoutModel",
          "state": {
            "_model_module": "@jupyter-widgets/base",
            "_model_module_version": "1.2.0",
            "_model_name": "LayoutModel",
            "_view_count": null,
            "_view_module": "@jupyter-widgets/base",
            "_view_module_version": "1.2.0",
            "_view_name": "LayoutView",
            "align_content": null,
            "align_items": null,
            "align_self": null,
            "border": null,
            "bottom": null,
            "display": null,
            "flex": null,
            "flex_flow": null,
            "grid_area": null,
            "grid_auto_columns": null,
            "grid_auto_flow": null,
            "grid_auto_rows": null,
            "grid_column": null,
            "grid_gap": null,
            "grid_row": null,
            "grid_template_areas": null,
            "grid_template_columns": null,
            "grid_template_rows": null,
            "height": null,
            "justify_content": null,
            "justify_items": null,
            "left": null,
            "margin": null,
            "max_height": null,
            "max_width": null,
            "min_height": null,
            "min_width": null,
            "object_fit": null,
            "object_position": null,
            "order": null,
            "overflow": null,
            "overflow_x": null,
            "overflow_y": null,
            "padding": null,
            "right": null,
            "top": null,
            "visibility": null,
            "width": null
          }
        },
        "4b671eee81af436c861b0b80c69a74ba": {
          "model_module": "@jupyter-widgets/controls",
          "model_name": "HTMLModel",
          "state": {
            "_dom_classes": [],
            "_model_module": "@jupyter-widgets/controls",
            "_model_module_version": "1.5.0",
            "_model_name": "HTMLModel",
            "_view_count": null,
            "_view_module": "@jupyter-widgets/controls",
            "_view_module_version": "1.5.0",
            "_view_name": "HTMLView",
            "description": "",
            "description_tooltip": null,
            "layout": "IPY_MODEL_b66bb573869d4ad0a089d8dbb678fe81",
            "placeholder": "​",
            "style": "IPY_MODEL_f3e1133452ad4494a84691e9c4656ecd",
            "value": " 456k/456k [00:00&lt;00:00, 4.71MB/s]"
          }
        },
        "5f9290c8d6f549aea5e5426ca0bc8a67": {
          "model_module": "@jupyter-widgets/controls",
          "model_name": "ProgressStyleModel",
          "state": {
            "_model_module": "@jupyter-widgets/controls",
            "_model_module_version": "1.5.0",
            "_model_name": "ProgressStyleModel",
            "_view_count": null,
            "_view_module": "@jupyter-widgets/base",
            "_view_module_version": "1.2.0",
            "_view_name": "StyleView",
            "bar_color": null,
            "description_width": "initial"
          }
        },
        "770f0dfac53d49dface7214bd82fc854": {
          "model_module": "@jupyter-widgets/base",
          "model_name": "LayoutModel",
          "state": {
            "_model_module": "@jupyter-widgets/base",
            "_model_module_version": "1.2.0",
            "_model_name": "LayoutModel",
            "_view_count": null,
            "_view_module": "@jupyter-widgets/base",
            "_view_module_version": "1.2.0",
            "_view_name": "LayoutView",
            "align_content": null,
            "align_items": null,
            "align_self": null,
            "border": null,
            "bottom": null,
            "display": null,
            "flex": null,
            "flex_flow": null,
            "grid_area": null,
            "grid_auto_columns": null,
            "grid_auto_flow": null,
            "grid_auto_rows": null,
            "grid_column": null,
            "grid_gap": null,
            "grid_row": null,
            "grid_template_areas": null,
            "grid_template_columns": null,
            "grid_template_rows": null,
            "height": null,
            "justify_content": null,
            "justify_items": null,
            "left": null,
            "margin": null,
            "max_height": null,
            "max_width": null,
            "min_height": null,
            "min_width": null,
            "object_fit": null,
            "object_position": null,
            "order": null,
            "overflow": null,
            "overflow_x": null,
            "overflow_y": null,
            "padding": null,
            "right": null,
            "top": null,
            "visibility": null,
            "width": null
          }
        },
        "85ae782e2bf844d292c425be9e40f15b": {
          "model_module": "@jupyter-widgets/controls",
          "model_name": "DescriptionStyleModel",
          "state": {
            "_model_module": "@jupyter-widgets/controls",
            "_model_module_version": "1.5.0",
            "_model_name": "DescriptionStyleModel",
            "_view_count": null,
            "_view_module": "@jupyter-widgets/base",
            "_view_module_version": "1.2.0",
            "_view_name": "StyleView",
            "description_width": ""
          }
        },
        "a30f9839810347bc827e5a6fa7a1370c": {
          "model_module": "@jupyter-widgets/controls",
          "model_name": "FloatProgressModel",
          "state": {
            "_dom_classes": [],
            "_model_module": "@jupyter-widgets/controls",
            "_model_module_version": "1.5.0",
            "_model_name": "FloatProgressModel",
            "_view_count": null,
            "_view_module": "@jupyter-widgets/controls",
            "_view_module_version": "1.5.0",
            "_view_name": "ProgressView",
            "bar_style": "success",
            "description": "Downloading: 100%",
            "description_tooltip": null,
            "layout": "IPY_MODEL_d0a3e0161f614356a7b6ac697c48f141",
            "max": 1042301,
            "min": 0,
            "orientation": "horizontal",
            "style": "IPY_MODEL_ab298129b7e4458aa003c9e8e04e1f07",
            "value": 1042301
          }
        },
        "ab298129b7e4458aa003c9e8e04e1f07": {
          "model_module": "@jupyter-widgets/controls",
          "model_name": "ProgressStyleModel",
          "state": {
            "_model_module": "@jupyter-widgets/controls",
            "_model_module_version": "1.5.0",
            "_model_name": "ProgressStyleModel",
            "_view_count": null,
            "_view_module": "@jupyter-widgets/base",
            "_view_module_version": "1.2.0",
            "_view_name": "StyleView",
            "bar_color": null,
            "description_width": "initial"
          }
        },
        "b59ab3388d2e4804a26d477edbe438a4": {
          "model_module": "@jupyter-widgets/controls",
          "model_name": "FloatProgressModel",
          "state": {
            "_dom_classes": [],
            "_model_module": "@jupyter-widgets/controls",
            "_model_module_version": "1.5.0",
            "_model_name": "FloatProgressModel",
            "_view_count": null,
            "_view_module": "@jupyter-widgets/controls",
            "_view_module_version": "1.5.0",
            "_view_name": "ProgressView",
            "bar_style": "success",
            "description": "Downloading: 100%",
            "description_tooltip": null,
            "layout": "IPY_MODEL_3fc57b88f5e64df88c650cbae9bc57fb",
            "max": 456318,
            "min": 0,
            "orientation": "horizontal",
            "style": "IPY_MODEL_5f9290c8d6f549aea5e5426ca0bc8a67",
            "value": 456318
          }
        },
        "b66bb573869d4ad0a089d8dbb678fe81": {
          "model_module": "@jupyter-widgets/base",
          "model_name": "LayoutModel",
          "state": {
            "_model_module": "@jupyter-widgets/base",
            "_model_module_version": "1.2.0",
            "_model_name": "LayoutModel",
            "_view_count": null,
            "_view_module": "@jupyter-widgets/base",
            "_view_module_version": "1.2.0",
            "_view_name": "LayoutView",
            "align_content": null,
            "align_items": null,
            "align_self": null,
            "border": null,
            "bottom": null,
            "display": null,
            "flex": null,
            "flex_flow": null,
            "grid_area": null,
            "grid_auto_columns": null,
            "grid_auto_flow": null,
            "grid_auto_rows": null,
            "grid_column": null,
            "grid_gap": null,
            "grid_row": null,
            "grid_template_areas": null,
            "grid_template_columns": null,
            "grid_template_rows": null,
            "height": null,
            "justify_content": null,
            "justify_items": null,
            "left": null,
            "margin": null,
            "max_height": null,
            "max_width": null,
            "min_height": null,
            "min_width": null,
            "object_fit": null,
            "object_position": null,
            "order": null,
            "overflow": null,
            "overflow_x": null,
            "overflow_y": null,
            "padding": null,
            "right": null,
            "top": null,
            "visibility": null,
            "width": null
          }
        },
        "c88e50e79a534a6ebceeacca57609648": {
          "model_module": "@jupyter-widgets/base",
          "model_name": "LayoutModel",
          "state": {
            "_model_module": "@jupyter-widgets/base",
            "_model_module_version": "1.2.0",
            "_model_name": "LayoutModel",
            "_view_count": null,
            "_view_module": "@jupyter-widgets/base",
            "_view_module_version": "1.2.0",
            "_view_name": "LayoutView",
            "align_content": null,
            "align_items": null,
            "align_self": null,
            "border": null,
            "bottom": null,
            "display": null,
            "flex": null,
            "flex_flow": null,
            "grid_area": null,
            "grid_auto_columns": null,
            "grid_auto_flow": null,
            "grid_auto_rows": null,
            "grid_column": null,
            "grid_gap": null,
            "grid_row": null,
            "grid_template_areas": null,
            "grid_template_columns": null,
            "grid_template_rows": null,
            "height": null,
            "justify_content": null,
            "justify_items": null,
            "left": null,
            "margin": null,
            "max_height": null,
            "max_width": null,
            "min_height": null,
            "min_width": null,
            "object_fit": null,
            "object_position": null,
            "order": null,
            "overflow": null,
            "overflow_x": null,
            "overflow_y": null,
            "padding": null,
            "right": null,
            "top": null,
            "visibility": null,
            "width": null
          }
        },
        "d0a3e0161f614356a7b6ac697c48f141": {
          "model_module": "@jupyter-widgets/base",
          "model_name": "LayoutModel",
          "state": {
            "_model_module": "@jupyter-widgets/base",
            "_model_module_version": "1.2.0",
            "_model_name": "LayoutModel",
            "_view_count": null,
            "_view_module": "@jupyter-widgets/base",
            "_view_module_version": "1.2.0",
            "_view_name": "LayoutView",
            "align_content": null,
            "align_items": null,
            "align_self": null,
            "border": null,
            "bottom": null,
            "display": null,
            "flex": null,
            "flex_flow": null,
            "grid_area": null,
            "grid_auto_columns": null,
            "grid_auto_flow": null,
            "grid_auto_rows": null,
            "grid_column": null,
            "grid_gap": null,
            "grid_row": null,
            "grid_template_areas": null,
            "grid_template_columns": null,
            "grid_template_rows": null,
            "height": null,
            "justify_content": null,
            "justify_items": null,
            "left": null,
            "margin": null,
            "max_height": null,
            "max_width": null,
            "min_height": null,
            "min_width": null,
            "object_fit": null,
            "object_position": null,
            "order": null,
            "overflow": null,
            "overflow_x": null,
            "overflow_y": null,
            "padding": null,
            "right": null,
            "top": null,
            "visibility": null,
            "width": null
          }
        },
        "dcf3b1b5a9444b8898ae468e549be108": {
          "model_module": "@jupyter-widgets/controls",
          "model_name": "HBoxModel",
          "state": {
            "_dom_classes": [],
            "_model_module": "@jupyter-widgets/controls",
            "_model_module_version": "1.5.0",
            "_model_name": "HBoxModel",
            "_view_count": null,
            "_view_module": "@jupyter-widgets/controls",
            "_view_module_version": "1.5.0",
            "_view_name": "HBoxView",
            "box_style": "",
            "children": [
              "IPY_MODEL_a30f9839810347bc827e5a6fa7a1370c",
              "IPY_MODEL_15718e48e9234f5ea80268baf6e35963"
            ],
            "layout": "IPY_MODEL_2d5833c081e0471cb2d14f8e22f3d094"
          }
        },
        "f3e1133452ad4494a84691e9c4656ecd": {
          "model_module": "@jupyter-widgets/controls",
          "model_name": "DescriptionStyleModel",
          "state": {
            "_model_module": "@jupyter-widgets/controls",
            "_model_module_version": "1.5.0",
            "_model_name": "DescriptionStyleModel",
            "_view_count": null,
            "_view_module": "@jupyter-widgets/base",
            "_view_module_version": "1.2.0",
            "_view_name": "StyleView",
            "description_width": ""
          }
        }
      }
    }
  },
  "nbformat": 4,
  "nbformat_minor": 0
}
